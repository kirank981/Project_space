{
  "cells": [
    {
      "cell_type": "markdown",
      "metadata": {
        "id": "view-in-github",
        "colab_type": "text"
      },
      "source": [
        "<a href=\"https://colab.research.google.com/github/kirank981/Project_space/blob/main/project_space.ipynb\" target=\"_parent\"><img src=\"https://colab.research.google.com/assets/colab-badge.svg\" alt=\"Open In Colab\"/></a>"
      ]
    },
    {
      "cell_type": "markdown",
      "metadata": {
        "id": "rP5nJnDbJPYO"
      },
      "source": [
        "# Installing dependences\n"
      ]
    },
    {
      "cell_type": "markdown",
      "metadata": {
        "id": "OravxoTjLhVa"
      },
      "source": [
        "Install the necessary packages for PyTorch (torch and torchvision) and Flower (flwr) and pandas"
      ]
    },
    {
      "cell_type": "code",
      "execution_count": 2,
      "metadata": {
        "id": "kpAFZGHjJOOk",
        "colab": {
          "base_uri": "https://localhost:8080/"
        },
        "outputId": "5073202c-9ce3-42c4-c8a4-3865ff7a763c"
      },
      "outputs": [
        {
          "output_type": "stream",
          "name": "stdout",
          "text": [
            "\u001b[2K     \u001b[90m━━━━━━━━━━━━━━━━━━━━━━━━━━━━━━━━━━━━━━━\u001b[0m \u001b[32m157.2/157.2 kB\u001b[0m \u001b[31m3.1 MB/s\u001b[0m eta \u001b[36m0:00:00\u001b[0m\n",
            "\u001b[2K     \u001b[90m━━━━━━━━━━━━━━━━━━━━━━━━━━━━━━━━━━━━━━━━\u001b[0m \u001b[32m56.9/56.9 MB\u001b[0m \u001b[31m13.4 MB/s\u001b[0m eta \u001b[36m0:00:00\u001b[0m\n",
            "\u001b[2K     \u001b[90m━━━━━━━━━━━━━━━━━━━━━━━━━━━━━━━━━━━━━━\u001b[0m \u001b[32m201.4/201.4 kB\u001b[0m \u001b[31m14.9 MB/s\u001b[0m eta \u001b[36m0:00:00\u001b[0m\n",
            "\u001b[2K     \u001b[90m━━━━━━━━━━━━━━━━━━━━━━━━━━━━━━━━━━━━━━━━\u001b[0m \u001b[32m3.0/3.0 MB\u001b[0m \u001b[31m68.1 MB/s\u001b[0m eta \u001b[36m0:00:00\u001b[0m\n",
            "\u001b[2K     \u001b[90m━━━━━━━━━━━━━━━━━━━━━━━━━━━━━━━━━━━━━━━━\u001b[0m \u001b[32m97.9/97.9 kB\u001b[0m \u001b[31m10.2 MB/s\u001b[0m eta \u001b[36m0:00:00\u001b[0m\n",
            "\u001b[?25h  Installing build dependencies ... \u001b[?25l\u001b[?25hdone\n",
            "  Getting requirements to build wheel ... \u001b[?25l\u001b[?25hdone\n",
            "  Preparing metadata (pyproject.toml) ... \u001b[?25l\u001b[?25hdone\n",
            "\u001b[2K     \u001b[90m━━━━━━━━━━━━━━━━━━━━━━━━━━━━━━━━━━━━━━\u001b[0m \u001b[32m128.2/128.2 kB\u001b[0m \u001b[31m13.0 MB/s\u001b[0m eta \u001b[36m0:00:00\u001b[0m\n",
            "\u001b[2K     \u001b[90m━━━━━━━━━━━━━━━━━━━━━━━━━━━━━━━━━━━━━━━━\u001b[0m \u001b[32m3.1/3.1 MB\u001b[0m \u001b[31m100.0 MB/s\u001b[0m eta \u001b[36m0:00:00\u001b[0m\n",
            "\u001b[2K     \u001b[90m━━━━━━━━━━━━━━━━━━━━━━━━━━━━━━━━━━━━━━━━\u001b[0m \u001b[32m8.7/8.7 MB\u001b[0m \u001b[31m93.4 MB/s\u001b[0m eta \u001b[36m0:00:00\u001b[0m\n",
            "\u001b[2K     \u001b[90m━━━━━━━━━━━━━━━━━━━━━━━━━━━━━━━━━━━━━━━━\u001b[0m \u001b[32m58.4/58.4 kB\u001b[0m \u001b[31m6.7 MB/s\u001b[0m eta \u001b[36m0:00:00\u001b[0m\n",
            "\u001b[2K     \u001b[90m━━━━━━━━━━━━━━━━━━━━━━━━━━━━━━━━━━━━━━\u001b[0m \u001b[32m468.9/468.9 kB\u001b[0m \u001b[31m42.0 MB/s\u001b[0m eta \u001b[36m0:00:00\u001b[0m\n",
            "\u001b[?25h  Building wheel for gpustat (pyproject.toml) ... \u001b[?25l\u001b[?25hdone\n"
          ]
        }
      ],
      "source": [
        "!pip install -q flwr[simulation] torch torchvision matplotlib pandas"
      ]
    },
    {
      "cell_type": "markdown",
      "metadata": {
        "id": "SIQeKkPPLUkF"
      },
      "source": [
        "Import everything we need"
      ]
    },
    {
      "cell_type": "code",
      "execution_count": 3,
      "metadata": {
        "colab": {
          "base_uri": "https://localhost:8080/"
        },
        "id": "Sdmn7_KHLVVI",
        "outputId": "20901f54-30a0-4387-e824-e4249cb808c1"
      },
      "outputs": [
        {
          "output_type": "stream",
          "name": "stdout",
          "text": [
            "Collecting catboost\n",
            "  Downloading catboost-1.2-cp310-cp310-manylinux2014_x86_64.whl (98.6 MB)\n",
            "\u001b[2K     \u001b[90m━━━━━━━━━━━━━━━━━━━━━━━━━━━━━━━━━━━━━━━━\u001b[0m \u001b[32m98.6/98.6 MB\u001b[0m \u001b[31m8.8 MB/s\u001b[0m eta \u001b[36m0:00:00\u001b[0m\n",
            "\u001b[?25hRequirement already satisfied: graphviz in /usr/local/lib/python3.10/dist-packages (from catboost) (0.20.1)\n",
            "Requirement already satisfied: matplotlib in /usr/local/lib/python3.10/dist-packages (from catboost) (3.7.1)\n",
            "Requirement already satisfied: numpy>=1.16.0 in /usr/local/lib/python3.10/dist-packages (from catboost) (1.23.5)\n",
            "Requirement already satisfied: pandas>=0.24 in /usr/local/lib/python3.10/dist-packages (from catboost) (1.5.3)\n",
            "Requirement already satisfied: scipy in /usr/local/lib/python3.10/dist-packages (from catboost) (1.10.1)\n",
            "Requirement already satisfied: plotly in /usr/local/lib/python3.10/dist-packages (from catboost) (5.15.0)\n",
            "Requirement already satisfied: six in /usr/local/lib/python3.10/dist-packages (from catboost) (1.16.0)\n",
            "Requirement already satisfied: python-dateutil>=2.8.1 in /usr/local/lib/python3.10/dist-packages (from pandas>=0.24->catboost) (2.8.2)\n",
            "Requirement already satisfied: pytz>=2020.1 in /usr/local/lib/python3.10/dist-packages (from pandas>=0.24->catboost) (2023.3)\n",
            "Requirement already satisfied: contourpy>=1.0.1 in /usr/local/lib/python3.10/dist-packages (from matplotlib->catboost) (1.1.0)\n",
            "Requirement already satisfied: cycler>=0.10 in /usr/local/lib/python3.10/dist-packages (from matplotlib->catboost) (0.11.0)\n",
            "Requirement already satisfied: fonttools>=4.22.0 in /usr/local/lib/python3.10/dist-packages (from matplotlib->catboost) (4.42.0)\n",
            "Requirement already satisfied: kiwisolver>=1.0.1 in /usr/local/lib/python3.10/dist-packages (from matplotlib->catboost) (1.4.4)\n",
            "Requirement already satisfied: packaging>=20.0 in /usr/local/lib/python3.10/dist-packages (from matplotlib->catboost) (23.1)\n",
            "Requirement already satisfied: pillow>=6.2.0 in /usr/local/lib/python3.10/dist-packages (from matplotlib->catboost) (9.4.0)\n",
            "Requirement already satisfied: pyparsing>=2.3.1 in /usr/local/lib/python3.10/dist-packages (from matplotlib->catboost) (3.1.1)\n",
            "Requirement already satisfied: tenacity>=6.2.0 in /usr/local/lib/python3.10/dist-packages (from plotly->catboost) (8.2.2)\n",
            "Installing collected packages: catboost\n",
            "Successfully installed catboost-1.2\n",
            "Training on cpu using PyTorch 2.0.1+cu118 and Flower 1.4.0\n"
          ]
        }
      ],
      "source": [
        "from collections import OrderedDict\n",
        "from typing import List, Tuple\n",
        "\n",
        "from google.colab import drive\n",
        "from pathlib import Path\n",
        "import pandas as pd\n",
        "import matplotlib.pyplot as plt\n",
        "import numpy as np\n",
        "import torch\n",
        "import torch.nn as nn\n",
        "import torch.nn.functional as F\n",
        "import torchvision\n",
        "import torchvision.transforms as transforms\n",
        "from torch.utils.data import DataLoader, random_split\n",
        "# from torchvision.datasets import CIFAR10\n",
        "\n",
        "\n",
        "\n",
        "from sklearn.model_selection import train_test_split  # Import the train_test_split function\n",
        "import numpy as np\n",
        "import tensorflow as tf\n",
        "from sklearn.preprocessing import StandardScaler\n",
        "from sklearn.impute import SimpleImputer\n",
        "import torch.optim as optim\n",
        "from torch.utils.data import DataLoader, Dataset\n",
        "\n",
        "!pip install catboost\n",
        "from sklearn.linear_model import LinearRegression\n",
        "from sklearn.tree import DecisionTreeRegressor\n",
        "from sklearn.ensemble import RandomForestRegressor, GradientBoostingRegressor\n",
        "from xgboost import XGBRegressor\n",
        "from lightgbm import LGBMRegressor\n",
        "from catboost import CatBoostRegressor\n",
        "from sklearn.svm import SVR\n",
        "from sklearn.neural_network import MLPRegressor\n",
        "from sklearn.neighbors import KNeighborsRegressor\n",
        "from sklearn.metrics import mean_squared_error\n",
        "\n",
        "# from tensorflow.keras.layers import Conv2D, Multiply, Input\n",
        "# from tensorflow.keras.models import Model\n",
        "# from tensorflow.keras.layers import Input, Dense, Multiply\n",
        "\n",
        "import flwr as fl\n",
        "from flwr.common import Metrics\n",
        "\n",
        "DEVICE = torch.device(\"cpu\")  # Try \"cuda\" to train on GPU\n",
        "print(\n",
        "    f\"Training on {DEVICE} using PyTorch {torch.__version__} and Flower {fl.__version__}\"\n",
        ")"
      ]
    },
    {
      "cell_type": "markdown",
      "metadata": {
        "id": "zeFfbJxnLxF7"
      },
      "source": [
        "# Loading the data"
      ]
    },
    {
      "cell_type": "markdown",
      "metadata": {
        "id": "v6l5c_376GqC"
      },
      "source": [
        "Mounting drive"
      ]
    },
    {
      "cell_type": "code",
      "execution_count": 4,
      "metadata": {
        "colab": {
          "base_uri": "https://localhost:8080/"
        },
        "id": "QSv4I6ji-3of",
        "outputId": "d596d666-4900-4230-b560-001d77e3b8b0"
      },
      "outputs": [
        {
          "output_type": "stream",
          "name": "stdout",
          "text": [
            "Drive already mounted at /content/drive; to attempt to forcibly remount, call drive.mount(\"/content/drive\", force_remount=True).\n"
          ]
        }
      ],
      "source": [
        "# Mount Google Drive\n",
        "drive.mount('/content/drive')\n"
      ]
    },
    {
      "cell_type": "markdown",
      "metadata": {
        "id": "8n4a987x-7kd"
      },
      "source": [
        "Setting the path to the location of the file"
      ]
    },
    {
      "cell_type": "code",
      "execution_count": 5,
      "metadata": {
        "id": "jQ1t9RTF91ZQ"
      },
      "outputs": [],
      "source": [
        "# Define the path to daily dataset folder\n",
        "daily_dataset_path = Path('/content/drive/MyDrive/Federated learning implementation/dataset/dataset_archive/daily_dataset/daily_dataset')\n",
        "\n",
        "# Define the path to daily dataset folder\n",
        "weather_daily_dataset_path = Path('/content/drive/MyDrive/Federated learning implementation/dataset/dataset_archive/weather_daily_dataset.csv')\n"
      ]
    },
    {
      "cell_type": "markdown",
      "metadata": {
        "id": "lQ2owcEz6M9K"
      },
      "source": [
        "## Loading daily data\n",
        "(of energy consumption)\n"
      ]
    },
    {
      "cell_type": "code",
      "execution_count": 6,
      "metadata": {
        "id": "QdpP9rwQBqJF"
      },
      "outputs": [],
      "source": [
        "\n",
        "# Initializing list to store dataframes\n",
        "dfs = []\n",
        "\n",
        "# Loop through the CSV files and reading them into dataframes\n",
        "for i in range(2):\n",
        "    filename = f'block_{i}.csv'\n",
        "    df = pd.read_csv(daily_dataset_path / filename)\n",
        "    dfs.append(df)\n",
        "\n",
        "# Concatenating all the dataframes into a single dataframe\n",
        "energy_daily_data = pd.concat(dfs, ignore_index=True)\n",
        "\n",
        "# NRATM(Not Required At The Moment)\n",
        "# # Group the data by LCLid and create a dictionary of dataframes\n",
        "# grouped_data = dict(tuple(energy_daily_data.groupby('LCLid')))\n"
      ]
    },
    {
      "cell_type": "markdown",
      "metadata": {
        "id": "NBAsp3Ky51Bn"
      },
      "source": [
        "Loading data using file name"
      ]
    },
    {
      "cell_type": "code",
      "execution_count": 7,
      "metadata": {
        "colab": {
          "base_uri": "https://localhost:8080/"
        },
        "id": "OeJMbTTY0YZY",
        "outputId": "d209b71e-60ca-4685-fc28-af1a403dc1d3"
      },
      "outputs": [
        {
          "output_type": "stream",
          "name": "stdout",
          "text": [
            "           LCLid         day  energy_median  energy_mean  energy_max  \\\n",
            "0      MAC000002  2012-10-12         0.1385     0.154304       0.886   \n",
            "1      MAC000002  2012-10-13         0.1800     0.230979       0.933   \n",
            "2      MAC000002  2012-10-14         0.1580     0.275479       1.085   \n",
            "3      MAC000002  2012-10-15         0.1310     0.213688       1.164   \n",
            "4      MAC000002  2012-10-16         0.1450     0.203521       0.991   \n",
            "...          ...         ...            ...          ...         ...   \n",
            "25569  MAC005492  2014-02-24         0.1690     0.175042       0.378   \n",
            "25570  MAC005492  2014-02-25         0.1550     0.160792       0.545   \n",
            "25571  MAC005492  2014-02-26         0.1490     0.178542       0.687   \n",
            "25572  MAC005492  2014-02-27         0.1140     0.146167       0.478   \n",
            "25573  MAC005492  2014-02-28         0.0880     0.088000       0.088   \n",
            "\n",
            "       energy_count  energy_std  energy_sum  energy_min  \n",
            "0                46    0.196034       7.098       0.000  \n",
            "1                48    0.192329      11.087       0.076  \n",
            "2                48    0.274647      13.223       0.070  \n",
            "3                48    0.224483      10.257       0.070  \n",
            "4                48    0.184115       9.769       0.087  \n",
            "...             ...         ...         ...         ...  \n",
            "25569            48    0.073174       8.402       0.079  \n",
            "25570            48    0.082118       7.718       0.079  \n",
            "25571            48    0.120820       8.570       0.079  \n",
            "25572            48    0.082616       7.016       0.079  \n",
            "25573             1         NaN       0.088       0.088  \n",
            "\n",
            "[25574 rows x 9 columns]\n"
          ]
        }
      ],
      "source": [
        "# Loading data from a specific CSV file\n",
        "specific_file_data = pd.read_csv(daily_dataset_path / 'block_0.csv')\n",
        "\n",
        "# Displaying data\n",
        "print(specific_file_data)"
      ]
    },
    {
      "cell_type": "markdown",
      "metadata": {
        "id": "n0b947PkSfrG"
      },
      "source": [
        "### Loading required data\n",
        "Creating a DataFrame that have only the required data"
      ]
    },
    {
      "cell_type": "code",
      "execution_count": 8,
      "metadata": {
        "colab": {
          "base_uri": "https://localhost:8080/"
        },
        "id": "WMsi4uZITUt8",
        "outputId": "0173bfa4-fa84-48e1-c84d-e3a17a3c7025"
      },
      "outputs": [
        {
          "output_type": "stream",
          "name": "stdout",
          "text": [
            "\n",
            "\n",
            "Data report of MAC000002\n",
            "         LCLid  energy_sum         day\n",
            "0    MAC000002       7.098  2012-10-12\n",
            "1    MAC000002      11.087  2012-10-13\n",
            "2    MAC000002      13.223  2012-10-14\n",
            "3    MAC000002      10.257  2012-10-15\n",
            "4    MAC000002       9.769  2012-10-16\n",
            "..         ...         ...         ...\n",
            "500  MAC000002      12.528  2014-02-24\n",
            "501  MAC000002      11.826  2014-02-25\n",
            "502  MAC000002      12.328  2014-02-26\n",
            "503  MAC000002      20.518  2014-02-27\n",
            "504  MAC000002       1.387  2014-02-28\n",
            "\n",
            "[505 rows x 3 columns]\n"
          ]
        }
      ],
      "source": [
        "selected_column = ['LCLid','energy_sum','day']\n",
        "energy_daily_selected=energy_daily_data[selected_column]\n",
        "# print(energy_daily_selected)\n",
        "\n",
        "# Group the data by LCLid and create a dictionary of dataframes, allowing to access each dataframe separately using the LCLid as the key\n",
        "grouped_data_selected = dict(tuple(energy_daily_selected.groupby('LCLid')))\n",
        "# Display the data for 'MAC000002'\n",
        "print('\\n')\n",
        "print('Data report of MAC000002')\n",
        "print(grouped_data_selected['MAC000002'])\n"
      ]
    },
    {
      "cell_type": "markdown",
      "metadata": {
        "id": "eZumIN7H_Zt-"
      },
      "source": [
        "## Loading daily weather data\n",
        "\n",
        "Creating a 'day' column that stores only the date values from 'time' column\n",
        "(for linking weather dataset 'day' with daily dataset 'day')"
      ]
    },
    {
      "cell_type": "code",
      "execution_count": 9,
      "metadata": {
        "colab": {
          "base_uri": "https://localhost:8080/"
        },
        "id": "Ch2Azrah7Cuj",
        "outputId": "847154c9-a4a1-4350-f5b5-33cf21f02c52"
      },
      "outputs": [
        {
          "output_type": "stream",
          "name": "stdout",
          "text": [
            "     temperatureMax   temperatureMaxTime  windBearing                 icon  \\\n",
            "0             11.96  2011-11-11 23:00:00          123                  fog   \n",
            "1              8.59  2011-12-11 14:00:00          198    partly-cloudy-day   \n",
            "2             10.33  2011-12-27 02:00:00          225    partly-cloudy-day   \n",
            "3              8.07  2011-12-02 23:00:00          232                 wind   \n",
            "4              8.22  2011-12-24 23:00:00          252  partly-cloudy-night   \n",
            "..              ...                  ...          ...                  ...   \n",
            "877            9.03  2014-01-26 16:00:00          233    partly-cloudy-day   \n",
            "878           10.31  2014-02-27 14:00:00          224    partly-cloudy-day   \n",
            "879           18.97  2014-03-09 14:00:00          172  partly-cloudy-night   \n",
            "880            8.83  2014-02-12 16:00:00          210                 wind   \n",
            "881            9.90  2014-02-15 12:00:00          233                 wind   \n",
            "\n",
            "     dewPoint   temperatureMinTime  cloudCover  windSpeed  pressure  \\\n",
            "0        9.40  2011-11-11 07:00:00        0.79       3.88   1016.08   \n",
            "1        4.49  2011-12-11 01:00:00        0.56       3.94   1007.71   \n",
            "2        5.47  2011-12-27 23:00:00        0.85       3.54   1032.76   \n",
            "3        3.69  2011-12-02 07:00:00        0.32       3.00   1012.12   \n",
            "4        2.79  2011-12-24 07:00:00        0.37       4.46   1028.17   \n",
            "..        ...                  ...         ...        ...       ...   \n",
            "877      2.39  2014-01-26 21:00:00        0.40       4.55   1002.10   \n",
            "878      3.08  2014-02-27 23:00:00        0.32       4.14   1007.02   \n",
            "879      4.30  2014-03-09 07:00:00        0.04       2.78   1022.44   \n",
            "880      1.94  2014-02-12 01:00:00        0.59       7.24    994.27   \n",
            "881      2.95  2014-02-15 23:00:00        0.35       9.96    988.63   \n",
            "\n",
            "    apparentTemperatureMinTime  ...          sunriseTime  temperatureHighTime  \\\n",
            "0          2011-11-11 07:00:00  ...  2011-11-11 07:12:14  2011-11-11 19:00:00   \n",
            "1          2011-12-11 02:00:00  ...  2011-12-11 07:57:02  2011-12-11 14:00:00   \n",
            "2          2011-12-27 22:00:00  ...  2011-12-27 08:07:06  2011-12-27 14:00:00   \n",
            "3          2011-12-02 07:00:00  ...  2011-12-02 07:46:09  2011-12-02 12:00:00   \n",
            "4          2011-12-24 07:00:00  ...  2011-12-24 08:06:15  2011-12-24 15:00:00   \n",
            "..                         ...  ...                  ...                  ...   \n",
            "877        2014-01-26 22:00:00  ...  2014-01-26 07:48:49  2014-01-26 16:00:00   \n",
            "878        2014-02-27 22:00:00  ...  2014-02-27 06:51:45  2014-02-27 14:00:00   \n",
            "879        2014-03-09 07:00:00  ...  2014-03-09 06:29:49  2014-03-09 14:00:00   \n",
            "880        2014-02-12 01:00:00  ...  2014-02-12 07:21:44  2014-02-12 16:00:00   \n",
            "881        2014-02-15 23:00:00  ...  2014-02-15 07:16:06  2014-02-15 12:00:00   \n",
            "\n",
            "             uvIndexTime                                            summary  \\\n",
            "0    2011-11-11 11:00:00                             Foggy until afternoon.   \n",
            "1    2011-12-11 12:00:00                  Partly cloudy throughout the day.   \n",
            "2    2011-12-27 00:00:00                  Mostly cloudy throughout the day.   \n",
            "3    2011-12-02 10:00:00  Partly cloudy throughout the day and breezy ov...   \n",
            "4    2011-12-24 13:00:00                  Mostly cloudy throughout the day.   \n",
            "..                   ...                                                ...   \n",
            "877  2014-01-26 11:00:00                       Mostly cloudy until evening.   \n",
            "878  2014-02-27 12:00:00                       Partly cloudy until evening.   \n",
            "879  2014-03-09 12:00:00                      Partly cloudy in the evening.   \n",
            "880  2014-02-12 10:00:00  Mostly cloudy until evening and breezy through...   \n",
            "881  2014-02-15 10:00:00           Windy and mostly cloudy until afternoon.   \n",
            "\n",
            "      temperatureLowTime  apparentTemperatureMin  apparentTemperatureMaxTime  \\\n",
            "0    2011-11-11 19:00:00                    6.48         2011-11-11 23:00:00   \n",
            "1    2011-12-12 07:00:00                    0.11         2011-12-11 20:00:00   \n",
            "2    2011-12-27 23:00:00                    5.59         2011-12-27 02:00:00   \n",
            "3    2011-12-02 19:00:00                    0.46         2011-12-02 12:00:00   \n",
            "4    2011-12-24 19:00:00                   -0.51         2011-12-24 23:00:00   \n",
            "..                   ...                     ...                         ...   \n",
            "877  2014-01-27 05:00:00                   -1.30         2014-01-26 15:00:00   \n",
            "878  2014-02-28 02:00:00                    1.41         2014-02-27 14:00:00   \n",
            "879  2014-03-10 05:00:00                    7.08         2014-03-09 14:00:00   \n",
            "880  2014-02-13 05:00:00                   -1.20         2014-02-12 16:00:00   \n",
            "881  2014-02-16 07:00:00                    1.77         2014-02-15 12:00:00   \n",
            "\n",
            "     apparentTemperatureLowTime moonPhase mean_temp  \n",
            "0           2011-11-11 19:00:00      0.52    10.405  \n",
            "1           2011-12-12 08:00:00      0.53     5.535  \n",
            "2           2011-12-28 00:00:00      0.10     9.180  \n",
            "3           2011-12-02 19:00:00      0.25     5.315  \n",
            "4           2011-12-24 20:00:00      0.99     5.695  \n",
            "..                          ...       ...       ...  \n",
            "877         2014-01-27 04:00:00      0.84     6.145  \n",
            "878         2014-02-28 02:00:00      0.93     7.120  \n",
            "879         2014-03-10 06:00:00      0.28    13.310  \n",
            "880         2014-02-13 02:00:00      0.42     5.930  \n",
            "881         2014-02-16 07:00:00      0.52     7.640  \n",
            "\n",
            "[882 rows x 33 columns]\n"
          ]
        }
      ],
      "source": [
        "# Load the weather dataset into a DataFrame\n",
        "weather_daily_data = pd.read_csv(weather_daily_dataset_path)\n",
        "\n",
        "# Convert the 'time' column to datetime format\n",
        "weather_daily_data['time'] = pd.to_datetime(weather_daily_data['time'])\n",
        "\n",
        "# Calculate the mean temperature for each day and store it in a new column 'mean_temp'\n",
        "weather_daily_data['mean_temp'] = (weather_daily_data['temperatureMax'] + weather_daily_data['temperatureMin']) / 2\n",
        "\n",
        "# Print the updated DataFrame\n",
        "print(weather_daily_data)"
      ]
    },
    {
      "cell_type": "markdown",
      "metadata": {
        "id": "XUsgV_WfSTVp"
      },
      "source": [
        "### Loading required data\n",
        "Creating a DataFrame that have only the required data"
      ]
    },
    {
      "cell_type": "code",
      "execution_count": 10,
      "metadata": {
        "colab": {
          "base_uri": "https://localhost:8080/"
        },
        "id": "iRn0x1J8RlPl",
        "outputId": "a3ba0807-ec20-4d08-a203-39db9466f132"
      },
      "outputs": [
        {
          "output_type": "stream",
          "name": "stdout",
          "text": [
            "     mean_temp  pressure  humidity  windSpeed       time\n",
            "0       10.405   1016.08      0.95       3.88 2011-11-11\n",
            "1        5.535   1007.71      0.88       3.94 2011-12-11\n",
            "2        9.180   1032.76      0.74       3.54 2011-12-27\n",
            "3        5.315   1012.12      0.87       3.00 2011-12-02\n",
            "4        5.695   1028.17      0.80       4.46 2011-12-24\n",
            "..         ...       ...       ...        ...        ...\n",
            "877      6.145   1002.10      0.79       4.55 2014-01-26\n",
            "878      7.120   1007.02      0.74       4.14 2014-02-27\n",
            "879     13.310   1022.44      0.58       2.78 2014-03-09\n",
            "880      5.930    994.27      0.75       7.24 2014-02-12\n",
            "881      7.640    988.63      0.69       9.96 2014-02-15\n",
            "\n",
            "[882 rows x 5 columns]\n"
          ]
        }
      ],
      "source": [
        "# Create a new DataFrame with selected columns\n",
        "selected_columns = ['mean_temp', 'pressure', 'humidity', 'windSpeed', 'time']\n",
        "weather_selected = weather_daily_data[selected_columns]\n",
        "\n",
        "# Print the new dataset\n",
        "print(weather_selected)"
      ]
    },
    {
      "cell_type": "markdown",
      "source": [
        "# Dataset with Household energy consumption values and weather values"
      ],
      "metadata": {
        "id": "yi3pXETWEhtL"
      }
    },
    {
      "cell_type": "markdown",
      "source": [
        "## For all households"
      ],
      "metadata": {
        "id": "jlEy0Fm_JaT5"
      }
    },
    {
      "cell_type": "code",
      "source": [
        "# Convert 'time' column in weather_selected to datetime objects\n",
        "weather_selected['time'] = pd.to_datetime(weather_selected['time'])\n",
        "\n",
        "# Create a list to store the merged data DataFrames\n",
        "merged_data_list = []\n",
        "\n",
        "# Iterate through each LCLid in energy_daily_selected\n",
        "for lclid, data in grouped_data_selected.items():\n",
        "    # Convert 'day' column in current LCLid data to datetime objects\n",
        "    data['day'] = pd.to_datetime(data['day'])\n",
        "\n",
        "    # Merge the current LCLid data with weather_selected based on the common date values\n",
        "    merged_data_lclid = pd.merge(weather_selected, data, left_on='time', right_on='day', how='inner')\n",
        "\n",
        "    # Drop the redundant 'day' column from the merged data\n",
        "    merged_data_lclid.drop(columns=['day'], inplace=True)\n",
        "\n",
        "    # Append the merged data to the merged_data_list\n",
        "    merged_data_list.append(merged_data_lclid)\n",
        "\n",
        "# Concatenate the merged data DataFrames in the list\n",
        "merged_data = pd.concat(merged_data_list, ignore_index=True)\n",
        "\n",
        "# Display the merged dataset\n",
        "print(merged_data)\n"
      ],
      "metadata": {
        "colab": {
          "base_uri": "https://localhost:8080/"
        },
        "id": "wqUqCBNEHb8P",
        "outputId": "ae1ec6f3-4606-4673-d12f-68a520fcd885"
      },
      "execution_count": 11,
      "outputs": [
        {
          "output_type": "stream",
          "name": "stderr",
          "text": [
            "<ipython-input-11-fc90630300b6>:2: SettingWithCopyWarning: \n",
            "A value is trying to be set on a copy of a slice from a DataFrame.\n",
            "Try using .loc[row_indexer,col_indexer] = value instead\n",
            "\n",
            "See the caveats in the documentation: https://pandas.pydata.org/pandas-docs/stable/user_guide/indexing.html#returning-a-view-versus-a-copy\n",
            "  weather_selected['time'] = pd.to_datetime(weather_selected['time'])\n"
          ]
        },
        {
          "output_type": "stream",
          "name": "stdout",
          "text": [
            "       mean_temp  pressure  humidity  windSpeed       time      LCLid  \\\n",
            "0         10.000   1001.79      0.81       6.54 2012-11-25  MAC000002   \n",
            "1         12.170   1008.74      0.90       5.74 2012-11-20  MAC000002   \n",
            "2          7.830    979.63      0.85       4.07 2012-11-01  MAC000002   \n",
            "3          5.295   1020.29      0.87       3.58 2012-11-06  MAC000002   \n",
            "4          4.650   1001.72      0.80       5.63 2012-12-07  MAC000002   \n",
            "...          ...       ...       ...        ...        ...        ...   \n",
            "26732      4.470   1001.76      0.91       1.52 2014-01-30  MAC005492   \n",
            "26733      6.145   1002.10      0.79       4.55 2014-01-26  MAC005492   \n",
            "26734      7.120   1007.02      0.74       4.14 2014-02-27  MAC005492   \n",
            "26735      5.930    994.27      0.75       7.24 2014-02-12  MAC005492   \n",
            "26736      7.640    988.63      0.69       9.96 2014-02-15  MAC005492   \n",
            "\n",
            "       energy_sum  \n",
            "0          10.545  \n",
            "1          11.221  \n",
            "2          12.209  \n",
            "3          11.663  \n",
            "4          13.248  \n",
            "...           ...  \n",
            "26732       7.928  \n",
            "26733       9.634  \n",
            "26734       7.016  \n",
            "26735       8.025  \n",
            "26736       8.994  \n",
            "\n",
            "[26737 rows x 7 columns]\n"
          ]
        }
      ]
    },
    {
      "cell_type": "markdown",
      "source": [
        "## For one household"
      ],
      "metadata": {
        "id": "Jq2mLT2oJWB5"
      }
    },
    {
      "cell_type": "code",
      "source": [
        "print(merged_data[merged_data['LCLid'] == \"MAC003719\"])"
      ],
      "metadata": {
        "colab": {
          "base_uri": "https://localhost:8080/"
        },
        "id": "LBmTUuggiWZZ",
        "outputId": "5d9f92fa-75df-40d9-b58d-1ba82db9635f"
      },
      "execution_count": 12,
      "outputs": [
        {
          "output_type": "stream",
          "name": "stdout",
          "text": [
            "       mean_temp  pressure  humidity  windSpeed       time      LCLid  \\\n",
            "21058     10.000   1001.79      0.81       6.54 2012-11-25  MAC003719   \n",
            "21059     12.170   1008.74      0.90       5.74 2012-11-20  MAC003719   \n",
            "21060      7.830    979.63      0.85       4.07 2012-11-01  MAC003719   \n",
            "21061      5.295   1020.29      0.87       3.58 2012-11-06  MAC003719   \n",
            "21062      4.650   1001.72      0.80       5.63 2012-12-07  MAC003719   \n",
            "...          ...       ...       ...        ...        ...        ...   \n",
            "21331      4.470   1001.76      0.91       1.52 2014-01-30  MAC003719   \n",
            "21332      6.145   1002.10      0.79       4.55 2014-01-26  MAC003719   \n",
            "21333      7.120   1007.02      0.74       4.14 2014-02-27  MAC003719   \n",
            "21334      5.930    994.27      0.75       7.24 2014-02-12  MAC003719   \n",
            "21335      7.640    988.63      0.69       9.96 2014-02-15  MAC003719   \n",
            "\n",
            "       energy_sum  \n",
            "21058      13.952  \n",
            "21059      12.864  \n",
            "21060      18.794  \n",
            "21061      16.750  \n",
            "21062      15.547  \n",
            "...           ...  \n",
            "21331      12.672  \n",
            "21332       9.173  \n",
            "21333       9.034  \n",
            "21334      14.075  \n",
            "21335      13.240  \n",
            "\n",
            "[278 rows x 7 columns]\n"
          ]
        }
      ]
    },
    {
      "cell_type": "markdown",
      "metadata": {
        "id": "IVelsQ53430r"
      },
      "source": [
        "# Splitting dataset to training and testing sets\n",
        "\n"
      ]
    },
    {
      "cell_type": "markdown",
      "source": [
        "## Preprocessing dataset"
      ],
      "metadata": {
        "id": "Qw5aaS7xkIWr"
      }
    },
    {
      "cell_type": "markdown",
      "source": [
        "### Counting amount of data for each LCLid (data available for each household)"
      ],
      "metadata": {
        "id": "FWB2ilpvq0_-"
      }
    },
    {
      "cell_type": "code",
      "source": [
        "# Convert 'time' column in weather_selected to datetime objects\n",
        "weather_selected['time'] = pd.to_datetime(weather_selected['time'])\n",
        "\n",
        "# Merge the data into merged_data DataFrame as described in your previous code\n",
        "\n",
        "# Count the number of data rows for each LCLid\n",
        "lclid_data_counts = merged_data['LCLid'].value_counts()\n",
        "\n",
        "# Display the counts for each LCLid\n",
        "print(\"Data row counts for each LCLid:\")\n",
        "print(lclid_data_counts)\n"
      ],
      "metadata": {
        "colab": {
          "base_uri": "https://localhost:8080/"
        },
        "id": "k_1dDvPeoXFD",
        "outputId": "cf0ce129-af61-42ed-b853-5ba5fa6bde68"
      },
      "execution_count": 13,
      "outputs": [
        {
          "output_type": "stream",
          "name": "stdout",
          "text": [
            "Data row counts for each LCLid:\n",
            "MAC000246    392\n",
            "MAC004529    374\n",
            "MAC000323    298\n",
            "MAC000386    291\n",
            "MAC004387    288\n",
            "            ... \n",
            "MAC003463    154\n",
            "MAC004034    154\n",
            "MAC003718    154\n",
            "MAC002613    149\n",
            "MAC001074     53\n",
            "Name: LCLid, Length: 100, dtype: int64\n"
          ]
        },
        {
          "output_type": "stream",
          "name": "stderr",
          "text": [
            "<ipython-input-13-467dbfca5fe4>:2: SettingWithCopyWarning: \n",
            "A value is trying to be set on a copy of a slice from a DataFrame.\n",
            "Try using .loc[row_indexer,col_indexer] = value instead\n",
            "\n",
            "See the caveats in the documentation: https://pandas.pydata.org/pandas-docs/stable/user_guide/indexing.html#returning-a-view-versus-a-copy\n",
            "  weather_selected['time'] = pd.to_datetime(weather_selected['time'])\n"
          ]
        }
      ]
    },
    {
      "cell_type": "markdown",
      "source": [
        "### Identifiting the no of households with insufficient amount of data"
      ],
      "metadata": {
        "id": "wIjz5a0irBRy"
      }
    },
    {
      "cell_type": "code",
      "source": [
        "# Count the number of data rows for each LCLid\n",
        "lclid_data_counts = merged_data['LCLid'].value_counts()\n",
        "\n",
        "\n",
        "# Get the total number of unique LCLid values\n",
        "total_lclids = len(lclid_data_counts)\n",
        "\n",
        "# Count the number of LCLid values with less than 100 data rows\n",
        "count_less_than_100 = (lclid_data_counts < 100).sum()\n",
        "\n",
        "# Display the count of LCLid values with less than 100 data rows\n",
        "print(\"Number of LCLid values with less than 100 data rows:\", count_less_than_100)\n",
        "\n",
        "# Display the total number of unique LCLid values\n",
        "print(\"Total number of unique LCLid values:\", total_lclids)"
      ],
      "metadata": {
        "colab": {
          "base_uri": "https://localhost:8080/"
        },
        "id": "HlmWA354pGgO",
        "outputId": "814bdb16-fde1-481f-9f89-1a36d6e1d09a"
      },
      "execution_count": 14,
      "outputs": [
        {
          "output_type": "stream",
          "name": "stdout",
          "text": [
            "Number of LCLid values with less than 100 data rows: 1\n",
            "Total number of unique LCLid values: 100\n"
          ]
        }
      ]
    },
    {
      "cell_type": "markdown",
      "source": [
        "### Removing the households with less data, from the dataset"
      ],
      "metadata": {
        "id": "SA9X4z0irXP7"
      }
    },
    {
      "cell_type": "code",
      "source": [
        "# Get the list of LCLid values with less than 100 data rows\n",
        "lclids_to_remove = lclid_data_counts[lclid_data_counts < 100].index\n",
        "\n",
        "# Remove rows corresponding to LCLid values with less than 100 data rows\n",
        "filtered_data = merged_data[~merged_data['LCLid'].isin(lclids_to_remove)]\n",
        "\n",
        "# also removing rows with NaN values in the dataset\n",
        "filtered_data = filtered_data.dropna()\n",
        "\n",
        "# Display the filtered data\n",
        "print(filtered_data)"
      ],
      "metadata": {
        "colab": {
          "base_uri": "https://localhost:8080/"
        },
        "id": "3VuTC5T5pphX",
        "outputId": "c8909f9d-b4c6-46c0-ea85-891a0fcaa95d"
      },
      "execution_count": 15,
      "outputs": [
        {
          "output_type": "stream",
          "name": "stdout",
          "text": [
            "       mean_temp  pressure  humidity  windSpeed       time      LCLid  \\\n",
            "0         10.000   1001.79      0.81       6.54 2012-11-25  MAC000002   \n",
            "1         12.170   1008.74      0.90       5.74 2012-11-20  MAC000002   \n",
            "2          7.830    979.63      0.85       4.07 2012-11-01  MAC000002   \n",
            "3          5.295   1020.29      0.87       3.58 2012-11-06  MAC000002   \n",
            "4          4.650   1001.72      0.80       5.63 2012-12-07  MAC000002   \n",
            "...          ...       ...       ...        ...        ...        ...   \n",
            "26732      4.470   1001.76      0.91       1.52 2014-01-30  MAC005492   \n",
            "26733      6.145   1002.10      0.79       4.55 2014-01-26  MAC005492   \n",
            "26734      7.120   1007.02      0.74       4.14 2014-02-27  MAC005492   \n",
            "26735      5.930    994.27      0.75       7.24 2014-02-12  MAC005492   \n",
            "26736      7.640    988.63      0.69       9.96 2014-02-15  MAC005492   \n",
            "\n",
            "       energy_sum  \n",
            "0          10.545  \n",
            "1          11.221  \n",
            "2          12.209  \n",
            "3          11.663  \n",
            "4          13.248  \n",
            "...           ...  \n",
            "26732       7.928  \n",
            "26733       9.634  \n",
            "26734       7.016  \n",
            "26735       8.025  \n",
            "26736       8.994  \n",
            "\n",
            "[26684 rows x 7 columns]\n"
          ]
        }
      ]
    },
    {
      "cell_type": "markdown",
      "source": [
        "## Splitting the dataset to train and test\n",
        " where the split ratio(70:30) is made with every househould's data."
      ],
      "metadata": {
        "id": "IlfwiI3Rrm1X"
      }
    },
    {
      "cell_type": "code",
      "execution_count": 16,
      "metadata": {
        "id": "mjDCXMXoizi1",
        "colab": {
          "base_uri": "https://localhost:8080/"
        },
        "outputId": "7a3eeb01-60b4-4669-c638-95ad350d3162"
      },
      "outputs": [
        {
          "output_type": "stream",
          "name": "stdout",
          "text": [
            "Training set:\n",
            "       mean_temp  pressure  humidity  windSpeed       time      LCLid  \\\n",
            "0         10.325   1019.25      0.91       6.12 2013-12-15  MAC000002   \n",
            "1          3.140   1012.97      0.83       4.76 2013-01-12  MAC000002   \n",
            "2          5.465    984.66      0.85       2.47 2013-12-25  MAC000002   \n",
            "3          6.260   1018.89      0.80       5.44 2012-12-09  MAC000002   \n",
            "4          5.925   1032.90      0.83       1.02 2013-12-01  MAC000002   \n",
            "...          ...       ...       ...        ...        ...        ...   \n",
            "15933      8.145   1005.53      0.90       2.00 2013-11-08  MAC005492   \n",
            "15934      8.930    998.27      0.91       1.29 2012-11-26  MAC005492   \n",
            "15935      5.955   1027.30      0.73       3.68 2013-11-30  MAC005492   \n",
            "15936      5.170   1012.91      0.83       5.17 2012-11-28  MAC005492   \n",
            "15937      5.515   1004.26      0.78       4.83 2013-11-21  MAC005492   \n",
            "\n",
            "       energy_sum  \n",
            "0          12.214  \n",
            "1          10.586  \n",
            "2           4.650  \n",
            "3          11.355  \n",
            "4          12.918  \n",
            "...           ...  \n",
            "15933       8.037  \n",
            "15934       7.486  \n",
            "15935       9.018  \n",
            "15936       8.024  \n",
            "15937       7.063  \n",
            "\n",
            "[15938 rows x 7 columns]\n",
            "Validation set:\n",
            "      mean_temp  pressure  humidity  windSpeed       time      LCLid  \\\n",
            "0         5.955   1027.30      0.73       3.68 2013-11-30  MAC000002   \n",
            "1         7.380    991.64      0.82       2.94 2013-11-04  MAC000002   \n",
            "2         4.220   1034.17      0.83       4.40 2013-02-27  MAC000002   \n",
            "3         3.065   1026.97      0.83       4.80 2013-02-25  MAC000002   \n",
            "4         5.515   1004.26      0.78       4.83 2013-11-21  MAC000002   \n",
            "...         ...       ...       ...        ...        ...        ...   \n",
            "5365      7.835    989.90      0.82       4.98 2014-02-06  MAC005492   \n",
            "5366      6.430    992.84      0.84       1.66 2014-02-10  MAC005492   \n",
            "5367      2.555   1003.95      0.85       3.41 2013-11-20  MAC005492   \n",
            "5368      4.435   1004.33      0.81       2.50 2014-01-14  MAC005492   \n",
            "5369      5.255    989.87      0.79       5.29 2014-01-27  MAC005492   \n",
            "\n",
            "      energy_sum  \n",
            "0          7.858  \n",
            "1          9.736  \n",
            "2         15.769  \n",
            "3         11.198  \n",
            "4         11.730  \n",
            "...          ...  \n",
            "5365      10.309  \n",
            "5366       9.123  \n",
            "5367       8.708  \n",
            "5368       4.838  \n",
            "5369       8.731  \n",
            "\n",
            "[5370 rows x 7 columns]\n",
            "Test set:\n",
            "      mean_temp  pressure  humidity  windSpeed       time      LCLid  \\\n",
            "0        10.305   1010.37      0.76       7.10 2014-02-23  MAC000002   \n",
            "1         7.835    989.90      0.82       4.98 2014-02-06  MAC000002   \n",
            "2         8.750    994.51      0.78       7.66 2014-01-03  MAC000002   \n",
            "3         5.255    989.87      0.79       5.29 2014-01-27  MAC000002   \n",
            "4         6.430    992.84      0.84       1.66 2014-02-10  MAC000002   \n",
            "...         ...       ...       ...        ...        ...        ...   \n",
            "5371      8.645    993.31      0.82       4.89 2014-01-02  MAC005492   \n",
            "5372      6.820    993.71      0.84       4.46 2014-01-04  MAC005492   \n",
            "5373     10.955    994.61      0.78       8.30 2014-01-06  MAC005492   \n",
            "5374      8.435   1006.30      0.77       6.03 2014-01-09  MAC005492   \n",
            "5375      7.545   1005.39      0.72       4.75 2014-02-02  MAC005492   \n",
            "\n",
            "      energy_sum  \n",
            "0         14.886  \n",
            "1         13.352  \n",
            "2         11.382  \n",
            "3         22.629  \n",
            "4         10.846  \n",
            "...          ...  \n",
            "5371       8.712  \n",
            "5372       8.325  \n",
            "5373       9.293  \n",
            "5374      10.266  \n",
            "5375       8.296  \n",
            "\n",
            "[5376 rows x 7 columns]\n"
          ]
        }
      ],
      "source": [
        "from sklearn.model_selection import train_test_split\n",
        "\n",
        "# Define the split percentages\n",
        "train_percentage = 0.6 # 60% for training\n",
        "val_percentage = 0.3   # 30% for validation\n",
        "test_percentage = 0.3  # 30% for testing\n",
        "min_data_points = 10   # Minimum number of data points required for an LCLid\n",
        "\n",
        "# Create lists to store DataFrames for training, validation, and testing\n",
        "train_data_list = []\n",
        "val_data_list = []\n",
        "test_data_list = []\n",
        "\n",
        "# Iterate through each unique LCLid and split the data based on train_percentage, val_percentage, and test_percentage\n",
        "unique_lclids = filtered_data['LCLid'].unique()\n",
        "for lclid in unique_lclids:\n",
        "    lclid_data = filtered_data[filtered_data['LCLid'] == lclid]\n",
        "\n",
        "    # Check if there are sufficient data points for the current LCLid\n",
        "    if len(lclid_data) >= min_data_points:\n",
        "        # Split the data for the current LCLid into training, validation, and test sets\n",
        "        train_data_lclid, remaining_data_lclid = train_test_split(lclid_data, train_size=train_percentage, shuffle=False)\n",
        "        val_data_lclid, test_data_lclid = train_test_split(remaining_data_lclid, train_size=val_percentage/(val_percentage + test_percentage), shuffle=False)\n",
        "\n",
        "        # Randomize the rows within each subset\n",
        "        train_data_lclid = train_data_lclid.sample(frac=1, random_state=42)\n",
        "        val_data_lclid = val_data_lclid.sample(frac=1, random_state=42)\n",
        "        test_data_lclid = test_data_lclid.sample(frac=1, random_state=42)\n",
        "\n",
        "        # Append to the train_data_list, val_data_list, and test_data_list\n",
        "        train_data_list.append(train_data_lclid)\n",
        "        val_data_list.append(val_data_lclid)\n",
        "        test_data_list.append(test_data_lclid)\n",
        "\n",
        "# Concatenate the DataFrames in the lists\n",
        "FL_train_set = pd.concat(train_data_list, ignore_index=True)\n",
        "FL_val_set = pd.concat(val_data_list, ignore_index=True)\n",
        "FL_test_set = pd.concat(test_data_list, ignore_index=True)\n",
        "\n",
        "# Store the training, validation, and test sets in separate lists\n",
        "FL_train_set_list = train_data_list\n",
        "FL_val_sets_list = val_data_list\n",
        "FL_test_sets_list = test_data_list\n",
        "\n",
        "# Display the training, validation, and test sets\n",
        "print(\"Training set:\")\n",
        "print(FL_train_set)\n",
        "print(\"Validation set:\")\n",
        "print(FL_val_set)\n",
        "print(\"Test set:\")\n",
        "print(FL_test_set)\n"
      ]
    },
    {
      "cell_type": "markdown",
      "source": [
        "### For FL training, validation and test sets"
      ],
      "metadata": {
        "id": "VAZQP_IFjqJd"
      }
    },
    {
      "cell_type": "code",
      "source": [
        "# Display the first training set\n",
        "print(\"First Training set:\")\n",
        "print(FL_train_set_list[0])\n",
        "print(\"First Validation set:\")\n",
        "print(FL_val_sets_list[0])\n",
        "print(\"First Test set:\")\n",
        "print(FL_test_sets_list[0])"
      ],
      "metadata": {
        "colab": {
          "base_uri": "https://localhost:8080/"
        },
        "id": "7RGFE7Iwxbjp",
        "outputId": "0aef5b52-ff07-4d3c-9fc1-5337dcd38bab"
      },
      "execution_count": 17,
      "outputs": [
        {
          "output_type": "stream",
          "name": "stdout",
          "text": [
            "First Training set:\n",
            "     mean_temp  pressure  humidity  windSpeed       time      LCLid  \\\n",
            "100     10.325   1019.25      0.91       6.12 2013-12-15  MAC000002   \n",
            "136      3.140   1012.97      0.83       4.76 2013-01-12  MAC000002   \n",
            "78       5.465    984.66      0.85       2.47 2013-12-25  MAC000002   \n",
            "56       6.260   1018.89      0.80       5.44 2012-12-09  MAC000002   \n",
            "97       5.925   1032.90      0.83       1.02 2013-12-01  MAC000002   \n",
            "..         ...       ...       ...        ...        ...        ...   \n",
            "71       7.440   1009.77      0.73       5.66 2013-12-22  MAC000002   \n",
            "106      3.355   1023.08      0.78       4.86 2013-02-20  MAC000002   \n",
            "14       5.745   1014.66      0.82       0.72 2012-11-18  MAC000002   \n",
            "92      10.680   1012.62      0.86       8.91 2013-12-21  MAC000002   \n",
            "102      2.395   1010.88      0.63       3.52 2013-03-29  MAC000002   \n",
            "\n",
            "     energy_sum  \n",
            "100      12.214  \n",
            "136      10.586  \n",
            "78        4.650  \n",
            "56       11.355  \n",
            "97       12.918  \n",
            "..          ...  \n",
            "71       12.025  \n",
            "106      10.941  \n",
            "14       13.779  \n",
            "92       11.247  \n",
            "102       4.841  \n",
            "\n",
            "[166 rows x 7 columns]\n",
            "First Validation set:\n",
            "     mean_temp  pressure  humidity  windSpeed       time      LCLid  \\\n",
            "166      5.955   1027.30      0.73       3.68 2013-11-30  MAC000002   \n",
            "171      7.380    991.64      0.82       2.94 2013-11-04  MAC000002   \n",
            "199      4.220   1034.17      0.83       4.40 2013-02-27  MAC000002   \n",
            "179      3.065   1026.97      0.83       4.80 2013-02-25  MAC000002   \n",
            "185      5.515   1004.26      0.78       4.83 2013-11-21  MAC000002   \n",
            "216      7.400   1023.75      0.74       4.60 2013-11-14  MAC000002   \n",
            "202      3.780   1010.59      0.73       3.65 2013-03-13  MAC000002   \n",
            "192      6.540   1030.42      0.78       3.55 2013-11-24  MAC000002   \n",
            "210      7.760   1032.19      0.96       2.23 2013-01-06  MAC000002   \n",
            "178      8.090   1026.88      0.92       3.27 2013-01-07  MAC000002   \n",
            "220      5.385   1013.91      0.83       2.43 2014-01-24  MAC000002   \n",
            "169      8.165   1025.35      0.83       4.56 2013-12-08  MAC000002   \n",
            "200      5.945   1002.41      0.90       2.52 2013-03-09  MAC000002   \n",
            "196      2.630   1018.79      0.86       0.68 2013-02-09  MAC000002   \n",
            "174      9.495    998.64      0.74       5.30 2013-11-03  MAC000002   \n",
            "183      4.510   1006.64      0.75       6.04 2013-02-06  MAC000002   \n",
            "172      5.565   1013.74      0.78       3.66 2013-03-04  MAC000002   \n",
            "170      8.990   1034.64      0.87       1.23 2013-11-28  MAC000002   \n",
            "207     12.090    999.46      0.88       4.86 2013-11-06  MAC000002   \n",
            "193     11.035   1006.38      0.83       2.89 2013-11-07  MAC000002   \n",
            "213      5.410   1024.21      0.82       3.37 2013-11-23  MAC000002   \n",
            "212      0.895   1014.52      0.80       3.20 2013-01-25  MAC000002   \n",
            "218      5.335    997.47      0.77       3.17 2013-12-28  MAC000002   \n",
            "181      4.120   1006.74      0.86       2.37 2013-03-20  MAC000002   \n",
            "175     10.125   1024.17      0.87       3.71 2013-01-08  MAC000002   \n",
            "182      8.005   1033.95      0.79       1.36 2013-12-02  MAC000002   \n",
            "190      8.530   1012.39      0.74       7.30 2013-01-31  MAC000002   \n",
            "197      4.965   1006.45      0.86       3.61 2013-01-26  MAC000002   \n",
            "219      4.645   1016.63      0.90       3.25 2014-01-12  MAC000002   \n",
            "214     -0.405    994.61      0.90       1.22 2013-01-21  MAC000002   \n",
            "191      1.990   1009.85      0.92       6.42 2013-03-23  MAC000002   \n",
            "177      4.230   1029.46      0.93       1.45 2013-12-11  MAC000002   \n",
            "198      4.140   1014.89      0.84       3.07 2013-12-29  MAC000002   \n",
            "215      5.545   1031.32      0.91       1.35 2013-12-10  MAC000002   \n",
            "203      5.440   1029.50      0.72       0.96 2013-12-03  MAC000002   \n",
            "195      5.685   1023.72      0.73       6.12 2013-12-05  MAC000002   \n",
            "206      3.725   1015.96      0.75       4.73 2013-03-21  MAC000002   \n",
            "167     -0.455   1001.55      0.88       3.44 2013-01-22  MAC000002   \n",
            "187     -1.190   1013.33      0.91       0.93 2013-01-16  MAC000002   \n",
            "168     12.675    998.60      0.82       4.55 2013-11-02  MAC000002   \n",
            "209      9.230    986.81      0.75       7.86 2013-12-27  MAC000002   \n",
            "205      4.300   1000.03      0.73       7.30 2013-02-05  MAC000002   \n",
            "201      8.310   1010.88      0.83       6.58 2013-12-30  MAC000002   \n",
            "189      1.765   1011.63      0.64       3.95 2013-03-27  MAC000002   \n",
            "211      2.555   1003.95      0.85       3.41 2013-11-20  MAC000002   \n",
            "176      7.330   1011.45      0.81       2.96 2013-02-14  MAC000002   \n",
            "188      8.925   1024.24      0.87       0.87 2013-11-17  MAC000002   \n",
            "184      8.370   1026.65      0.77       4.40 2013-11-29  MAC000002   \n",
            "221      4.435   1004.33      0.81       2.50 2014-01-14  MAC000002   \n",
            "186      8.680    979.52      0.81       6.67 2013-12-24  MAC000002   \n",
            "173      8.065   1004.27      0.85       4.72 2013-12-31  MAC000002   \n",
            "208     10.035   1006.93      0.77       7.85 2013-01-30  MAC000002   \n",
            "180     -0.490   1017.44      0.83       1.01 2013-01-17  MAC000002   \n",
            "194      6.780   1005.47      0.84       5.95 2013-01-28  MAC000002   \n",
            "217      0.965   1020.81      0.68       3.92 2013-02-23  MAC000002   \n",
            "204      9.250   1035.16      0.92       3.15 2013-01-05  MAC000002   \n",
            "\n",
            "     energy_sum  \n",
            "166       7.858  \n",
            "171       9.736  \n",
            "199      15.769  \n",
            "179      11.198  \n",
            "185      11.730  \n",
            "216      12.202  \n",
            "202      12.956  \n",
            "192      14.341  \n",
            "210      10.293  \n",
            "178       9.439  \n",
            "220      14.540  \n",
            "169      18.280  \n",
            "200      10.858  \n",
            "196      14.746  \n",
            "174      16.200  \n",
            "183      14.222  \n",
            "172      25.447  \n",
            "170      10.513  \n",
            "207      11.627  \n",
            "193      11.834  \n",
            "213      11.214  \n",
            "212      11.260  \n",
            "218      13.658  \n",
            "181      14.014  \n",
            "175      11.640  \n",
            "182       9.061  \n",
            "190       9.208  \n",
            "197      16.348  \n",
            "219      16.034  \n",
            "214      12.456  \n",
            "191      25.599  \n",
            "177      12.935  \n",
            "198      14.982  \n",
            "215      12.882  \n",
            "203      14.641  \n",
            "195      10.495  \n",
            "206      10.727  \n",
            "167      10.870  \n",
            "187      14.408  \n",
            "168      13.312  \n",
            "209       9.122  \n",
            "205      14.146  \n",
            "201      15.082  \n",
            "189       5.097  \n",
            "211      16.814  \n",
            "176      10.042  \n",
            "188       9.094  \n",
            "184      11.510  \n",
            "221      18.532  \n",
            "186       4.781  \n",
            "173      13.746  \n",
            "208      10.297  \n",
            "180       9.857  \n",
            "194       9.907  \n",
            "217      14.125  \n",
            "204      11.171  \n",
            "First Test set:\n",
            "     mean_temp  pressure  humidity  windSpeed       time      LCLid  \\\n",
            "222     10.305   1010.37      0.76       7.10 2014-02-23  MAC000002   \n",
            "227      7.835    989.90      0.82       4.98 2014-02-06  MAC000002   \n",
            "255      8.750    994.51      0.78       7.66 2014-01-03  MAC000002   \n",
            "235      5.255    989.87      0.79       5.29 2014-01-27  MAC000002   \n",
            "241      6.430    992.84      0.84       1.66 2014-02-10  MAC000002   \n",
            "272      7.780   1007.80      0.83       4.07 2014-02-17  MAC000002   \n",
            "258      6.970    988.77      0.79       3.98 2014-02-07  MAC000002   \n",
            "248      8.645    993.31      0.82       4.89 2014-01-02  MAC000002   \n",
            "266      6.870   1003.42      0.72       5.42 2014-02-21  MAC000002   \n",
            "234      8.175   1009.09      0.71       4.77 2014-02-22  MAC000002   \n",
            "276      5.930    994.27      0.75       7.24 2014-02-12  MAC000002   \n",
            "225     11.110   1005.19      0.74       5.02 2014-02-24  MAC000002   \n",
            "256      8.435   1006.30      0.77       6.03 2014-01-09  MAC000002   \n",
            "252      5.895   1012.39      0.82       3.98 2014-01-23  MAC000002   \n",
            "230      8.070   1006.71      0.87       2.13 2014-01-22  MAC000002   \n",
            "239      6.480    984.71      0.66       8.05 2014-02-09  MAC000002   \n",
            "228      5.140    996.66      0.76       4.62 2014-02-11  MAC000002   \n",
            "226      5.730    992.43      0.68       5.83 2014-02-13  MAC000002   \n",
            "263      9.110   1000.65      0.78       5.69 2014-02-25  MAC000002   \n",
            "249     10.955    994.61      0.78       8.30 2014-01-06  MAC000002   \n",
            "269      4.870   1007.71      0.89       0.20 2014-01-20  MAC000002   \n",
            "268      7.730   1012.73      0.73       3.82 2014-02-26  MAC000002   \n",
            "274      6.145   1002.10      0.79       4.55 2014-01-26  MAC000002   \n",
            "237      7.660   1011.57      0.87       3.29 2014-02-19  MAC000002   \n",
            "231      5.400    998.51      0.91       4.74 2014-01-31  MAC000002   \n",
            "238      7.590    982.20      0.77       7.86 2014-02-05  MAC000002   \n",
            "246      7.745    990.31      0.81       6.60 2014-02-14  MAC000002   \n",
            "253      9.420   1001.54      0.84       5.38 2014-02-20  MAC000002   \n",
            "275      7.120   1007.02      0.74       4.14 2014-02-27  MAC000002   \n",
            "270      7.545   1005.39      0.72       4.75 2014-02-02  MAC000002   \n",
            "247      8.725   1012.46      0.83       4.00 2014-01-25  MAC000002   \n",
            "233      8.995    990.50      0.83       5.01 2014-01-16  MAC000002   \n",
            "254      8.965    993.32      0.86       7.20 2014-01-01  MAC000002   \n",
            "271      6.410   1014.26      0.85       3.56 2014-01-10  MAC000002   \n",
            "259      4.805   1018.51      0.81       2.68 2014-01-11  MAC000002   \n",
            "251      6.550    996.87      0.75       5.30 2014-02-04  MAC000002   \n",
            "262      6.820    993.71      0.84       4.46 2014-01-04  MAC000002   \n",
            "223      6.355    995.52      0.80       1.72 2014-01-19  MAC000002   \n",
            "243      7.450    990.80      0.87       4.68 2014-01-17  MAC000002   \n",
            "224      7.075    985.33      0.83       4.32 2014-01-28  MAC000002   \n",
            "265      5.390    998.92      0.86       2.24 2014-02-28  MAC000002   \n",
            "261      8.785    991.61      0.83       4.34 2014-01-18  MAC000002   \n",
            "257      7.970    979.25      0.77       8.53 2014-02-08  MAC000002   \n",
            "245      8.800    998.57      0.90       4.63 2014-01-15  MAC000002   \n",
            "267     10.180   1003.19      0.78       7.30 2014-01-07  MAC000002   \n",
            "232      6.160   1006.70      0.76       3.34 2014-02-16  MAC000002   \n",
            "244      7.570   1005.09      0.83       4.00 2014-01-13  MAC000002   \n",
            "240      6.840   1000.02      0.87       4.40 2014-01-05  MAC000002   \n",
            "277      7.640    988.63      0.69       9.96 2014-02-15  MAC000002   \n",
            "242      9.495   1011.94      0.85       4.15 2014-01-08  MAC000002   \n",
            "229      4.590    993.99      0.90       4.25 2014-01-29  MAC000002   \n",
            "264      6.480   1003.89      0.79       4.92 2014-02-03  MAC000002   \n",
            "236      7.275    990.08      0.76       6.97 2014-02-01  MAC000002   \n",
            "250      7.990   1008.67      0.87       3.06 2014-02-18  MAC000002   \n",
            "273      4.470   1001.76      0.91       1.52 2014-01-30  MAC000002   \n",
            "260      4.815   1010.13      0.89       2.19 2014-01-21  MAC000002   \n",
            "\n",
            "     energy_sum  \n",
            "222      14.886  \n",
            "227      13.352  \n",
            "255      11.382  \n",
            "235      22.629  \n",
            "241      10.846  \n",
            "272      12.917  \n",
            "258      16.663  \n",
            "248      14.195  \n",
            "266      13.083  \n",
            "234      12.734  \n",
            "276      13.812  \n",
            "225      12.528  \n",
            "256      14.577  \n",
            "252      12.585  \n",
            "230      14.116  \n",
            "239      12.657  \n",
            "228      15.586  \n",
            "226      11.723  \n",
            "263      11.826  \n",
            "249      14.302  \n",
            "269      12.486  \n",
            "268      12.328  \n",
            "274      24.040  \n",
            "237      14.997  \n",
            "231      21.574  \n",
            "238      17.018  \n",
            "246      13.497  \n",
            "253      11.876  \n",
            "275      20.518  \n",
            "270      27.272  \n",
            "247      14.039  \n",
            "233      15.802  \n",
            "254      15.496  \n",
            "271      14.964  \n",
            "259      14.466  \n",
            "251      24.363  \n",
            "262      16.176  \n",
            "223      14.800  \n",
            "243      14.894  \n",
            "224      13.921  \n",
            "265       1.387  \n",
            "261      12.371  \n",
            "257      17.172  \n",
            "245      19.011  \n",
            "267      16.492  \n",
            "232      21.940  \n",
            "244      18.266  \n",
            "240      14.418  \n",
            "277      12.570  \n",
            "242      13.079  \n",
            "229      20.304  \n",
            "264      17.468  \n",
            "236      11.425  \n",
            "250      17.066  \n",
            "273      14.166  \n",
            "260      16.025  \n"
          ]
        }
      ]
    },
    {
      "cell_type": "markdown",
      "source": [
        "### Centralised training, validation and test sets"
      ],
      "metadata": {
        "id": "MApq3bu5sigc"
      }
    },
    {
      "cell_type": "code",
      "source": [
        "\n",
        "# Copy FL training set to central training set\n",
        "Central_train_data = FL_train_set.copy()\n",
        "\n",
        "# Copy FL validation set to central validation set\n",
        "Central_val_data = FL_val_set.copy()\n",
        "\n",
        "# Copy FL test set to central test set\n",
        "Central_test_data = FL_test_set.copy()\n",
        "\n",
        "# Display the sizes of the sets\n",
        "print(\"Central Training set size:\", len(Central_train_data))\n",
        "print(\"Central Validation set size:\", len(Central_val_data))\n",
        "print(\"Central Test set size:\", len(Central_test_data))\n",
        "\n"
      ],
      "metadata": {
        "colab": {
          "base_uri": "https://localhost:8080/"
        },
        "id": "YQOhoHUdtI7e",
        "outputId": "06d66fbb-a5a7-4d52-ff03-2c68dd71578f"
      },
      "execution_count": 18,
      "outputs": [
        {
          "output_type": "stream",
          "name": "stdout",
          "text": [
            "Central Training set size: 15938\n",
            "Central Validation set size: 5370\n",
            "Central Test set size: 5376\n"
          ]
        }
      ]
    },
    {
      "cell_type": "markdown",
      "source": [
        "Displaying training, validation and test sets"
      ],
      "metadata": {
        "id": "fXufv5y-tO1x"
      }
    },
    {
      "cell_type": "code",
      "source": [
        "# Display the training and test sets\n",
        "print(\"Training set:\")\n",
        "print(Central_train_data)\n",
        "print(\"Validation set:\")\n",
        "print(Central_val_data)\n",
        "print(\"Test set:\")\n",
        "print(Central_test_data)\n"
      ],
      "metadata": {
        "colab": {
          "base_uri": "https://localhost:8080/"
        },
        "id": "gUNX3w0utFkh",
        "outputId": "ac78a594-14a5-4db8-fcd9-53d054fb13e0"
      },
      "execution_count": 19,
      "outputs": [
        {
          "output_type": "stream",
          "name": "stdout",
          "text": [
            "Training set:\n",
            "       mean_temp  pressure  humidity  windSpeed       time      LCLid  \\\n",
            "0         10.325   1019.25      0.91       6.12 2013-12-15  MAC000002   \n",
            "1          3.140   1012.97      0.83       4.76 2013-01-12  MAC000002   \n",
            "2          5.465    984.66      0.85       2.47 2013-12-25  MAC000002   \n",
            "3          6.260   1018.89      0.80       5.44 2012-12-09  MAC000002   \n",
            "4          5.925   1032.90      0.83       1.02 2013-12-01  MAC000002   \n",
            "...          ...       ...       ...        ...        ...        ...   \n",
            "15933      8.145   1005.53      0.90       2.00 2013-11-08  MAC005492   \n",
            "15934      8.930    998.27      0.91       1.29 2012-11-26  MAC005492   \n",
            "15935      5.955   1027.30      0.73       3.68 2013-11-30  MAC005492   \n",
            "15936      5.170   1012.91      0.83       5.17 2012-11-28  MAC005492   \n",
            "15937      5.515   1004.26      0.78       4.83 2013-11-21  MAC005492   \n",
            "\n",
            "       energy_sum  \n",
            "0          12.214  \n",
            "1          10.586  \n",
            "2           4.650  \n",
            "3          11.355  \n",
            "4          12.918  \n",
            "...           ...  \n",
            "15933       8.037  \n",
            "15934       7.486  \n",
            "15935       9.018  \n",
            "15936       8.024  \n",
            "15937       7.063  \n",
            "\n",
            "[15938 rows x 7 columns]\n",
            "Validation set:\n",
            "      mean_temp  pressure  humidity  windSpeed       time      LCLid  \\\n",
            "0         5.955   1027.30      0.73       3.68 2013-11-30  MAC000002   \n",
            "1         7.380    991.64      0.82       2.94 2013-11-04  MAC000002   \n",
            "2         4.220   1034.17      0.83       4.40 2013-02-27  MAC000002   \n",
            "3         3.065   1026.97      0.83       4.80 2013-02-25  MAC000002   \n",
            "4         5.515   1004.26      0.78       4.83 2013-11-21  MAC000002   \n",
            "...         ...       ...       ...        ...        ...        ...   \n",
            "5365      7.835    989.90      0.82       4.98 2014-02-06  MAC005492   \n",
            "5366      6.430    992.84      0.84       1.66 2014-02-10  MAC005492   \n",
            "5367      2.555   1003.95      0.85       3.41 2013-11-20  MAC005492   \n",
            "5368      4.435   1004.33      0.81       2.50 2014-01-14  MAC005492   \n",
            "5369      5.255    989.87      0.79       5.29 2014-01-27  MAC005492   \n",
            "\n",
            "      energy_sum  \n",
            "0          7.858  \n",
            "1          9.736  \n",
            "2         15.769  \n",
            "3         11.198  \n",
            "4         11.730  \n",
            "...          ...  \n",
            "5365      10.309  \n",
            "5366       9.123  \n",
            "5367       8.708  \n",
            "5368       4.838  \n",
            "5369       8.731  \n",
            "\n",
            "[5370 rows x 7 columns]\n",
            "Test set:\n",
            "      mean_temp  pressure  humidity  windSpeed       time      LCLid  \\\n",
            "0        10.305   1010.37      0.76       7.10 2014-02-23  MAC000002   \n",
            "1         7.835    989.90      0.82       4.98 2014-02-06  MAC000002   \n",
            "2         8.750    994.51      0.78       7.66 2014-01-03  MAC000002   \n",
            "3         5.255    989.87      0.79       5.29 2014-01-27  MAC000002   \n",
            "4         6.430    992.84      0.84       1.66 2014-02-10  MAC000002   \n",
            "...         ...       ...       ...        ...        ...        ...   \n",
            "5371      8.645    993.31      0.82       4.89 2014-01-02  MAC005492   \n",
            "5372      6.820    993.71      0.84       4.46 2014-01-04  MAC005492   \n",
            "5373     10.955    994.61      0.78       8.30 2014-01-06  MAC005492   \n",
            "5374      8.435   1006.30      0.77       6.03 2014-01-09  MAC005492   \n",
            "5375      7.545   1005.39      0.72       4.75 2014-02-02  MAC005492   \n",
            "\n",
            "      energy_sum  \n",
            "0         14.886  \n",
            "1         13.352  \n",
            "2         11.382  \n",
            "3         22.629  \n",
            "4         10.846  \n",
            "...          ...  \n",
            "5371       8.712  \n",
            "5372       8.325  \n",
            "5373       9.293  \n",
            "5374      10.266  \n",
            "5375       8.296  \n",
            "\n",
            "[5376 rows x 7 columns]\n"
          ]
        }
      ]
    },
    {
      "cell_type": "markdown",
      "source": [
        "# Centralised Training"
      ],
      "metadata": {
        "id": "IVpGqOqfnfFW"
      }
    },
    {
      "cell_type": "markdown",
      "source": [
        "## Defining features and target column"
      ],
      "metadata": {
        "id": "pe8CeDeXpYMQ"
      }
    },
    {
      "cell_type": "code",
      "source": [
        "# Separate features and target variable\n",
        "Central_X_train = Central_train_data[['mean_temp', 'pressure', 'humidity', 'windSpeed']]\n",
        "Central_y_train = Central_train_data['energy_sum']\n",
        "\n",
        "# Separate features and target variable\n",
        "Central_X_val = Central_val_data[['mean_temp', 'pressure', 'humidity', 'windSpeed']]\n",
        "Central_y_val = Central_val_data['energy_sum']\n",
        "\n",
        "# Separate features and target variable\n",
        "Central_X_test = Central_test_data[['mean_temp', 'pressure', 'humidity', 'windSpeed']]\n",
        "Central_y_test = Central_test_data['energy_sum']\n"
      ],
      "metadata": {
        "id": "aPxOdMTSpORn"
      },
      "execution_count": 20,
      "outputs": []
    },
    {
      "cell_type": "markdown",
      "source": [
        "## Preprocessing (scaler and imputer)"
      ],
      "metadata": {
        "id": "5FrtqxMEqk_2"
      }
    },
    {
      "cell_type": "code",
      "source": [
        "# Define the datasets\n",
        "datasets = [\n",
        "    (Central_X_train, Central_y_train, \"Central Training\"),\n",
        "    (Central_X_val, Central_y_val, \"Central Validation\"),\n",
        "    (Central_X_test, Central_y_test, \"Central Test\")\n",
        "]\n",
        "\n",
        "# Preprocess each dataset\n",
        "for X, y, name in datasets:\n",
        "    # Impute missing values and scale features\n",
        "    X_scaled = StandardScaler().fit_transform(SimpleImputer(strategy='mean').fit_transform(X))\n",
        "\n",
        "    # Display dataset name and shape\n",
        "    print(f\"{name} Dataset:\")\n",
        "    print(\"Original Shape:\", X.shape)\n",
        "    print(\"Preprocessed Shape:\", X_scaled.shape)\n",
        "    print()"
      ],
      "metadata": {
        "colab": {
          "base_uri": "https://localhost:8080/"
        },
        "id": "VNGXlzX_sH77",
        "outputId": "30e65f33-d23a-41cb-af70-415f32187220"
      },
      "execution_count": 21,
      "outputs": [
        {
          "output_type": "stream",
          "name": "stdout",
          "text": [
            "Central Training Dataset:\n",
            "Original Shape: (15938, 4)\n",
            "Preprocessed Shape: (15938, 4)\n",
            "\n",
            "Central Validation Dataset:\n",
            "Original Shape: (5370, 4)\n",
            "Preprocessed Shape: (5370, 4)\n",
            "\n",
            "Central Test Dataset:\n",
            "Original Shape: (5376, 4)\n",
            "Preprocessed Shape: (5376, 4)\n",
            "\n"
          ]
        }
      ]
    },
    {
      "cell_type": "code",
      "source": [
        "# Check for missing values\n",
        "print(Central_y_train.isnull().sum())\n",
        "print(Central_X_train.isnull().sum())\n",
        "\n",
        "# Replace missing values with mean (you can choose another strategy)\n",
        "Central_y_train.fillna(Central_y_train.mean(), inplace=True)\n",
        "Central_X_train.fillna(Central_X_train.mean(), inplace=True)\n",
        "\n",
        "# Check for missing values\n",
        "print(Central_y_train.isnull().sum())\n",
        "print(Central_X_train.isnull().sum())"
      ],
      "metadata": {
        "colab": {
          "base_uri": "https://localhost:8080/"
        },
        "id": "PqoTpCpfHd8D",
        "outputId": "c79b1517-9f09-4913-dfa0-028f097b93a7"
      },
      "execution_count": 22,
      "outputs": [
        {
          "output_type": "stream",
          "name": "stdout",
          "text": [
            "0\n",
            "mean_temp    0\n",
            "pressure     0\n",
            "humidity     0\n",
            "windSpeed    0\n",
            "dtype: int64\n",
            "0\n",
            "mean_temp    0\n",
            "pressure     0\n",
            "humidity     0\n",
            "windSpeed    0\n",
            "dtype: int64\n"
          ]
        },
        {
          "output_type": "stream",
          "name": "stderr",
          "text": [
            "<ipython-input-22-e51efdbfd96c>:7: SettingWithCopyWarning: \n",
            "A value is trying to be set on a copy of a slice from a DataFrame.\n",
            "Try using .loc[row_indexer,col_indexer] = value instead\n",
            "\n",
            "See the caveats in the documentation: https://pandas.pydata.org/pandas-docs/stable/user_guide/indexing.html#returning-a-view-versus-a-copy\n",
            "  Central_X_train.fillna(Central_X_train.mean(), inplace=True)\n",
            "<ipython-input-22-e51efdbfd96c>:7: SettingWithCopyWarning: \n",
            "A value is trying to be set on a copy of a slice from a DataFrame.\n",
            "Try using .loc[row_indexer,col_indexer] = value instead\n",
            "\n",
            "See the caveats in the documentation: https://pandas.pydata.org/pandas-docs/stable/user_guide/indexing.html#returning-a-view-versus-a-copy\n",
            "  Central_X_train.fillna(Central_X_train.mean(), inplace=True)\n",
            "<ipython-input-22-e51efdbfd96c>:7: SettingWithCopyWarning: \n",
            "A value is trying to be set on a copy of a slice from a DataFrame.\n",
            "Try using .loc[row_indexer,col_indexer] = value instead\n",
            "\n",
            "See the caveats in the documentation: https://pandas.pydata.org/pandas-docs/stable/user_guide/indexing.html#returning-a-view-versus-a-copy\n",
            "  Central_X_train.fillna(Central_X_train.mean(), inplace=True)\n",
            "<ipython-input-22-e51efdbfd96c>:7: SettingWithCopyWarning: \n",
            "A value is trying to be set on a copy of a slice from a DataFrame.\n",
            "Try using .loc[row_indexer,col_indexer] = value instead\n",
            "\n",
            "See the caveats in the documentation: https://pandas.pydata.org/pandas-docs/stable/user_guide/indexing.html#returning-a-view-versus-a-copy\n",
            "  Central_X_train.fillna(Central_X_train.mean(), inplace=True)\n"
          ]
        }
      ]
    },
    {
      "cell_type": "markdown",
      "source": [
        "## Model selection"
      ],
      "metadata": {
        "id": "pDqGsD-tGiAH"
      }
    },
    {
      "cell_type": "code",
      "source": [
        "\n",
        "# # List of models to train\n",
        "# models = [\n",
        "#     LinearRegression(),\n",
        "#     DecisionTreeRegressor(),\n",
        "#     RandomForestRegressor(),\n",
        "#     GradientBoostingRegressor(),\n",
        "#     XGBRegressor(),\n",
        "#     LGBMRegressor(),\n",
        "#     CatBoostRegressor(),\n",
        "#     SVR(),\n",
        "#     MLPRegressor(),\n",
        "#     KNeighborsRegressor()\n",
        "# ]\n",
        "\n",
        "# # Dictionary to store model performances\n",
        "# model_performances = {}\n",
        "\n",
        "# # Train and evaluate each model on the validation set\n",
        "# for model in models:\n",
        "#     model_name = model.__class__.__name__\n",
        "#     print(f\"Training {model_name}...\")\n",
        "#     model.fit(Central_X_train, Central_y_train)\n",
        "\n",
        "#     # Predict on the validation set\n",
        "#     y_pred_val = model.predict(Central_X_val)\n",
        "#     # print(y_pred_val)\n",
        "\n",
        "#     # Calculate Mean Squared Error\n",
        "#     # mse_val = mean_squared_error(Central_y_val, y_pred_val)\n",
        "#     model_performances[model_name] = (Central_y_val-y_pred_val)\n",
        "#     print(model_performances[model_name])\n",
        "\n",
        "# # Find the best-performing model\n",
        "# best_model = min(model_performances, key=model_performances.get)\n",
        "# print(f\"Best-performing model: {best_model} (MSE: {model_performances[best_model]})\")\n"
      ],
      "metadata": {
        "id": "w9syWdcgGg9Y"
      },
      "execution_count": 54,
      "outputs": []
    },
    {
      "cell_type": "code",
      "source": [
        "from sklearn.linear_model import LinearRegression\n",
        "from sklearn.ensemble import RandomForestRegressor\n",
        "import xgboost as xgb\n",
        "import tensorflow as tf\n",
        "from tensorflow import keras\n",
        "from tensorflow.keras import layers\n",
        "\n",
        "# Define models\n",
        "linear_model = LinearRegression()\n",
        "rf_model = RandomForestRegressor(n_estimators=100, random_state=0)\n",
        "xgb_model = xgb.XGBRegressor(n_estimators=100, objective='reg:squarederror', random_state=0)\n",
        "\n",
        "# Remove rows with missing values from both features and target variables\n",
        "Central_train_data_cleaned = Central_train_data.dropna()\n",
        "Central_X_train = Central_train_data_cleaned[['mean_temp', 'pressure', 'humidity', 'windSpeed']]\n",
        "Central_y_train = Central_train_data_cleaned['energy_sum']\n",
        "\n",
        "# Drop rows with NaN values in the target variable in the validation set\n",
        "Central_val_data.dropna(subset=['energy_sum'], inplace=True)\n",
        "\n",
        "# Train linear model\n",
        "linear_model.fit(Central_X_train, Central_y_train)\n",
        "\n",
        "# Train random forest model\n",
        "rf_model.fit(Central_X_train, Central_y_train)\n",
        "\n",
        "# Train XGBoost model\n",
        "xgb_model.fit(Central_X_train, Central_y_train)\n"
      ],
      "metadata": {
        "id": "xZDeUas4R_tS",
        "colab": {
          "base_uri": "https://localhost:8080/",
          "height": 248
        },
        "outputId": "01b2b364-b111-4d64-91e8-fe4023a247b1"
      },
      "execution_count": 23,
      "outputs": [
        {
          "output_type": "execute_result",
          "data": {
            "text/plain": [
              "XGBRegressor(base_score=None, booster=None, callbacks=None,\n",
              "             colsample_bylevel=None, colsample_bynode=None,\n",
              "             colsample_bytree=None, early_stopping_rounds=None,\n",
              "             enable_categorical=False, eval_metric=None, feature_types=None,\n",
              "             gamma=None, gpu_id=None, grow_policy=None, importance_type=None,\n",
              "             interaction_constraints=None, learning_rate=None, max_bin=None,\n",
              "             max_cat_threshold=None, max_cat_to_onehot=None,\n",
              "             max_delta_step=None, max_depth=None, max_leaves=None,\n",
              "             min_child_weight=None, missing=nan, monotone_constraints=None,\n",
              "             n_estimators=100, n_jobs=None, num_parallel_tree=None,\n",
              "             predictor=None, random_state=0, ...)"
            ],
            "text/html": [
              "<style>#sk-container-id-1 {color: black;background-color: white;}#sk-container-id-1 pre{padding: 0;}#sk-container-id-1 div.sk-toggleable {background-color: white;}#sk-container-id-1 label.sk-toggleable__label {cursor: pointer;display: block;width: 100%;margin-bottom: 0;padding: 0.3em;box-sizing: border-box;text-align: center;}#sk-container-id-1 label.sk-toggleable__label-arrow:before {content: \"▸\";float: left;margin-right: 0.25em;color: #696969;}#sk-container-id-1 label.sk-toggleable__label-arrow:hover:before {color: black;}#sk-container-id-1 div.sk-estimator:hover label.sk-toggleable__label-arrow:before {color: black;}#sk-container-id-1 div.sk-toggleable__content {max-height: 0;max-width: 0;overflow: hidden;text-align: left;background-color: #f0f8ff;}#sk-container-id-1 div.sk-toggleable__content pre {margin: 0.2em;color: black;border-radius: 0.25em;background-color: #f0f8ff;}#sk-container-id-1 input.sk-toggleable__control:checked~div.sk-toggleable__content {max-height: 200px;max-width: 100%;overflow: auto;}#sk-container-id-1 input.sk-toggleable__control:checked~label.sk-toggleable__label-arrow:before {content: \"▾\";}#sk-container-id-1 div.sk-estimator input.sk-toggleable__control:checked~label.sk-toggleable__label {background-color: #d4ebff;}#sk-container-id-1 div.sk-label input.sk-toggleable__control:checked~label.sk-toggleable__label {background-color: #d4ebff;}#sk-container-id-1 input.sk-hidden--visually {border: 0;clip: rect(1px 1px 1px 1px);clip: rect(1px, 1px, 1px, 1px);height: 1px;margin: -1px;overflow: hidden;padding: 0;position: absolute;width: 1px;}#sk-container-id-1 div.sk-estimator {font-family: monospace;background-color: #f0f8ff;border: 1px dotted black;border-radius: 0.25em;box-sizing: border-box;margin-bottom: 0.5em;}#sk-container-id-1 div.sk-estimator:hover {background-color: #d4ebff;}#sk-container-id-1 div.sk-parallel-item::after {content: \"\";width: 100%;border-bottom: 1px solid gray;flex-grow: 1;}#sk-container-id-1 div.sk-label:hover label.sk-toggleable__label {background-color: #d4ebff;}#sk-container-id-1 div.sk-serial::before {content: \"\";position: absolute;border-left: 1px solid gray;box-sizing: border-box;top: 0;bottom: 0;left: 50%;z-index: 0;}#sk-container-id-1 div.sk-serial {display: flex;flex-direction: column;align-items: center;background-color: white;padding-right: 0.2em;padding-left: 0.2em;position: relative;}#sk-container-id-1 div.sk-item {position: relative;z-index: 1;}#sk-container-id-1 div.sk-parallel {display: flex;align-items: stretch;justify-content: center;background-color: white;position: relative;}#sk-container-id-1 div.sk-item::before, #sk-container-id-1 div.sk-parallel-item::before {content: \"\";position: absolute;border-left: 1px solid gray;box-sizing: border-box;top: 0;bottom: 0;left: 50%;z-index: -1;}#sk-container-id-1 div.sk-parallel-item {display: flex;flex-direction: column;z-index: 1;position: relative;background-color: white;}#sk-container-id-1 div.sk-parallel-item:first-child::after {align-self: flex-end;width: 50%;}#sk-container-id-1 div.sk-parallel-item:last-child::after {align-self: flex-start;width: 50%;}#sk-container-id-1 div.sk-parallel-item:only-child::after {width: 0;}#sk-container-id-1 div.sk-dashed-wrapped {border: 1px dashed gray;margin: 0 0.4em 0.5em 0.4em;box-sizing: border-box;padding-bottom: 0.4em;background-color: white;}#sk-container-id-1 div.sk-label label {font-family: monospace;font-weight: bold;display: inline-block;line-height: 1.2em;}#sk-container-id-1 div.sk-label-container {text-align: center;}#sk-container-id-1 div.sk-container {/* jupyter's `normalize.less` sets `[hidden] { display: none; }` but bootstrap.min.css set `[hidden] { display: none !important; }` so we also need the `!important` here to be able to override the default hidden behavior on the sphinx rendered scikit-learn.org. See: https://github.com/scikit-learn/scikit-learn/issues/21755 */display: inline-block !important;position: relative;}#sk-container-id-1 div.sk-text-repr-fallback {display: none;}</style><div id=\"sk-container-id-1\" class=\"sk-top-container\"><div class=\"sk-text-repr-fallback\"><pre>XGBRegressor(base_score=None, booster=None, callbacks=None,\n",
              "             colsample_bylevel=None, colsample_bynode=None,\n",
              "             colsample_bytree=None, early_stopping_rounds=None,\n",
              "             enable_categorical=False, eval_metric=None, feature_types=None,\n",
              "             gamma=None, gpu_id=None, grow_policy=None, importance_type=None,\n",
              "             interaction_constraints=None, learning_rate=None, max_bin=None,\n",
              "             max_cat_threshold=None, max_cat_to_onehot=None,\n",
              "             max_delta_step=None, max_depth=None, max_leaves=None,\n",
              "             min_child_weight=None, missing=nan, monotone_constraints=None,\n",
              "             n_estimators=100, n_jobs=None, num_parallel_tree=None,\n",
              "             predictor=None, random_state=0, ...)</pre><b>In a Jupyter environment, please rerun this cell to show the HTML representation or trust the notebook. <br />On GitHub, the HTML representation is unable to render, please try loading this page with nbviewer.org.</b></div><div class=\"sk-container\" hidden><div class=\"sk-item\"><div class=\"sk-estimator sk-toggleable\"><input class=\"sk-toggleable__control sk-hidden--visually\" id=\"sk-estimator-id-1\" type=\"checkbox\" checked><label for=\"sk-estimator-id-1\" class=\"sk-toggleable__label sk-toggleable__label-arrow\">XGBRegressor</label><div class=\"sk-toggleable__content\"><pre>XGBRegressor(base_score=None, booster=None, callbacks=None,\n",
              "             colsample_bylevel=None, colsample_bynode=None,\n",
              "             colsample_bytree=None, early_stopping_rounds=None,\n",
              "             enable_categorical=False, eval_metric=None, feature_types=None,\n",
              "             gamma=None, gpu_id=None, grow_policy=None, importance_type=None,\n",
              "             interaction_constraints=None, learning_rate=None, max_bin=None,\n",
              "             max_cat_threshold=None, max_cat_to_onehot=None,\n",
              "             max_delta_step=None, max_depth=None, max_leaves=None,\n",
              "             min_child_weight=None, missing=nan, monotone_constraints=None,\n",
              "             n_estimators=100, n_jobs=None, num_parallel_tree=None,\n",
              "             predictor=None, random_state=0, ...)</pre></div></div></div></div></div>"
            ]
          },
          "metadata": {},
          "execution_count": 23
        }
      ]
    },
    {
      "cell_type": "code",
      "source": [
        "# Build a simple feedforward neural network(FNN)\n",
        "fnn_model = keras.Sequential([\n",
        "    layers.Input(shape=(4,)),\n",
        "    layers.Dense(32, activation='relu'),\n",
        "    layers.Dense(16, activation='relu'),\n",
        "    layers.Dense(1)\n",
        "])\n",
        "\n",
        "fnn_model.compile(optimizer='adam', loss='mean_squared_error', metrics=['mse'])\n",
        "fnn_model.fit(Central_X_train, Central_y_train, epochs=10, batch_size=32, validation_data=(Central_X_val, Central_y_val))"
      ],
      "metadata": {
        "colab": {
          "base_uri": "https://localhost:8080/"
        },
        "id": "GOApr5TMrh6g",
        "outputId": "c796c1c9-ff65-486c-c342-57a30c0876f5"
      },
      "execution_count": 24,
      "outputs": [
        {
          "output_type": "stream",
          "name": "stdout",
          "text": [
            "Epoch 1/10\n",
            "499/499 [==============================] - 16s 10ms/step - loss: 439.2049 - mse: 439.2049 - val_loss: 420.1742 - val_mse: 420.1742\n",
            "Epoch 2/10\n",
            "499/499 [==============================] - 2s 5ms/step - loss: 434.7422 - mse: 434.7422 - val_loss: 427.5474 - val_mse: 427.5474\n",
            "Epoch 3/10\n",
            "499/499 [==============================] - 2s 4ms/step - loss: 434.8006 - mse: 434.8006 - val_loss: 422.3471 - val_mse: 422.3471\n",
            "Epoch 4/10\n",
            "499/499 [==============================] - 2s 4ms/step - loss: 435.2947 - mse: 435.2947 - val_loss: 419.6212 - val_mse: 419.6212\n",
            "Epoch 5/10\n",
            "499/499 [==============================] - 2s 5ms/step - loss: 435.0565 - mse: 435.0565 - val_loss: 420.8272 - val_mse: 420.8272\n",
            "Epoch 6/10\n",
            "499/499 [==============================] - 3s 5ms/step - loss: 433.9124 - mse: 433.9124 - val_loss: 421.2947 - val_mse: 421.2947\n",
            "Epoch 7/10\n",
            "499/499 [==============================] - 3s 6ms/step - loss: 432.5654 - mse: 432.5654 - val_loss: 419.3553 - val_mse: 419.3553\n",
            "Epoch 8/10\n",
            "499/499 [==============================] - 2s 4ms/step - loss: 431.9375 - mse: 431.9375 - val_loss: 431.2123 - val_mse: 431.2123\n",
            "Epoch 9/10\n",
            "499/499 [==============================] - 2s 4ms/step - loss: 430.3610 - mse: 430.3610 - val_loss: 422.2202 - val_mse: 422.2202\n",
            "Epoch 10/10\n",
            "499/499 [==============================] - 2s 4ms/step - loss: 431.8577 - mse: 431.8577 - val_loss: 421.9898 - val_mse: 421.9898\n"
          ]
        },
        {
          "output_type": "execute_result",
          "data": {
            "text/plain": [
              "<keras.callbacks.History at 0x7a721874af80>"
            ]
          },
          "metadata": {},
          "execution_count": 24
        }
      ]
    },
    {
      "cell_type": "code",
      "source": [
        "# Building a simple RNN model\n",
        "from tensorflow.keras.models import Sequential\n",
        "from tensorflow.keras.layers import Dense, SimpleRNN\n",
        "\n",
        "# Create an RNN model\n",
        "simple_rnn_model = Sequential()\n",
        "simple_rnn_model.add(SimpleRNN(64, activation='relu', input_shape=(Central_X_train.shape[1], 1)))\n",
        "simple_rnn_model.add(Dense(1))\n",
        "\n",
        "# Compile the model\n",
        "simple_rnn_model.compile(loss='mean_squared_error', optimizer='adam', metrics=['mse'])\n",
        "\n",
        "# Train the model\n",
        "simple_rnn_model.fit(Central_X_train, Central_y_train, epochs=10, batch_size=32, validation_data=(Central_X_val, Central_y_val))\n"
      ],
      "metadata": {
        "colab": {
          "base_uri": "https://localhost:8080/"
        },
        "id": "2BMpFLFqfXsd",
        "outputId": "bddd34d1-c7aa-4167-c5e9-b500efa3bc48"
      },
      "execution_count": 25,
      "outputs": [
        {
          "output_type": "stream",
          "name": "stdout",
          "text": [
            "Epoch 1/10\n",
            "499/499 [==============================] - 6s 7ms/step - loss: 472.6742 - mse: 472.6742 - val_loss: 431.3404 - val_mse: 431.3404\n",
            "Epoch 2/10\n",
            "499/499 [==============================] - 3s 7ms/step - loss: 455.2679 - mse: 455.2679 - val_loss: 515.5521 - val_mse: 515.5521\n",
            "Epoch 3/10\n",
            "499/499 [==============================] - 4s 8ms/step - loss: 443.1382 - mse: 443.1382 - val_loss: 420.2163 - val_mse: 420.2163\n",
            "Epoch 4/10\n",
            "499/499 [==============================] - 6s 11ms/step - loss: 438.7383 - mse: 438.7383 - val_loss: 426.3783 - val_mse: 426.3783\n",
            "Epoch 5/10\n",
            "499/499 [==============================] - 4s 7ms/step - loss: 434.8145 - mse: 434.8145 - val_loss: 420.6104 - val_mse: 420.6104\n",
            "Epoch 6/10\n",
            "499/499 [==============================] - 4s 7ms/step - loss: 435.1032 - mse: 435.1032 - val_loss: 421.6823 - val_mse: 421.6823\n",
            "Epoch 7/10\n",
            "499/499 [==============================] - 5s 10ms/step - loss: 432.4383 - mse: 432.4383 - val_loss: 421.3832 - val_mse: 421.3832\n",
            "Epoch 8/10\n",
            "499/499 [==============================] - 5s 9ms/step - loss: 430.2859 - mse: 430.2859 - val_loss: 419.4268 - val_mse: 419.4268\n",
            "Epoch 9/10\n",
            "499/499 [==============================] - 3s 7ms/step - loss: 430.4203 - mse: 430.4203 - val_loss: 419.3813 - val_mse: 419.3813\n",
            "Epoch 10/10\n",
            "499/499 [==============================] - 3s 7ms/step - loss: 430.8888 - mse: 430.8888 - val_loss: 422.3694 - val_mse: 422.3694\n"
          ]
        },
        {
          "output_type": "execute_result",
          "data": {
            "text/plain": [
              "<keras.callbacks.History at 0x7a72137933a0>"
            ]
          },
          "metadata": {},
          "execution_count": 25
        }
      ]
    },
    {
      "cell_type": "code",
      "source": [
        "from tensorflow.keras.models import Sequential\n",
        "from tensorflow.keras.layers import LSTM, Dense\n",
        "\n",
        "# Reshape data for LSTM input (samples, timesteps, features)\n",
        "num_timesteps = 1\n",
        "num_features = Central_X_train.shape[1]\n",
        "\n",
        "X_train_reshaped = Central_X_train.values.reshape((Central_X_train.shape[0], num_timesteps, num_features))\n",
        "X_val_reshaped = Central_X_val.values.reshape((Central_X_val.shape[0], num_timesteps, num_features))\n",
        "\n",
        "# Create an LSTM model\n",
        "lstm_model = Sequential()\n",
        "lstm_model.add(LSTM(64, activation='relu', input_shape=(num_timesteps, num_features)))\n",
        "lstm_model.add(Dense(1))\n",
        "\n",
        "# Compile the model\n",
        "lstm_model.compile(loss='mse', optimizer='adam')\n",
        "\n",
        "# Train the model\n",
        "lstm_model.fit(X_train_reshaped, Central_y_train, epochs=10, batch_size=32, validation_data=(X_val_reshaped, Central_y_val))\n"
      ],
      "metadata": {
        "colab": {
          "base_uri": "https://localhost:8080/"
        },
        "id": "VK9tFvolsTkV",
        "outputId": "3f576b88-af86-416e-c171-40326577dcf4"
      },
      "execution_count": 27,
      "outputs": [
        {
          "output_type": "stream",
          "name": "stderr",
          "text": [
            "WARNING:tensorflow:Layer lstm will not use cuDNN kernels since it doesn't meet the criteria. It will use a generic GPU kernel as fallback when running on GPU.\n"
          ]
        },
        {
          "output_type": "stream",
          "name": "stdout",
          "text": [
            "Epoch 1/10\n",
            "499/499 [==============================] - 6s 7ms/step - loss: 432.1878 - val_loss: 420.7010\n",
            "Epoch 2/10\n",
            "499/499 [==============================] - 5s 11ms/step - loss: 431.4134 - val_loss: 420.1709\n",
            "Epoch 3/10\n",
            "499/499 [==============================] - 5s 11ms/step - loss: 430.6945 - val_loss: 422.9691\n",
            "Epoch 4/10\n",
            "499/499 [==============================] - 3s 7ms/step - loss: 431.0714 - val_loss: 424.5918\n",
            "Epoch 5/10\n",
            "499/499 [==============================] - 3s 6ms/step - loss: 431.1907 - val_loss: 419.7762\n",
            "Epoch 6/10\n",
            "499/499 [==============================] - 4s 9ms/step - loss: 430.6378 - val_loss: 427.7642\n",
            "Epoch 7/10\n",
            "499/499 [==============================] - 5s 10ms/step - loss: 431.2135 - val_loss: 421.6890\n",
            "Epoch 8/10\n",
            "499/499 [==============================] - 3s 7ms/step - loss: 430.9221 - val_loss: 419.7346\n",
            "Epoch 9/10\n",
            "499/499 [==============================] - 3s 7ms/step - loss: 430.1519 - val_loss: 419.3395\n",
            "Epoch 10/10\n",
            "499/499 [==============================] - 4s 8ms/step - loss: 430.3553 - val_loss: 426.2769\n"
          ]
        },
        {
          "output_type": "execute_result",
          "data": {
            "text/plain": [
              "<keras.callbacks.History at 0x7a720f33c9a0>"
            ]
          },
          "metadata": {},
          "execution_count": 27
        }
      ]
    },
    {
      "cell_type": "markdown",
      "source": [
        "### Defining the Evaluation function"
      ],
      "metadata": {
        "id": "cq6pYV2vajNg"
      }
    },
    {
      "cell_type": "code",
      "source": [
        "from sklearn.metrics import mean_squared_error, mean_absolute_error\n",
        "from sklearn.metrics import r2_score\n",
        "def evaluate_model(model, X, y):\n",
        "    predictions = model.predict(X)\n",
        "    mse = mean_squared_error(y, predictions)\n",
        "    rmse = np.sqrt(mse)\n",
        "    mae = mean_absolute_error(y, predictions)\n",
        "    r2 = r2_score(y, predictions)\n",
        "    print(f\"Model: {model.__class__.__name__}\")\n",
        "    print(\"Mean Squared Error:\", mse)\n",
        "    print(\"Root Mean Squared Error:\", rmse)\n",
        "    print(\"Mean Absolute Error:\", mae)\n",
        "    print(\"R-squared:\", r2)\n",
        "    print(\"R-squared variance:\", r2*100)\n",
        "    print()\n"
      ],
      "metadata": {
        "id": "Nv4rwuSLaikH"
      },
      "execution_count": 28,
      "outputs": []
    },
    {
      "cell_type": "markdown",
      "source": [
        "### Using the Evalution Function"
      ],
      "metadata": {
        "id": "rOuTnMTmalw5"
      }
    },
    {
      "cell_type": "code",
      "source": [
        "# Define the models as trained earlier\n",
        "models = [\n",
        "    ('Linear Regression', linear_model),\n",
        "    ('Random Forest', rf_model),\n",
        "    ('XGBoost', xgb_model),\n",
        "    ('Neural Network', fnn_model),\n",
        "    ('RNN',simple_rnn_model),\n",
        "    ('LSTM',lstm_model)\n",
        "]\n",
        "\n",
        "# Evaluate each model\n",
        "for model_name, model in models:\n",
        "    print(f'\\n{model_name}:')\n",
        "    if model_name == 'LSTM':\n",
        "        X_val_reshaped = Central_X_val.values.reshape((Central_X_val.shape[0], num_timesteps, num_features))\n",
        "        evaluate_model(model, X_val_reshaped, Central_y_val)\n",
        "    else:\n",
        "        evaluate_model(model, Central_X_val, Central_y_val)\n",
        "\n"
      ],
      "metadata": {
        "colab": {
          "base_uri": "https://localhost:8080/"
        },
        "id": "ALw9fSQTaTlC",
        "outputId": "0f25237f-372d-48ca-b31e-4ad47ae240b5"
      },
      "execution_count": 29,
      "outputs": [
        {
          "output_type": "stream",
          "name": "stdout",
          "text": [
            "\n",
            "Linear Regression:\n",
            "Model: LinearRegression\n",
            "Mean Squared Error: 419.3775699895537\n",
            "Root Mean Squared Error: 20.47871016420599\n",
            "Mean Absolute Error: 13.649340392817289\n",
            "R-squared: 0.002812617032375009\n",
            "R-squared variance: 0.2812617032375009\n",
            "\n",
            "\n",
            "Random Forest:\n",
            "Model: RandomForestRegressor\n",
            "Mean Squared Error: 464.4596368707396\n",
            "Root Mean Squared Error: 21.551325640682514\n",
            "Mean Absolute Error: 13.186271195460455\n",
            "R-squared: -0.10438259680116646\n",
            "R-squared variance: -10.438259680116646\n",
            "\n",
            "\n",
            "XGBoost:\n",
            "Model: XGBRegressor\n",
            "Mean Squared Error: 486.47374420333097\n",
            "Root Mean Squared Error: 22.056149804608488\n",
            "Mean Absolute Error: 13.687802169360843\n",
            "R-squared: -0.15672728962749471\n",
            "R-squared variance: -15.67272896274947\n",
            "\n",
            "\n",
            "Neural Network:\n",
            "168/168 [==============================] - 1s 2ms/step\n",
            "Model: Sequential\n",
            "Mean Squared Error: 421.9897872537771\n",
            "Root Mean Squared Error: 20.542390008316392\n",
            "Mean Absolute Error: 13.177807772560504\n",
            "R-squared: -0.003398659592454223\n",
            "R-squared variance: -0.3398659592454223\n",
            "\n",
            "\n",
            "RNN:\n",
            "168/168 [==============================] - 1s 3ms/step\n",
            "Model: Sequential\n",
            "Mean Squared Error: 422.3693646225696\n",
            "Root Mean Squared Error: 20.551626812069394\n",
            "Mean Absolute Error: 13.156634860493293\n",
            "R-squared: -0.004301210873461692\n",
            "R-squared variance: -0.43012108734616916\n",
            "\n",
            "\n",
            "LSTM:\n",
            "168/168 [==============================] - 1s 3ms/step\n",
            "Model: Sequential\n",
            "Mean Squared Error: 426.2770628050736\n",
            "Root Mean Squared Error: 20.646478217969126\n",
            "Mean Absolute Error: 12.905881572171783\n",
            "R-squared: -0.013592855450770935\n",
            "R-squared variance: -1.3592855450770935\n",
            "\n"
          ]
        }
      ]
    },
    {
      "cell_type": "code",
      "source": [
        "from sklearn.model_selection import GridSearchCV\n",
        "\n",
        "# Define a parameter grid for hyperparameter tuning\n",
        "param_grid = {\n",
        "    'n_estimators': [100, 200, 300],\n",
        "    'max_depth': [3, 5, 7],\n",
        "    'learning_rate': [0.01, 0.1, 0.2],\n",
        "    'subsample': [0.8, 1.0],\n",
        "    'colsample_bytree': [0.8, 1.0],\n",
        "}\n",
        "\n",
        "# Create XGBoost model\n",
        "xgb_model = xgb.XGBRegressor(objective='reg:squarederror', random_state=0)\n",
        "\n",
        "# Create GridSearchCV instance\n",
        "grid_search = GridSearchCV(xgb_model, param_grid, cv=5, scoring='neg_mean_squared_error', verbose=2)\n",
        "\n",
        "# Train the model using GridSearchCV\n",
        "grid_search.fit(Central_X_train, Central_y_train)\n",
        "\n",
        "# Get the best model from the grid search\n",
        "best_xgb_model = grid_search.best_estimator_"
      ],
      "metadata": {
        "id": "ll_KLWBJv55X"
      },
      "execution_count": null,
      "outputs": []
    },
    {
      "cell_type": "markdown",
      "source": [
        "# XGBoost Model with FL Aprroach"
      ],
      "metadata": {
        "id": "SWvCuC8hQsfX"
      }
    },
    {
      "cell_type": "code",
      "source": [
        "import os\n",
        "import urllib.request\n",
        "import bz2\n",
        "import shutil\n",
        "!pip install matplotlib scikit-learn xgboost\n",
        "!pip install -U \"flwr-nightly[simulation]\"\n"
      ],
      "metadata": {
        "colab": {
          "base_uri": "https://localhost:8080/",
          "height": 1000
        },
        "id": "v5MCgCkZQrZ1",
        "outputId": "44c62bc7-d142-4df1-9d7a-9ddd7e99c051"
      },
      "execution_count": 31,
      "outputs": [
        {
          "output_type": "stream",
          "name": "stdout",
          "text": [
            "Requirement already satisfied: matplotlib in /usr/local/lib/python3.10/dist-packages (3.7.1)\n",
            "Requirement already satisfied: scikit-learn in /usr/local/lib/python3.10/dist-packages (1.2.2)\n",
            "Requirement already satisfied: xgboost in /usr/local/lib/python3.10/dist-packages (1.7.6)\n",
            "Requirement already satisfied: contourpy>=1.0.1 in /usr/local/lib/python3.10/dist-packages (from matplotlib) (1.1.0)\n",
            "Requirement already satisfied: cycler>=0.10 in /usr/local/lib/python3.10/dist-packages (from matplotlib) (0.11.0)\n",
            "Requirement already satisfied: fonttools>=4.22.0 in /usr/local/lib/python3.10/dist-packages (from matplotlib) (4.42.0)\n",
            "Requirement already satisfied: kiwisolver>=1.0.1 in /usr/local/lib/python3.10/dist-packages (from matplotlib) (1.4.4)\n",
            "Requirement already satisfied: numpy>=1.20 in /usr/local/lib/python3.10/dist-packages (from matplotlib) (1.23.5)\n",
            "Requirement already satisfied: packaging>=20.0 in /usr/local/lib/python3.10/dist-packages (from matplotlib) (23.1)\n",
            "Requirement already satisfied: pillow>=6.2.0 in /usr/local/lib/python3.10/dist-packages (from matplotlib) (9.4.0)\n",
            "Requirement already satisfied: pyparsing>=2.3.1 in /usr/local/lib/python3.10/dist-packages (from matplotlib) (3.1.1)\n",
            "Requirement already satisfied: python-dateutil>=2.7 in /usr/local/lib/python3.10/dist-packages (from matplotlib) (2.8.2)\n",
            "Requirement already satisfied: scipy>=1.3.2 in /usr/local/lib/python3.10/dist-packages (from scikit-learn) (1.10.1)\n",
            "Requirement already satisfied: joblib>=1.1.1 in /usr/local/lib/python3.10/dist-packages (from scikit-learn) (1.3.2)\n",
            "Requirement already satisfied: threadpoolctl>=2.0.0 in /usr/local/lib/python3.10/dist-packages (from scikit-learn) (3.2.0)\n",
            "Requirement already satisfied: six>=1.5 in /usr/local/lib/python3.10/dist-packages (from python-dateutil>=2.7->matplotlib) (1.16.0)\n",
            "Collecting flwr-nightly[simulation]\n",
            "  Downloading flwr_nightly-1.5.0.dev20230810-py3-none-any.whl (176 kB)\n",
            "\u001b[2K     \u001b[90m━━━━━━━━━━━━━━━━━━━━━━━━━━━━━━━━━━━━━━━\u001b[0m \u001b[32m176.3/176.3 kB\u001b[0m \u001b[31m3.3 MB/s\u001b[0m eta \u001b[36m0:00:00\u001b[0m\n",
            "\u001b[?25hRequirement already satisfied: cryptography<42.0.0,>=41.0.2 in /usr/local/lib/python3.10/dist-packages (from flwr-nightly[simulation]) (41.0.3)\n",
            "Requirement already satisfied: grpcio!=1.52.0,<2.0.0,>=1.48.2 in /usr/local/lib/python3.10/dist-packages (from flwr-nightly[simulation]) (1.56.2)\n",
            "Requirement already satisfied: iterators<0.0.3,>=0.0.2 in /usr/local/lib/python3.10/dist-packages (from flwr-nightly[simulation]) (0.0.2)\n",
            "Requirement already satisfied: numpy<2.0.0,>=1.21.0 in /usr/local/lib/python3.10/dist-packages (from flwr-nightly[simulation]) (1.23.5)\n",
            "Requirement already satisfied: protobuf<4.0.0,>=3.19.0 in /usr/local/lib/python3.10/dist-packages (from flwr-nightly[simulation]) (3.20.3)\n",
            "Collecting pycryptodome<4.0.0,>=3.18.0 (from flwr-nightly[simulation])\n",
            "  Downloading pycryptodome-3.18.0-cp35-abi3-manylinux_2_17_x86_64.manylinux2014_x86_64.whl (2.1 MB)\n",
            "\u001b[2K     \u001b[90m━━━━━━━━━━━━━━━━━━━━━━━━━━━━━━━━━━━━━━━━\u001b[0m \u001b[32m2.1/2.1 MB\u001b[0m \u001b[31m15.4 MB/s\u001b[0m eta \u001b[36m0:00:00\u001b[0m\n",
            "\u001b[?25hRequirement already satisfied: pydantic<2.0.0 in /usr/local/lib/python3.10/dist-packages (from flwr-nightly[simulation]) (1.10.12)\n",
            "Collecting ray[default]==2.5.1 (from flwr-nightly[simulation])\n",
            "  Downloading ray-2.5.1-cp310-cp310-manylinux2014_x86_64.whl (56.2 MB)\n",
            "\u001b[2K     \u001b[90m━━━━━━━━━━━━━━━━━━━━━━━━━━━━━━━━━━━━━━━━\u001b[0m \u001b[32m56.2/56.2 MB\u001b[0m \u001b[31m11.6 MB/s\u001b[0m eta \u001b[36m0:00:00\u001b[0m\n",
            "\u001b[?25hRequirement already satisfied: attrs in /usr/local/lib/python3.10/dist-packages (from ray[default]==2.5.1->flwr-nightly[simulation]) (23.1.0)\n",
            "Requirement already satisfied: click>=7.0 in /usr/local/lib/python3.10/dist-packages (from ray[default]==2.5.1->flwr-nightly[simulation]) (8.1.6)\n",
            "Requirement already satisfied: filelock in /usr/local/lib/python3.10/dist-packages (from ray[default]==2.5.1->flwr-nightly[simulation]) (3.12.2)\n",
            "Requirement already satisfied: jsonschema in /usr/local/lib/python3.10/dist-packages (from ray[default]==2.5.1->flwr-nightly[simulation]) (4.19.0)\n",
            "Requirement already satisfied: msgpack<2.0.0,>=1.0.0 in /usr/local/lib/python3.10/dist-packages (from ray[default]==2.5.1->flwr-nightly[simulation]) (1.0.5)\n",
            "Requirement already satisfied: packaging in /usr/local/lib/python3.10/dist-packages (from ray[default]==2.5.1->flwr-nightly[simulation]) (23.1)\n",
            "Requirement already satisfied: pyyaml in /usr/local/lib/python3.10/dist-packages (from ray[default]==2.5.1->flwr-nightly[simulation]) (6.0.1)\n",
            "Requirement already satisfied: aiosignal in /usr/local/lib/python3.10/dist-packages (from ray[default]==2.5.1->flwr-nightly[simulation]) (1.3.1)\n",
            "Requirement already satisfied: frozenlist in /usr/local/lib/python3.10/dist-packages (from ray[default]==2.5.1->flwr-nightly[simulation]) (1.4.0)\n",
            "Requirement already satisfied: requests in /usr/local/lib/python3.10/dist-packages (from ray[default]==2.5.1->flwr-nightly[simulation]) (2.31.0)\n",
            "Collecting grpcio!=1.52.0,<2.0.0,>=1.48.2 (from flwr-nightly[simulation])\n",
            "  Downloading grpcio-1.51.3-cp310-cp310-manylinux_2_17_x86_64.manylinux2014_x86_64.whl (4.8 MB)\n",
            "\u001b[2K     \u001b[90m━━━━━━━━━━━━━━━━━━━━━━━━━━━━━━━━━━━━━━━━\u001b[0m \u001b[32m4.8/4.8 MB\u001b[0m \u001b[31m102.8 MB/s\u001b[0m eta \u001b[36m0:00:00\u001b[0m\n",
            "\u001b[?25hRequirement already satisfied: aiohttp>=3.7 in /usr/local/lib/python3.10/dist-packages (from ray[default]==2.5.1->flwr-nightly[simulation]) (3.8.5)\n",
            "Requirement already satisfied: aiohttp-cors in /usr/local/lib/python3.10/dist-packages (from ray[default]==2.5.1->flwr-nightly[simulation]) (0.7.0)\n",
            "Requirement already satisfied: colorful in /usr/local/lib/python3.10/dist-packages (from ray[default]==2.5.1->flwr-nightly[simulation]) (0.5.5)\n",
            "Requirement already satisfied: py-spy>=0.2.0 in /usr/local/lib/python3.10/dist-packages (from ray[default]==2.5.1->flwr-nightly[simulation]) (0.3.14)\n",
            "Requirement already satisfied: gpustat>=1.0.0 in /usr/local/lib/python3.10/dist-packages (from ray[default]==2.5.1->flwr-nightly[simulation]) (1.1)\n",
            "Requirement already satisfied: opencensus in /usr/local/lib/python3.10/dist-packages (from ray[default]==2.5.1->flwr-nightly[simulation]) (0.11.2)\n",
            "Requirement already satisfied: prometheus-client>=0.7.1 in /usr/local/lib/python3.10/dist-packages (from ray[default]==2.5.1->flwr-nightly[simulation]) (0.17.1)\n",
            "Requirement already satisfied: smart-open in /usr/local/lib/python3.10/dist-packages (from ray[default]==2.5.1->flwr-nightly[simulation]) (6.3.0)\n",
            "Requirement already satisfied: virtualenv<20.21.1,>=20.0.24 in /usr/local/lib/python3.10/dist-packages (from ray[default]==2.5.1->flwr-nightly[simulation]) (20.21.0)\n",
            "Requirement already satisfied: cffi>=1.12 in /usr/local/lib/python3.10/dist-packages (from cryptography<42.0.0,>=41.0.2->flwr-nightly[simulation]) (1.15.1)\n",
            "Requirement already satisfied: typing-extensions>=4.2.0 in /usr/local/lib/python3.10/dist-packages (from pydantic<2.0.0->flwr-nightly[simulation]) (4.7.1)\n",
            "Requirement already satisfied: charset-normalizer<4.0,>=2.0 in /usr/local/lib/python3.10/dist-packages (from aiohttp>=3.7->ray[default]==2.5.1->flwr-nightly[simulation]) (3.2.0)\n",
            "Requirement already satisfied: multidict<7.0,>=4.5 in /usr/local/lib/python3.10/dist-packages (from aiohttp>=3.7->ray[default]==2.5.1->flwr-nightly[simulation]) (6.0.4)\n",
            "Requirement already satisfied: async-timeout<5.0,>=4.0.0a3 in /usr/local/lib/python3.10/dist-packages (from aiohttp>=3.7->ray[default]==2.5.1->flwr-nightly[simulation]) (4.0.2)\n",
            "Requirement already satisfied: yarl<2.0,>=1.0 in /usr/local/lib/python3.10/dist-packages (from aiohttp>=3.7->ray[default]==2.5.1->flwr-nightly[simulation]) (1.9.2)\n",
            "Requirement already satisfied: pycparser in /usr/local/lib/python3.10/dist-packages (from cffi>=1.12->cryptography<42.0.0,>=41.0.2->flwr-nightly[simulation]) (2.21)\n",
            "Requirement already satisfied: nvidia-ml-py>=11.450.129 in /usr/local/lib/python3.10/dist-packages (from gpustat>=1.0.0->ray[default]==2.5.1->flwr-nightly[simulation]) (12.535.77)\n",
            "Requirement already satisfied: psutil>=5.6.0 in /usr/local/lib/python3.10/dist-packages (from gpustat>=1.0.0->ray[default]==2.5.1->flwr-nightly[simulation]) (5.9.5)\n",
            "Requirement already satisfied: blessed>=1.17.1 in /usr/local/lib/python3.10/dist-packages (from gpustat>=1.0.0->ray[default]==2.5.1->flwr-nightly[simulation]) (1.20.0)\n",
            "Requirement already satisfied: distlib<1,>=0.3.6 in /usr/local/lib/python3.10/dist-packages (from virtualenv<20.21.1,>=20.0.24->ray[default]==2.5.1->flwr-nightly[simulation]) (0.3.7)\n",
            "Requirement already satisfied: platformdirs<4,>=2.4 in /usr/local/lib/python3.10/dist-packages (from virtualenv<20.21.1,>=20.0.24->ray[default]==2.5.1->flwr-nightly[simulation]) (3.10.0)\n",
            "Requirement already satisfied: jsonschema-specifications>=2023.03.6 in /usr/local/lib/python3.10/dist-packages (from jsonschema->ray[default]==2.5.1->flwr-nightly[simulation]) (2023.7.1)\n",
            "Requirement already satisfied: referencing>=0.28.4 in /usr/local/lib/python3.10/dist-packages (from jsonschema->ray[default]==2.5.1->flwr-nightly[simulation]) (0.30.2)\n",
            "Requirement already satisfied: rpds-py>=0.7.1 in /usr/local/lib/python3.10/dist-packages (from jsonschema->ray[default]==2.5.1->flwr-nightly[simulation]) (0.9.2)\n",
            "Requirement already satisfied: opencensus-context>=0.1.3 in /usr/local/lib/python3.10/dist-packages (from opencensus->ray[default]==2.5.1->flwr-nightly[simulation]) (0.1.3)\n",
            "Requirement already satisfied: google-api-core<3.0.0,>=1.0.0 in /usr/local/lib/python3.10/dist-packages (from opencensus->ray[default]==2.5.1->flwr-nightly[simulation]) (2.11.1)\n",
            "Requirement already satisfied: idna<4,>=2.5 in /usr/local/lib/python3.10/dist-packages (from requests->ray[default]==2.5.1->flwr-nightly[simulation]) (3.4)\n",
            "Requirement already satisfied: urllib3<3,>=1.21.1 in /usr/local/lib/python3.10/dist-packages (from requests->ray[default]==2.5.1->flwr-nightly[simulation]) (2.0.4)\n",
            "Requirement already satisfied: certifi>=2017.4.17 in /usr/local/lib/python3.10/dist-packages (from requests->ray[default]==2.5.1->flwr-nightly[simulation]) (2023.7.22)\n",
            "Requirement already satisfied: wcwidth>=0.1.4 in /usr/local/lib/python3.10/dist-packages (from blessed>=1.17.1->gpustat>=1.0.0->ray[default]==2.5.1->flwr-nightly[simulation]) (0.2.6)\n",
            "Requirement already satisfied: six>=1.9.0 in /usr/local/lib/python3.10/dist-packages (from blessed>=1.17.1->gpustat>=1.0.0->ray[default]==2.5.1->flwr-nightly[simulation]) (1.16.0)\n",
            "Requirement already satisfied: googleapis-common-protos<2.0.dev0,>=1.56.2 in /usr/local/lib/python3.10/dist-packages (from google-api-core<3.0.0,>=1.0.0->opencensus->ray[default]==2.5.1->flwr-nightly[simulation]) (1.60.0)\n",
            "Requirement already satisfied: google-auth<3.0.dev0,>=2.14.1 in /usr/local/lib/python3.10/dist-packages (from google-api-core<3.0.0,>=1.0.0->opencensus->ray[default]==2.5.1->flwr-nightly[simulation]) (2.17.3)\n",
            "Requirement already satisfied: cachetools<6.0,>=2.0.0 in /usr/local/lib/python3.10/dist-packages (from google-auth<3.0.dev0,>=2.14.1->google-api-core<3.0.0,>=1.0.0->opencensus->ray[default]==2.5.1->flwr-nightly[simulation]) (5.3.1)\n",
            "Requirement already satisfied: pyasn1-modules>=0.2.1 in /usr/local/lib/python3.10/dist-packages (from google-auth<3.0.dev0,>=2.14.1->google-api-core<3.0.0,>=1.0.0->opencensus->ray[default]==2.5.1->flwr-nightly[simulation]) (0.3.0)\n",
            "Requirement already satisfied: rsa<5,>=3.1.4 in /usr/local/lib/python3.10/dist-packages (from google-auth<3.0.dev0,>=2.14.1->google-api-core<3.0.0,>=1.0.0->opencensus->ray[default]==2.5.1->flwr-nightly[simulation]) (4.9)\n",
            "Requirement already satisfied: pyasn1<0.6.0,>=0.4.6 in /usr/local/lib/python3.10/dist-packages (from pyasn1-modules>=0.2.1->google-auth<3.0.dev0,>=2.14.1->google-api-core<3.0.0,>=1.0.0->opencensus->ray[default]==2.5.1->flwr-nightly[simulation]) (0.5.0)\n",
            "Installing collected packages: pycryptodome, grpcio, flwr-nightly, ray\n",
            "  Attempting uninstall: grpcio\n",
            "    Found existing installation: grpcio 1.56.2\n",
            "    Uninstalling grpcio-1.56.2:\n",
            "      Successfully uninstalled grpcio-1.56.2\n",
            "  Attempting uninstall: ray\n",
            "    Found existing installation: ray 2.6.2\n",
            "    Uninstalling ray-2.6.2:\n",
            "      Successfully uninstalled ray-2.6.2\n",
            "Successfully installed flwr-nightly-1.5.0.dev20230810 grpcio-1.51.3 pycryptodome-3.18.0 ray-2.5.1\n"
          ]
        },
        {
          "output_type": "display_data",
          "data": {
            "application/vnd.colab-display-data+json": {
              "pip_warning": {
                "packages": [
                  "grpc",
                  "ray"
                ]
              }
            }
          },
          "metadata": {}
        }
      ]
    },
    {
      "cell_type": "markdown",
      "source": [
        "# Should be doing"
      ],
      "metadata": {
        "id": "vDSikcPVt7Go"
      }
    },
    {
      "cell_type": "markdown",
      "source": [
        "## Gated Convolution Neural Network (GCNN)"
      ],
      "metadata": {
        "id": "PPpxpmwOpfav"
      }
    },
    {
      "cell_type": "code",
      "source": [
        "# class GatedCNN24(nn.Module):\n",
        "#     def __init__(self, input_channels, hidden_sizes):\n",
        "#         super(GatedCNN24, self).__init__()\n",
        "#         self.input_channels = input_channels\n",
        "#         self.hidden_sizes = hidden_sizes\n",
        "\n",
        "#         self.conv1 = nn.Conv2d(self.input_channels, self.hidden_sizes[0], kernel_size=3, padding=1)\n",
        "#         self.conv2 = nn.Conv2d(self.hidden_sizes[0], self.hidden_sizes[1], kernel_size=3, padding=1)\n",
        "#         self.conv3 = nn.Conv2d(self.hidden_sizes[1], self.hidden_sizes[2], kernel_size=3, padding=1)\n",
        "\n",
        "#         self.gate_conv1 = nn.Conv2d(self.input_channels, self.hidden_sizes[0], kernel_size=3, padding=1)\n",
        "#         self.gate_conv2 = nn.Conv2d(self.hidden_sizes[0], self.hidden_sizes[1], kernel_size=3, padding=1)\n",
        "#         self.gate_conv3 = nn.Conv2d(self.hidden_sizes[1], self.hidden_sizes[2], kernel_size=3, padding=1)\n",
        "\n",
        "#         self.fc1 = nn.Linear(self.hidden_sizes[2], 1)\n",
        "\n",
        "#     def forward(self, x):\n",
        "#         # Convolutional layers\n",
        "#         conv1_out = self.conv1(x)\n",
        "#         conv2_out = self.conv2(conv1_out)\n",
        "#         conv3_out = self.conv3(conv2_out)\n",
        "\n",
        "#         # Gating layers\n",
        "#         gate_conv1_out = torch.sigmoid(self.gate_conv1(x))\n",
        "#         gate_conv2_out = torch.sigmoid(self.gate_conv2(conv1_out))\n",
        "#         gate_conv3_out = torch.sigmoid(self.gate_conv3(conv2_out))\n",
        "\n",
        "#         # Element-wise multiplication (gating)\n",
        "#         gated_conv1 = conv1_out * gate_conv1_out\n",
        "#         gated_conv2 = conv2_out * gate_conv2_out\n",
        "#         gated_conv3 = conv3_out * gate_conv3_out\n",
        "\n",
        "#         # Sum along channels\n",
        "#         gated_sum = gated_conv1 + gated_conv2 + gated_conv3\n",
        "\n",
        "#         # Global average pooling\n",
        "#         pooled = torch.mean(gated_sum, dim=[2, 3])\n",
        "\n",
        "#         # Fully connected layer\n",
        "#         output = self.fc1(pooled)\n",
        "#         return output.squeeze()\n",
        "\n",
        "# class EnergyDataset(Dataset):\n",
        "#     def __init__(self, features, targets):\n",
        "#         self.features = features\n",
        "#         self.targets = targets\n",
        "\n",
        "#     def __len__(self):\n",
        "#         return len(self.features)\n",
        "\n",
        "#     def __getitem__(self, idx):\n",
        "#         inputs = torch.tensor(self.features.iloc[idx].values, dtype=torch.float32)\n",
        "#         target = torch.tensor(self.targets.iloc[idx], dtype=torch.float32)\n",
        "#         return inputs, target\n",
        "\n",
        "# # Define hyperparameters\n",
        "# input_channels = 4  # Number of features\n",
        "# hidden_sizes = [10, 8, 1]\n",
        "# learning_rate = 0.001\n",
        "# num_epochs = 10\n",
        "# batch_size = 50\n",
        "\n",
        "# # Create DataLoader for training\n",
        "# train_dataset = EnergyDataset(Central_X_train, Central_y_train)\n",
        "# train_loader = DataLoader(train_dataset, batch_size=batch_size, shuffle=True)\n",
        "\n",
        "# # Create the model\n",
        "# GatedCNN_model = GatedCNN24(input_channels, hidden_sizes)\n",
        "\n",
        "# # Define loss function and optimizer\n",
        "# criterion = nn.MSELoss()\n",
        "# optimizer = optim.Adam(GatedCNN_model.parameters(), lr=learning_rate)\n",
        "\n",
        "# # Training loop\n",
        "# for epoch in range(num_epochs):\n",
        "#     GatedCNN_model.train()  # Set the model in training mode\n",
        "#     for inputs, targets in train_loader:\n",
        "#         optimizer.zero_grad()\n",
        "\n",
        "#         # Reshape the input tensor to match expected shape [batch_size, channels, height, width]\n",
        "#         inputs = inputs.view(inputs.size(0), input_channels, 1, 1)\n",
        "\n",
        "#         outputs = GatedCNN_model(inputs)\n",
        "#         loss = criterion(outputs, targets)\n",
        "#         loss.backward()\n",
        "#         optimizer.step()\n",
        "\n",
        "#     print(f\"Epoch [{epoch+1}/{num_epochs}], Loss: {loss.item():.4f}\")\n"
      ],
      "metadata": {
        "id": "NciAJdMzmNnl"
      },
      "execution_count": null,
      "outputs": []
    },
    {
      "cell_type": "markdown",
      "source": [
        "## Gated Neural Network model"
      ],
      "metadata": {
        "id": "gcM_OfWUsMvC"
      }
    },
    {
      "cell_type": "code",
      "source": [
        "# # Build the Gated Neural Network model\n",
        "# inputs = Input(shape=(4,))\n",
        "# dense_layer = Dense(16, activation='relu')(inputs)\n",
        "\n",
        "# # Gating mechanism\n",
        "# dense_gate = Dense(16, activation='sigmoid')(inputs)\n",
        "# gated_dense = Multiply()([dense_layer, dense_gate])\n",
        "\n",
        "# output = Dense(1, activation='linear')(gated_dense)\n",
        "\n",
        "# GNN_model = Model(inputs=inputs, outputs=output)\n",
        "\n",
        "# # Compile the model\n",
        "# GNN_model.compile(optimizer='adam', loss='mean_squared_error', metrics=['mse'])\n",
        "\n",
        "# # Train the model\n",
        "# GNN_model.fit(Central_X_train, Central_y_train, epochs=10, batch_size=32, validation_split=0.2)"
      ],
      "metadata": {
        "id": "2pFnAbOBsL8T"
      },
      "execution_count": null,
      "outputs": []
    },
    {
      "cell_type": "markdown",
      "source": [
        "Implementing FLower Client"
      ],
      "metadata": {
        "id": "_vWU1fCXVX94"
      }
    },
    {
      "cell_type": "code",
      "source": [
        "import flwr as fl\n",
        "\n",
        "from flwr.client import NumPyClient\n",
        "import xgboost as xgb\n",
        "from sklearn.metrics import accuracy_score\n",
        "import io\n",
        "\n",
        "class XGBoostClient(fl.client.NumPyClient):\n",
        "    def __init__(self, model, X_train, y_train, X_val, y_val):\n",
        "        self.model = model\n",
        "        self.X_train = X_train\n",
        "        self.y_train = y_train\n",
        "        self.X_val = X_val\n",
        "        self.y_val = y_val\n",
        "\n",
        "    def get_parameters(self, config=None):\n",
        "        with io.BytesIO() as buffer:\n",
        "            self.model.save_model(buffer)\n",
        "            return buffer.getvalue()\n",
        "\n",
        "    def fit(self, parameters, config):\n",
        "        new_model = xgb.XGBRegressor(**config)\n",
        "        with io.BytesIO(parameters) as buffer:\n",
        "            new_model.load_model(buffer)\n",
        "        self.model = new_model\n",
        "\n",
        "        self.model.fit(self.X_train, self.y_train)\n",
        "\n",
        "        with io.BytesIO() as buffer:\n",
        "            self.model.save_model(buffer)\n",
        "            return buffer.getvalue()\n",
        "\n",
        "    def evaluate(self, parameters, config):\n",
        "        new_model = xgb.Booster(params=config, model_str=parameters[0])\n",
        "        self.model = new_model\n",
        "\n",
        "        y_pred = self.model.predict(self.X_val)\n",
        "        accuracy = accuracy_score(self.y_val, y_pred)\n",
        "\n",
        "        return accuracy\n",
        "\n"
      ],
      "metadata": {
        "id": "1i6mrPCqIxbc"
      },
      "execution_count": 26,
      "outputs": []
    },
    {
      "cell_type": "code",
      "source": [
        "# the best hyperparameters in best_xgb_model\n",
        "best_hyperparameters = best_xgb_model.get_xgb_params()\n",
        "\n",
        "# Create an instance of your XGBoost model with the best hyperparameters\n",
        "best_xgb_model_instance = xgb.XGBRegressor(**best_hyperparameters)\n",
        "\n",
        "\n",
        "# Specify client resources if you need GPU (defaults to 1 CPU and 0 GPU)\n",
        "client_resources = None\n",
        "if DEVICE.type == \"cuda\":\n",
        "    client_resources = {\"num_gpus\": 1}\n",
        "\n",
        "# Define a function to create a virtual client\n",
        "def create_virtual_client(lclid):\n",
        "    client_data = FL_train_set[FL_train_set['LCLid'] == lclid]\n",
        "    X_client = client_data[['mean_temp', 'pressure', 'humidity', 'windSpeed']]\n",
        "    y_client = client_data['energy_sum']\n",
        "    return XGBoostClient(best_xgb_model_instance, X_client, y_client,  FL_test_set[['mean_temp', 'pressure', 'humidity', 'windSpeed']], FL_test_set['energy_sum'])\n",
        "\n",
        "# Fit the XGBoost model before creating virtual clients\n",
        "best_xgb_model_instance.fit(Central_X_train, Central_y_train)\n",
        "\n",
        "# Create a list of virtual clients\n",
        "virtual_clients = [create_virtual_client(lclid) for lclid in unique_lclids]\n",
        "\n",
        "# Define the client function for Flower simulation\n",
        "def client_fn(cid: str) -> XGBoostClient:\n",
        "    virtual_client = virtual_clients[int(cid)]\n",
        "    return virtual_client\n",
        "\n",
        "# Define the Flower simulation configuration\n",
        "config = fl.server.ServerConfig(num_rounds=5)\n",
        "\n",
        "# Start the Flower simulation\n",
        "fl.simulation.start_simulation(\n",
        "    client_fn=client_fn,\n",
        "    num_clients=len(virtual_clients),\n",
        "    config=config,\n",
        "    strategy=fl.server.strategy.FedAvg(),\n",
        "    client_resources=None,  # Adjust client resources as needed\n",
        ")\n"
      ],
      "metadata": {
        "colab": {
          "base_uri": "https://localhost:8080/",
          "height": 1000
        },
        "id": "jeqMcrjHZGtt",
        "outputId": "4891cb7f-46db-4eaa-d32b-19b2449a9743"
      },
      "execution_count": 78,
      "outputs": [
        {
          "output_type": "stream",
          "name": "stderr",
          "text": [
            "INFO flwr 2023-08-14 20:33:53,736 | app.py:146 | Starting Flower simulation, config: ServerConfig(num_rounds=5, round_timeout=None)\n",
            "INFO:flwr:Starting Flower simulation, config: ServerConfig(num_rounds=5, round_timeout=None)\n",
            "2023-08-14 20:33:58,218\tINFO worker.py:1621 -- Started a local Ray instance.\n",
            "INFO flwr 2023-08-14 20:34:00,376 | app.py:180 | Flower VCE: Ray initialized with resources: {'memory': 7812538368.0, 'object_store_memory': 3906269184.0, 'node:172.28.0.12': 1.0, 'GPU': 1.0, 'CPU': 2.0, 'node:__internal_head__': 1.0}\n",
            "INFO:flwr:Flower VCE: Ray initialized with resources: {'memory': 7812538368.0, 'object_store_memory': 3906269184.0, 'node:172.28.0.12': 1.0, 'GPU': 1.0, 'CPU': 2.0, 'node:__internal_head__': 1.0}\n",
            "INFO flwr 2023-08-14 20:34:00,385 | server.py:86 | Initializing global parameters\n",
            "INFO:flwr:Initializing global parameters\n",
            "INFO flwr 2023-08-14 20:34:00,392 | server.py:273 | Requesting initial parameters from one random client\n",
            "INFO:flwr:Requesting initial parameters from one random client\n",
            "\u001b[2m\u001b[36m(pid=39789)\u001b[0m 2023-08-14 20:34:01.935008: W tensorflow/compiler/tf2tensorrt/utils/py_utils.cc:38] TF-TRT Warning: Could not find TensorRT\n",
            "ERROR flwr 2023-08-14 20:34:03,998 | ray_client_proxy.py:72 | \u001b[36mray::launch_and_get_parameters()\u001b[39m (pid=39789, ip=172.28.0.12)\n",
            "  File \"/usr/local/lib/python3.10/dist-packages/flwr/simulation/ray_transport/ray_client_proxy.py\", line 136, in launch_and_get_parameters\n",
            "    return maybe_call_get_parameters(\n",
            "  File \"/usr/local/lib/python3.10/dist-packages/flwr/client/client.py\", line 163, in maybe_call_get_parameters\n",
            "    return client.get_parameters(get_parameters_ins)\n",
            "  File \"/usr/local/lib/python3.10/dist-packages/flwr/client/app.py\", line 283, in _get_parameters\n",
            "    parameters = self.numpy_client.get_parameters(config=ins.config)  # type: ignore\n",
            "  File \"<ipython-input-77-a6bcfab15629>\", line 18, in get_parameters\n",
            "  File \"/usr/local/lib/python3.10/dist-packages/xgboost/sklearn.py\", line 767, in save_model\n",
            "    self.get_booster().save_model(fname)\n",
            "  File \"/usr/local/lib/python3.10/dist-packages/xgboost/core.py\", line 2392, in save_model\n",
            "    raise TypeError(\"fname must be a string or os PathLike\")\n",
            "TypeError: fname must be a string or os PathLike\n",
            "ERROR:flwr:\u001b[36mray::launch_and_get_parameters()\u001b[39m (pid=39789, ip=172.28.0.12)\n",
            "  File \"/usr/local/lib/python3.10/dist-packages/flwr/simulation/ray_transport/ray_client_proxy.py\", line 136, in launch_and_get_parameters\n",
            "    return maybe_call_get_parameters(\n",
            "  File \"/usr/local/lib/python3.10/dist-packages/flwr/client/client.py\", line 163, in maybe_call_get_parameters\n",
            "    return client.get_parameters(get_parameters_ins)\n",
            "  File \"/usr/local/lib/python3.10/dist-packages/flwr/client/app.py\", line 283, in _get_parameters\n",
            "    parameters = self.numpy_client.get_parameters(config=ins.config)  # type: ignore\n",
            "  File \"<ipython-input-77-a6bcfab15629>\", line 18, in get_parameters\n",
            "  File \"/usr/local/lib/python3.10/dist-packages/xgboost/sklearn.py\", line 767, in save_model\n",
            "    self.get_booster().save_model(fname)\n",
            "  File \"/usr/local/lib/python3.10/dist-packages/xgboost/core.py\", line 2392, in save_model\n",
            "    raise TypeError(\"fname must be a string or os PathLike\")\n",
            "TypeError: fname must be a string or os PathLike\n"
          ]
        },
        {
          "output_type": "error",
          "ename": "RayTaskError(TypeError)",
          "evalue": "ignored",
          "traceback": [
            "\u001b[0;31m---------------------------------------------------------------------------\u001b[0m",
            "\u001b[0;31mRayTaskError(TypeError)\u001b[0m                   Traceback (most recent call last)",
            "\u001b[0;32m<ipython-input-78-16d10a2e9723>\u001b[0m in \u001b[0;36m<cell line: 35>\u001b[0;34m()\u001b[0m\n\u001b[1;32m     33\u001b[0m \u001b[0;34m\u001b[0m\u001b[0m\n\u001b[1;32m     34\u001b[0m \u001b[0;31m# Start the Flower simulation\u001b[0m\u001b[0;34m\u001b[0m\u001b[0;34m\u001b[0m\u001b[0m\n\u001b[0;32m---> 35\u001b[0;31m fl.simulation.start_simulation(\n\u001b[0m\u001b[1;32m     36\u001b[0m     \u001b[0mclient_fn\u001b[0m\u001b[0;34m=\u001b[0m\u001b[0mclient_fn\u001b[0m\u001b[0;34m,\u001b[0m\u001b[0;34m\u001b[0m\u001b[0;34m\u001b[0m\u001b[0m\n\u001b[1;32m     37\u001b[0m     \u001b[0mnum_clients\u001b[0m\u001b[0;34m=\u001b[0m\u001b[0mlen\u001b[0m\u001b[0;34m(\u001b[0m\u001b[0mvirtual_clients\u001b[0m\u001b[0;34m)\u001b[0m\u001b[0;34m,\u001b[0m\u001b[0;34m\u001b[0m\u001b[0;34m\u001b[0m\u001b[0m\n",
            "\u001b[0;32m/usr/local/lib/python3.10/dist-packages/flwr/simulation/app.py\u001b[0m in \u001b[0;36mstart_simulation\u001b[0;34m(client_fn, num_clients, clients_ids, client_resources, server, config, strategy, client_manager, ray_init_args, keep_initialised)\u001b[0m\n\u001b[1;32m    195\u001b[0m \u001b[0;34m\u001b[0m\u001b[0m\n\u001b[1;32m    196\u001b[0m     \u001b[0;31m# Start training\u001b[0m\u001b[0;34m\u001b[0m\u001b[0;34m\u001b[0m\u001b[0m\n\u001b[0;32m--> 197\u001b[0;31m     hist = _fl(\n\u001b[0m\u001b[1;32m    198\u001b[0m         \u001b[0mserver\u001b[0m\u001b[0;34m=\u001b[0m\u001b[0minitialized_server\u001b[0m\u001b[0;34m,\u001b[0m\u001b[0;34m\u001b[0m\u001b[0;34m\u001b[0m\u001b[0m\n\u001b[1;32m    199\u001b[0m         \u001b[0mconfig\u001b[0m\u001b[0;34m=\u001b[0m\u001b[0minitialized_config\u001b[0m\u001b[0;34m,\u001b[0m\u001b[0;34m\u001b[0m\u001b[0;34m\u001b[0m\u001b[0m\n",
            "\u001b[0;32m/usr/local/lib/python3.10/dist-packages/flwr/server/app.py\u001b[0m in \u001b[0;36m_fl\u001b[0;34m(server, config)\u001b[0m\n\u001b[1;32m    215\u001b[0m ) -> History:\n\u001b[1;32m    216\u001b[0m     \u001b[0;31m# Fit model\u001b[0m\u001b[0;34m\u001b[0m\u001b[0;34m\u001b[0m\u001b[0m\n\u001b[0;32m--> 217\u001b[0;31m     \u001b[0mhist\u001b[0m \u001b[0;34m=\u001b[0m \u001b[0mserver\u001b[0m\u001b[0;34m.\u001b[0m\u001b[0mfit\u001b[0m\u001b[0;34m(\u001b[0m\u001b[0mnum_rounds\u001b[0m\u001b[0;34m=\u001b[0m\u001b[0mconfig\u001b[0m\u001b[0;34m.\u001b[0m\u001b[0mnum_rounds\u001b[0m\u001b[0;34m,\u001b[0m \u001b[0mtimeout\u001b[0m\u001b[0;34m=\u001b[0m\u001b[0mconfig\u001b[0m\u001b[0;34m.\u001b[0m\u001b[0mround_timeout\u001b[0m\u001b[0;34m)\u001b[0m\u001b[0;34m\u001b[0m\u001b[0;34m\u001b[0m\u001b[0m\n\u001b[0m\u001b[1;32m    218\u001b[0m     \u001b[0mlog\u001b[0m\u001b[0;34m(\u001b[0m\u001b[0mINFO\u001b[0m\u001b[0;34m,\u001b[0m \u001b[0;34m\"app_fit: losses_distributed %s\"\u001b[0m\u001b[0;34m,\u001b[0m \u001b[0mstr\u001b[0m\u001b[0;34m(\u001b[0m\u001b[0mhist\u001b[0m\u001b[0;34m.\u001b[0m\u001b[0mlosses_distributed\u001b[0m\u001b[0;34m)\u001b[0m\u001b[0;34m)\u001b[0m\u001b[0;34m\u001b[0m\u001b[0;34m\u001b[0m\u001b[0m\n\u001b[1;32m    219\u001b[0m     \u001b[0mlog\u001b[0m\u001b[0;34m(\u001b[0m\u001b[0mINFO\u001b[0m\u001b[0;34m,\u001b[0m \u001b[0;34m\"app_fit: metrics_distributed_fit %s\"\u001b[0m\u001b[0;34m,\u001b[0m \u001b[0mstr\u001b[0m\u001b[0;34m(\u001b[0m\u001b[0mhist\u001b[0m\u001b[0;34m.\u001b[0m\u001b[0mmetrics_distributed_fit\u001b[0m\u001b[0;34m)\u001b[0m\u001b[0;34m)\u001b[0m\u001b[0;34m\u001b[0m\u001b[0;34m\u001b[0m\u001b[0m\n",
            "\u001b[0;32m/usr/local/lib/python3.10/dist-packages/flwr/server/server.py\u001b[0m in \u001b[0;36mfit\u001b[0;34m(self, num_rounds, timeout)\u001b[0m\n\u001b[1;32m     85\u001b[0m         \u001b[0;31m# Initialize parameters\u001b[0m\u001b[0;34m\u001b[0m\u001b[0;34m\u001b[0m\u001b[0m\n\u001b[1;32m     86\u001b[0m         \u001b[0mlog\u001b[0m\u001b[0;34m(\u001b[0m\u001b[0mINFO\u001b[0m\u001b[0;34m,\u001b[0m \u001b[0;34m\"Initializing global parameters\"\u001b[0m\u001b[0;34m)\u001b[0m\u001b[0;34m\u001b[0m\u001b[0;34m\u001b[0m\u001b[0m\n\u001b[0;32m---> 87\u001b[0;31m         \u001b[0mself\u001b[0m\u001b[0;34m.\u001b[0m\u001b[0mparameters\u001b[0m \u001b[0;34m=\u001b[0m \u001b[0mself\u001b[0m\u001b[0;34m.\u001b[0m\u001b[0m_get_initial_parameters\u001b[0m\u001b[0;34m(\u001b[0m\u001b[0mtimeout\u001b[0m\u001b[0;34m=\u001b[0m\u001b[0mtimeout\u001b[0m\u001b[0;34m)\u001b[0m\u001b[0;34m\u001b[0m\u001b[0;34m\u001b[0m\u001b[0m\n\u001b[0m\u001b[1;32m     88\u001b[0m         \u001b[0mlog\u001b[0m\u001b[0;34m(\u001b[0m\u001b[0mINFO\u001b[0m\u001b[0;34m,\u001b[0m \u001b[0;34m\"Evaluating initial parameters\"\u001b[0m\u001b[0;34m)\u001b[0m\u001b[0;34m\u001b[0m\u001b[0;34m\u001b[0m\u001b[0m\n\u001b[1;32m     89\u001b[0m         \u001b[0mres\u001b[0m \u001b[0;34m=\u001b[0m \u001b[0mself\u001b[0m\u001b[0;34m.\u001b[0m\u001b[0mstrategy\u001b[0m\u001b[0;34m.\u001b[0m\u001b[0mevaluate\u001b[0m\u001b[0;34m(\u001b[0m\u001b[0;36m0\u001b[0m\u001b[0;34m,\u001b[0m \u001b[0mparameters\u001b[0m\u001b[0;34m=\u001b[0m\u001b[0mself\u001b[0m\u001b[0;34m.\u001b[0m\u001b[0mparameters\u001b[0m\u001b[0;34m)\u001b[0m\u001b[0;34m\u001b[0m\u001b[0;34m\u001b[0m\u001b[0m\n",
            "\u001b[0;32m/usr/local/lib/python3.10/dist-packages/flwr/server/server.py\u001b[0m in \u001b[0;36m_get_initial_parameters\u001b[0;34m(self, timeout)\u001b[0m\n\u001b[1;32m    274\u001b[0m         \u001b[0mrandom_client\u001b[0m \u001b[0;34m=\u001b[0m \u001b[0mself\u001b[0m\u001b[0;34m.\u001b[0m\u001b[0m_client_manager\u001b[0m\u001b[0;34m.\u001b[0m\u001b[0msample\u001b[0m\u001b[0;34m(\u001b[0m\u001b[0;36m1\u001b[0m\u001b[0;34m)\u001b[0m\u001b[0;34m[\u001b[0m\u001b[0;36m0\u001b[0m\u001b[0;34m]\u001b[0m\u001b[0;34m\u001b[0m\u001b[0;34m\u001b[0m\u001b[0m\n\u001b[1;32m    275\u001b[0m         \u001b[0mins\u001b[0m \u001b[0;34m=\u001b[0m \u001b[0mGetParametersIns\u001b[0m\u001b[0;34m(\u001b[0m\u001b[0mconfig\u001b[0m\u001b[0;34m=\u001b[0m\u001b[0;34m{\u001b[0m\u001b[0;34m}\u001b[0m\u001b[0;34m)\u001b[0m\u001b[0;34m\u001b[0m\u001b[0;34m\u001b[0m\u001b[0m\n\u001b[0;32m--> 276\u001b[0;31m         \u001b[0mget_parameters_res\u001b[0m \u001b[0;34m=\u001b[0m \u001b[0mrandom_client\u001b[0m\u001b[0;34m.\u001b[0m\u001b[0mget_parameters\u001b[0m\u001b[0;34m(\u001b[0m\u001b[0mins\u001b[0m\u001b[0;34m=\u001b[0m\u001b[0mins\u001b[0m\u001b[0;34m,\u001b[0m \u001b[0mtimeout\u001b[0m\u001b[0;34m=\u001b[0m\u001b[0mtimeout\u001b[0m\u001b[0;34m)\u001b[0m\u001b[0;34m\u001b[0m\u001b[0;34m\u001b[0m\u001b[0m\n\u001b[0m\u001b[1;32m    277\u001b[0m         \u001b[0mlog\u001b[0m\u001b[0;34m(\u001b[0m\u001b[0mINFO\u001b[0m\u001b[0;34m,\u001b[0m \u001b[0;34m\"Received initial parameters from one random client\"\u001b[0m\u001b[0;34m)\u001b[0m\u001b[0;34m\u001b[0m\u001b[0;34m\u001b[0m\u001b[0m\n\u001b[1;32m    278\u001b[0m         \u001b[0;32mreturn\u001b[0m \u001b[0mget_parameters_res\u001b[0m\u001b[0;34m.\u001b[0m\u001b[0mparameters\u001b[0m\u001b[0;34m\u001b[0m\u001b[0;34m\u001b[0m\u001b[0m\n",
            "\u001b[0;32m/usr/local/lib/python3.10/dist-packages/flwr/simulation/ray_transport/ray_client_proxy.py\u001b[0m in \u001b[0;36mget_parameters\u001b[0;34m(self, ins, timeout)\u001b[0m\n\u001b[1;32m     71\u001b[0m         \u001b[0;32mexcept\u001b[0m \u001b[0mException\u001b[0m \u001b[0;32mas\u001b[0m \u001b[0mex\u001b[0m\u001b[0;34m:\u001b[0m\u001b[0;34m\u001b[0m\u001b[0;34m\u001b[0m\u001b[0m\n\u001b[1;32m     72\u001b[0m             \u001b[0mlog\u001b[0m\u001b[0;34m(\u001b[0m\u001b[0mERROR\u001b[0m\u001b[0;34m,\u001b[0m \u001b[0mex\u001b[0m\u001b[0;34m)\u001b[0m\u001b[0;34m\u001b[0m\u001b[0;34m\u001b[0m\u001b[0m\n\u001b[0;32m---> 73\u001b[0;31m             \u001b[0;32mraise\u001b[0m \u001b[0mex\u001b[0m\u001b[0;34m\u001b[0m\u001b[0;34m\u001b[0m\u001b[0m\n\u001b[0m\u001b[1;32m     74\u001b[0m         return cast(\n\u001b[1;32m     75\u001b[0m             \u001b[0mcommon\u001b[0m\u001b[0;34m.\u001b[0m\u001b[0mGetParametersRes\u001b[0m\u001b[0;34m,\u001b[0m\u001b[0;34m\u001b[0m\u001b[0;34m\u001b[0m\u001b[0m\n",
            "\u001b[0;32m/usr/local/lib/python3.10/dist-packages/flwr/simulation/ray_transport/ray_client_proxy.py\u001b[0m in \u001b[0;36mget_parameters\u001b[0;34m(self, ins, timeout)\u001b[0m\n\u001b[1;32m     68\u001b[0m         ).remote(self.client_fn, self.cid, ins)\n\u001b[1;32m     69\u001b[0m         \u001b[0;32mtry\u001b[0m\u001b[0;34m:\u001b[0m\u001b[0;34m\u001b[0m\u001b[0;34m\u001b[0m\u001b[0m\n\u001b[0;32m---> 70\u001b[0;31m             \u001b[0mres\u001b[0m \u001b[0;34m=\u001b[0m \u001b[0mray\u001b[0m\u001b[0;34m.\u001b[0m\u001b[0mget\u001b[0m\u001b[0;34m(\u001b[0m\u001b[0mfuture_paramseters_res\u001b[0m\u001b[0;34m,\u001b[0m \u001b[0mtimeout\u001b[0m\u001b[0;34m=\u001b[0m\u001b[0mtimeout\u001b[0m\u001b[0;34m)\u001b[0m\u001b[0;34m\u001b[0m\u001b[0;34m\u001b[0m\u001b[0m\n\u001b[0m\u001b[1;32m     71\u001b[0m         \u001b[0;32mexcept\u001b[0m \u001b[0mException\u001b[0m \u001b[0;32mas\u001b[0m \u001b[0mex\u001b[0m\u001b[0;34m:\u001b[0m\u001b[0;34m\u001b[0m\u001b[0;34m\u001b[0m\u001b[0m\n\u001b[1;32m     72\u001b[0m             \u001b[0mlog\u001b[0m\u001b[0;34m(\u001b[0m\u001b[0mERROR\u001b[0m\u001b[0;34m,\u001b[0m \u001b[0mex\u001b[0m\u001b[0;34m)\u001b[0m\u001b[0;34m\u001b[0m\u001b[0;34m\u001b[0m\u001b[0m\n",
            "\u001b[0;32m/usr/local/lib/python3.10/dist-packages/ray/_private/auto_init_hook.py\u001b[0m in \u001b[0;36mauto_init_wrapper\u001b[0;34m(*args, **kwargs)\u001b[0m\n\u001b[1;32m     22\u001b[0m     \u001b[0;32mdef\u001b[0m \u001b[0mauto_init_wrapper\u001b[0m\u001b[0;34m(\u001b[0m\u001b[0;34m*\u001b[0m\u001b[0margs\u001b[0m\u001b[0;34m,\u001b[0m \u001b[0;34m**\u001b[0m\u001b[0mkwargs\u001b[0m\u001b[0;34m)\u001b[0m\u001b[0;34m:\u001b[0m\u001b[0;34m\u001b[0m\u001b[0;34m\u001b[0m\u001b[0m\n\u001b[1;32m     23\u001b[0m         \u001b[0mauto_init_ray\u001b[0m\u001b[0;34m(\u001b[0m\u001b[0;34m)\u001b[0m\u001b[0;34m\u001b[0m\u001b[0;34m\u001b[0m\u001b[0m\n\u001b[0;32m---> 24\u001b[0;31m         \u001b[0;32mreturn\u001b[0m \u001b[0mfn\u001b[0m\u001b[0;34m(\u001b[0m\u001b[0;34m*\u001b[0m\u001b[0margs\u001b[0m\u001b[0;34m,\u001b[0m \u001b[0;34m**\u001b[0m\u001b[0mkwargs\u001b[0m\u001b[0;34m)\u001b[0m\u001b[0;34m\u001b[0m\u001b[0;34m\u001b[0m\u001b[0m\n\u001b[0m\u001b[1;32m     25\u001b[0m \u001b[0;34m\u001b[0m\u001b[0m\n\u001b[1;32m     26\u001b[0m     \u001b[0;32mreturn\u001b[0m \u001b[0mauto_init_wrapper\u001b[0m\u001b[0;34m\u001b[0m\u001b[0;34m\u001b[0m\u001b[0m\n",
            "\u001b[0;32m/usr/local/lib/python3.10/dist-packages/ray/_private/client_mode_hook.py\u001b[0m in \u001b[0;36mwrapper\u001b[0;34m(*args, **kwargs)\u001b[0m\n\u001b[1;32m    101\u001b[0m             \u001b[0;32mif\u001b[0m \u001b[0mfunc\u001b[0m\u001b[0;34m.\u001b[0m\u001b[0m__name__\u001b[0m \u001b[0;34m!=\u001b[0m \u001b[0;34m\"init\"\u001b[0m \u001b[0;32mor\u001b[0m \u001b[0mis_client_mode_enabled_by_default\u001b[0m\u001b[0;34m:\u001b[0m\u001b[0;34m\u001b[0m\u001b[0;34m\u001b[0m\u001b[0m\n\u001b[1;32m    102\u001b[0m                 \u001b[0;32mreturn\u001b[0m \u001b[0mgetattr\u001b[0m\u001b[0;34m(\u001b[0m\u001b[0mray\u001b[0m\u001b[0;34m,\u001b[0m \u001b[0mfunc\u001b[0m\u001b[0;34m.\u001b[0m\u001b[0m__name__\u001b[0m\u001b[0;34m)\u001b[0m\u001b[0;34m(\u001b[0m\u001b[0;34m*\u001b[0m\u001b[0margs\u001b[0m\u001b[0;34m,\u001b[0m \u001b[0;34m**\u001b[0m\u001b[0mkwargs\u001b[0m\u001b[0;34m)\u001b[0m\u001b[0;34m\u001b[0m\u001b[0;34m\u001b[0m\u001b[0m\n\u001b[0;32m--> 103\u001b[0;31m         \u001b[0;32mreturn\u001b[0m \u001b[0mfunc\u001b[0m\u001b[0;34m(\u001b[0m\u001b[0;34m*\u001b[0m\u001b[0margs\u001b[0m\u001b[0;34m,\u001b[0m \u001b[0;34m**\u001b[0m\u001b[0mkwargs\u001b[0m\u001b[0;34m)\u001b[0m\u001b[0;34m\u001b[0m\u001b[0;34m\u001b[0m\u001b[0m\n\u001b[0m\u001b[1;32m    104\u001b[0m \u001b[0;34m\u001b[0m\u001b[0m\n\u001b[1;32m    105\u001b[0m     \u001b[0;32mreturn\u001b[0m \u001b[0mwrapper\u001b[0m\u001b[0;34m\u001b[0m\u001b[0;34m\u001b[0m\u001b[0m\n",
            "\u001b[0;32m/usr/local/lib/python3.10/dist-packages/ray/_private/worker.py\u001b[0m in \u001b[0;36mget\u001b[0;34m(object_refs, timeout)\u001b[0m\n\u001b[1;32m   2518\u001b[0m                     \u001b[0mworker\u001b[0m\u001b[0;34m.\u001b[0m\u001b[0mcore_worker\u001b[0m\u001b[0;34m.\u001b[0m\u001b[0mdump_object_store_memory_usage\u001b[0m\u001b[0;34m(\u001b[0m\u001b[0;34m)\u001b[0m\u001b[0;34m\u001b[0m\u001b[0;34m\u001b[0m\u001b[0m\n\u001b[1;32m   2519\u001b[0m                 \u001b[0;32mif\u001b[0m \u001b[0misinstance\u001b[0m\u001b[0;34m(\u001b[0m\u001b[0mvalue\u001b[0m\u001b[0;34m,\u001b[0m \u001b[0mRayTaskError\u001b[0m\u001b[0;34m)\u001b[0m\u001b[0;34m:\u001b[0m\u001b[0;34m\u001b[0m\u001b[0;34m\u001b[0m\u001b[0m\n\u001b[0;32m-> 2520\u001b[0;31m                     \u001b[0;32mraise\u001b[0m \u001b[0mvalue\u001b[0m\u001b[0;34m.\u001b[0m\u001b[0mas_instanceof_cause\u001b[0m\u001b[0;34m(\u001b[0m\u001b[0;34m)\u001b[0m\u001b[0;34m\u001b[0m\u001b[0;34m\u001b[0m\u001b[0m\n\u001b[0m\u001b[1;32m   2521\u001b[0m                 \u001b[0;32melse\u001b[0m\u001b[0;34m:\u001b[0m\u001b[0;34m\u001b[0m\u001b[0;34m\u001b[0m\u001b[0m\n\u001b[1;32m   2522\u001b[0m                     \u001b[0;32mraise\u001b[0m \u001b[0mvalue\u001b[0m\u001b[0;34m\u001b[0m\u001b[0;34m\u001b[0m\u001b[0m\n",
            "\u001b[0;31mRayTaskError(TypeError)\u001b[0m: \u001b[36mray::launch_and_get_parameters()\u001b[39m (pid=39789, ip=172.28.0.12)\n  File \"/usr/local/lib/python3.10/dist-packages/flwr/simulation/ray_transport/ray_client_proxy.py\", line 136, in launch_and_get_parameters\n    return maybe_call_get_parameters(\n  File \"/usr/local/lib/python3.10/dist-packages/flwr/client/client.py\", line 163, in maybe_call_get_parameters\n    return client.get_parameters(get_parameters_ins)\n  File \"/usr/local/lib/python3.10/dist-packages/flwr/client/app.py\", line 283, in _get_parameters\n    parameters = self.numpy_client.get_parameters(config=ins.config)  # type: ignore\n  File \"<ipython-input-77-a6bcfab15629>\", line 18, in get_parameters\n  File \"/usr/local/lib/python3.10/dist-packages/xgboost/sklearn.py\", line 767, in save_model\n    self.get_booster().save_model(fname)\n  File \"/usr/local/lib/python3.10/dist-packages/xgboost/core.py\", line 2392, in save_model\n    raise TypeError(\"fname must be a string or os PathLike\")\nTypeError: fname must be a string or os PathLike"
          ]
        }
      ]
    }
  ],
  "metadata": {
    "colab": {
      "toc_visible": true,
      "provenance": [],
      "collapsed_sections": [
        "vDSikcPVt7Go",
        "PPpxpmwOpfav",
        "gcM_OfWUsMvC"
      ],
      "gpuType": "T4",
      "mount_file_id": "1oLHv4e-uSTEYGSiiJDsM6CuTErnsaA5X",
      "authorship_tag": "ABX9TyMm+qYlqnOp1/Nqr1KsP0yW",
      "include_colab_link": true
    },
    "kernelspec": {
      "display_name": "Python 3",
      "name": "python3"
    },
    "language_info": {
      "name": "python"
    },
    "accelerator": "GPU"
  },
  "nbformat": 4,
  "nbformat_minor": 0
}