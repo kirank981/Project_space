{
  "nbformat": 4,
  "nbformat_minor": 0,
  "metadata": {
    "colab": {
      "provenance": [],
      "toc_visible": true,
      "mount_file_id": "1oLHv4e-uSTEYGSiiJDsM6CuTErnsaA5X",
      "authorship_tag": "ABX9TyN3qQVAQiHFt5dm3oA19hoc",
      "include_colab_link": true
    },
    "kernelspec": {
      "name": "python3",
      "display_name": "Python 3"
    },
    "language_info": {
      "name": "python"
    }
  },
  "cells": [
    {
      "cell_type": "markdown",
      "metadata": {
        "id": "view-in-github",
        "colab_type": "text"
      },
      "source": [
        "<a href=\"https://colab.research.google.com/github/kirank981/Project_space/blob/main/project_space.ipynb\" target=\"_parent\"><img src=\"https://colab.research.google.com/assets/colab-badge.svg\" alt=\"Open In Colab\"/></a>"
      ]
    },
    {
      "cell_type": "markdown",
      "source": [
        "# Installing dependences\n"
      ],
      "metadata": {
        "id": "rP5nJnDbJPYO"
      }
    },
    {
      "cell_type": "markdown",
      "source": [
        "Install the necessary packages for PyTorch (torch and torchvision) and Flower (flwr) and pandas"
      ],
      "metadata": {
        "id": "OravxoTjLhVa"
      }
    },
    {
      "cell_type": "code",
      "execution_count": 11,
      "metadata": {
        "id": "kpAFZGHjJOOk"
      },
      "outputs": [],
      "source": [
        "!pip install -q flwr[simulation] torch torchvision matplotlib pandas"
      ]
    },
    {
      "cell_type": "markdown",
      "source": [
        "Import everything we need"
      ],
      "metadata": {
        "id": "SIQeKkPPLUkF"
      }
    },
    {
      "cell_type": "code",
      "source": [
        "from collections import OrderedDict\n",
        "from typing import List, Tuple\n",
        "\n",
        "from google.colab import drive\n",
        "from pathlib import Path\n",
        "import pandas as pd\n",
        "import matplotlib.pyplot as plt\n",
        "import numpy as np\n",
        "import torch\n",
        "import torch.nn as nn\n",
        "import torch.nn.functional as F\n",
        "import torchvision\n",
        "import torchvision.transforms as transforms\n",
        "from torch.utils.data import DataLoader, random_split\n",
        "from torchvision.datasets import CIFAR10\n",
        "\n",
        "import flwr as fl\n",
        "from flwr.common import Metrics\n",
        "\n",
        "DEVICE = torch.device(\"cpu\")  # Try \"cuda\" to train on GPU\n",
        "print(\n",
        "    f\"Training on {DEVICE} using PyTorch {torch.__version__} and Flower {fl.__version__}\"\n",
        ")"
      ],
      "metadata": {
        "colab": {
          "base_uri": "https://localhost:8080/"
        },
        "id": "Sdmn7_KHLVVI",
        "outputId": "4ccb5845-0389-4233-f64a-1db35db7e013"
      },
      "execution_count": 22,
      "outputs": [
        {
          "output_type": "stream",
          "name": "stdout",
          "text": [
            "Training on cpu using PyTorch 2.0.1+cu118 and Flower 1.4.0\n"
          ]
        }
      ]
    },
    {
      "cell_type": "markdown",
      "source": [
        "# Loading the data"
      ],
      "metadata": {
        "id": "zeFfbJxnLxF7"
      }
    },
    {
      "cell_type": "markdown",
      "source": [
        "Mounting drive"
      ],
      "metadata": {
        "id": "v6l5c_376GqC"
      }
    },
    {
      "cell_type": "code",
      "source": [
        "# Mount Google Drive\n",
        "drive.mount('/content/drive')\n"
      ],
      "metadata": {
        "id": "QSv4I6ji-3of"
      },
      "execution_count": null,
      "outputs": []
    },
    {
      "cell_type": "markdown",
      "source": [
        "Setting the path to the location of the file"
      ],
      "metadata": {
        "id": "8n4a987x-7kd"
      }
    },
    {
      "cell_type": "code",
      "source": [
        "# Define the path to daily dataset folder\n",
        "daily_dataset_path = Path('/content/drive/MyDrive/Federated learning implementation/dataset/dataset_archive/daily_dataset/daily_dataset')\n",
        "\n",
        "# Define the path to daily dataset folder\n",
        "weather_daily_dataset_path = Path('/content/drive/MyDrive/Federated learning implementation/dataset/dataset_archive/weather_daily_dataset.csv')\n"
      ],
      "metadata": {
        "id": "jQ1t9RTF91ZQ"
      },
      "execution_count": 23,
      "outputs": []
    },
    {
      "cell_type": "markdown",
      "source": [
        "## Loading daily data\n",
        "(of energy consumption)\n"
      ],
      "metadata": {
        "id": "lQ2owcEz6M9K"
      }
    },
    {
      "cell_type": "code",
      "source": [
        "\n",
        "# Initializing list to store dataframes\n",
        "dfs = []\n",
        "\n",
        "# Loop through the CSV files and reading them into dataframes\n",
        "for i in range(111):\n",
        "    filename = f'block_{i}.csv'\n",
        "    df = pd.read_csv(daily_dataset_path / filename)\n",
        "    dfs.append(df)\n",
        "\n",
        "# Concatenating all the dataframes into a single dataframe\n",
        "all_data = pd.concat(dfs, ignore_index=True)\n",
        "\n",
        "\n",
        "unique_identifier_column = 'LCLid'\n",
        "# Group the data by LCLid and create a dictionary of dataframes\n",
        "grouped_data = dict(tuple(all_data.groupby(unique_identifier_column)))\n"
      ],
      "metadata": {
        "id": "QdpP9rwQBqJF"
      },
      "execution_count": 14,
      "outputs": []
    },
    {
      "cell_type": "markdown",
      "source": [
        "Loading data using the 'LCLid'"
      ],
      "metadata": {
        "id": "g6b7s1na56YA"
      }
    },
    {
      "cell_type": "code",
      "source": [
        "# Now can access each dataframe separately using the LCLid as the key\n",
        "# for \"MAC000002\"(random)\n",
        "mac000002_data = grouped_data['MAC000002']\n",
        "\n",
        "# Display the data for 'MAC000002'\n",
        "print(mac000002_data)"
      ],
      "metadata": {
        "colab": {
          "base_uri": "https://localhost:8080/"
        },
        "id": "Nw5Oqcz9DeWZ",
        "outputId": "966affc9-142f-45b0-c219-aae358e2f344"
      },
      "execution_count": 15,
      "outputs": [
        {
          "output_type": "stream",
          "name": "stdout",
          "text": [
            "         LCLid         day  energy_median  energy_mean  energy_max  \\\n",
            "0    MAC000002  2012-10-12         0.1385     0.154304       0.886   \n",
            "1    MAC000002  2012-10-13         0.1800     0.230979       0.933   \n",
            "2    MAC000002  2012-10-14         0.1580     0.275479       1.085   \n",
            "3    MAC000002  2012-10-15         0.1310     0.213688       1.164   \n",
            "4    MAC000002  2012-10-16         0.1450     0.203521       0.991   \n",
            "..         ...         ...            ...          ...         ...   \n",
            "500  MAC000002  2014-02-24         0.1345     0.261000       0.891   \n",
            "501  MAC000002  2014-02-25         0.1925     0.246375       0.802   \n",
            "502  MAC000002  2014-02-26         0.1515     0.256833       1.028   \n",
            "503  MAC000002  2014-02-27         0.2180     0.427458       1.350   \n",
            "504  MAC000002  2014-02-28         1.3870     1.387000       1.387   \n",
            "\n",
            "     energy_count  energy_std  energy_sum  energy_min  \n",
            "0              46    0.196034       7.098       0.000  \n",
            "1              48    0.192329      11.087       0.076  \n",
            "2              48    0.274647      13.223       0.070  \n",
            "3              48    0.224483      10.257       0.070  \n",
            "4              48    0.184115       9.769       0.087  \n",
            "..            ...         ...         ...         ...  \n",
            "500            48    0.205853      12.528       0.075  \n",
            "501            48    0.166291      11.826       0.075  \n",
            "502            48    0.196095      12.328       0.076  \n",
            "503            48    0.406681      20.518       0.080  \n",
            "504             1         NaN       1.387       1.387  \n",
            "\n",
            "[505 rows x 9 columns]\n"
          ]
        }
      ]
    },
    {
      "cell_type": "markdown",
      "source": [
        "Loading data using file name"
      ],
      "metadata": {
        "id": "NBAsp3Ky51Bn"
      }
    },
    {
      "cell_type": "code",
      "source": [
        "# Loading data from a specific CSV file\n",
        "specific_file_data = pd.read_csv(daily_dataset_path / 'block_0.csv')\n",
        "\n",
        "# Displaying data\n",
        "print(specific_file_data)"
      ],
      "metadata": {
        "colab": {
          "base_uri": "https://localhost:8080/"
        },
        "id": "OeJMbTTY0YZY",
        "outputId": "5641b57a-8b62-4aa9-e022-278ae571261e"
      },
      "execution_count": 16,
      "outputs": [
        {
          "output_type": "stream",
          "name": "stdout",
          "text": [
            "           LCLid         day  energy_median  energy_mean  energy_max  \\\n",
            "0      MAC000002  2012-10-12         0.1385     0.154304       0.886   \n",
            "1      MAC000002  2012-10-13         0.1800     0.230979       0.933   \n",
            "2      MAC000002  2012-10-14         0.1580     0.275479       1.085   \n",
            "3      MAC000002  2012-10-15         0.1310     0.213688       1.164   \n",
            "4      MAC000002  2012-10-16         0.1450     0.203521       0.991   \n",
            "...          ...         ...            ...          ...         ...   \n",
            "25569  MAC005492  2014-02-24         0.1690     0.175042       0.378   \n",
            "25570  MAC005492  2014-02-25         0.1550     0.160792       0.545   \n",
            "25571  MAC005492  2014-02-26         0.1490     0.178542       0.687   \n",
            "25572  MAC005492  2014-02-27         0.1140     0.146167       0.478   \n",
            "25573  MAC005492  2014-02-28         0.0880     0.088000       0.088   \n",
            "\n",
            "       energy_count  energy_std  energy_sum  energy_min  \n",
            "0                46    0.196034       7.098       0.000  \n",
            "1                48    0.192329      11.087       0.076  \n",
            "2                48    0.274647      13.223       0.070  \n",
            "3                48    0.224483      10.257       0.070  \n",
            "4                48    0.184115       9.769       0.087  \n",
            "...             ...         ...         ...         ...  \n",
            "25569            48    0.073174       8.402       0.079  \n",
            "25570            48    0.082118       7.718       0.079  \n",
            "25571            48    0.120820       8.570       0.079  \n",
            "25572            48    0.082616       7.016       0.079  \n",
            "25573             1         NaN       0.088       0.088  \n",
            "\n",
            "[25574 rows x 9 columns]\n"
          ]
        }
      ]
    },
    {
      "cell_type": "markdown",
      "source": [
        "## Loading daily weather data\n",
        "\n",
        "Creating a 'day' column that stores only the date values from 'time' column\n",
        "(for linking weather dataset 'day' with daily dataset 'day')"
      ],
      "metadata": {
        "id": "eZumIN7H_Zt-"
      }
    },
    {
      "cell_type": "code",
      "source": [
        "# Load the weather dataset into a DataFrame\n",
        "weather_daily_data = pd.read_csv(weather_daily_dataset_path)\n",
        "\n",
        "# Convert the 'time' column to datetime format\n",
        "weather_daily_data['time'] = pd.to_datetime(weather_daily_data['time'])\n",
        "\n",
        "# Extract the date from the 'time' column and create a new 'day' column\n",
        "weather_daily_data['day'] = weather_daily_data['time'].dt.date\n",
        "\n",
        "# Calculate the mean temperature for each day and store it in a new column 'mean_temp'\n",
        "weather_daily_data['mean_temp'] = (weather_daily_data['temperatureMax'] + weather_daily_data['temperatureMin']) / 2\n",
        "\n",
        "# Print the updated DataFrame\n",
        "print(weather_daily_data)"
      ],
      "metadata": {
        "colab": {
          "base_uri": "https://localhost:8080/"
        },
        "id": "Ch2Azrah7Cuj",
        "outputId": "d6d60713-d6ae-445c-e56b-e7470908375c"
      },
      "execution_count": 25,
      "outputs": [
        {
          "output_type": "stream",
          "name": "stdout",
          "text": [
            "     temperatureMax   temperatureMaxTime  windBearing                 icon  \\\n",
            "0             11.96  2011-11-11 23:00:00          123                  fog   \n",
            "1              8.59  2011-12-11 14:00:00          198    partly-cloudy-day   \n",
            "2             10.33  2011-12-27 02:00:00          225    partly-cloudy-day   \n",
            "3              8.07  2011-12-02 23:00:00          232                 wind   \n",
            "4              8.22  2011-12-24 23:00:00          252  partly-cloudy-night   \n",
            "..              ...                  ...          ...                  ...   \n",
            "877            9.03  2014-01-26 16:00:00          233    partly-cloudy-day   \n",
            "878           10.31  2014-02-27 14:00:00          224    partly-cloudy-day   \n",
            "879           18.97  2014-03-09 14:00:00          172  partly-cloudy-night   \n",
            "880            8.83  2014-02-12 16:00:00          210                 wind   \n",
            "881            9.90  2014-02-15 12:00:00          233                 wind   \n",
            "\n",
            "     dewPoint   temperatureMinTime  cloudCover  windSpeed  pressure  \\\n",
            "0        9.40  2011-11-11 07:00:00        0.79       3.88   1016.08   \n",
            "1        4.49  2011-12-11 01:00:00        0.56       3.94   1007.71   \n",
            "2        5.47  2011-12-27 23:00:00        0.85       3.54   1032.76   \n",
            "3        3.69  2011-12-02 07:00:00        0.32       3.00   1012.12   \n",
            "4        2.79  2011-12-24 07:00:00        0.37       4.46   1028.17   \n",
            "..        ...                  ...         ...        ...       ...   \n",
            "877      2.39  2014-01-26 21:00:00        0.40       4.55   1002.10   \n",
            "878      3.08  2014-02-27 23:00:00        0.32       4.14   1007.02   \n",
            "879      4.30  2014-03-09 07:00:00        0.04       2.78   1022.44   \n",
            "880      1.94  2014-02-12 01:00:00        0.59       7.24    994.27   \n",
            "881      2.95  2014-02-15 23:00:00        0.35       9.96    988.63   \n",
            "\n",
            "    apparentTemperatureMinTime  ...  temperatureHighTime          uvIndexTime  \\\n",
            "0          2011-11-11 07:00:00  ...  2011-11-11 19:00:00  2011-11-11 11:00:00   \n",
            "1          2011-12-11 02:00:00  ...  2011-12-11 14:00:00  2011-12-11 12:00:00   \n",
            "2          2011-12-27 22:00:00  ...  2011-12-27 14:00:00  2011-12-27 00:00:00   \n",
            "3          2011-12-02 07:00:00  ...  2011-12-02 12:00:00  2011-12-02 10:00:00   \n",
            "4          2011-12-24 07:00:00  ...  2011-12-24 15:00:00  2011-12-24 13:00:00   \n",
            "..                         ...  ...                  ...                  ...   \n",
            "877        2014-01-26 22:00:00  ...  2014-01-26 16:00:00  2014-01-26 11:00:00   \n",
            "878        2014-02-27 22:00:00  ...  2014-02-27 14:00:00  2014-02-27 12:00:00   \n",
            "879        2014-03-09 07:00:00  ...  2014-03-09 14:00:00  2014-03-09 12:00:00   \n",
            "880        2014-02-12 01:00:00  ...  2014-02-12 16:00:00  2014-02-12 10:00:00   \n",
            "881        2014-02-15 23:00:00  ...  2014-02-15 12:00:00  2014-02-15 10:00:00   \n",
            "\n",
            "                                               summary   temperatureLowTime  \\\n",
            "0                               Foggy until afternoon.  2011-11-11 19:00:00   \n",
            "1                    Partly cloudy throughout the day.  2011-12-12 07:00:00   \n",
            "2                    Mostly cloudy throughout the day.  2011-12-27 23:00:00   \n",
            "3    Partly cloudy throughout the day and breezy ov...  2011-12-02 19:00:00   \n",
            "4                    Mostly cloudy throughout the day.  2011-12-24 19:00:00   \n",
            "..                                                 ...                  ...   \n",
            "877                       Mostly cloudy until evening.  2014-01-27 05:00:00   \n",
            "878                       Partly cloudy until evening.  2014-02-28 02:00:00   \n",
            "879                      Partly cloudy in the evening.  2014-03-10 05:00:00   \n",
            "880  Mostly cloudy until evening and breezy through...  2014-02-13 05:00:00   \n",
            "881           Windy and mostly cloudy until afternoon.  2014-02-16 07:00:00   \n",
            "\n",
            "    apparentTemperatureMin  apparentTemperatureMaxTime  \\\n",
            "0                     6.48         2011-11-11 23:00:00   \n",
            "1                     0.11         2011-12-11 20:00:00   \n",
            "2                     5.59         2011-12-27 02:00:00   \n",
            "3                     0.46         2011-12-02 12:00:00   \n",
            "4                    -0.51         2011-12-24 23:00:00   \n",
            "..                     ...                         ...   \n",
            "877                  -1.30         2014-01-26 15:00:00   \n",
            "878                   1.41         2014-02-27 14:00:00   \n",
            "879                   7.08         2014-03-09 14:00:00   \n",
            "880                  -1.20         2014-02-12 16:00:00   \n",
            "881                   1.77         2014-02-15 12:00:00   \n",
            "\n",
            "     apparentTemperatureLowTime  moonPhase         day mean_temp  \n",
            "0           2011-11-11 19:00:00       0.52  2011-11-11    10.405  \n",
            "1           2011-12-12 08:00:00       0.53  2011-12-11     5.535  \n",
            "2           2011-12-28 00:00:00       0.10  2011-12-27     9.180  \n",
            "3           2011-12-02 19:00:00       0.25  2011-12-02     5.315  \n",
            "4           2011-12-24 20:00:00       0.99  2011-12-24     5.695  \n",
            "..                          ...        ...         ...       ...  \n",
            "877         2014-01-27 04:00:00       0.84  2014-01-26     6.145  \n",
            "878         2014-02-28 02:00:00       0.93  2014-02-27     7.120  \n",
            "879         2014-03-10 06:00:00       0.28  2014-03-09    13.310  \n",
            "880         2014-02-13 02:00:00       0.42  2014-02-12     5.930  \n",
            "881         2014-02-16 07:00:00       0.52  2014-02-15     7.640  \n",
            "\n",
            "[882 rows x 34 columns]\n"
          ]
        }
      ]
    },
    {
      "cell_type": "markdown",
      "source": [],
      "metadata": {
        "id": "miVCIR9kCr9I"
      }
    },
    {
      "cell_type": "markdown",
      "source": [
        "Available datasets\n",
        "\n",
        "(for 500+ days)(household nos:5566 (in daily dataset))\n",
        "Daily bases\n",
        "Half-Hourly bases\n",
        "Each household has different amount of data(ie. some have more days of data)\n",
        "\n",
        "I need to create a code for taking in/loading all the data from the .csv files correctly.\n",
        "\n",
        "To show that i need to load one household data using an id.\n",
        "\n",
        "Then i need take 2(to begin with) random household id and club all the data in the id to do that i need to display them as well.\n",
        "\n",
        "\n",
        "\n"
      ],
      "metadata": {
        "id": "1208LqH1TPwF"
      }
    },
    {
      "cell_type": "code",
      "source": [],
      "metadata": {
        "id": "mjDCXMXoizi1"
      },
      "execution_count": null,
      "outputs": []
    }
  ]
}