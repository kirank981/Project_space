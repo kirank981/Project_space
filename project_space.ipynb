{
  "cells": [
    {
      "cell_type": "markdown",
      "metadata": {
        "id": "view-in-github",
        "colab_type": "text"
      },
      "source": [
        "<a href=\"https://colab.research.google.com/github/kirank981/Project_space/blob/main/project_space.ipynb\" target=\"_parent\"><img src=\"https://colab.research.google.com/assets/colab-badge.svg\" alt=\"Open In Colab\"/></a>"
      ]
    },
    {
      "cell_type": "markdown",
      "metadata": {
        "id": "rP5nJnDbJPYO"
      },
      "source": [
        "# Installing dependences\n"
      ]
    },
    {
      "cell_type": "markdown",
      "metadata": {
        "id": "OravxoTjLhVa"
      },
      "source": [
        "Install the necessary packages for PyTorch (torch and torchvision) and Flower (flwr) and pandas"
      ]
    },
    {
      "cell_type": "code",
      "execution_count": 1,
      "metadata": {
        "id": "kpAFZGHjJOOk",
        "colab": {
          "base_uri": "https://localhost:8080/"
        },
        "outputId": "3384518c-fdab-43a2-d45e-28e823649492"
      },
      "outputs": [
        {
          "output_type": "stream",
          "name": "stdout",
          "text": [
            "\u001b[2K     \u001b[90m━━━━━━━━━━━━━━━━━━━━━━━━━━━━━━━━━━━━━━━\u001b[0m \u001b[32m157.2/157.2 kB\u001b[0m \u001b[31m3.0 MB/s\u001b[0m eta \u001b[36m0:00:00\u001b[0m\n",
            "\u001b[2K     \u001b[90m━━━━━━━━━━━━━━━━━━━━━━━━━━━━━━━━━━━━━━━━\u001b[0m \u001b[32m56.9/56.9 MB\u001b[0m \u001b[31m13.0 MB/s\u001b[0m eta \u001b[36m0:00:00\u001b[0m\n",
            "\u001b[2K     \u001b[90m━━━━━━━━━━━━━━━━━━━━━━━━━━━━━━━━━━━━━━\u001b[0m \u001b[32m201.4/201.4 kB\u001b[0m \u001b[31m17.3 MB/s\u001b[0m eta \u001b[36m0:00:00\u001b[0m\n",
            "\u001b[2K     \u001b[90m━━━━━━━━━━━━━━━━━━━━━━━━━━━━━━━━━━━━━━━━\u001b[0m \u001b[32m3.0/3.0 MB\u001b[0m \u001b[31m81.7 MB/s\u001b[0m eta \u001b[36m0:00:00\u001b[0m\n",
            "\u001b[2K     \u001b[90m━━━━━━━━━━━━━━━━━━━━━━━━━━━━━━━━━━━━━━━━\u001b[0m \u001b[32m97.9/97.9 kB\u001b[0m \u001b[31m8.6 MB/s\u001b[0m eta \u001b[36m0:00:00\u001b[0m\n",
            "\u001b[?25h  Installing build dependencies ... \u001b[?25l\u001b[?25hdone\n",
            "  Getting requirements to build wheel ... \u001b[?25l\u001b[?25hdone\n",
            "  Preparing metadata (pyproject.toml) ... \u001b[?25l\u001b[?25hdone\n",
            "\u001b[2K     \u001b[90m━━━━━━━━━━━━━━━━━━━━━━━━━━━━━━━━━━━━━━━\u001b[0m \u001b[32m128.2/128.2 kB\u001b[0m \u001b[31m6.5 MB/s\u001b[0m eta \u001b[36m0:00:00\u001b[0m\n",
            "\u001b[2K     \u001b[90m━━━━━━━━━━━━━━━━━━━━━━━━━━━━━━━━━━━━━━━━\u001b[0m \u001b[32m3.1/3.1 MB\u001b[0m \u001b[31m15.7 MB/s\u001b[0m eta \u001b[36m0:00:00\u001b[0m\n",
            "\u001b[2K     \u001b[90m━━━━━━━━━━━━━━━━━━━━━━━━━━━━━━━━━━━━━━━━\u001b[0m \u001b[32m8.7/8.7 MB\u001b[0m \u001b[31m28.6 MB/s\u001b[0m eta \u001b[36m0:00:00\u001b[0m\n",
            "\u001b[2K     \u001b[90m━━━━━━━━━━━━━━━━━━━━━━━━━━━━━━━━━━━━━━━━\u001b[0m \u001b[32m58.4/58.4 kB\u001b[0m \u001b[31m4.8 MB/s\u001b[0m eta \u001b[36m0:00:00\u001b[0m\n",
            "\u001b[2K     \u001b[90m━━━━━━━━━━━━━━━━━━━━━━━━━━━━━━━━━━━━━━\u001b[0m \u001b[32m468.9/468.9 kB\u001b[0m \u001b[31m25.2 MB/s\u001b[0m eta \u001b[36m0:00:00\u001b[0m\n",
            "\u001b[?25h  Building wheel for gpustat (pyproject.toml) ... \u001b[?25l\u001b[?25hdone\n"
          ]
        }
      ],
      "source": [
        "!pip install -q flwr[simulation] torch torchvision matplotlib pandas"
      ]
    },
    {
      "cell_type": "markdown",
      "metadata": {
        "id": "SIQeKkPPLUkF"
      },
      "source": [
        "Import everything we need"
      ]
    },
    {
      "cell_type": "code",
      "execution_count": 2,
      "metadata": {
        "colab": {
          "base_uri": "https://localhost:8080/"
        },
        "id": "Sdmn7_KHLVVI",
        "outputId": "77dee5f8-b64d-4c8b-8792-87132dce7c9f"
      },
      "outputs": [
        {
          "output_type": "stream",
          "name": "stdout",
          "text": [
            "Collecting catboost\n",
            "  Downloading catboost-1.2-cp310-cp310-manylinux2014_x86_64.whl (98.6 MB)\n",
            "\u001b[2K     \u001b[90m━━━━━━━━━━━━━━━━━━━━━━━━━━━━━━━━━━━━━━━━\u001b[0m \u001b[32m98.6/98.6 MB\u001b[0m \u001b[31m3.0 MB/s\u001b[0m eta \u001b[36m0:00:00\u001b[0m\n",
            "\u001b[?25hRequirement already satisfied: graphviz in /usr/local/lib/python3.10/dist-packages (from catboost) (0.20.1)\n",
            "Requirement already satisfied: matplotlib in /usr/local/lib/python3.10/dist-packages (from catboost) (3.7.1)\n",
            "Requirement already satisfied: numpy>=1.16.0 in /usr/local/lib/python3.10/dist-packages (from catboost) (1.23.5)\n",
            "Requirement already satisfied: pandas>=0.24 in /usr/local/lib/python3.10/dist-packages (from catboost) (1.5.3)\n",
            "Requirement already satisfied: scipy in /usr/local/lib/python3.10/dist-packages (from catboost) (1.10.1)\n",
            "Requirement already satisfied: plotly in /usr/local/lib/python3.10/dist-packages (from catboost) (5.15.0)\n",
            "Requirement already satisfied: six in /usr/local/lib/python3.10/dist-packages (from catboost) (1.16.0)\n",
            "Requirement already satisfied: python-dateutil>=2.8.1 in /usr/local/lib/python3.10/dist-packages (from pandas>=0.24->catboost) (2.8.2)\n",
            "Requirement already satisfied: pytz>=2020.1 in /usr/local/lib/python3.10/dist-packages (from pandas>=0.24->catboost) (2023.3)\n",
            "Requirement already satisfied: contourpy>=1.0.1 in /usr/local/lib/python3.10/dist-packages (from matplotlib->catboost) (1.1.0)\n",
            "Requirement already satisfied: cycler>=0.10 in /usr/local/lib/python3.10/dist-packages (from matplotlib->catboost) (0.11.0)\n",
            "Requirement already satisfied: fonttools>=4.22.0 in /usr/local/lib/python3.10/dist-packages (from matplotlib->catboost) (4.42.0)\n",
            "Requirement already satisfied: kiwisolver>=1.0.1 in /usr/local/lib/python3.10/dist-packages (from matplotlib->catboost) (1.4.4)\n",
            "Requirement already satisfied: packaging>=20.0 in /usr/local/lib/python3.10/dist-packages (from matplotlib->catboost) (23.1)\n",
            "Requirement already satisfied: pillow>=6.2.0 in /usr/local/lib/python3.10/dist-packages (from matplotlib->catboost) (9.4.0)\n",
            "Requirement already satisfied: pyparsing>=2.3.1 in /usr/local/lib/python3.10/dist-packages (from matplotlib->catboost) (3.1.1)\n",
            "Requirement already satisfied: tenacity>=6.2.0 in /usr/local/lib/python3.10/dist-packages (from plotly->catboost) (8.2.2)\n",
            "Installing collected packages: catboost\n",
            "Successfully installed catboost-1.2\n",
            "Training on cpu using PyTorch 2.0.1+cu118 and Flower 1.4.0\n"
          ]
        }
      ],
      "source": [
        "from collections import OrderedDict\n",
        "from typing import List, Tuple\n",
        "\n",
        "from google.colab import drive\n",
        "from pathlib import Path\n",
        "import pandas as pd\n",
        "import matplotlib.pyplot as plt\n",
        "import numpy as np\n",
        "import torch\n",
        "import torch.nn as nn\n",
        "import torch.nn.functional as F\n",
        "import torchvision\n",
        "import torchvision.transforms as transforms\n",
        "from torch.utils.data import DataLoader, random_split\n",
        "# from torchvision.datasets import CIFAR10\n",
        "\n",
        "\n",
        "\n",
        "from sklearn.model_selection import train_test_split  # Import the train_test_split function\n",
        "import numpy as np\n",
        "import tensorflow as tf\n",
        "from sklearn.preprocessing import StandardScaler\n",
        "from sklearn.impute import SimpleImputer\n",
        "import torch.optim as optim\n",
        "from torch.utils.data import DataLoader, Dataset\n",
        "\n",
        "!pip install catboost\n",
        "from sklearn.linear_model import LinearRegression\n",
        "from sklearn.tree import DecisionTreeRegressor\n",
        "from sklearn.ensemble import RandomForestRegressor, GradientBoostingRegressor\n",
        "from xgboost import XGBRegressor\n",
        "from lightgbm import LGBMRegressor\n",
        "from catboost import CatBoostRegressor\n",
        "from sklearn.svm import SVR\n",
        "from sklearn.neural_network import MLPRegressor\n",
        "from sklearn.neighbors import KNeighborsRegressor\n",
        "from sklearn.metrics import mean_squared_error\n",
        "\n",
        "# from tensorflow.keras.layers import Conv2D, Multiply, Input\n",
        "# from tensorflow.keras.models import Model\n",
        "# from tensorflow.keras.layers import Input, Dense, Multiply\n",
        "\n",
        "import flwr as fl\n",
        "from flwr.common import Metrics\n",
        "\n",
        "DEVICE = torch.device(\"cpu\")  # Try \"cuda\" to train on GPU\n",
        "print(\n",
        "    f\"Training on {DEVICE} using PyTorch {torch.__version__} and Flower {fl.__version__}\"\n",
        ")"
      ]
    },
    {
      "cell_type": "markdown",
      "metadata": {
        "id": "zeFfbJxnLxF7"
      },
      "source": [
        "# Loading the data"
      ]
    },
    {
      "cell_type": "markdown",
      "metadata": {
        "id": "v6l5c_376GqC"
      },
      "source": [
        "Mounting drive"
      ]
    },
    {
      "cell_type": "code",
      "execution_count": 3,
      "metadata": {
        "colab": {
          "base_uri": "https://localhost:8080/"
        },
        "id": "QSv4I6ji-3of",
        "outputId": "a5331e30-cba3-4b6a-d9ee-68d87e044da6"
      },
      "outputs": [
        {
          "output_type": "stream",
          "name": "stdout",
          "text": [
            "Drive already mounted at /content/drive; to attempt to forcibly remount, call drive.mount(\"/content/drive\", force_remount=True).\n"
          ]
        }
      ],
      "source": [
        "# Mount Google Drive\n",
        "drive.mount('/content/drive')\n"
      ]
    },
    {
      "cell_type": "markdown",
      "metadata": {
        "id": "8n4a987x-7kd"
      },
      "source": [
        "Setting the path to the location of the file"
      ]
    },
    {
      "cell_type": "code",
      "execution_count": 4,
      "metadata": {
        "id": "jQ1t9RTF91ZQ"
      },
      "outputs": [],
      "source": [
        "# Define the path to daily dataset folder\n",
        "daily_dataset_path = Path('/content/drive/MyDrive/Federated learning implementation/dataset/dataset_archive/daily_dataset/daily_dataset')\n",
        "\n",
        "# Define the path to daily dataset folder\n",
        "weather_daily_dataset_path = Path('/content/drive/MyDrive/Federated learning implementation/dataset/dataset_archive/weather_daily_dataset.csv')\n"
      ]
    },
    {
      "cell_type": "markdown",
      "metadata": {
        "id": "lQ2owcEz6M9K"
      },
      "source": [
        "## Loading daily data\n",
        "(of energy consumption)\n"
      ]
    },
    {
      "cell_type": "code",
      "execution_count": 5,
      "metadata": {
        "id": "QdpP9rwQBqJF"
      },
      "outputs": [],
      "source": [
        "\n",
        "# Initializing list to store dataframes\n",
        "dfs = []\n",
        "\n",
        "# Loop through the CSV files and reading them into dataframes\n",
        "for i in range(111):\n",
        "    filename = f'block_{i}.csv'\n",
        "    df = pd.read_csv(daily_dataset_path / filename)\n",
        "    dfs.append(df)\n",
        "\n",
        "# Concatenating all the dataframes into a single dataframe\n",
        "energy_daily_data = pd.concat(dfs, ignore_index=True)\n",
        "\n",
        "# NRATM(Not Required At The Moment)\n",
        "# # Group the data by LCLid and create a dictionary of dataframes\n",
        "# grouped_data = dict(tuple(energy_daily_data.groupby('LCLid')))\n"
      ]
    },
    {
      "cell_type": "markdown",
      "metadata": {
        "id": "NBAsp3Ky51Bn"
      },
      "source": [
        "Loading data using file name"
      ]
    },
    {
      "cell_type": "code",
      "execution_count": 6,
      "metadata": {
        "colab": {
          "base_uri": "https://localhost:8080/"
        },
        "id": "OeJMbTTY0YZY",
        "outputId": "d1a0e7f1-0911-4945-952d-b9420d24a76d"
      },
      "outputs": [
        {
          "output_type": "stream",
          "name": "stdout",
          "text": [
            "           LCLid         day  energy_median  energy_mean  energy_max  \\\n",
            "0      MAC000002  2012-10-12         0.1385     0.154304       0.886   \n",
            "1      MAC000002  2012-10-13         0.1800     0.230979       0.933   \n",
            "2      MAC000002  2012-10-14         0.1580     0.275479       1.085   \n",
            "3      MAC000002  2012-10-15         0.1310     0.213688       1.164   \n",
            "4      MAC000002  2012-10-16         0.1450     0.203521       0.991   \n",
            "...          ...         ...            ...          ...         ...   \n",
            "25569  MAC005492  2014-02-24         0.1690     0.175042       0.378   \n",
            "25570  MAC005492  2014-02-25         0.1550     0.160792       0.545   \n",
            "25571  MAC005492  2014-02-26         0.1490     0.178542       0.687   \n",
            "25572  MAC005492  2014-02-27         0.1140     0.146167       0.478   \n",
            "25573  MAC005492  2014-02-28         0.0880     0.088000       0.088   \n",
            "\n",
            "       energy_count  energy_std  energy_sum  energy_min  \n",
            "0                46    0.196034       7.098       0.000  \n",
            "1                48    0.192329      11.087       0.076  \n",
            "2                48    0.274647      13.223       0.070  \n",
            "3                48    0.224483      10.257       0.070  \n",
            "4                48    0.184115       9.769       0.087  \n",
            "...             ...         ...         ...         ...  \n",
            "25569            48    0.073174       8.402       0.079  \n",
            "25570            48    0.082118       7.718       0.079  \n",
            "25571            48    0.120820       8.570       0.079  \n",
            "25572            48    0.082616       7.016       0.079  \n",
            "25573             1         NaN       0.088       0.088  \n",
            "\n",
            "[25574 rows x 9 columns]\n"
          ]
        }
      ],
      "source": [
        "# Loading data from a specific CSV file\n",
        "specific_file_data = pd.read_csv(daily_dataset_path / 'block_0.csv')\n",
        "\n",
        "# Displaying data\n",
        "print(specific_file_data)"
      ]
    },
    {
      "cell_type": "markdown",
      "metadata": {
        "id": "n0b947PkSfrG"
      },
      "source": [
        "### Loading required data\n",
        "Creating a DataFrame that have only the required data"
      ]
    },
    {
      "cell_type": "code",
      "execution_count": 7,
      "metadata": {
        "colab": {
          "base_uri": "https://localhost:8080/"
        },
        "id": "WMsi4uZITUt8",
        "outputId": "a7af8e45-4da0-4ec1-bcab-fd023e77f6ca"
      },
      "outputs": [
        {
          "output_type": "stream",
          "name": "stdout",
          "text": [
            "\n",
            "\n",
            "Data report of MAC000002\n",
            "         LCLid  energy_sum         day\n",
            "0    MAC000002       7.098  2012-10-12\n",
            "1    MAC000002      11.087  2012-10-13\n",
            "2    MAC000002      13.223  2012-10-14\n",
            "3    MAC000002      10.257  2012-10-15\n",
            "4    MAC000002       9.769  2012-10-16\n",
            "..         ...         ...         ...\n",
            "500  MAC000002      12.528  2014-02-24\n",
            "501  MAC000002      11.826  2014-02-25\n",
            "502  MAC000002      12.328  2014-02-26\n",
            "503  MAC000002      20.518  2014-02-27\n",
            "504  MAC000002       1.387  2014-02-28\n",
            "\n",
            "[505 rows x 3 columns]\n"
          ]
        }
      ],
      "source": [
        "selected_column = ['LCLid','energy_sum','day']\n",
        "energy_daily_selected=energy_daily_data[selected_column]\n",
        "# print(energy_daily_selected)\n",
        "\n",
        "# Group the data by LCLid and create a dictionary of dataframes, allowing to access each dataframe separately using the LCLid as the key\n",
        "grouped_data_selected = dict(tuple(energy_daily_selected.groupby('LCLid')))\n",
        "# Display the data for 'MAC000002'\n",
        "print('\\n')\n",
        "print('Data report of MAC000002')\n",
        "print(grouped_data_selected['MAC000002'])\n"
      ]
    },
    {
      "cell_type": "markdown",
      "metadata": {
        "id": "eZumIN7H_Zt-"
      },
      "source": [
        "## Loading daily weather data\n",
        "\n",
        "Creating a 'day' column that stores only the date values from 'time' column\n",
        "(for linking weather dataset 'day' with daily dataset 'day')"
      ]
    },
    {
      "cell_type": "code",
      "execution_count": 8,
      "metadata": {
        "colab": {
          "base_uri": "https://localhost:8080/"
        },
        "id": "Ch2Azrah7Cuj",
        "outputId": "fe680e75-413a-462a-9953-11ab7cc30ca7"
      },
      "outputs": [
        {
          "output_type": "stream",
          "name": "stdout",
          "text": [
            "     temperatureMax   temperatureMaxTime  windBearing                 icon  \\\n",
            "0             11.96  2011-11-11 23:00:00          123                  fog   \n",
            "1              8.59  2011-12-11 14:00:00          198    partly-cloudy-day   \n",
            "2             10.33  2011-12-27 02:00:00          225    partly-cloudy-day   \n",
            "3              8.07  2011-12-02 23:00:00          232                 wind   \n",
            "4              8.22  2011-12-24 23:00:00          252  partly-cloudy-night   \n",
            "..              ...                  ...          ...                  ...   \n",
            "877            9.03  2014-01-26 16:00:00          233    partly-cloudy-day   \n",
            "878           10.31  2014-02-27 14:00:00          224    partly-cloudy-day   \n",
            "879           18.97  2014-03-09 14:00:00          172  partly-cloudy-night   \n",
            "880            8.83  2014-02-12 16:00:00          210                 wind   \n",
            "881            9.90  2014-02-15 12:00:00          233                 wind   \n",
            "\n",
            "     dewPoint   temperatureMinTime  cloudCover  windSpeed  pressure  \\\n",
            "0        9.40  2011-11-11 07:00:00        0.79       3.88   1016.08   \n",
            "1        4.49  2011-12-11 01:00:00        0.56       3.94   1007.71   \n",
            "2        5.47  2011-12-27 23:00:00        0.85       3.54   1032.76   \n",
            "3        3.69  2011-12-02 07:00:00        0.32       3.00   1012.12   \n",
            "4        2.79  2011-12-24 07:00:00        0.37       4.46   1028.17   \n",
            "..        ...                  ...         ...        ...       ...   \n",
            "877      2.39  2014-01-26 21:00:00        0.40       4.55   1002.10   \n",
            "878      3.08  2014-02-27 23:00:00        0.32       4.14   1007.02   \n",
            "879      4.30  2014-03-09 07:00:00        0.04       2.78   1022.44   \n",
            "880      1.94  2014-02-12 01:00:00        0.59       7.24    994.27   \n",
            "881      2.95  2014-02-15 23:00:00        0.35       9.96    988.63   \n",
            "\n",
            "    apparentTemperatureMinTime  ...          sunriseTime  temperatureHighTime  \\\n",
            "0          2011-11-11 07:00:00  ...  2011-11-11 07:12:14  2011-11-11 19:00:00   \n",
            "1          2011-12-11 02:00:00  ...  2011-12-11 07:57:02  2011-12-11 14:00:00   \n",
            "2          2011-12-27 22:00:00  ...  2011-12-27 08:07:06  2011-12-27 14:00:00   \n",
            "3          2011-12-02 07:00:00  ...  2011-12-02 07:46:09  2011-12-02 12:00:00   \n",
            "4          2011-12-24 07:00:00  ...  2011-12-24 08:06:15  2011-12-24 15:00:00   \n",
            "..                         ...  ...                  ...                  ...   \n",
            "877        2014-01-26 22:00:00  ...  2014-01-26 07:48:49  2014-01-26 16:00:00   \n",
            "878        2014-02-27 22:00:00  ...  2014-02-27 06:51:45  2014-02-27 14:00:00   \n",
            "879        2014-03-09 07:00:00  ...  2014-03-09 06:29:49  2014-03-09 14:00:00   \n",
            "880        2014-02-12 01:00:00  ...  2014-02-12 07:21:44  2014-02-12 16:00:00   \n",
            "881        2014-02-15 23:00:00  ...  2014-02-15 07:16:06  2014-02-15 12:00:00   \n",
            "\n",
            "             uvIndexTime                                            summary  \\\n",
            "0    2011-11-11 11:00:00                             Foggy until afternoon.   \n",
            "1    2011-12-11 12:00:00                  Partly cloudy throughout the day.   \n",
            "2    2011-12-27 00:00:00                  Mostly cloudy throughout the day.   \n",
            "3    2011-12-02 10:00:00  Partly cloudy throughout the day and breezy ov...   \n",
            "4    2011-12-24 13:00:00                  Mostly cloudy throughout the day.   \n",
            "..                   ...                                                ...   \n",
            "877  2014-01-26 11:00:00                       Mostly cloudy until evening.   \n",
            "878  2014-02-27 12:00:00                       Partly cloudy until evening.   \n",
            "879  2014-03-09 12:00:00                      Partly cloudy in the evening.   \n",
            "880  2014-02-12 10:00:00  Mostly cloudy until evening and breezy through...   \n",
            "881  2014-02-15 10:00:00           Windy and mostly cloudy until afternoon.   \n",
            "\n",
            "      temperatureLowTime  apparentTemperatureMin  apparentTemperatureMaxTime  \\\n",
            "0    2011-11-11 19:00:00                    6.48         2011-11-11 23:00:00   \n",
            "1    2011-12-12 07:00:00                    0.11         2011-12-11 20:00:00   \n",
            "2    2011-12-27 23:00:00                    5.59         2011-12-27 02:00:00   \n",
            "3    2011-12-02 19:00:00                    0.46         2011-12-02 12:00:00   \n",
            "4    2011-12-24 19:00:00                   -0.51         2011-12-24 23:00:00   \n",
            "..                   ...                     ...                         ...   \n",
            "877  2014-01-27 05:00:00                   -1.30         2014-01-26 15:00:00   \n",
            "878  2014-02-28 02:00:00                    1.41         2014-02-27 14:00:00   \n",
            "879  2014-03-10 05:00:00                    7.08         2014-03-09 14:00:00   \n",
            "880  2014-02-13 05:00:00                   -1.20         2014-02-12 16:00:00   \n",
            "881  2014-02-16 07:00:00                    1.77         2014-02-15 12:00:00   \n",
            "\n",
            "     apparentTemperatureLowTime moonPhase mean_temp  \n",
            "0           2011-11-11 19:00:00      0.52    10.405  \n",
            "1           2011-12-12 08:00:00      0.53     5.535  \n",
            "2           2011-12-28 00:00:00      0.10     9.180  \n",
            "3           2011-12-02 19:00:00      0.25     5.315  \n",
            "4           2011-12-24 20:00:00      0.99     5.695  \n",
            "..                          ...       ...       ...  \n",
            "877         2014-01-27 04:00:00      0.84     6.145  \n",
            "878         2014-02-28 02:00:00      0.93     7.120  \n",
            "879         2014-03-10 06:00:00      0.28    13.310  \n",
            "880         2014-02-13 02:00:00      0.42     5.930  \n",
            "881         2014-02-16 07:00:00      0.52     7.640  \n",
            "\n",
            "[882 rows x 33 columns]\n"
          ]
        }
      ],
      "source": [
        "# Load the weather dataset into a DataFrame\n",
        "weather_daily_data = pd.read_csv(weather_daily_dataset_path)\n",
        "\n",
        "# Convert the 'time' column to datetime format\n",
        "weather_daily_data['time'] = pd.to_datetime(weather_daily_data['time'])\n",
        "\n",
        "# Calculate the mean temperature for each day and store it in a new column 'mean_temp'\n",
        "weather_daily_data['mean_temp'] = (weather_daily_data['temperatureMax'] + weather_daily_data['temperatureMin']) / 2\n",
        "\n",
        "# Print the updated DataFrame\n",
        "print(weather_daily_data)"
      ]
    },
    {
      "cell_type": "markdown",
      "metadata": {
        "id": "XUsgV_WfSTVp"
      },
      "source": [
        "### Loading required data\n",
        "Creating a DataFrame that have only the required data"
      ]
    },
    {
      "cell_type": "code",
      "execution_count": 9,
      "metadata": {
        "colab": {
          "base_uri": "https://localhost:8080/"
        },
        "id": "iRn0x1J8RlPl",
        "outputId": "b15b5867-dcf5-4418-bd86-1b2eea48931f"
      },
      "outputs": [
        {
          "output_type": "stream",
          "name": "stdout",
          "text": [
            "     mean_temp  pressure  humidity  windSpeed       time\n",
            "0       10.405   1016.08      0.95       3.88 2011-11-11\n",
            "1        5.535   1007.71      0.88       3.94 2011-12-11\n",
            "2        9.180   1032.76      0.74       3.54 2011-12-27\n",
            "3        5.315   1012.12      0.87       3.00 2011-12-02\n",
            "4        5.695   1028.17      0.80       4.46 2011-12-24\n",
            "..         ...       ...       ...        ...        ...\n",
            "877      6.145   1002.10      0.79       4.55 2014-01-26\n",
            "878      7.120   1007.02      0.74       4.14 2014-02-27\n",
            "879     13.310   1022.44      0.58       2.78 2014-03-09\n",
            "880      5.930    994.27      0.75       7.24 2014-02-12\n",
            "881      7.640    988.63      0.69       9.96 2014-02-15\n",
            "\n",
            "[882 rows x 5 columns]\n"
          ]
        }
      ],
      "source": [
        "# Create a new DataFrame with selected columns\n",
        "selected_columns = ['mean_temp', 'pressure', 'humidity', 'windSpeed', 'time']\n",
        "weather_selected = weather_daily_data[selected_columns]\n",
        "\n",
        "# Print the new dataset\n",
        "print(weather_selected)"
      ]
    },
    {
      "cell_type": "markdown",
      "source": [
        "# Dataset with Household energy consumption values and weather values"
      ],
      "metadata": {
        "id": "yi3pXETWEhtL"
      }
    },
    {
      "cell_type": "markdown",
      "source": [
        "## For all households"
      ],
      "metadata": {
        "id": "jlEy0Fm_JaT5"
      }
    },
    {
      "cell_type": "code",
      "source": [
        "# Convert 'time' column in weather_selected to datetime objects\n",
        "weather_selected['time'] = pd.to_datetime(weather_selected['time'])\n",
        "\n",
        "# Create a list to store the merged data DataFrames\n",
        "merged_data_list = []\n",
        "\n",
        "# Iterate through each LCLid in energy_daily_selected\n",
        "for lclid, data in grouped_data_selected.items():\n",
        "    # Convert 'day' column in current LCLid data to datetime objects\n",
        "    data['day'] = pd.to_datetime(data['day'])\n",
        "\n",
        "    # Merge the current LCLid data with weather_selected based on the common date values\n",
        "    merged_data_lclid = pd.merge(weather_selected, data, left_on='time', right_on='day', how='inner')\n",
        "\n",
        "    # Drop the redundant 'day' column from the merged data\n",
        "    merged_data_lclid.drop(columns=['day'], inplace=True)\n",
        "\n",
        "    # Append the merged data to the merged_data_list\n",
        "    merged_data_list.append(merged_data_lclid)\n",
        "\n",
        "# Concatenate the merged data DataFrames in the list\n",
        "merged_data = pd.concat(merged_data_list, ignore_index=True)\n",
        "\n",
        "# Display the merged dataset\n",
        "print(merged_data)\n"
      ],
      "metadata": {
        "colab": {
          "base_uri": "https://localhost:8080/"
        },
        "id": "wqUqCBNEHb8P",
        "outputId": "297b529f-1352-4295-edf4-74676ac55368"
      },
      "execution_count": 10,
      "outputs": [
        {
          "output_type": "stream",
          "name": "stderr",
          "text": [
            "<ipython-input-10-fc90630300b6>:2: SettingWithCopyWarning: \n",
            "A value is trying to be set on a copy of a slice from a DataFrame.\n",
            "Try using .loc[row_indexer,col_indexer] = value instead\n",
            "\n",
            "See the caveats in the documentation: https://pandas.pydata.org/pandas-docs/stable/user_guide/indexing.html#returning-a-view-versus-a-copy\n",
            "  weather_selected['time'] = pd.to_datetime(weather_selected['time'])\n"
          ]
        },
        {
          "output_type": "stream",
          "name": "stdout",
          "text": [
            "         mean_temp  pressure  humidity  windSpeed       time      LCLid  \\\n",
            "0           10.000   1001.79      0.81       6.54 2012-11-25  MAC000002   \n",
            "1           12.170   1008.74      0.90       5.74 2012-11-20  MAC000002   \n",
            "2            7.830    979.63      0.85       4.07 2012-11-01  MAC000002   \n",
            "3            5.295   1020.29      0.87       3.58 2012-11-06  MAC000002   \n",
            "4            4.650   1001.72      0.80       5.63 2012-12-07  MAC000002   \n",
            "...            ...       ...       ...        ...        ...        ...   \n",
            "1542386      4.470   1001.76      0.91       1.52 2014-01-30  MAC005567   \n",
            "1542387      6.145   1002.10      0.79       4.55 2014-01-26  MAC005567   \n",
            "1542388      7.120   1007.02      0.74       4.14 2014-02-27  MAC005567   \n",
            "1542389      5.930    994.27      0.75       7.24 2014-02-12  MAC005567   \n",
            "1542390      7.640    988.63      0.69       9.96 2014-02-15  MAC005567   \n",
            "\n",
            "         energy_sum  \n",
            "0            10.545  \n",
            "1            11.221  \n",
            "2            12.209  \n",
            "3            11.663  \n",
            "4            13.248  \n",
            "...             ...  \n",
            "1542386       4.397  \n",
            "1542387       5.918  \n",
            "1542388       3.217  \n",
            "1542389       5.845  \n",
            "1542390       7.075  \n",
            "\n",
            "[1542391 rows x 7 columns]\n"
          ]
        }
      ]
    },
    {
      "cell_type": "markdown",
      "source": [
        "## For one household"
      ],
      "metadata": {
        "id": "Jq2mLT2oJWB5"
      }
    },
    {
      "cell_type": "code",
      "source": [
        "print(merged_data[merged_data['LCLid'] == \"MAC003719\"])"
      ],
      "metadata": {
        "colab": {
          "base_uri": "https://localhost:8080/"
        },
        "id": "LBmTUuggiWZZ",
        "outputId": "29837ee5-70d5-436d-d966-97f607716c5b"
      },
      "execution_count": 11,
      "outputs": [
        {
          "output_type": "stream",
          "name": "stdout",
          "text": [
            "         mean_temp  pressure  humidity  windSpeed       time      LCLid  \\\n",
            "1015088     10.000   1001.79      0.81       6.54 2012-11-25  MAC003719   \n",
            "1015089     12.170   1008.74      0.90       5.74 2012-11-20  MAC003719   \n",
            "1015090      7.830    979.63      0.85       4.07 2012-11-01  MAC003719   \n",
            "1015091      5.295   1020.29      0.87       3.58 2012-11-06  MAC003719   \n",
            "1015092      4.650   1001.72      0.80       5.63 2012-12-07  MAC003719   \n",
            "...            ...       ...       ...        ...        ...        ...   \n",
            "1015361      4.470   1001.76      0.91       1.52 2014-01-30  MAC003719   \n",
            "1015362      6.145   1002.10      0.79       4.55 2014-01-26  MAC003719   \n",
            "1015363      7.120   1007.02      0.74       4.14 2014-02-27  MAC003719   \n",
            "1015364      5.930    994.27      0.75       7.24 2014-02-12  MAC003719   \n",
            "1015365      7.640    988.63      0.69       9.96 2014-02-15  MAC003719   \n",
            "\n",
            "         energy_sum  \n",
            "1015088      13.952  \n",
            "1015089      12.864  \n",
            "1015090      18.794  \n",
            "1015091      16.750  \n",
            "1015092      15.547  \n",
            "...             ...  \n",
            "1015361      12.672  \n",
            "1015362       9.173  \n",
            "1015363       9.034  \n",
            "1015364      14.075  \n",
            "1015365      13.240  \n",
            "\n",
            "[278 rows x 7 columns]\n"
          ]
        }
      ]
    },
    {
      "cell_type": "markdown",
      "metadata": {
        "id": "IVelsQ53430r"
      },
      "source": [
        "# Splitting dataset to training and testing sets\n",
        "\n"
      ]
    },
    {
      "cell_type": "markdown",
      "source": [
        "## Preprocessing dataset"
      ],
      "metadata": {
        "id": "Qw5aaS7xkIWr"
      }
    },
    {
      "cell_type": "markdown",
      "source": [
        "### Counting amount of data for each LCLid (data available for each household)"
      ],
      "metadata": {
        "id": "FWB2ilpvq0_-"
      }
    },
    {
      "cell_type": "code",
      "source": [
        "# Convert 'time' column in weather_selected to datetime objects\n",
        "weather_selected['time'] = pd.to_datetime(weather_selected['time'])\n",
        "\n",
        "# Merge the data into merged_data DataFrame as described in your previous code\n",
        "\n",
        "# Count the number of data rows for each LCLid\n",
        "lclid_data_counts = merged_data['LCLid'].value_counts()\n",
        "\n",
        "# Display the counts for each LCLid\n",
        "print(\"Data row counts for each LCLid:\")\n",
        "print(lclid_data_counts)\n"
      ],
      "metadata": {
        "colab": {
          "base_uri": "https://localhost:8080/"
        },
        "id": "k_1dDvPeoXFD",
        "outputId": "18f11caa-06b5-465b-9fad-956ee0f2bdc9"
      },
      "execution_count": 12,
      "outputs": [
        {
          "output_type": "stream",
          "name": "stdout",
          "text": [
            "Data row counts for each LCLid:\n",
            "MAC000145    402\n",
            "MAC000147    402\n",
            "MAC000148    402\n",
            "MAC000149    402\n",
            "MAC000150    402\n",
            "            ... \n",
            "MAC005560      1\n",
            "MAC001150      1\n",
            "MAC005563      1\n",
            "MAC001957      1\n",
            "MAC005565      1\n",
            "Name: LCLid, Length: 5550, dtype: int64\n"
          ]
        },
        {
          "output_type": "stream",
          "name": "stderr",
          "text": [
            "<ipython-input-12-467dbfca5fe4>:2: SettingWithCopyWarning: \n",
            "A value is trying to be set on a copy of a slice from a DataFrame.\n",
            "Try using .loc[row_indexer,col_indexer] = value instead\n",
            "\n",
            "See the caveats in the documentation: https://pandas.pydata.org/pandas-docs/stable/user_guide/indexing.html#returning-a-view-versus-a-copy\n",
            "  weather_selected['time'] = pd.to_datetime(weather_selected['time'])\n"
          ]
        }
      ]
    },
    {
      "cell_type": "markdown",
      "source": [
        "### Identifiting the no of households with insufficient amount of data"
      ],
      "metadata": {
        "id": "wIjz5a0irBRy"
      }
    },
    {
      "cell_type": "code",
      "source": [
        "# Count the number of data rows for each LCLid\n",
        "lclid_data_counts = merged_data['LCLid'].value_counts()\n",
        "\n",
        "\n",
        "# Get the total number of unique LCLid values\n",
        "total_lclids = len(lclid_data_counts)\n",
        "\n",
        "# Count the number of LCLid values with less than 100 data rows\n",
        "count_less_than_100 = (lclid_data_counts < 100).sum()\n",
        "\n",
        "# Display the count of LCLid values with less than 100 data rows\n",
        "print(\"Number of LCLid values with less than 100 data rows:\", count_less_than_100)\n",
        "\n",
        "# Display the total number of unique LCLid values\n",
        "print(\"Total number of unique LCLid values:\", total_lclids)"
      ],
      "metadata": {
        "colab": {
          "base_uri": "https://localhost:8080/"
        },
        "id": "HlmWA354pGgO",
        "outputId": "f195c872-cf63-420e-c56f-fdfc2586748e"
      },
      "execution_count": 13,
      "outputs": [
        {
          "output_type": "stream",
          "name": "stdout",
          "text": [
            "Number of LCLid values with less than 100 data rows: 61\n",
            "Total number of unique LCLid values: 5550\n"
          ]
        }
      ]
    },
    {
      "cell_type": "markdown",
      "source": [
        "### Removing the households with less data, from the dataset"
      ],
      "metadata": {
        "id": "SA9X4z0irXP7"
      }
    },
    {
      "cell_type": "code",
      "source": [
        "# Get the list of LCLid values with less than 100 data rows\n",
        "lclids_to_remove = lclid_data_counts[lclid_data_counts < 100].index\n",
        "\n",
        "# Remove rows corresponding to LCLid values with less than 100 data rows\n",
        "filtered_data = merged_data[~merged_data['LCLid'].isin(lclids_to_remove)]\n",
        "\n",
        "# also removing rows with NaN values in the dataset\n",
        "filtered_data = filtered_data.dropna()\n",
        "\n",
        "# Display the filtered data\n",
        "print(filtered_data)"
      ],
      "metadata": {
        "colab": {
          "base_uri": "https://localhost:8080/"
        },
        "id": "3VuTC5T5pphX",
        "outputId": "ff0b3862-496e-4f11-b44d-1914b5bbc501"
      },
      "execution_count": 14,
      "outputs": [
        {
          "output_type": "stream",
          "name": "stdout",
          "text": [
            "         mean_temp  pressure  humidity  windSpeed       time      LCLid  \\\n",
            "0           10.000   1001.79      0.81       6.54 2012-11-25  MAC000002   \n",
            "1           12.170   1008.74      0.90       5.74 2012-11-20  MAC000002   \n",
            "2            7.830    979.63      0.85       4.07 2012-11-01  MAC000002   \n",
            "3            5.295   1020.29      0.87       3.58 2012-11-06  MAC000002   \n",
            "4            4.650   1001.72      0.80       5.63 2012-12-07  MAC000002   \n",
            "...            ...       ...       ...        ...        ...        ...   \n",
            "1542386      4.470   1001.76      0.91       1.52 2014-01-30  MAC005567   \n",
            "1542387      6.145   1002.10      0.79       4.55 2014-01-26  MAC005567   \n",
            "1542388      7.120   1007.02      0.74       4.14 2014-02-27  MAC005567   \n",
            "1542389      5.930    994.27      0.75       7.24 2014-02-12  MAC005567   \n",
            "1542390      7.640    988.63      0.69       9.96 2014-02-15  MAC005567   \n",
            "\n",
            "         energy_sum  \n",
            "0            10.545  \n",
            "1            11.221  \n",
            "2            12.209  \n",
            "3            11.663  \n",
            "4            13.248  \n",
            "...             ...  \n",
            "1542386       4.397  \n",
            "1542387       5.918  \n",
            "1542388       3.217  \n",
            "1542389       5.845  \n",
            "1542390       7.075  \n",
            "\n",
            "[1539105 rows x 7 columns]\n"
          ]
        }
      ]
    },
    {
      "cell_type": "markdown",
      "source": [
        "## Splitting the dataset to train and test\n",
        " where the split ratio(70:30) is made with every househould's data."
      ],
      "metadata": {
        "id": "IlfwiI3Rrm1X"
      }
    },
    {
      "cell_type": "code",
      "execution_count": 15,
      "metadata": {
        "id": "mjDCXMXoizi1",
        "colab": {
          "base_uri": "https://localhost:8080/"
        },
        "outputId": "9f1f0be8-9f6e-485e-861c-68ad2533a86c"
      },
      "outputs": [
        {
          "output_type": "stream",
          "name": "stdout",
          "text": [
            "Training set:\n",
            "         mean_temp  pressure  humidity  windSpeed       time      LCLid  \\\n",
            "0            6.915   1023.52      0.70       1.11 2013-02-16  MAC000002   \n",
            "1            5.545   1031.32      0.91       1.35 2013-12-10  MAC000002   \n",
            "2            8.930    998.27      0.91       1.29 2012-11-26  MAC000002   \n",
            "3            8.065   1004.27      0.85       4.72 2013-12-31  MAC000002   \n",
            "4            3.565    991.02      0.91       0.73 2013-03-18  MAC000002   \n",
            "...            ...       ...       ...        ...        ...        ...   \n",
            "1229099      5.915   1037.52      0.77       3.33 2013-11-25  MAC005567   \n",
            "1229100      4.835   1029.69      0.80       4.25 2013-02-28  MAC005567   \n",
            "1229101      6.525   1018.73      0.79       5.52 2013-12-20  MAC005567   \n",
            "1229102      8.070   1006.71      0.87       2.13 2014-01-22  MAC005567   \n",
            "1229103      2.340   1005.94      0.82       5.05 2013-03-10  MAC005567   \n",
            "\n",
            "         energy_sum  \n",
            "0            10.807  \n",
            "1            12.882  \n",
            "2             9.876  \n",
            "3            13.746  \n",
            "4            13.295  \n",
            "...             ...  \n",
            "1229099       7.368  \n",
            "1229100       4.056  \n",
            "1229101       6.579  \n",
            "1229102       6.205  \n",
            "1229103       6.338  \n",
            "\n",
            "[1229104 rows x 7 columns]\n",
            "Test set:\n",
            "        mean_temp  pressure  humidity  windSpeed       time      LCLid  \\\n",
            "0          10.305   1010.37      0.76       7.10 2014-02-23  MAC000002   \n",
            "1           7.835    989.90      0.82       4.98 2014-02-06  MAC000002   \n",
            "2           8.750    994.51      0.78       7.66 2014-01-03  MAC000002   \n",
            "3           5.255    989.87      0.79       5.29 2014-01-27  MAC000002   \n",
            "4           6.430    992.84      0.84       1.66 2014-02-10  MAC000002   \n",
            "...           ...       ...       ...        ...        ...        ...   \n",
            "309996      6.480    984.71      0.66       8.05 2014-02-09  MAC005567   \n",
            "309997      6.145   1002.10      0.79       4.55 2014-01-26  MAC005567   \n",
            "309998      7.745    990.31      0.81       6.60 2014-02-14  MAC005567   \n",
            "309999      4.815   1010.13      0.89       2.19 2014-01-21  MAC005567   \n",
            "310000      7.545   1005.39      0.72       4.75 2014-02-02  MAC005567   \n",
            "\n",
            "        energy_sum  \n",
            "0           14.886  \n",
            "1           13.352  \n",
            "2           11.382  \n",
            "3           22.629  \n",
            "4           10.846  \n",
            "...            ...  \n",
            "309996       3.481  \n",
            "309997       5.918  \n",
            "309998       5.364  \n",
            "309999       4.097  \n",
            "310000       6.661  \n",
            "\n",
            "[310001 rows x 7 columns]\n"
          ]
        }
      ],
      "source": [
        "# Define the split percentages\n",
        "train_percentage = 0.8 # 80% for training, 30% for testing\n",
        "min_data_points = 10  # Minimum number of data points required for an LCLid\n",
        "\n",
        "# Create a list to store DataFrames for training and testing\n",
        "train_data_list = []\n",
        "test_data_list = []\n",
        "\n",
        "# Iterate through each unique LCLid and split the data based on train_percentage\n",
        "unique_lclids = filtered_data['LCLid'].unique()\n",
        "for lclid in unique_lclids:\n",
        "    lclid_data = filtered_data[filtered_data['LCLid'] == lclid]\n",
        "\n",
        "    # Check if there are sufficient data points for the current LCLid\n",
        "    if len(lclid_data) >= min_data_points:\n",
        "        # Split the data for the current LCLid into training and test sets\n",
        "        train_data_lclid, test_data_lclid = train_test_split(lclid_data, train_size=train_percentage, shuffle=False)\n",
        "\n",
        "        # Randomize the rows within each subset\n",
        "        train_data_lclid = train_data_lclid.sample(frac=1, random_state=42)\n",
        "        test_data_lclid = test_data_lclid.sample(frac=1, random_state=42)\n",
        "\n",
        "        # Append to the train_data_list and test_data_list\n",
        "        train_data_list.append(train_data_lclid)\n",
        "        test_data_list.append(test_data_lclid)\n",
        "\n",
        "# Concatenate the DataFrames in the lists\n",
        "FL_train_set = pd.concat(train_data_list, ignore_index=True)\n",
        "FL_test_set = pd.concat(test_data_list, ignore_index=True)\n",
        "\n",
        "# Store the training and test sets in separate lists\n",
        "FL_train_set_list = train_data_list\n",
        "FL_test_sets_list = test_data_list\n",
        "\n",
        "# Display the training and test sets\n",
        "print(\"Training set:\")\n",
        "print(FL_train_set)\n",
        "print(\"Test set:\")\n",
        "print(FL_test_set)"
      ]
    },
    {
      "cell_type": "markdown",
      "source": [
        "### For FL training, validation and test sets"
      ],
      "metadata": {
        "id": "VAZQP_IFjqJd"
      }
    },
    {
      "cell_type": "code",
      "source": [
        "# Display the first training set\n",
        "print(\"First Training set:\")\n",
        "print(FL_train_set_list[0])\n",
        "print(\"First Test set:\")\n",
        "print(FL_test_sets_list[0])"
      ],
      "metadata": {
        "colab": {
          "base_uri": "https://localhost:8080/"
        },
        "id": "7RGFE7Iwxbjp",
        "outputId": "835ff943-0394-4b4e-d7f6-76efbe6539b6"
      },
      "execution_count": 16,
      "outputs": [
        {
          "output_type": "stream",
          "name": "stdout",
          "text": [
            "First Training set:\n",
            "     mean_temp  pressure  humidity  windSpeed       time      LCLid  \\\n",
            "154      6.915   1023.52      0.70       1.11 2013-02-16  MAC000002   \n",
            "215      5.545   1031.32      0.91       1.35 2013-12-10  MAC000002   \n",
            "15       8.930    998.27      0.91       1.29 2012-11-26  MAC000002   \n",
            "173      8.065   1004.27      0.85       4.72 2013-12-31  MAC000002   \n",
            "158      3.565    991.02      0.91       0.73 2013-03-18  MAC000002   \n",
            "..         ...       ...       ...        ...        ...        ...   \n",
            "106      3.355   1023.08      0.78       4.86 2013-02-20  MAC000002   \n",
            "14       5.745   1014.66      0.82       0.72 2012-11-18  MAC000002   \n",
            "92      10.680   1012.62      0.86       8.91 2013-12-21  MAC000002   \n",
            "179      3.065   1026.97      0.83       4.80 2013-02-25  MAC000002   \n",
            "102      2.395   1010.88      0.63       3.52 2013-03-29  MAC000002   \n",
            "\n",
            "     energy_sum  \n",
            "154      10.807  \n",
            "215      12.882  \n",
            "15        9.876  \n",
            "173      13.746  \n",
            "158      13.295  \n",
            "..          ...  \n",
            "106      10.941  \n",
            "14       13.779  \n",
            "92       11.247  \n",
            "179      11.198  \n",
            "102       4.841  \n",
            "\n",
            "[222 rows x 7 columns]\n",
            "First Test set:\n",
            "     mean_temp  pressure  humidity  windSpeed       time      LCLid  \\\n",
            "222     10.305   1010.37      0.76       7.10 2014-02-23  MAC000002   \n",
            "227      7.835    989.90      0.82       4.98 2014-02-06  MAC000002   \n",
            "255      8.750    994.51      0.78       7.66 2014-01-03  MAC000002   \n",
            "235      5.255    989.87      0.79       5.29 2014-01-27  MAC000002   \n",
            "241      6.430    992.84      0.84       1.66 2014-02-10  MAC000002   \n",
            "272      7.780   1007.80      0.83       4.07 2014-02-17  MAC000002   \n",
            "258      6.970    988.77      0.79       3.98 2014-02-07  MAC000002   \n",
            "248      8.645    993.31      0.82       4.89 2014-01-02  MAC000002   \n",
            "266      6.870   1003.42      0.72       5.42 2014-02-21  MAC000002   \n",
            "234      8.175   1009.09      0.71       4.77 2014-02-22  MAC000002   \n",
            "276      5.930    994.27      0.75       7.24 2014-02-12  MAC000002   \n",
            "225     11.110   1005.19      0.74       5.02 2014-02-24  MAC000002   \n",
            "256      8.435   1006.30      0.77       6.03 2014-01-09  MAC000002   \n",
            "252      5.895   1012.39      0.82       3.98 2014-01-23  MAC000002   \n",
            "230      8.070   1006.71      0.87       2.13 2014-01-22  MAC000002   \n",
            "239      6.480    984.71      0.66       8.05 2014-02-09  MAC000002   \n",
            "228      5.140    996.66      0.76       4.62 2014-02-11  MAC000002   \n",
            "226      5.730    992.43      0.68       5.83 2014-02-13  MAC000002   \n",
            "263      9.110   1000.65      0.78       5.69 2014-02-25  MAC000002   \n",
            "249     10.955    994.61      0.78       8.30 2014-01-06  MAC000002   \n",
            "269      4.870   1007.71      0.89       0.20 2014-01-20  MAC000002   \n",
            "268      7.730   1012.73      0.73       3.82 2014-02-26  MAC000002   \n",
            "274      6.145   1002.10      0.79       4.55 2014-01-26  MAC000002   \n",
            "237      7.660   1011.57      0.87       3.29 2014-02-19  MAC000002   \n",
            "231      5.400    998.51      0.91       4.74 2014-01-31  MAC000002   \n",
            "238      7.590    982.20      0.77       7.86 2014-02-05  MAC000002   \n",
            "246      7.745    990.31      0.81       6.60 2014-02-14  MAC000002   \n",
            "253      9.420   1001.54      0.84       5.38 2014-02-20  MAC000002   \n",
            "275      7.120   1007.02      0.74       4.14 2014-02-27  MAC000002   \n",
            "270      7.545   1005.39      0.72       4.75 2014-02-02  MAC000002   \n",
            "247      8.725   1012.46      0.83       4.00 2014-01-25  MAC000002   \n",
            "233      8.995    990.50      0.83       5.01 2014-01-16  MAC000002   \n",
            "254      8.965    993.32      0.86       7.20 2014-01-01  MAC000002   \n",
            "271      6.410   1014.26      0.85       3.56 2014-01-10  MAC000002   \n",
            "259      4.805   1018.51      0.81       2.68 2014-01-11  MAC000002   \n",
            "251      6.550    996.87      0.75       5.30 2014-02-04  MAC000002   \n",
            "262      6.820    993.71      0.84       4.46 2014-01-04  MAC000002   \n",
            "223      6.355    995.52      0.80       1.72 2014-01-19  MAC000002   \n",
            "243      7.450    990.80      0.87       4.68 2014-01-17  MAC000002   \n",
            "224      7.075    985.33      0.83       4.32 2014-01-28  MAC000002   \n",
            "265      5.390    998.92      0.86       2.24 2014-02-28  MAC000002   \n",
            "261      8.785    991.61      0.83       4.34 2014-01-18  MAC000002   \n",
            "257      7.970    979.25      0.77       8.53 2014-02-08  MAC000002   \n",
            "245      8.800    998.57      0.90       4.63 2014-01-15  MAC000002   \n",
            "267     10.180   1003.19      0.78       7.30 2014-01-07  MAC000002   \n",
            "232      6.160   1006.70      0.76       3.34 2014-02-16  MAC000002   \n",
            "244      7.570   1005.09      0.83       4.00 2014-01-13  MAC000002   \n",
            "240      6.840   1000.02      0.87       4.40 2014-01-05  MAC000002   \n",
            "277      7.640    988.63      0.69       9.96 2014-02-15  MAC000002   \n",
            "242      9.495   1011.94      0.85       4.15 2014-01-08  MAC000002   \n",
            "229      4.590    993.99      0.90       4.25 2014-01-29  MAC000002   \n",
            "264      6.480   1003.89      0.79       4.92 2014-02-03  MAC000002   \n",
            "236      7.275    990.08      0.76       6.97 2014-02-01  MAC000002   \n",
            "250      7.990   1008.67      0.87       3.06 2014-02-18  MAC000002   \n",
            "273      4.470   1001.76      0.91       1.52 2014-01-30  MAC000002   \n",
            "260      4.815   1010.13      0.89       2.19 2014-01-21  MAC000002   \n",
            "\n",
            "     energy_sum  \n",
            "222      14.886  \n",
            "227      13.352  \n",
            "255      11.382  \n",
            "235      22.629  \n",
            "241      10.846  \n",
            "272      12.917  \n",
            "258      16.663  \n",
            "248      14.195  \n",
            "266      13.083  \n",
            "234      12.734  \n",
            "276      13.812  \n",
            "225      12.528  \n",
            "256      14.577  \n",
            "252      12.585  \n",
            "230      14.116  \n",
            "239      12.657  \n",
            "228      15.586  \n",
            "226      11.723  \n",
            "263      11.826  \n",
            "249      14.302  \n",
            "269      12.486  \n",
            "268      12.328  \n",
            "274      24.040  \n",
            "237      14.997  \n",
            "231      21.574  \n",
            "238      17.018  \n",
            "246      13.497  \n",
            "253      11.876  \n",
            "275      20.518  \n",
            "270      27.272  \n",
            "247      14.039  \n",
            "233      15.802  \n",
            "254      15.496  \n",
            "271      14.964  \n",
            "259      14.466  \n",
            "251      24.363  \n",
            "262      16.176  \n",
            "223      14.800  \n",
            "243      14.894  \n",
            "224      13.921  \n",
            "265       1.387  \n",
            "261      12.371  \n",
            "257      17.172  \n",
            "245      19.011  \n",
            "267      16.492  \n",
            "232      21.940  \n",
            "244      18.266  \n",
            "240      14.418  \n",
            "277      12.570  \n",
            "242      13.079  \n",
            "229      20.304  \n",
            "264      17.468  \n",
            "236      11.425  \n",
            "250      17.066  \n",
            "273      14.166  \n",
            "260      16.025  \n"
          ]
        }
      ]
    },
    {
      "cell_type": "markdown",
      "source": [
        "### Centralised training, validation and test sets"
      ],
      "metadata": {
        "id": "MApq3bu5sigc"
      }
    },
    {
      "cell_type": "code",
      "source": [
        "# Randomize the rows of filtered_data\n",
        "filtered_data = filtered_data.sample(frac=1, random_state=42)\n",
        "\n",
        "# Define the split percentages\n",
        "train_percentage = 0.6  # 60% for training\n",
        "val_percentage = 0.2    # 20% for validation\n",
        "test_percentage = 0.2   # 20% for testing\n",
        "\n",
        "# Split the data into training and temporary sets\n",
        "Central_train_data, temp_data = train_test_split(filtered_data, train_size=train_percentage, random_state=42)\n",
        "\n",
        "# Split the temporary data into validation and test sets\n",
        "Central_val_data, Central_test_data = train_test_split(temp_data, train_size=val_percentage / (val_percentage + test_percentage), random_state=42)\n",
        "\n",
        "# Display the sizes of the sets\n",
        "print(\"Training set size:\", len(Central_train_data))\n",
        "print(\"Validation set size:\", len(Central_val_data))\n",
        "print(\"Test set size:\", len(Central_test_data))\n"
      ],
      "metadata": {
        "colab": {
          "base_uri": "https://localhost:8080/"
        },
        "id": "YQOhoHUdtI7e",
        "outputId": "b2a68402-b31d-4f61-972c-7186ab001d38"
      },
      "execution_count": 17,
      "outputs": [
        {
          "output_type": "stream",
          "name": "stdout",
          "text": [
            "Training set size: 923463\n",
            "Validation set size: 307821\n",
            "Test set size: 307821\n"
          ]
        }
      ]
    },
    {
      "cell_type": "markdown",
      "source": [
        "Displaying training, validation and test sets"
      ],
      "metadata": {
        "id": "fXufv5y-tO1x"
      }
    },
    {
      "cell_type": "code",
      "source": [
        "# Display the training and test sets\n",
        "print(\"Training set:\")\n",
        "print(Central_train_data)\n",
        "print(\"Validation set:\")\n",
        "print(Central_val_data)\n",
        "print(\"Test set:\")\n",
        "print(Central_test_data)\n"
      ],
      "metadata": {
        "colab": {
          "base_uri": "https://localhost:8080/"
        },
        "id": "gUNX3w0utFkh",
        "outputId": "d23e2839-81c8-4c72-b934-d15478d47112"
      },
      "execution_count": 18,
      "outputs": [
        {
          "output_type": "stream",
          "name": "stdout",
          "text": [
            "Training set:\n",
            "         mean_temp  pressure  humidity  windSpeed       time      LCLid  \\\n",
            "1366339      8.170   1009.95      0.77       6.82 2012-12-30  MAC004957   \n",
            "1219794      3.140   1012.97      0.83       4.76 2013-01-12  MAC004472   \n",
            "152173       8.895   1016.76      0.89       4.78 2012-12-28  MAC000461   \n",
            "622133       6.145   1002.10      0.79       4.55 2014-01-26  MAC002246   \n",
            "435865       5.930    994.27      0.75       7.24 2014-02-12  MAC001539   \n",
            "...            ...       ...       ...        ...        ...        ...   \n",
            "394725       4.815   1010.13      0.89       2.19 2014-01-21  MAC001383   \n",
            "1062413      8.530    996.96      0.93       2.20 2013-03-07  MAC003894   \n",
            "533802       2.630   1018.79      0.86       0.68 2013-02-09  MAC001909   \n",
            "715661       4.510   1006.64      0.75       6.04 2013-02-06  MAC002600   \n",
            "1484893      5.895   1012.39      0.82       3.98 2014-01-23  MAC005356   \n",
            "\n",
            "         energy_sum  \n",
            "1366339       3.758  \n",
            "1219794      11.290  \n",
            "152173       17.431  \n",
            "622133       19.296  \n",
            "435865       16.062  \n",
            "...             ...  \n",
            "394725        8.559  \n",
            "1062413       6.365  \n",
            "533802       18.381  \n",
            "715661       13.125  \n",
            "1484893      36.291  \n",
            "\n",
            "[923463 rows x 7 columns]\n",
            "Validation set:\n",
            "         mean_temp  pressure  humidity  windSpeed       time      LCLid  \\\n",
            "282972       7.195   1005.46      0.84       4.09 2012-12-27  MAC000952   \n",
            "500676       9.250   1035.16      0.92       3.15 2013-01-05  MAC001784   \n",
            "576697       4.345   1019.55      0.79       0.40 2013-02-19  MAC002074   \n",
            "786287      10.310   1007.72      0.88       1.69 2012-11-17  MAC002865   \n",
            "360632      10.420   1016.66      0.89       5.57 2013-12-16  MAC001250   \n",
            "...            ...       ...       ...        ...        ...        ...   \n",
            "874812       8.435   1006.30      0.77       6.03 2014-01-09  MAC003193   \n",
            "201111       6.915   1023.52      0.70       1.11 2013-02-16  MAC000646   \n",
            "557140       8.050   1002.52      0.96       3.54 2012-12-20  MAC001999   \n",
            "107686       0.605   1012.85      0.78       6.06 2013-03-24  MAC000300   \n",
            "1449389      5.565   1013.74      0.78       3.66 2013-03-04  MAC005241   \n",
            "\n",
            "         energy_sum  \n",
            "282972        6.943  \n",
            "500676       11.957  \n",
            "576697       10.952  \n",
            "786287       26.325  \n",
            "360632        6.100  \n",
            "...             ...  \n",
            "874812       12.615  \n",
            "201111       15.705  \n",
            "557140        8.754  \n",
            "107686       16.141  \n",
            "1449389       5.468  \n",
            "\n",
            "[307821 rows x 7 columns]\n",
            "Test set:\n",
            "         mean_temp  pressure  humidity  windSpeed       time      LCLid  \\\n",
            "696785       5.290   1027.65      0.70       3.92 2013-12-06  MAC002531   \n",
            "339864       1.740   1011.91      0.88       1.55 2012-11-30  MAC001170   \n",
            "1061740      6.870   1003.42      0.72       5.42 2014-02-21  MAC003891   \n",
            "775158       3.295   1017.62      0.93       0.40 2013-01-11  MAC002822   \n",
            "195350       8.145   1005.53      0.90       2.00 2013-11-08  MAC000625   \n",
            "...            ...       ...       ...        ...        ...        ...   \n",
            "521950       8.925   1024.24      0.87       0.87 2013-11-17  MAC001863   \n",
            "1201852      7.550   1014.76      0.92       2.00 2012-11-16  MAC004413   \n",
            "660105       8.035   1028.84      0.89       2.69 2013-12-09  MAC002391   \n",
            "830690       5.730    992.43      0.68       5.83 2014-02-13  MAC003031   \n",
            "1307796      8.165   1025.35      0.83       4.56 2013-12-08  MAC004766   \n",
            "\n",
            "         energy_sum  \n",
            "696785        8.071  \n",
            "339864        3.284  \n",
            "1061740       9.439  \n",
            "775158        4.921  \n",
            "195350       14.505  \n",
            "...             ...  \n",
            "521950        4.252  \n",
            "1201852       2.614  \n",
            "660105        7.865  \n",
            "830690        1.106  \n",
            "1307796      22.103  \n",
            "\n",
            "[307821 rows x 7 columns]\n"
          ]
        }
      ]
    },
    {
      "cell_type": "markdown",
      "source": [
        "# Centralised Training"
      ],
      "metadata": {
        "id": "IVpGqOqfnfFW"
      }
    },
    {
      "cell_type": "markdown",
      "source": [
        "## Defining features and target column"
      ],
      "metadata": {
        "id": "pe8CeDeXpYMQ"
      }
    },
    {
      "cell_type": "code",
      "source": [
        "# Separate features and target variable\n",
        "Central_X_train = Central_train_data[['mean_temp', 'pressure', 'humidity', 'windSpeed']]\n",
        "Central_y_train = Central_train_data['energy_sum']\n",
        "\n",
        "# Separate features and target variable\n",
        "Central_X_val = Central_val_data[['mean_temp', 'pressure', 'humidity', 'windSpeed']]\n",
        "Central_y_val = Central_val_data['energy_sum']\n",
        "\n",
        "# Separate features and target variable\n",
        "Central_X_test = Central_test_data[['mean_temp', 'pressure', 'humidity', 'windSpeed']]\n",
        "Central_y_test = Central_test_data['energy_sum']\n"
      ],
      "metadata": {
        "id": "aPxOdMTSpORn"
      },
      "execution_count": 19,
      "outputs": []
    },
    {
      "cell_type": "markdown",
      "source": [
        "## Preprocessing (scaler and imputer)"
      ],
      "metadata": {
        "id": "5FrtqxMEqk_2"
      }
    },
    {
      "cell_type": "code",
      "source": [
        "# Define the datasets\n",
        "datasets = [\n",
        "    (Central_X_train, Central_y_train, \"Central Training\"),\n",
        "    (Central_X_val, Central_y_val, \"Central Validation\"),\n",
        "    (Central_X_test, Central_y_test, \"Central Test\")\n",
        "]\n",
        "\n",
        "# Preprocess each dataset\n",
        "for X, y, name in datasets:\n",
        "    # Impute missing values and scale features\n",
        "    X_scaled = StandardScaler().fit_transform(SimpleImputer(strategy='mean').fit_transform(X))\n",
        "\n",
        "    # Display dataset name and shape\n",
        "    print(f\"{name} Dataset:\")\n",
        "    print(\"Original Shape:\", X.shape)\n",
        "    print(\"Preprocessed Shape:\", X_scaled.shape)\n",
        "    print()"
      ],
      "metadata": {
        "colab": {
          "base_uri": "https://localhost:8080/"
        },
        "id": "VNGXlzX_sH77",
        "outputId": "d97615ce-4e95-4115-b097-73fe019a265b"
      },
      "execution_count": 20,
      "outputs": [
        {
          "output_type": "stream",
          "name": "stdout",
          "text": [
            "Central Training Dataset:\n",
            "Original Shape: (923463, 4)\n",
            "Preprocessed Shape: (923463, 4)\n",
            "\n",
            "Central Validation Dataset:\n",
            "Original Shape: (307821, 4)\n",
            "Preprocessed Shape: (307821, 4)\n",
            "\n",
            "Central Test Dataset:\n",
            "Original Shape: (307821, 4)\n",
            "Preprocessed Shape: (307821, 4)\n",
            "\n"
          ]
        }
      ]
    },
    {
      "cell_type": "code",
      "source": [
        "# Check for missing values\n",
        "print(Central_y_train.isnull().sum())\n",
        "print(Central_X_train.isnull().sum())\n",
        "\n",
        "# Replace missing values with mean (you can choose another strategy)\n",
        "Central_y_train.fillna(Central_y_train.mean(), inplace=True)\n",
        "Central_X_train.fillna(Central_X_train.mean(), inplace=True)\n",
        "\n",
        "# Check for missing values\n",
        "print(Central_y_train.isnull().sum())\n",
        "print(Central_X_train.isnull().sum())"
      ],
      "metadata": {
        "colab": {
          "base_uri": "https://localhost:8080/"
        },
        "id": "PqoTpCpfHd8D",
        "outputId": "35d42429-9301-4a4f-9258-13384431e360"
      },
      "execution_count": 21,
      "outputs": [
        {
          "output_type": "stream",
          "name": "stdout",
          "text": [
            "0\n",
            "mean_temp    0\n",
            "pressure     0\n",
            "humidity     0\n",
            "windSpeed    0\n",
            "dtype: int64\n",
            "0\n",
            "mean_temp    0\n",
            "pressure     0\n",
            "humidity     0\n",
            "windSpeed    0\n",
            "dtype: int64\n"
          ]
        },
        {
          "output_type": "stream",
          "name": "stderr",
          "text": [
            "<ipython-input-21-e51efdbfd96c>:7: SettingWithCopyWarning: \n",
            "A value is trying to be set on a copy of a slice from a DataFrame.\n",
            "Try using .loc[row_indexer,col_indexer] = value instead\n",
            "\n",
            "See the caveats in the documentation: https://pandas.pydata.org/pandas-docs/stable/user_guide/indexing.html#returning-a-view-versus-a-copy\n",
            "  Central_X_train.fillna(Central_X_train.mean(), inplace=True)\n",
            "<ipython-input-21-e51efdbfd96c>:7: SettingWithCopyWarning: \n",
            "A value is trying to be set on a copy of a slice from a DataFrame.\n",
            "Try using .loc[row_indexer,col_indexer] = value instead\n",
            "\n",
            "See the caveats in the documentation: https://pandas.pydata.org/pandas-docs/stable/user_guide/indexing.html#returning-a-view-versus-a-copy\n",
            "  Central_X_train.fillna(Central_X_train.mean(), inplace=True)\n",
            "<ipython-input-21-e51efdbfd96c>:7: SettingWithCopyWarning: \n",
            "A value is trying to be set on a copy of a slice from a DataFrame.\n",
            "Try using .loc[row_indexer,col_indexer] = value instead\n",
            "\n",
            "See the caveats in the documentation: https://pandas.pydata.org/pandas-docs/stable/user_guide/indexing.html#returning-a-view-versus-a-copy\n",
            "  Central_X_train.fillna(Central_X_train.mean(), inplace=True)\n",
            "<ipython-input-21-e51efdbfd96c>:7: SettingWithCopyWarning: \n",
            "A value is trying to be set on a copy of a slice from a DataFrame.\n",
            "Try using .loc[row_indexer,col_indexer] = value instead\n",
            "\n",
            "See the caveats in the documentation: https://pandas.pydata.org/pandas-docs/stable/user_guide/indexing.html#returning-a-view-versus-a-copy\n",
            "  Central_X_train.fillna(Central_X_train.mean(), inplace=True)\n"
          ]
        }
      ]
    },
    {
      "cell_type": "markdown",
      "source": [
        "## Model selection"
      ],
      "metadata": {
        "id": "pDqGsD-tGiAH"
      }
    },
    {
      "cell_type": "code",
      "source": [
        "\n"
      ],
      "metadata": {
        "id": "ApIOjk97NJJZ"
      },
      "execution_count": 21,
      "outputs": []
    },
    {
      "cell_type": "code",
      "source": [
        "\n",
        "# # List of models to train\n",
        "# models = [\n",
        "#     LinearRegression(),\n",
        "#     DecisionTreeRegressor(),\n",
        "#     RandomForestRegressor(),\n",
        "#     GradientBoostingRegressor(),\n",
        "#     XGBRegressor(),\n",
        "#     LGBMRegressor(),\n",
        "#     CatBoostRegressor(),\n",
        "#     SVR(),\n",
        "#     MLPRegressor(),\n",
        "#     KNeighborsRegressor()\n",
        "# ]\n",
        "\n",
        "# # Dictionary to store model performances\n",
        "# model_performances = {}\n",
        "\n",
        "# # Train and evaluate each model on the validation set\n",
        "# for model in models:\n",
        "#     model_name = model.__class__.__name__\n",
        "#     print(f\"Training {model_name}...\")\n",
        "#     model.fit(Central_X_train, Central_y_train)\n",
        "\n",
        "#     # Predict on the validation set\n",
        "#     y_pred_val = model.predict(Central_X_val)\n",
        "#     # print(y_pred_val)\n",
        "\n",
        "#     # Calculate Mean Squared Error\n",
        "#     # mse_val = mean_squared_error(Central_y_val, y_pred_val)\n",
        "#     model_performances[model_name] = (Central_y_val-y_pred_val)\n",
        "#     print(model_performances[model_name])\n",
        "\n",
        "# # Find the best-performing model\n",
        "# best_model = min(model_performances, key=model_performances.get)\n",
        "# print(f\"Best-performing model: {best_model} (MSE: {model_performances[best_model]})\")\n"
      ],
      "metadata": {
        "id": "w9syWdcgGg9Y"
      },
      "execution_count": 22,
      "outputs": []
    },
    {
      "cell_type": "code",
      "source": [
        "from sklearn.linear_model import LinearRegression\n",
        "from sklearn.ensemble import RandomForestRegressor\n",
        "import xgboost as xgb\n",
        "import tensorflow as tf\n",
        "from tensorflow import keras\n",
        "from tensorflow.keras import layers\n",
        "\n",
        "# Define models\n",
        "linear_model = LinearRegression()\n",
        "rf_model = RandomForestRegressor(n_estimators=100, random_state=0)\n",
        "xgb_model = xgb.XGBRegressor(n_estimators=100, objective='reg:squarederror', random_state=0)\n",
        "\n",
        "# Remove rows with missing values from both features and target variables\n",
        "Central_train_data_cleaned = Central_train_data.dropna()\n",
        "Central_X_train = Central_train_data_cleaned[['mean_temp', 'pressure', 'humidity', 'windSpeed']]\n",
        "Central_y_train = Central_train_data_cleaned['energy_sum']\n",
        "# Drop rows with NaN values in the target variable\n",
        "Central_val_data.dropna(subset=['energy_sum'], inplace=True)\n",
        "\n",
        "\n",
        "# Train linear model\n",
        "linear_model.fit(Central_X_train, Central_y_train)\n",
        "\n",
        "# Train random forest model\n",
        "rf_model.fit(Central_X_train, Central_y_train)\n",
        "\n",
        "# Train XGBoost model\n",
        "xgb_model.fit(Central_X_train, Central_y_train)\n",
        "\n",
        "# Build a simple feedforward neural network\n",
        "model = keras.Sequential([\n",
        "    layers.Input(shape=(4,)),\n",
        "    layers.Dense(32, activation='relu'),\n",
        "    layers.Dense(16, activation='relu'),\n",
        "    layers.Dense(1)\n",
        "])\n",
        "\n",
        "model.compile(optimizer='adam', loss='mean_squared_error', metrics=['mse'])\n",
        "model.fit(Central_X_train, Central_y_train, epochs=10, batch_size=32, validation_data=(Central_X_val, Central_y_val))\n"
      ],
      "metadata": {
        "colab": {
          "base_uri": "https://localhost:8080/"
        },
        "id": "xZDeUas4R_tS",
        "outputId": "840d1e9c-39a5-4321-885d-b9b1473db1cc"
      },
      "execution_count": 24,
      "outputs": [
        {
          "output_type": "stream",
          "name": "stdout",
          "text": [
            "Epoch 1/10\n",
            "28859/28859 [==============================] - 98s 3ms/step - loss: 125.0429 - mse: 125.0429 - val_loss: 116.8158 - val_mse: 116.8158\n",
            "Epoch 2/10\n",
            "28859/28859 [==============================] - 77s 3ms/step - loss: 118.2098 - mse: 118.2098 - val_loss: 116.5121 - val_mse: 116.5121\n",
            "Epoch 3/10\n",
            "28859/28859 [==============================] - 88s 3ms/step - loss: 118.0703 - mse: 118.0703 - val_loss: 116.4786 - val_mse: 116.4786\n",
            "Epoch 4/10\n",
            "28859/28859 [==============================] - 89s 3ms/step - loss: 118.0396 - mse: 118.0396 - val_loss: 116.7034 - val_mse: 116.7034\n",
            "Epoch 5/10\n",
            "28859/28859 [==============================] - 83s 3ms/step - loss: 118.0431 - mse: 118.0431 - val_loss: 116.5104 - val_mse: 116.5104\n",
            "Epoch 6/10\n",
            "28859/28859 [==============================] - 88s 3ms/step - loss: 118.0317 - mse: 118.0317 - val_loss: 116.4994 - val_mse: 116.4994\n",
            "Epoch 7/10\n",
            "28859/28859 [==============================] - 86s 3ms/step - loss: 118.0182 - mse: 118.0182 - val_loss: 116.6665 - val_mse: 116.6665\n",
            "Epoch 8/10\n",
            "28859/28859 [==============================] - 82s 3ms/step - loss: 118.0347 - mse: 118.0347 - val_loss: 116.4698 - val_mse: 116.4698\n",
            "Epoch 9/10\n",
            "28859/28859 [==============================] - 93s 3ms/step - loss: 118.0239 - mse: 118.0239 - val_loss: 116.6786 - val_mse: 116.6786\n",
            "Epoch 10/10\n",
            "28859/28859 [==============================] - 84s 3ms/step - loss: 118.0208 - mse: 118.0208 - val_loss: 116.5492 - val_mse: 116.5492\n"
          ]
        },
        {
          "output_type": "execute_result",
          "data": {
            "text/plain": [
              "<keras.callbacks.History at 0x7d32088c7820>"
            ]
          },
          "metadata": {},
          "execution_count": 24
        }
      ]
    },
    {
      "cell_type": "markdown",
      "source": [
        "### Defining the Evaluation function"
      ],
      "metadata": {
        "id": "cq6pYV2vajNg"
      }
    },
    {
      "cell_type": "code",
      "source": [
        "from sklearn.metrics import mean_squared_error, mean_absolute_error\n",
        "from sklearn.metrics import r2_score\n",
        "def evaluate_model(model, X, y):\n",
        "    predictions = model.predict(X)\n",
        "    mse = mean_squared_error(y, predictions)\n",
        "    rmse = np.sqrt(mse)\n",
        "    mae = mean_absolute_error(y, predictions)\n",
        "    r2 = r2_score(y, predictions)\n",
        "    print(f\"Model: {model.__class__.__name__}\")\n",
        "    print(\"Mean Squared Error:\", mse)\n",
        "    print(\"Root Mean Squared Error:\", rmse)\n",
        "    print(\"Mean Absolute Error:\", mae)\n",
        "    print(\"R-squared:\", r2)\n",
        "    print(\"R-squared variance:\", r2*100)\n",
        "    print()\n",
        "\n",
        "models = [\n",
        "    (\"Linear Regression\", linear_model),\n",
        "    ('Random Forest', rf_model),\n",
        "    ('XGBoost', xgb_model),\n",
        "    ('Neural Network', model)\n",
        "]\n"
      ],
      "metadata": {
        "id": "Nv4rwuSLaikH"
      },
      "execution_count": 39,
      "outputs": []
    },
    {
      "cell_type": "markdown",
      "source": [
        "### Using the Evalution Function"
      ],
      "metadata": {
        "id": "rOuTnMTmalw5"
      }
    },
    {
      "cell_type": "code",
      "source": [
        "# Define the models as trained earlier\n",
        "models = [\n",
        "    ('Linear Regression', linear_model),\n",
        "    ('Random Forest', rf_model),\n",
        "    ('XGBoost', xgb_model),\n",
        "    ('Neural Network', model)\n",
        "]\n",
        "\n",
        "# Evaluate each model\n",
        "for model_name, model in models:\n",
        "    print(f'\\n{model_name}:')\n",
        "    evaluate_model(model, Central_X_val, Central_y_val)\n"
      ],
      "metadata": {
        "colab": {
          "base_uri": "https://localhost:8080/"
        },
        "id": "ALw9fSQTaTlC",
        "outputId": "32bb0dd6-7e10-4cf9-a02c-ad4eaae5c8c9"
      },
      "execution_count": 40,
      "outputs": [
        {
          "output_type": "stream",
          "name": "stdout",
          "text": [
            "\n",
            "Linear Regression:\n",
            "Model: LinearRegression\n",
            "Mean Squared Error: 116.41037279585728\n",
            "Root Mean Squared Error: 10.789363873549602\n",
            "Mean Absolute Error: 7.052658959584261\n",
            "R-squared: 0.003915117595502782\n",
            "R-squared variance: 0.39151175955027817\n",
            "\n",
            "\n",
            "Random Forest:\n",
            "Model: RandomForestRegressor\n",
            "Mean Squared Error: 115.7289852389329\n",
            "Root Mean Squared Error: 10.757740712572176\n",
            "Mean Absolute Error: 7.013834106158011\n",
            "R-squared: 0.009745524527547733\n",
            "R-squared variance: 0.9745524527547733\n",
            "\n",
            "\n",
            "XGBoost:\n",
            "Model: XGBRegressor\n",
            "Mean Squared Error: 115.72620195775852\n",
            "Root Mean Squared Error: 10.7576113500051\n",
            "Mean Absolute Error: 7.013739946677222\n",
            "R-squared: 0.00976934013980546\n",
            "R-squared variance: 0.976934013980546\n",
            "\n",
            "\n",
            "Neural Network:\n",
            "Model: RandomForestRegressor\n",
            "Mean Squared Error: 115.7289852389329\n",
            "Root Mean Squared Error: 10.757740712572176\n",
            "Mean Absolute Error: 7.013834106158011\n",
            "R-squared: 0.009745524527547733\n",
            "R-squared variance: 0.9745524527547733\n",
            "\n"
          ]
        }
      ]
    },
    {
      "cell_type": "markdown",
      "source": [
        "## Gated Convolution Neural Network (GCNN)"
      ],
      "metadata": {
        "id": "PPpxpmwOpfav"
      }
    },
    {
      "cell_type": "code",
      "source": [
        "# class GatedCNN24(nn.Module):\n",
        "#     def __init__(self, input_channels, hidden_sizes):\n",
        "#         super(GatedCNN24, self).__init__()\n",
        "#         self.input_channels = input_channels\n",
        "#         self.hidden_sizes = hidden_sizes\n",
        "\n",
        "#         self.conv1 = nn.Conv2d(self.input_channels, self.hidden_sizes[0], kernel_size=3, padding=1)\n",
        "#         self.conv2 = nn.Conv2d(self.hidden_sizes[0], self.hidden_sizes[1], kernel_size=3, padding=1)\n",
        "#         self.conv3 = nn.Conv2d(self.hidden_sizes[1], self.hidden_sizes[2], kernel_size=3, padding=1)\n",
        "\n",
        "#         self.gate_conv1 = nn.Conv2d(self.input_channels, self.hidden_sizes[0], kernel_size=3, padding=1)\n",
        "#         self.gate_conv2 = nn.Conv2d(self.hidden_sizes[0], self.hidden_sizes[1], kernel_size=3, padding=1)\n",
        "#         self.gate_conv3 = nn.Conv2d(self.hidden_sizes[1], self.hidden_sizes[2], kernel_size=3, padding=1)\n",
        "\n",
        "#         self.fc1 = nn.Linear(self.hidden_sizes[2], 1)\n",
        "\n",
        "#     def forward(self, x):\n",
        "#         # Convolutional layers\n",
        "#         conv1_out = self.conv1(x)\n",
        "#         conv2_out = self.conv2(conv1_out)\n",
        "#         conv3_out = self.conv3(conv2_out)\n",
        "\n",
        "#         # Gating layers\n",
        "#         gate_conv1_out = torch.sigmoid(self.gate_conv1(x))\n",
        "#         gate_conv2_out = torch.sigmoid(self.gate_conv2(conv1_out))\n",
        "#         gate_conv3_out = torch.sigmoid(self.gate_conv3(conv2_out))\n",
        "\n",
        "#         # Element-wise multiplication (gating)\n",
        "#         gated_conv1 = conv1_out * gate_conv1_out\n",
        "#         gated_conv2 = conv2_out * gate_conv2_out\n",
        "#         gated_conv3 = conv3_out * gate_conv3_out\n",
        "\n",
        "#         # Sum along channels\n",
        "#         gated_sum = gated_conv1 + gated_conv2 + gated_conv3\n",
        "\n",
        "#         # Global average pooling\n",
        "#         pooled = torch.mean(gated_sum, dim=[2, 3])\n",
        "\n",
        "#         # Fully connected layer\n",
        "#         output = self.fc1(pooled)\n",
        "#         return output.squeeze()\n",
        "\n",
        "# class EnergyDataset(Dataset):\n",
        "#     def __init__(self, features, targets):\n",
        "#         self.features = features\n",
        "#         self.targets = targets\n",
        "\n",
        "#     def __len__(self):\n",
        "#         return len(self.features)\n",
        "\n",
        "#     def __getitem__(self, idx):\n",
        "#         inputs = torch.tensor(self.features.iloc[idx].values, dtype=torch.float32)\n",
        "#         target = torch.tensor(self.targets.iloc[idx], dtype=torch.float32)\n",
        "#         return inputs, target\n",
        "\n",
        "# # Define hyperparameters\n",
        "# input_channels = 4  # Number of features\n",
        "# hidden_sizes = [10, 8, 1]\n",
        "# learning_rate = 0.001\n",
        "# num_epochs = 10\n",
        "# batch_size = 50\n",
        "\n",
        "# # Create DataLoader for training\n",
        "# train_dataset = EnergyDataset(Central_X_train, Central_y_train)\n",
        "# train_loader = DataLoader(train_dataset, batch_size=batch_size, shuffle=True)\n",
        "\n",
        "# # Create the model\n",
        "# GatedCNN_model = GatedCNN24(input_channels, hidden_sizes)\n",
        "\n",
        "# # Define loss function and optimizer\n",
        "# criterion = nn.MSELoss()\n",
        "# optimizer = optim.Adam(GatedCNN_model.parameters(), lr=learning_rate)\n",
        "\n",
        "# # Training loop\n",
        "# for epoch in range(num_epochs):\n",
        "#     GatedCNN_model.train()  # Set the model in training mode\n",
        "#     for inputs, targets in train_loader:\n",
        "#         optimizer.zero_grad()\n",
        "\n",
        "#         # Reshape the input tensor to match expected shape [batch_size, channels, height, width]\n",
        "#         inputs = inputs.view(inputs.size(0), input_channels, 1, 1)\n",
        "\n",
        "#         outputs = GatedCNN_model(inputs)\n",
        "#         loss = criterion(outputs, targets)\n",
        "#         loss.backward()\n",
        "#         optimizer.step()\n",
        "\n",
        "#     print(f\"Epoch [{epoch+1}/{num_epochs}], Loss: {loss.item():.4f}\")\n"
      ],
      "metadata": {
        "id": "NciAJdMzmNnl"
      },
      "execution_count": null,
      "outputs": []
    },
    {
      "cell_type": "markdown",
      "source": [
        "## Gated Neural Network model"
      ],
      "metadata": {
        "id": "gcM_OfWUsMvC"
      }
    },
    {
      "cell_type": "code",
      "source": [
        "# # Build the Gated Neural Network model\n",
        "# inputs = Input(shape=(4,))\n",
        "# dense_layer = Dense(16, activation='relu')(inputs)\n",
        "\n",
        "# # Gating mechanism\n",
        "# dense_gate = Dense(16, activation='sigmoid')(inputs)\n",
        "# gated_dense = Multiply()([dense_layer, dense_gate])\n",
        "\n",
        "# output = Dense(1, activation='linear')(gated_dense)\n",
        "\n",
        "# GNN_model = Model(inputs=inputs, outputs=output)\n",
        "\n",
        "# # Compile the model\n",
        "# GNN_model.compile(optimizer='adam', loss='mean_squared_error', metrics=['mse'])\n",
        "\n",
        "# # Train the model\n",
        "# GNN_model.fit(Central_X_train, Central_y_train, epochs=10, batch_size=32, validation_split=0.2)"
      ],
      "metadata": {
        "id": "2pFnAbOBsL8T"
      },
      "execution_count": null,
      "outputs": []
    },
    {
      "cell_type": "markdown",
      "source": [
        " a dataset, a model, a training function, and a test function.\n"
      ],
      "metadata": {
        "id": "7QlrR4FIfyCZ"
      }
    },
    {
      "cell_type": "markdown",
      "source": [
        "Federated learning"
      ],
      "metadata": {
        "id": "McZt0DlYy_Nc"
      }
    },
    {
      "cell_type": "markdown",
      "source": [
        "Centralised training"
      ],
      "metadata": {
        "id": "9rZtEEMkyjPm"
      }
    },
    {
      "cell_type": "markdown",
      "source": [
        "Centralised testing"
      ],
      "metadata": {
        "id": "kfex3L-By79m"
      }
    }
  ],
  "metadata": {
    "colab": {
      "toc_visible": true,
      "provenance": [],
      "collapsed_sections": [
        "gcM_OfWUsMvC"
      ],
      "mount_file_id": "1oLHv4e-uSTEYGSiiJDsM6CuTErnsaA5X",
      "authorship_tag": "ABX9TyMkySs+1EO/5y9wyy2DH5Si",
      "include_colab_link": true
    },
    "kernelspec": {
      "display_name": "Python 3",
      "name": "python3"
    },
    "language_info": {
      "name": "python"
    }
  },
  "nbformat": 4,
  "nbformat_minor": 0
}