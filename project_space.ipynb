{
  "cells": [
    {
      "cell_type": "markdown",
      "metadata": {
        "id": "view-in-github",
        "colab_type": "text"
      },
      "source": [
        "<a href=\"https://colab.research.google.com/github/kirank981/Project_space/blob/main/project_space.ipynb\" target=\"_parent\"><img src=\"https://colab.research.google.com/assets/colab-badge.svg\" alt=\"Open In Colab\"/></a>"
      ]
    },
    {
      "cell_type": "markdown",
      "metadata": {
        "id": "rP5nJnDbJPYO"
      },
      "source": [
        "# Installing dependences\n"
      ]
    },
    {
      "cell_type": "markdown",
      "metadata": {
        "id": "OravxoTjLhVa"
      },
      "source": [
        "Install the necessary packages for PyTorch (torch and torchvision) and Flower (flwr) and pandas"
      ]
    },
    {
      "cell_type": "code",
      "execution_count": 2,
      "metadata": {
        "id": "kpAFZGHjJOOk"
      },
      "outputs": [],
      "source": [
        "!pip install -q flwr[simulation] torch torchvision matplotlib pandas"
      ]
    },
    {
      "cell_type": "markdown",
      "metadata": {
        "id": "SIQeKkPPLUkF"
      },
      "source": [
        "Import everything we need"
      ]
    },
    {
      "cell_type": "code",
      "execution_count": 21,
      "metadata": {
        "colab": {
          "base_uri": "https://localhost:8080/"
        },
        "id": "Sdmn7_KHLVVI",
        "outputId": "b37643fa-adbc-40db-ccc9-9c11410de4f9"
      },
      "outputs": [
        {
          "output_type": "stream",
          "name": "stdout",
          "text": [
            "Training on cpu using PyTorch 2.0.1+cu118 and Flower 1.4.0\n"
          ]
        }
      ],
      "source": [
        "from collections import OrderedDict\n",
        "from typing import List, Tuple\n",
        "\n",
        "from google.colab import drive\n",
        "from pathlib import Path\n",
        "import pandas as pd\n",
        "import matplotlib.pyplot as plt\n",
        "import numpy as np\n",
        "import torch\n",
        "import torch.nn as nn\n",
        "import torch.nn.functional as F\n",
        "import torchvision\n",
        "import torchvision.transforms as transforms\n",
        "from torch.utils.data import DataLoader, random_split\n",
        "from torchvision.datasets import CIFAR10\n",
        "\n",
        "from sklearn.model_selection import train_test_split  # Import the train_test_split function\n",
        "\n",
        "import flwr as fl\n",
        "from flwr.common import Metrics\n",
        "\n",
        "DEVICE = torch.device(\"cpu\")  # Try \"cuda\" to train on GPU\n",
        "print(\n",
        "    f\"Training on {DEVICE} using PyTorch {torch.__version__} and Flower {fl.__version__}\"\n",
        ")"
      ]
    },
    {
      "cell_type": "markdown",
      "metadata": {
        "id": "zeFfbJxnLxF7"
      },
      "source": [
        "# Loading the data"
      ]
    },
    {
      "cell_type": "markdown",
      "metadata": {
        "id": "v6l5c_376GqC"
      },
      "source": [
        "Mounting drive"
      ]
    },
    {
      "cell_type": "code",
      "execution_count": 4,
      "metadata": {
        "colab": {
          "base_uri": "https://localhost:8080/"
        },
        "id": "QSv4I6ji-3of",
        "outputId": "79f8a281-d908-4d3e-e391-cd006e6971bd"
      },
      "outputs": [
        {
          "output_type": "stream",
          "name": "stdout",
          "text": [
            "Drive already mounted at /content/drive; to attempt to forcibly remount, call drive.mount(\"/content/drive\", force_remount=True).\n"
          ]
        }
      ],
      "source": [
        "# Mount Google Drive\n",
        "drive.mount('/content/drive')\n"
      ]
    },
    {
      "cell_type": "markdown",
      "metadata": {
        "id": "8n4a987x-7kd"
      },
      "source": [
        "Setting the path to the location of the file"
      ]
    },
    {
      "cell_type": "code",
      "execution_count": 5,
      "metadata": {
        "id": "jQ1t9RTF91ZQ"
      },
      "outputs": [],
      "source": [
        "# Define the path to daily dataset folder\n",
        "daily_dataset_path = Path('/content/drive/MyDrive/Federated learning implementation/dataset/dataset_archive/daily_dataset/daily_dataset')\n",
        "\n",
        "# Define the path to daily dataset folder\n",
        "weather_daily_dataset_path = Path('/content/drive/MyDrive/Federated learning implementation/dataset/dataset_archive/weather_daily_dataset.csv')\n"
      ]
    },
    {
      "cell_type": "markdown",
      "metadata": {
        "id": "lQ2owcEz6M9K"
      },
      "source": [
        "## Loading daily data\n",
        "(of energy consumption)\n"
      ]
    },
    {
      "cell_type": "code",
      "execution_count": 6,
      "metadata": {
        "id": "QdpP9rwQBqJF"
      },
      "outputs": [],
      "source": [
        "\n",
        "# Initializing list to store dataframes\n",
        "dfs = []\n",
        "\n",
        "# Loop through the CSV files and reading them into dataframes\n",
        "for i in range(111):\n",
        "    filename = f'block_{i}.csv'\n",
        "    df = pd.read_csv(daily_dataset_path / filename)\n",
        "    dfs.append(df)\n",
        "\n",
        "# Concatenating all the dataframes into a single dataframe\n",
        "energy_daily_data = pd.concat(dfs, ignore_index=True)\n",
        "\n",
        "# NRATM(not required at the moment)\n",
        "# # Group the data by LCLid and create a dictionary of dataframes\n",
        "# grouped_data = dict(tuple(energy_daily_data.groupby('LCLid')))\n"
      ]
    },
    {
      "cell_type": "markdown",
      "metadata": {
        "id": "NBAsp3Ky51Bn"
      },
      "source": [
        "Loading data using file name"
      ]
    },
    {
      "cell_type": "code",
      "execution_count": 7,
      "metadata": {
        "colab": {
          "base_uri": "https://localhost:8080/"
        },
        "id": "OeJMbTTY0YZY",
        "outputId": "ab418806-2c49-4941-d835-11b19d1c4aab"
      },
      "outputs": [
        {
          "output_type": "stream",
          "name": "stdout",
          "text": [
            "           LCLid         day  energy_median  energy_mean  energy_max  \\\n",
            "0      MAC000002  2012-10-12         0.1385     0.154304       0.886   \n",
            "1      MAC000002  2012-10-13         0.1800     0.230979       0.933   \n",
            "2      MAC000002  2012-10-14         0.1580     0.275479       1.085   \n",
            "3      MAC000002  2012-10-15         0.1310     0.213688       1.164   \n",
            "4      MAC000002  2012-10-16         0.1450     0.203521       0.991   \n",
            "...          ...         ...            ...          ...         ...   \n",
            "25569  MAC005492  2014-02-24         0.1690     0.175042       0.378   \n",
            "25570  MAC005492  2014-02-25         0.1550     0.160792       0.545   \n",
            "25571  MAC005492  2014-02-26         0.1490     0.178542       0.687   \n",
            "25572  MAC005492  2014-02-27         0.1140     0.146167       0.478   \n",
            "25573  MAC005492  2014-02-28         0.0880     0.088000       0.088   \n",
            "\n",
            "       energy_count  energy_std  energy_sum  energy_min  \n",
            "0                46    0.196034       7.098       0.000  \n",
            "1                48    0.192329      11.087       0.076  \n",
            "2                48    0.274647      13.223       0.070  \n",
            "3                48    0.224483      10.257       0.070  \n",
            "4                48    0.184115       9.769       0.087  \n",
            "...             ...         ...         ...         ...  \n",
            "25569            48    0.073174       8.402       0.079  \n",
            "25570            48    0.082118       7.718       0.079  \n",
            "25571            48    0.120820       8.570       0.079  \n",
            "25572            48    0.082616       7.016       0.079  \n",
            "25573             1         NaN       0.088       0.088  \n",
            "\n",
            "[25574 rows x 9 columns]\n"
          ]
        }
      ],
      "source": [
        "# Loading data from a specific CSV file\n",
        "specific_file_data = pd.read_csv(daily_dataset_path / 'block_0.csv')\n",
        "\n",
        "# Displaying data\n",
        "print(specific_file_data)"
      ]
    },
    {
      "cell_type": "markdown",
      "metadata": {
        "id": "n0b947PkSfrG"
      },
      "source": [
        "### Loading required data\n",
        "Creating a DataFrame that have only the required data"
      ]
    },
    {
      "cell_type": "code",
      "execution_count": 8,
      "metadata": {
        "colab": {
          "base_uri": "https://localhost:8080/"
        },
        "id": "WMsi4uZITUt8",
        "outputId": "d3ca2e53-660f-4bcb-f009-eb72d8ec0e31"
      },
      "outputs": [
        {
          "output_type": "stream",
          "name": "stdout",
          "text": [
            "\n",
            "\n",
            "Data report of MAC000002\n",
            "         LCLid  energy_sum         day\n",
            "0    MAC000002       7.098  2012-10-12\n",
            "1    MAC000002      11.087  2012-10-13\n",
            "2    MAC000002      13.223  2012-10-14\n",
            "3    MAC000002      10.257  2012-10-15\n",
            "4    MAC000002       9.769  2012-10-16\n",
            "..         ...         ...         ...\n",
            "500  MAC000002      12.528  2014-02-24\n",
            "501  MAC000002      11.826  2014-02-25\n",
            "502  MAC000002      12.328  2014-02-26\n",
            "503  MAC000002      20.518  2014-02-27\n",
            "504  MAC000002       1.387  2014-02-28\n",
            "\n",
            "[505 rows x 3 columns]\n"
          ]
        }
      ],
      "source": [
        "selected_column = ['LCLid','energy_sum','day']\n",
        "energy_daily_selected=energy_daily_data[selected_column]\n",
        "# print(energy_daily_selected)\n",
        "\n",
        "# Group the data by LCLid and create a dictionary of dataframes, allowing to access each dataframe separately using the LCLid as the key\n",
        "grouped_data_selected = dict(tuple(energy_daily_selected.groupby('LCLid')))\n",
        "# Display the data for 'MAC000002'\n",
        "print('\\n')\n",
        "print('Data report of MAC000002')\n",
        "print(grouped_data_selected['MAC000002'])\n"
      ]
    },
    {
      "cell_type": "markdown",
      "metadata": {
        "id": "eZumIN7H_Zt-"
      },
      "source": [
        "## Loading daily weather data\n",
        "\n",
        "Creating a 'day' column that stores only the date values from 'time' column\n",
        "(for linking weather dataset 'day' with daily dataset 'day')"
      ]
    },
    {
      "cell_type": "code",
      "execution_count": 9,
      "metadata": {
        "colab": {
          "base_uri": "https://localhost:8080/"
        },
        "id": "Ch2Azrah7Cuj",
        "outputId": "b59fbcb1-a450-413f-fbb6-1d88f9c5410d"
      },
      "outputs": [
        {
          "output_type": "stream",
          "name": "stdout",
          "text": [
            "     temperatureMax   temperatureMaxTime  windBearing                 icon  \\\n",
            "0             11.96  2011-11-11 23:00:00          123                  fog   \n",
            "1              8.59  2011-12-11 14:00:00          198    partly-cloudy-day   \n",
            "2             10.33  2011-12-27 02:00:00          225    partly-cloudy-day   \n",
            "3              8.07  2011-12-02 23:00:00          232                 wind   \n",
            "4              8.22  2011-12-24 23:00:00          252  partly-cloudy-night   \n",
            "..              ...                  ...          ...                  ...   \n",
            "877            9.03  2014-01-26 16:00:00          233    partly-cloudy-day   \n",
            "878           10.31  2014-02-27 14:00:00          224    partly-cloudy-day   \n",
            "879           18.97  2014-03-09 14:00:00          172  partly-cloudy-night   \n",
            "880            8.83  2014-02-12 16:00:00          210                 wind   \n",
            "881            9.90  2014-02-15 12:00:00          233                 wind   \n",
            "\n",
            "     dewPoint   temperatureMinTime  cloudCover  windSpeed  pressure  \\\n",
            "0        9.40  2011-11-11 07:00:00        0.79       3.88   1016.08   \n",
            "1        4.49  2011-12-11 01:00:00        0.56       3.94   1007.71   \n",
            "2        5.47  2011-12-27 23:00:00        0.85       3.54   1032.76   \n",
            "3        3.69  2011-12-02 07:00:00        0.32       3.00   1012.12   \n",
            "4        2.79  2011-12-24 07:00:00        0.37       4.46   1028.17   \n",
            "..        ...                  ...         ...        ...       ...   \n",
            "877      2.39  2014-01-26 21:00:00        0.40       4.55   1002.10   \n",
            "878      3.08  2014-02-27 23:00:00        0.32       4.14   1007.02   \n",
            "879      4.30  2014-03-09 07:00:00        0.04       2.78   1022.44   \n",
            "880      1.94  2014-02-12 01:00:00        0.59       7.24    994.27   \n",
            "881      2.95  2014-02-15 23:00:00        0.35       9.96    988.63   \n",
            "\n",
            "    apparentTemperatureMinTime  ...          sunriseTime  temperatureHighTime  \\\n",
            "0          2011-11-11 07:00:00  ...  2011-11-11 07:12:14  2011-11-11 19:00:00   \n",
            "1          2011-12-11 02:00:00  ...  2011-12-11 07:57:02  2011-12-11 14:00:00   \n",
            "2          2011-12-27 22:00:00  ...  2011-12-27 08:07:06  2011-12-27 14:00:00   \n",
            "3          2011-12-02 07:00:00  ...  2011-12-02 07:46:09  2011-12-02 12:00:00   \n",
            "4          2011-12-24 07:00:00  ...  2011-12-24 08:06:15  2011-12-24 15:00:00   \n",
            "..                         ...  ...                  ...                  ...   \n",
            "877        2014-01-26 22:00:00  ...  2014-01-26 07:48:49  2014-01-26 16:00:00   \n",
            "878        2014-02-27 22:00:00  ...  2014-02-27 06:51:45  2014-02-27 14:00:00   \n",
            "879        2014-03-09 07:00:00  ...  2014-03-09 06:29:49  2014-03-09 14:00:00   \n",
            "880        2014-02-12 01:00:00  ...  2014-02-12 07:21:44  2014-02-12 16:00:00   \n",
            "881        2014-02-15 23:00:00  ...  2014-02-15 07:16:06  2014-02-15 12:00:00   \n",
            "\n",
            "             uvIndexTime                                            summary  \\\n",
            "0    2011-11-11 11:00:00                             Foggy until afternoon.   \n",
            "1    2011-12-11 12:00:00                  Partly cloudy throughout the day.   \n",
            "2    2011-12-27 00:00:00                  Mostly cloudy throughout the day.   \n",
            "3    2011-12-02 10:00:00  Partly cloudy throughout the day and breezy ov...   \n",
            "4    2011-12-24 13:00:00                  Mostly cloudy throughout the day.   \n",
            "..                   ...                                                ...   \n",
            "877  2014-01-26 11:00:00                       Mostly cloudy until evening.   \n",
            "878  2014-02-27 12:00:00                       Partly cloudy until evening.   \n",
            "879  2014-03-09 12:00:00                      Partly cloudy in the evening.   \n",
            "880  2014-02-12 10:00:00  Mostly cloudy until evening and breezy through...   \n",
            "881  2014-02-15 10:00:00           Windy and mostly cloudy until afternoon.   \n",
            "\n",
            "      temperatureLowTime  apparentTemperatureMin  apparentTemperatureMaxTime  \\\n",
            "0    2011-11-11 19:00:00                    6.48         2011-11-11 23:00:00   \n",
            "1    2011-12-12 07:00:00                    0.11         2011-12-11 20:00:00   \n",
            "2    2011-12-27 23:00:00                    5.59         2011-12-27 02:00:00   \n",
            "3    2011-12-02 19:00:00                    0.46         2011-12-02 12:00:00   \n",
            "4    2011-12-24 19:00:00                   -0.51         2011-12-24 23:00:00   \n",
            "..                   ...                     ...                         ...   \n",
            "877  2014-01-27 05:00:00                   -1.30         2014-01-26 15:00:00   \n",
            "878  2014-02-28 02:00:00                    1.41         2014-02-27 14:00:00   \n",
            "879  2014-03-10 05:00:00                    7.08         2014-03-09 14:00:00   \n",
            "880  2014-02-13 05:00:00                   -1.20         2014-02-12 16:00:00   \n",
            "881  2014-02-16 07:00:00                    1.77         2014-02-15 12:00:00   \n",
            "\n",
            "     apparentTemperatureLowTime moonPhase mean_temp  \n",
            "0           2011-11-11 19:00:00      0.52    10.405  \n",
            "1           2011-12-12 08:00:00      0.53     5.535  \n",
            "2           2011-12-28 00:00:00      0.10     9.180  \n",
            "3           2011-12-02 19:00:00      0.25     5.315  \n",
            "4           2011-12-24 20:00:00      0.99     5.695  \n",
            "..                          ...       ...       ...  \n",
            "877         2014-01-27 04:00:00      0.84     6.145  \n",
            "878         2014-02-28 02:00:00      0.93     7.120  \n",
            "879         2014-03-10 06:00:00      0.28    13.310  \n",
            "880         2014-02-13 02:00:00      0.42     5.930  \n",
            "881         2014-02-16 07:00:00      0.52     7.640  \n",
            "\n",
            "[882 rows x 33 columns]\n"
          ]
        }
      ],
      "source": [
        "# Load the weather dataset into a DataFrame\n",
        "weather_daily_data = pd.read_csv(weather_daily_dataset_path)\n",
        "\n",
        "# Convert the 'time' column to datetime format\n",
        "weather_daily_data['time'] = pd.to_datetime(weather_daily_data['time'])\n",
        "\n",
        "# Calculate the mean temperature for each day and store it in a new column 'mean_temp'\n",
        "weather_daily_data['mean_temp'] = (weather_daily_data['temperatureMax'] + weather_daily_data['temperatureMin']) / 2\n",
        "\n",
        "# Print the updated DataFrame\n",
        "print(weather_daily_data)"
      ]
    },
    {
      "cell_type": "markdown",
      "metadata": {
        "id": "XUsgV_WfSTVp"
      },
      "source": [
        "### Loading required data\n",
        "Creating a DataFrame that have only the required data"
      ]
    },
    {
      "cell_type": "code",
      "execution_count": 17,
      "metadata": {
        "colab": {
          "base_uri": "https://localhost:8080/"
        },
        "id": "iRn0x1J8RlPl",
        "outputId": "b83bed77-961b-4eb6-ec90-cc5967975f55"
      },
      "outputs": [
        {
          "output_type": "stream",
          "name": "stdout",
          "text": [
            "     mean_temp  pressure  humidity  windSpeed       time\n",
            "0       10.405   1016.08      0.95       3.88 2011-11-11\n",
            "1        5.535   1007.71      0.88       3.94 2011-12-11\n",
            "2        9.180   1032.76      0.74       3.54 2011-12-27\n",
            "3        5.315   1012.12      0.87       3.00 2011-12-02\n",
            "4        5.695   1028.17      0.80       4.46 2011-12-24\n",
            "..         ...       ...       ...        ...        ...\n",
            "877      6.145   1002.10      0.79       4.55 2014-01-26\n",
            "878      7.120   1007.02      0.74       4.14 2014-02-27\n",
            "879     13.310   1022.44      0.58       2.78 2014-03-09\n",
            "880      5.930    994.27      0.75       7.24 2014-02-12\n",
            "881      7.640    988.63      0.69       9.96 2014-02-15\n",
            "\n",
            "[882 rows x 5 columns]\n"
          ]
        }
      ],
      "source": [
        "# Create a new DataFrame with selected columns\n",
        "selected_columns = ['mean_temp', 'pressure', 'humidity', 'windSpeed', 'time']\n",
        "weather_selected = weather_daily_data[selected_columns]\n",
        "\n",
        "# Print the new dataset\n",
        "print(weather_selected)"
      ]
    },
    {
      "cell_type": "markdown",
      "source": [
        "# Dataset with Household energy consumption values and weather values"
      ],
      "metadata": {
        "id": "yi3pXETWEhtL"
      }
    },
    {
      "cell_type": "markdown",
      "source": [
        "## For one household"
      ],
      "metadata": {
        "id": "Jq2mLT2oJWB5"
      }
    },
    {
      "cell_type": "code",
      "source": [
        "# Convert 'time' column in weather_selected and 'day' column in grouped_data_selected to datetime objects\n",
        "weather_selected['time'] = pd.to_datetime(weather_selected['time'])\n",
        "grouped_data_selected['MAC000246']['day'] = pd.to_datetime(grouped_data_selected['MAC000002']['day'])\n",
        "\n",
        "# Merge the datasets based on the common date values\n",
        "merged_data = pd.merge(weather_selected, grouped_data_selected['MAC000002'], left_on='time', right_on='day', how='inner')\n",
        "\n",
        "# Drop the redundant 'day' column from the merged dataset\n",
        "merged_data.drop(columns=['day'], inplace=True)\n",
        "\n",
        "# Display the merged dataset\n",
        "print(merged_data)"
      ],
      "metadata": {
        "colab": {
          "base_uri": "https://localhost:8080/"
        },
        "id": "1_RZhgHOFHGa",
        "outputId": "8119003c-c3c5-48e8-9c99-45be25e29d4f"
      },
      "execution_count": 18,
      "outputs": [
        {
          "output_type": "stream",
          "name": "stdout",
          "text": [
            "     mean_temp  pressure  humidity  windSpeed       time      LCLid  \\\n",
            "0       10.000   1001.79      0.81       6.54 2012-11-25  MAC000002   \n",
            "1       12.170   1008.74      0.90       5.74 2012-11-20  MAC000002   \n",
            "2        7.830    979.63      0.85       4.07 2012-11-01  MAC000002   \n",
            "3        5.295   1020.29      0.87       3.58 2012-11-06  MAC000002   \n",
            "4        4.650   1001.72      0.80       5.63 2012-12-07  MAC000002   \n",
            "..         ...       ...       ...        ...        ...        ...   \n",
            "273      4.470   1001.76      0.91       1.52 2014-01-30  MAC000002   \n",
            "274      6.145   1002.10      0.79       4.55 2014-01-26  MAC000002   \n",
            "275      7.120   1007.02      0.74       4.14 2014-02-27  MAC000002   \n",
            "276      5.930    994.27      0.75       7.24 2014-02-12  MAC000002   \n",
            "277      7.640    988.63      0.69       9.96 2014-02-15  MAC000002   \n",
            "\n",
            "     energy_sum  \n",
            "0        10.545  \n",
            "1        11.221  \n",
            "2        12.209  \n",
            "3        11.663  \n",
            "4        13.248  \n",
            "..          ...  \n",
            "273      14.166  \n",
            "274      24.040  \n",
            "275      20.518  \n",
            "276      13.812  \n",
            "277      12.570  \n",
            "\n",
            "[278 rows x 7 columns]\n"
          ]
        },
        {
          "output_type": "stream",
          "name": "stderr",
          "text": [
            "<ipython-input-18-81de4eae5631>:2: SettingWithCopyWarning: \n",
            "A value is trying to be set on a copy of a slice from a DataFrame.\n",
            "Try using .loc[row_indexer,col_indexer] = value instead\n",
            "\n",
            "See the caveats in the documentation: https://pandas.pydata.org/pandas-docs/stable/user_guide/indexing.html#returning-a-view-versus-a-copy\n",
            "  weather_selected['time'] = pd.to_datetime(weather_selected['time'])\n"
          ]
        }
      ]
    },
    {
      "cell_type": "markdown",
      "source": [
        "## For all households"
      ],
      "metadata": {
        "id": "jlEy0Fm_JaT5"
      }
    },
    {
      "cell_type": "code",
      "source": [
        "# Convert 'time' column in weather_selected to datetime objects\n",
        "weather_selected['time'] = pd.to_datetime(weather_selected['time'])\n",
        "\n",
        "# Create a list to store the merged data DataFrames\n",
        "merged_data_list = []\n",
        "\n",
        "# Iterate through each LCLid in energy_daily_selected\n",
        "for lclid, data in grouped_data_selected.items():\n",
        "    # Convert 'day' column in current LCLid data to datetime objects\n",
        "    data['day'] = pd.to_datetime(data['day'])\n",
        "\n",
        "    # Merge the current LCLid data with weather_selected based on the common date values\n",
        "    merged_data_lclid = pd.merge(weather_selected, data, left_on='time', right_on='day', how='inner')\n",
        "\n",
        "    # Drop the redundant 'day' column from the merged data\n",
        "    merged_data_lclid.drop(columns=['day'], inplace=True)\n",
        "\n",
        "    # Append the merged data to the merged_data_list\n",
        "    merged_data_list.append(merged_data_lclid)\n",
        "\n",
        "# Concatenate the merged data DataFrames in the list\n",
        "merged_data = pd.concat(merged_data_list, ignore_index=True)\n",
        "\n",
        "# Display the merged dataset\n",
        "print(merged_data)\n",
        "\n",
        "\n",
        "\n",
        "\n"
      ],
      "metadata": {
        "colab": {
          "base_uri": "https://localhost:8080/"
        },
        "id": "wqUqCBNEHb8P",
        "outputId": "ef6341eb-f900-41c5-a3c1-bed5f8c1545a"
      },
      "execution_count": 19,
      "outputs": [
        {
          "output_type": "stream",
          "name": "stderr",
          "text": [
            "<ipython-input-19-0376878d820b>:2: SettingWithCopyWarning: \n",
            "A value is trying to be set on a copy of a slice from a DataFrame.\n",
            "Try using .loc[row_indexer,col_indexer] = value instead\n",
            "\n",
            "See the caveats in the documentation: https://pandas.pydata.org/pandas-docs/stable/user_guide/indexing.html#returning-a-view-versus-a-copy\n",
            "  weather_selected['time'] = pd.to_datetime(weather_selected['time'])\n"
          ]
        },
        {
          "output_type": "stream",
          "name": "stdout",
          "text": [
            "         mean_temp  pressure  humidity  windSpeed       time      LCLid  \\\n",
            "0           10.000   1001.79      0.81       6.54 2012-11-25  MAC000002   \n",
            "1           12.170   1008.74      0.90       5.74 2012-11-20  MAC000002   \n",
            "2            7.830    979.63      0.85       4.07 2012-11-01  MAC000002   \n",
            "3            5.295   1020.29      0.87       3.58 2012-11-06  MAC000002   \n",
            "4            4.650   1001.72      0.80       5.63 2012-12-07  MAC000002   \n",
            "...            ...       ...       ...        ...        ...        ...   \n",
            "1541994      4.470   1001.76      0.91       1.52 2014-01-30  MAC005567   \n",
            "1541995      6.145   1002.10      0.79       4.55 2014-01-26  MAC005567   \n",
            "1541996      7.120   1007.02      0.74       4.14 2014-02-27  MAC005567   \n",
            "1541997      5.930    994.27      0.75       7.24 2014-02-12  MAC005567   \n",
            "1541998      7.640    988.63      0.69       9.96 2014-02-15  MAC005567   \n",
            "\n",
            "         energy_sum  \n",
            "0            10.545  \n",
            "1            11.221  \n",
            "2            12.209  \n",
            "3            11.663  \n",
            "4            13.248  \n",
            "...             ...  \n",
            "1541994       4.397  \n",
            "1541995       5.918  \n",
            "1541996       3.217  \n",
            "1541997       5.845  \n",
            "1541998       7.075  \n",
            "\n",
            "[1541999 rows x 7 columns]\n"
          ]
        }
      ]
    },
    {
      "cell_type": "markdown",
      "source": [
        "Storing the dataset in a .csv file"
      ],
      "metadata": {
        "id": "4W3dP-CyJDMU"
      }
    },
    {
      "cell_type": "markdown",
      "metadata": {
        "id": "IVelsQ53430r"
      },
      "source": [
        "# Splitting dataset to training and testing sets\n",
        "\n"
      ]
    },
    {
      "cell_type": "markdown",
      "source": [
        "Counting amount of data for each LCLid (data available for each household)"
      ],
      "metadata": {
        "id": "FWB2ilpvq0_-"
      }
    },
    {
      "cell_type": "code",
      "source": [
        "\n",
        "\n",
        "# Convert 'time' column in weather_selected to datetime objects\n",
        "weather_selected['time'] = pd.to_datetime(weather_selected['time'])\n",
        "\n",
        "# Merge the data into merged_data DataFrame as described in your previous code\n",
        "\n",
        "# Count the number of data rows for each LCLid\n",
        "lclid_data_counts = merged_data['LCLid'].value_counts()\n",
        "\n",
        "# Display the counts for each LCLid\n",
        "print(\"Data row counts for each LCLid:\")\n",
        "print(lclid_data_counts)\n"
      ],
      "metadata": {
        "colab": {
          "base_uri": "https://localhost:8080/"
        },
        "id": "k_1dDvPeoXFD",
        "outputId": "0c480366-a894-4b28-b57f-d64d8b83eea4"
      },
      "execution_count": 25,
      "outputs": [
        {
          "output_type": "stream",
          "name": "stdout",
          "text": [
            "Data row counts for each LCLid:\n",
            "MAC000145    402\n",
            "MAC000147    402\n",
            "MAC000148    402\n",
            "MAC000149    402\n",
            "MAC000150    402\n",
            "            ... \n",
            "MAC005560      1\n",
            "MAC001150      1\n",
            "MAC005563      1\n",
            "MAC001957      1\n",
            "MAC005565      1\n",
            "Name: LCLid, Length: 5549, dtype: int64\n"
          ]
        },
        {
          "output_type": "stream",
          "name": "stderr",
          "text": [
            "<ipython-input-25-c296b762a5e4>:4: SettingWithCopyWarning: \n",
            "A value is trying to be set on a copy of a slice from a DataFrame.\n",
            "Try using .loc[row_indexer,col_indexer] = value instead\n",
            "\n",
            "See the caveats in the documentation: https://pandas.pydata.org/pandas-docs/stable/user_guide/indexing.html#returning-a-view-versus-a-copy\n",
            "  weather_selected['time'] = pd.to_datetime(weather_selected['time'])\n"
          ]
        }
      ]
    },
    {
      "cell_type": "markdown",
      "source": [
        "Identifiting the no of households with insufficient amount of data"
      ],
      "metadata": {
        "id": "wIjz5a0irBRy"
      }
    },
    {
      "cell_type": "code",
      "source": [
        "# Count the number of data rows for each LCLid\n",
        "lclid_data_counts = merged_data['LCLid'].value_counts()\n",
        "\n",
        "\n",
        "# Get the total number of unique LCLid values\n",
        "total_lclids = len(lclid_data_counts)\n",
        "\n",
        "# Count the number of LCLid values with less than 100 data rows\n",
        "count_less_than_100 = (lclid_data_counts < 100).sum()\n",
        "\n",
        "# Display the count of LCLid values with less than 100 data rows\n",
        "print(\"Number of LCLid values with less than 100 data rows:\", count_less_than_100)\n",
        "\n",
        "# Display the total number of unique LCLid values\n",
        "print(\"Total number of unique LCLid values:\", total_lclids)"
      ],
      "metadata": {
        "colab": {
          "base_uri": "https://localhost:8080/"
        },
        "id": "HlmWA354pGgO",
        "outputId": "7868faf3-a74c-4df1-be2a-ed87d771db90"
      },
      "execution_count": 30,
      "outputs": [
        {
          "output_type": "stream",
          "name": "stdout",
          "text": [
            "Number of LCLid values with less than 50 data rows: 61\n",
            "Total number of unique LCLid values: 5549\n"
          ]
        }
      ]
    },
    {
      "cell_type": "markdown",
      "source": [
        "Removing the households with less data, from the dataset"
      ],
      "metadata": {
        "id": "SA9X4z0irXP7"
      }
    },
    {
      "cell_type": "code",
      "source": [
        "# Get the list of LCLid values with less than 100 data rows\n",
        "lclids_to_remove = lclid_data_counts[lclid_data_counts < 100].index\n",
        "\n",
        "# Remove rows corresponding to LCLid values with less than 100 data rows\n",
        "filtered_data = merged_data[~merged_data['LCLid'].isin(lclids_to_remove)]\n",
        "\n",
        "# Display the filtered data\n",
        "print(filtered_data)"
      ],
      "metadata": {
        "colab": {
          "base_uri": "https://localhost:8080/"
        },
        "id": "3VuTC5T5pphX",
        "outputId": "b384855d-2b2d-4410-96e1-4b9f3030afc4"
      },
      "execution_count": 32,
      "outputs": [
        {
          "output_type": "stream",
          "name": "stdout",
          "text": [
            "         mean_temp  pressure  humidity  windSpeed       time      LCLid  \\\n",
            "0           10.000   1001.79      0.81       6.54 2012-11-25  MAC000002   \n",
            "1           12.170   1008.74      0.90       5.74 2012-11-20  MAC000002   \n",
            "2            7.830    979.63      0.85       4.07 2012-11-01  MAC000002   \n",
            "3            5.295   1020.29      0.87       3.58 2012-11-06  MAC000002   \n",
            "4            4.650   1001.72      0.80       5.63 2012-12-07  MAC000002   \n",
            "...            ...       ...       ...        ...        ...        ...   \n",
            "1541994      4.470   1001.76      0.91       1.52 2014-01-30  MAC005567   \n",
            "1541995      6.145   1002.10      0.79       4.55 2014-01-26  MAC005567   \n",
            "1541996      7.120   1007.02      0.74       4.14 2014-02-27  MAC005567   \n",
            "1541997      5.930    994.27      0.75       7.24 2014-02-12  MAC005567   \n",
            "1541998      7.640    988.63      0.69       9.96 2014-02-15  MAC005567   \n",
            "\n",
            "         energy_sum  \n",
            "0            10.545  \n",
            "1            11.221  \n",
            "2            12.209  \n",
            "3            11.663  \n",
            "4            13.248  \n",
            "...             ...  \n",
            "1541994       4.397  \n",
            "1541995       5.918  \n",
            "1541996       3.217  \n",
            "1541997       5.845  \n",
            "1541998       7.075  \n",
            "\n",
            "[1538719 rows x 7 columns]\n"
          ]
        }
      ]
    },
    {
      "cell_type": "markdown",
      "source": [
        "Splitting the dataset to train and test where the split ratio(70:30) is made with every househould's data."
      ],
      "metadata": {
        "id": "IlfwiI3Rrm1X"
      }
    },
    {
      "cell_type": "code",
      "execution_count": 34,
      "metadata": {
        "id": "mjDCXMXoizi1",
        "colab": {
          "base_uri": "https://localhost:8080/"
        },
        "outputId": "744e19e9-b8f9-4190-da86-1dfccd27a18a"
      },
      "outputs": [
        {
          "output_type": "stream",
          "name": "stdout",
          "text": [
            "Training set:\n",
            "         mean_temp  pressure  humidity  windSpeed       time      LCLid  \\\n",
            "0           10.000   1001.79      0.81       6.54 2012-11-25  MAC000002   \n",
            "1           12.170   1008.74      0.90       5.74 2012-11-20  MAC000002   \n",
            "2            7.830    979.63      0.85       4.07 2012-11-01  MAC000002   \n",
            "3            5.295   1020.29      0.87       3.58 2012-11-06  MAC000002   \n",
            "4            4.650   1001.72      0.80       5.63 2012-12-07  MAC000002   \n",
            "...            ...       ...       ...        ...        ...        ...   \n",
            "1073948      9.250   1035.16      0.92       3.15 2013-01-05  MAC005567   \n",
            "1073949      4.300   1000.03      0.73       7.30 2013-02-05  MAC005567   \n",
            "1073950      3.725   1015.96      0.75       4.73 2013-03-21  MAC005567   \n",
            "1073951     12.090    999.46      0.88       4.86 2013-11-06  MAC005567   \n",
            "1073952     10.035   1006.93      0.77       7.85 2013-01-30  MAC005567   \n",
            "\n",
            "         energy_sum  \n",
            "0            10.545  \n",
            "1            11.221  \n",
            "2            12.209  \n",
            "3            11.663  \n",
            "4            13.248  \n",
            "...             ...  \n",
            "1073948       3.919  \n",
            "1073949       6.883  \n",
            "1073950       6.504  \n",
            "1073951       4.098  \n",
            "1073952       5.867  \n",
            "\n",
            "[1073953 rows x 7 columns]\n",
            "Test set:\n",
            "        mean_temp  pressure  humidity  windSpeed       time      LCLid  \\\n",
            "0           6.780   1005.47      0.84       5.95 2013-01-28  MAC000002   \n",
            "1           5.685   1023.72      0.73       6.12 2013-12-05  MAC000002   \n",
            "2           2.630   1018.79      0.86       0.68 2013-02-09  MAC000002   \n",
            "3           4.965   1006.45      0.86       3.61 2013-01-26  MAC000002   \n",
            "4           4.140   1014.89      0.84       3.07 2013-12-29  MAC000002   \n",
            "...           ...       ...       ...        ...        ...        ...   \n",
            "464761      4.470   1001.76      0.91       1.52 2014-01-30  MAC005567   \n",
            "464762      6.145   1002.10      0.79       4.55 2014-01-26  MAC005567   \n",
            "464763      7.120   1007.02      0.74       4.14 2014-02-27  MAC005567   \n",
            "464764      5.930    994.27      0.75       7.24 2014-02-12  MAC005567   \n",
            "464765      7.640    988.63      0.69       9.96 2014-02-15  MAC005567   \n",
            "\n",
            "        energy_sum  \n",
            "0            9.907  \n",
            "1           10.495  \n",
            "2           14.746  \n",
            "3           16.348  \n",
            "4           14.982  \n",
            "...            ...  \n",
            "464761       4.397  \n",
            "464762       5.918  \n",
            "464763       3.217  \n",
            "464764       5.845  \n",
            "464765       7.075  \n",
            "\n",
            "[464766 rows x 7 columns]\n"
          ]
        }
      ],
      "source": [
        "# Define the split percentages\n",
        "train_percentage = 0.7  # 70% for training, 30% for testing\n",
        "min_data_points = 10  # Minimum number of data points required for an LCLid\n",
        "\n",
        "# Create a list to store DataFrames for training and testing\n",
        "train_data_list = []\n",
        "test_data_list = []\n",
        "\n",
        "# Iterate through each unique LCLid and split the data based on train_percentage\n",
        "unique_lclids = filtered_data['LCLid'].unique()\n",
        "for lclid in unique_lclids:\n",
        "    lclid_data = filtered_data[filtered_data['LCLid'] == lclid]\n",
        "\n",
        "    # Check if there are sufficient data points for the current LCLid\n",
        "    if len(lclid_data) >= min_data_points:\n",
        "        # Split the data for the current LCLid into training and test sets\n",
        "        train_data_lclid, test_data_lclid = train_test_split(lclid_data, train_size=train_percentage, shuffle=False)\n",
        "\n",
        "        # Append to the train_data_list and test_data_list\n",
        "        train_data_list.append(train_data_lclid)\n",
        "        test_data_list.append(test_data_lclid)\n",
        "\n",
        "# Concatenate the DataFrames in the lists\n",
        "FL_train_set = pd.concat(train_data_list, ignore_index=True)\n",
        "FL_test_set = pd.concat(test_data_list, ignore_index=True)\n",
        "\n",
        "# Display the training and test sets\n",
        "print(\"Training set:\")\n",
        "print(FL_train_set)\n",
        "print(\"Test set:\")\n",
        "print(FL_test_set)\n"
      ]
    },
    {
      "cell_type": "code",
      "source": [
        "# Randomize the rows of filtered_data\n",
        "filtered_data = filtered_data.sample(frac=1, random_state=42)\n",
        "\n",
        "# Define the split percentages\n",
        "train_percentage = 0.7  # 70% for training, 30% for testing\n",
        "\n",
        "# Split the data into training and test sets\n",
        "Central_train_data, Central_test_data = train_test_split(filtered_data, train_size=train_percentage, random_state=42)\n",
        "\n",
        "# Display the training and test sets\n",
        "print(\"Training set:\")\n",
        "print(Central_train_data)\n",
        "print(\"Test set:\")\n",
        "print(Central_test_data)"
      ],
      "metadata": {
        "colab": {
          "base_uri": "https://localhost:8080/"
        },
        "id": "YQOhoHUdtI7e",
        "outputId": "13b4da1a-aa67-46ed-e3f4-bd359726f536"
      },
      "execution_count": 35,
      "outputs": [
        {
          "output_type": "stream",
          "name": "stdout",
          "text": [
            "Training set:\n",
            "         mean_temp  pressure  humidity  windSpeed       time      LCLid  \\\n",
            "1144520      2.630   1018.79      0.86       0.68 2013-02-09  MAC004202   \n",
            "1279662      6.915   1023.52      0.70       1.11 2013-02-16  MAC004663   \n",
            "562072       7.760   1032.19      0.96       2.23 2013-01-06  MAC002020   \n",
            "1412775      5.490   1021.19      0.90       0.93 2013-01-09  MAC005119   \n",
            "288647       2.825   1015.57      0.67       1.81 2013-03-14  MAC000974   \n",
            "...            ...       ...       ...        ...        ...        ...   \n",
            "687152       7.760   1022.69      0.92       0.62 2012-11-15  MAC002497   \n",
            "1364493      0.845   1027.42      0.96       0.93 2012-02-05  MAC004953   \n",
            "223876       3.520   1015.47      0.71       4.97 2013-02-02  MAC000731   \n",
            "1325386      7.755    997.84      0.91       2.38 2012-11-10  MAC004835   \n",
            "462361      12.360   1016.56      0.89       4.42 2013-10-31  MAC001640   \n",
            "\n",
            "         energy_sum  \n",
            "1144520       4.716  \n",
            "1279662       0.903  \n",
            "562072       11.490  \n",
            "1412775      20.567  \n",
            "288647        8.720  \n",
            "...             ...  \n",
            "687152       20.380  \n",
            "1364493      23.623  \n",
            "223876        5.920  \n",
            "1325386      10.207  \n",
            "462361        6.379  \n",
            "\n",
            "[1077103 rows x 7 columns]\n",
            "Test set:\n",
            "         mean_temp  pressure  humidity  windSpeed       time      LCLid  \\\n",
            "226672       5.490   1021.19      0.90       0.93 2013-01-09  MAC000743   \n",
            "555093       5.250   1024.86      0.94       2.28 2013-12-12  MAC001992   \n",
            "952797       7.660   1011.57      0.87       3.29 2014-02-19  MAC003488   \n",
            "1493634      5.900   1015.79      0.79       2.61 2013-11-10  MAC005387   \n",
            "117795       5.400   1016.89      0.82       4.00 2013-01-01  MAC000336   \n",
            "...            ...       ...       ...        ...        ...        ...   \n",
            "1023978      7.570    999.72      0.89       3.07 2012-12-16  MAC003754   \n",
            "1050577     10.030   1008.71      0.89       2.95 2012-10-29  MAC003851   \n",
            "863411       3.355   1023.08      0.78       4.86 2013-02-20  MAC003152   \n",
            "943594       1.710   1014.56      0.68       2.80 2013-03-31  MAC003453   \n",
            "705256       8.725   1012.46      0.83       4.00 2014-01-25  MAC002563   \n",
            "\n",
            "         energy_sum  \n",
            "226672       16.374  \n",
            "555093        5.692  \n",
            "952797       11.917  \n",
            "1493634      12.427  \n",
            "117795        7.524  \n",
            "...             ...  \n",
            "1023978      11.314  \n",
            "1050577      15.249  \n",
            "863411        5.012  \n",
            "943594       13.877  \n",
            "705256       11.162  \n",
            "\n",
            "[461616 rows x 7 columns]\n"
          ]
        }
      ]
    }
  ],
  "metadata": {
    "colab": {
      "toc_visible": true,
      "provenance": [],
      "mount_file_id": "1oLHv4e-uSTEYGSiiJDsM6CuTErnsaA5X",
      "authorship_tag": "ABX9TyP56aswJgQOh8hMr0VD6FMD",
      "include_colab_link": true
    },
    "kernelspec": {
      "display_name": "Python 3",
      "name": "python3"
    },
    "language_info": {
      "name": "python"
    }
  },
  "nbformat": 4,
  "nbformat_minor": 0
}