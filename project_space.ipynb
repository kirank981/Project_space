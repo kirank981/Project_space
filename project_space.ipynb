{
  "cells": [
    {
      "cell_type": "markdown",
      "metadata": {
        "id": "view-in-github",
        "colab_type": "text"
      },
      "source": [
        "<a href=\"https://colab.research.google.com/github/kirank981/Project_space/blob/main/project_space.ipynb\" target=\"_parent\"><img src=\"https://colab.research.google.com/assets/colab-badge.svg\" alt=\"Open In Colab\"/></a>"
      ]
    },
    {
      "cell_type": "markdown",
      "metadata": {
        "id": "rP5nJnDbJPYO"
      },
      "source": [
        "# Installing dependences\n"
      ]
    },
    {
      "cell_type": "markdown",
      "metadata": {
        "id": "OravxoTjLhVa"
      },
      "source": [
        "Install the necessary packages for PyTorch (torch and torchvision) and Flower (flwr) and pandas"
      ]
    },
    {
      "cell_type": "code",
      "execution_count": 46,
      "metadata": {
        "id": "kpAFZGHjJOOk"
      },
      "outputs": [],
      "source": [
        "!pip install -q flwr[simulation] torch torchvision matplotlib pandas"
      ]
    },
    {
      "cell_type": "markdown",
      "metadata": {
        "id": "SIQeKkPPLUkF"
      },
      "source": [
        "Import everything we need"
      ]
    },
    {
      "cell_type": "code",
      "execution_count": 47,
      "metadata": {
        "colab": {
          "base_uri": "https://localhost:8080/"
        },
        "id": "Sdmn7_KHLVVI",
        "outputId": "94605bfd-fb88-439c-9a65-2b23d6233282"
      },
      "outputs": [
        {
          "output_type": "stream",
          "name": "stdout",
          "text": [
            "Requirement already satisfied: catboost in /usr/local/lib/python3.10/dist-packages (1.2)\n",
            "Requirement already satisfied: graphviz in /usr/local/lib/python3.10/dist-packages (from catboost) (0.20.1)\n",
            "Requirement already satisfied: matplotlib in /usr/local/lib/python3.10/dist-packages (from catboost) (3.7.1)\n",
            "Requirement already satisfied: numpy>=1.16.0 in /usr/local/lib/python3.10/dist-packages (from catboost) (1.23.5)\n",
            "Requirement already satisfied: pandas>=0.24 in /usr/local/lib/python3.10/dist-packages (from catboost) (1.5.3)\n",
            "Requirement already satisfied: scipy in /usr/local/lib/python3.10/dist-packages (from catboost) (1.10.1)\n",
            "Requirement already satisfied: plotly in /usr/local/lib/python3.10/dist-packages (from catboost) (5.15.0)\n",
            "Requirement already satisfied: six in /usr/local/lib/python3.10/dist-packages (from catboost) (1.16.0)\n",
            "Requirement already satisfied: python-dateutil>=2.8.1 in /usr/local/lib/python3.10/dist-packages (from pandas>=0.24->catboost) (2.8.2)\n",
            "Requirement already satisfied: pytz>=2020.1 in /usr/local/lib/python3.10/dist-packages (from pandas>=0.24->catboost) (2023.3)\n",
            "Requirement already satisfied: contourpy>=1.0.1 in /usr/local/lib/python3.10/dist-packages (from matplotlib->catboost) (1.1.0)\n",
            "Requirement already satisfied: cycler>=0.10 in /usr/local/lib/python3.10/dist-packages (from matplotlib->catboost) (0.11.0)\n",
            "Requirement already satisfied: fonttools>=4.22.0 in /usr/local/lib/python3.10/dist-packages (from matplotlib->catboost) (4.42.0)\n",
            "Requirement already satisfied: kiwisolver>=1.0.1 in /usr/local/lib/python3.10/dist-packages (from matplotlib->catboost) (1.4.4)\n",
            "Requirement already satisfied: packaging>=20.0 in /usr/local/lib/python3.10/dist-packages (from matplotlib->catboost) (23.1)\n",
            "Requirement already satisfied: pillow>=6.2.0 in /usr/local/lib/python3.10/dist-packages (from matplotlib->catboost) (9.4.0)\n",
            "Requirement already satisfied: pyparsing>=2.3.1 in /usr/local/lib/python3.10/dist-packages (from matplotlib->catboost) (3.1.1)\n",
            "Requirement already satisfied: tenacity>=6.2.0 in /usr/local/lib/python3.10/dist-packages (from plotly->catboost) (8.2.2)\n",
            "Training on cpu using PyTorch 2.0.1+cu118 and Flower 1.4.0\n"
          ]
        }
      ],
      "source": [
        "from collections import OrderedDict\n",
        "from typing import List, Tuple\n",
        "\n",
        "from google.colab import drive\n",
        "from pathlib import Path\n",
        "import pandas as pd\n",
        "import matplotlib.pyplot as plt\n",
        "import numpy as np\n",
        "import torch\n",
        "import torch.nn as nn\n",
        "import torch.nn.functional as F\n",
        "import torchvision\n",
        "import torchvision.transforms as transforms\n",
        "from torch.utils.data import DataLoader, random_split\n",
        "# from torchvision.datasets import CIFAR10\n",
        "\n",
        "\n",
        "\n",
        "from sklearn.model_selection import train_test_split  # Import the train_test_split function\n",
        "import numpy as np\n",
        "import tensorflow as tf\n",
        "from sklearn.preprocessing import StandardScaler\n",
        "from sklearn.impute import SimpleImputer\n",
        "import torch.optim as optim\n",
        "from torch.utils.data import DataLoader, Dataset\n",
        "\n",
        "!pip install catboost\n",
        "from sklearn.linear_model import LinearRegression\n",
        "from sklearn.tree import DecisionTreeRegressor\n",
        "from sklearn.ensemble import RandomForestRegressor, GradientBoostingRegressor\n",
        "from xgboost import XGBRegressor\n",
        "from lightgbm import LGBMRegressor\n",
        "from catboost import CatBoostRegressor\n",
        "from sklearn.svm import SVR\n",
        "from sklearn.neural_network import MLPRegressor\n",
        "from sklearn.neighbors import KNeighborsRegressor\n",
        "from sklearn.metrics import mean_squared_error\n",
        "\n",
        "# from tensorflow.keras.layers import Conv2D, Multiply, Input\n",
        "# from tensorflow.keras.models import Model\n",
        "# from tensorflow.keras.layers import Input, Dense, Multiply\n",
        "\n",
        "import flwr as fl\n",
        "from flwr.common import Metrics\n",
        "\n",
        "DEVICE = torch.device(\"cpu\")  # Try \"cuda\" to train on GPU\n",
        "print(\n",
        "    f\"Training on {DEVICE} using PyTorch {torch.__version__} and Flower {fl.__version__}\"\n",
        ")"
      ]
    },
    {
      "cell_type": "markdown",
      "metadata": {
        "id": "zeFfbJxnLxF7"
      },
      "source": [
        "# Loading the data"
      ]
    },
    {
      "cell_type": "markdown",
      "metadata": {
        "id": "v6l5c_376GqC"
      },
      "source": [
        "Mounting drive"
      ]
    },
    {
      "cell_type": "code",
      "execution_count": 48,
      "metadata": {
        "colab": {
          "base_uri": "https://localhost:8080/"
        },
        "id": "QSv4I6ji-3of",
        "outputId": "ab25ff3c-4227-4f16-faac-a430e02be9e0"
      },
      "outputs": [
        {
          "output_type": "stream",
          "name": "stdout",
          "text": [
            "Drive already mounted at /content/drive; to attempt to forcibly remount, call drive.mount(\"/content/drive\", force_remount=True).\n"
          ]
        }
      ],
      "source": [
        "# Mount Google Drive\n",
        "drive.mount('/content/drive')\n"
      ]
    },
    {
      "cell_type": "markdown",
      "metadata": {
        "id": "8n4a987x-7kd"
      },
      "source": [
        "Setting the path to the location of the file"
      ]
    },
    {
      "cell_type": "code",
      "execution_count": 49,
      "metadata": {
        "id": "jQ1t9RTF91ZQ"
      },
      "outputs": [],
      "source": [
        "# Define the path to daily dataset folder\n",
        "daily_dataset_path = Path('/content/drive/MyDrive/Federated learning implementation/dataset/dataset_archive/daily_dataset/daily_dataset')\n",
        "\n",
        "# Define the path to daily dataset folder\n",
        "weather_daily_dataset_path = Path('/content/drive/MyDrive/Federated learning implementation/dataset/dataset_archive/weather_daily_dataset.csv')\n"
      ]
    },
    {
      "cell_type": "markdown",
      "metadata": {
        "id": "lQ2owcEz6M9K"
      },
      "source": [
        "## Loading daily data\n",
        "(of energy consumption)\n"
      ]
    },
    {
      "cell_type": "code",
      "execution_count": 50,
      "metadata": {
        "id": "QdpP9rwQBqJF"
      },
      "outputs": [],
      "source": [
        "\n",
        "# Initializing list to store dataframes\n",
        "dfs = []\n",
        "\n",
        "# Loop through the CSV files and reading them into dataframes\n",
        "for i in range(1):\n",
        "    filename = f'block_{i}.csv'\n",
        "    df = pd.read_csv(daily_dataset_path / filename)\n",
        "    dfs.append(df)\n",
        "\n",
        "# Concatenating all the dataframes into a single dataframe\n",
        "energy_daily_data = pd.concat(dfs, ignore_index=True)\n",
        "\n",
        "# NRATM(Not Required At The Moment)\n",
        "# # Group the data by LCLid and create a dictionary of dataframes\n",
        "# grouped_data = dict(tuple(energy_daily_data.groupby('LCLid')))\n"
      ]
    },
    {
      "cell_type": "markdown",
      "metadata": {
        "id": "NBAsp3Ky51Bn"
      },
      "source": [
        "Loading data using file name"
      ]
    },
    {
      "cell_type": "code",
      "execution_count": 51,
      "metadata": {
        "colab": {
          "base_uri": "https://localhost:8080/"
        },
        "id": "OeJMbTTY0YZY",
        "outputId": "8119af3c-8db5-443b-dcd7-9809ec37117f"
      },
      "outputs": [
        {
          "output_type": "stream",
          "name": "stdout",
          "text": [
            "          LCLid         day  energy_median  energy_mean  energy_max  \\\n",
            "0     MAC000002  2012-10-12         0.1385     0.154304       0.886   \n",
            "1     MAC000002  2012-10-13         0.1800     0.230979       0.933   \n",
            "2     MAC000002  2012-10-14         0.1580     0.275479       1.085   \n",
            "3     MAC000002  2012-10-15         0.1310     0.213688       1.164   \n",
            "4     MAC000002  2012-10-16         0.1450     0.203521       0.991   \n",
            "...         ...         ...            ...          ...         ...   \n",
            "1316  MAC000246  2014-02-23         0.4850     0.619083       1.644   \n",
            "1317  MAC000246  2014-02-24         0.1245     0.394479       2.643   \n",
            "1318  MAC000246  2014-02-25         0.2870     0.494104       2.205   \n",
            "1319  MAC000246  2014-02-26         0.2570     0.324208       1.158   \n",
            "1320  MAC000246  2014-02-27         0.1365     0.333875       2.436   \n",
            "\n",
            "      energy_count  energy_std  energy_sum  energy_min  \n",
            "0               46    0.196034       7.098       0.000  \n",
            "1               48    0.192329      11.087       0.076  \n",
            "2               48    0.274647      13.223       0.070  \n",
            "3               48    0.224483      10.257       0.070  \n",
            "4               48    0.184115       9.769       0.087  \n",
            "...            ...         ...         ...         ...  \n",
            "1316            48    0.481155      29.716       0.045  \n",
            "1317            48    0.577050      18.935       0.031  \n",
            "1318            48    0.484374      23.717       0.031  \n",
            "1319            48    0.289996      15.562       0.062  \n",
            "1320            48    0.477727      16.026       0.032  \n",
            "\n",
            "[1321 rows x 9 columns]\n"
          ]
        }
      ],
      "source": [
        "# Loading data from a specific CSV file\n",
        "specific_file_data = pd.read_csv(daily_dataset_path / 'LCLid_3nos.csv')\n",
        "\n",
        "# Displaying data\n",
        "print(specific_file_data)"
      ]
    },
    {
      "cell_type": "markdown",
      "metadata": {
        "id": "n0b947PkSfrG"
      },
      "source": [
        "### Loading required data\n",
        "Creating a DataFrame that have only the required data"
      ]
    },
    {
      "cell_type": "code",
      "execution_count": 52,
      "metadata": {
        "colab": {
          "base_uri": "https://localhost:8080/"
        },
        "id": "WMsi4uZITUt8",
        "outputId": "6364d97f-7f4c-4ae9-8f1c-f89f2c47cf0e"
      },
      "outputs": [
        {
          "output_type": "stream",
          "name": "stdout",
          "text": [
            "\n",
            "\n",
            "Data report of MAC000002\n",
            "         LCLid  energy_sum         day\n",
            "0    MAC000002       7.098  2012-10-12\n",
            "1    MAC000002      11.087  2012-10-13\n",
            "2    MAC000002      13.223  2012-10-14\n",
            "3    MAC000002      10.257  2012-10-15\n",
            "4    MAC000002       9.769  2012-10-16\n",
            "..         ...         ...         ...\n",
            "498  MAC000002      14.886  2014-02-23\n",
            "499  MAC000002      12.528  2014-02-24\n",
            "500  MAC000002      11.826  2014-02-25\n",
            "501  MAC000002      12.328  2014-02-26\n",
            "502  MAC000002      20.518  2014-02-27\n",
            "\n",
            "[503 rows x 3 columns]\n"
          ]
        }
      ],
      "source": [
        "selected_column = ['LCLid','energy_sum','day']\n",
        "# energy_daily_selected=energy_daily_data[selected_column] (check)\n",
        "energy_daily_selected=specific_file_data[selected_column]\n",
        "# print(energy_daily_selected)\n",
        "\n",
        "# Group the data by LCLid and create a dictionary of dataframes, allowing to access each dataframe separately using the LCLid as the key\n",
        "grouped_data_selected = dict(tuple(energy_daily_selected.groupby('LCLid')))\n",
        "# Display the data for 'MAC000002'\n",
        "print('\\n')\n",
        "print('Data report of MAC000002')\n",
        "print(grouped_data_selected['MAC000002'])\n"
      ]
    },
    {
      "cell_type": "markdown",
      "metadata": {
        "id": "eZumIN7H_Zt-"
      },
      "source": [
        "## Loading daily weather data\n",
        "\n",
        "Creating a 'day' column that stores only the date values from 'time' column\n",
        "(for linking weather dataset 'day' with daily dataset 'day')"
      ]
    },
    {
      "cell_type": "code",
      "execution_count": 53,
      "metadata": {
        "colab": {
          "base_uri": "https://localhost:8080/"
        },
        "id": "Ch2Azrah7Cuj",
        "outputId": "c3bbf1d0-0782-4072-a6e4-0247a8329625"
      },
      "outputs": [
        {
          "output_type": "stream",
          "name": "stdout",
          "text": [
            "     temperatureMax   temperatureMaxTime  windBearing                 icon  \\\n",
            "0             11.96  2011-11-11 23:00:00          123                  fog   \n",
            "1              8.59  2011-12-11 14:00:00          198    partly-cloudy-day   \n",
            "2             10.33  2011-12-27 02:00:00          225    partly-cloudy-day   \n",
            "3              8.07  2011-12-02 23:00:00          232                 wind   \n",
            "4              8.22  2011-12-24 23:00:00          252  partly-cloudy-night   \n",
            "..              ...                  ...          ...                  ...   \n",
            "877            9.03  2014-01-26 16:00:00          233    partly-cloudy-day   \n",
            "878           10.31  2014-02-27 14:00:00          224    partly-cloudy-day   \n",
            "879           18.97  2014-03-09 14:00:00          172  partly-cloudy-night   \n",
            "880            8.83  2014-02-12 16:00:00          210                 wind   \n",
            "881            9.90  2014-02-15 12:00:00          233                 wind   \n",
            "\n",
            "     dewPoint   temperatureMinTime  cloudCover  windSpeed  pressure  \\\n",
            "0        9.40  2011-11-11 07:00:00        0.79       3.88   1016.08   \n",
            "1        4.49  2011-12-11 01:00:00        0.56       3.94   1007.71   \n",
            "2        5.47  2011-12-27 23:00:00        0.85       3.54   1032.76   \n",
            "3        3.69  2011-12-02 07:00:00        0.32       3.00   1012.12   \n",
            "4        2.79  2011-12-24 07:00:00        0.37       4.46   1028.17   \n",
            "..        ...                  ...         ...        ...       ...   \n",
            "877      2.39  2014-01-26 21:00:00        0.40       4.55   1002.10   \n",
            "878      3.08  2014-02-27 23:00:00        0.32       4.14   1007.02   \n",
            "879      4.30  2014-03-09 07:00:00        0.04       2.78   1022.44   \n",
            "880      1.94  2014-02-12 01:00:00        0.59       7.24    994.27   \n",
            "881      2.95  2014-02-15 23:00:00        0.35       9.96    988.63   \n",
            "\n",
            "    apparentTemperatureMinTime  ...          sunriseTime  temperatureHighTime  \\\n",
            "0          2011-11-11 07:00:00  ...  2011-11-11 07:12:14  2011-11-11 19:00:00   \n",
            "1          2011-12-11 02:00:00  ...  2011-12-11 07:57:02  2011-12-11 14:00:00   \n",
            "2          2011-12-27 22:00:00  ...  2011-12-27 08:07:06  2011-12-27 14:00:00   \n",
            "3          2011-12-02 07:00:00  ...  2011-12-02 07:46:09  2011-12-02 12:00:00   \n",
            "4          2011-12-24 07:00:00  ...  2011-12-24 08:06:15  2011-12-24 15:00:00   \n",
            "..                         ...  ...                  ...                  ...   \n",
            "877        2014-01-26 22:00:00  ...  2014-01-26 07:48:49  2014-01-26 16:00:00   \n",
            "878        2014-02-27 22:00:00  ...  2014-02-27 06:51:45  2014-02-27 14:00:00   \n",
            "879        2014-03-09 07:00:00  ...  2014-03-09 06:29:49  2014-03-09 14:00:00   \n",
            "880        2014-02-12 01:00:00  ...  2014-02-12 07:21:44  2014-02-12 16:00:00   \n",
            "881        2014-02-15 23:00:00  ...  2014-02-15 07:16:06  2014-02-15 12:00:00   \n",
            "\n",
            "             uvIndexTime                                            summary  \\\n",
            "0    2011-11-11 11:00:00                             Foggy until afternoon.   \n",
            "1    2011-12-11 12:00:00                  Partly cloudy throughout the day.   \n",
            "2    2011-12-27 00:00:00                  Mostly cloudy throughout the day.   \n",
            "3    2011-12-02 10:00:00  Partly cloudy throughout the day and breezy ov...   \n",
            "4    2011-12-24 13:00:00                  Mostly cloudy throughout the day.   \n",
            "..                   ...                                                ...   \n",
            "877  2014-01-26 11:00:00                       Mostly cloudy until evening.   \n",
            "878  2014-02-27 12:00:00                       Partly cloudy until evening.   \n",
            "879  2014-03-09 12:00:00                      Partly cloudy in the evening.   \n",
            "880  2014-02-12 10:00:00  Mostly cloudy until evening and breezy through...   \n",
            "881  2014-02-15 10:00:00           Windy and mostly cloudy until afternoon.   \n",
            "\n",
            "      temperatureLowTime  apparentTemperatureMin  apparentTemperatureMaxTime  \\\n",
            "0    2011-11-11 19:00:00                    6.48         2011-11-11 23:00:00   \n",
            "1    2011-12-12 07:00:00                    0.11         2011-12-11 20:00:00   \n",
            "2    2011-12-27 23:00:00                    5.59         2011-12-27 02:00:00   \n",
            "3    2011-12-02 19:00:00                    0.46         2011-12-02 12:00:00   \n",
            "4    2011-12-24 19:00:00                   -0.51         2011-12-24 23:00:00   \n",
            "..                   ...                     ...                         ...   \n",
            "877  2014-01-27 05:00:00                   -1.30         2014-01-26 15:00:00   \n",
            "878  2014-02-28 02:00:00                    1.41         2014-02-27 14:00:00   \n",
            "879  2014-03-10 05:00:00                    7.08         2014-03-09 14:00:00   \n",
            "880  2014-02-13 05:00:00                   -1.20         2014-02-12 16:00:00   \n",
            "881  2014-02-16 07:00:00                    1.77         2014-02-15 12:00:00   \n",
            "\n",
            "     apparentTemperatureLowTime moonPhase mean_temp  \n",
            "0           2011-11-11 19:00:00      0.52    10.405  \n",
            "1           2011-12-12 08:00:00      0.53     5.535  \n",
            "2           2011-12-28 00:00:00      0.10     9.180  \n",
            "3           2011-12-02 19:00:00      0.25     5.315  \n",
            "4           2011-12-24 20:00:00      0.99     5.695  \n",
            "..                          ...       ...       ...  \n",
            "877         2014-01-27 04:00:00      0.84     6.145  \n",
            "878         2014-02-28 02:00:00      0.93     7.120  \n",
            "879         2014-03-10 06:00:00      0.28    13.310  \n",
            "880         2014-02-13 02:00:00      0.42     5.930  \n",
            "881         2014-02-16 07:00:00      0.52     7.640  \n",
            "\n",
            "[882 rows x 33 columns]\n"
          ]
        }
      ],
      "source": [
        "# Load the weather dataset into a DataFrame\n",
        "weather_daily_data = pd.read_csv(weather_daily_dataset_path)\n",
        "\n",
        "# Convert the 'time' column to datetime format\n",
        "weather_daily_data['time'] = pd.to_datetime(weather_daily_data['time'])\n",
        "\n",
        "# Calculate the mean temperature for each day and store it in a new column 'mean_temp'\n",
        "weather_daily_data['mean_temp'] = (weather_daily_data['temperatureMax'] + weather_daily_data['temperatureMin']) / 2\n",
        "\n",
        "# Print the updated DataFrame\n",
        "print(weather_daily_data)"
      ]
    },
    {
      "cell_type": "markdown",
      "metadata": {
        "id": "XUsgV_WfSTVp"
      },
      "source": [
        "### Loading required data\n",
        "Creating a DataFrame that have only the required data"
      ]
    },
    {
      "cell_type": "code",
      "execution_count": 54,
      "metadata": {
        "colab": {
          "base_uri": "https://localhost:8080/"
        },
        "id": "iRn0x1J8RlPl",
        "outputId": "ced9d7f5-f754-40b6-d08e-dd1cabe7a20f"
      },
      "outputs": [
        {
          "output_type": "stream",
          "name": "stdout",
          "text": [
            "     mean_temp  pressure  humidity  windSpeed       time\n",
            "0       10.405   1016.08      0.95       3.88 2011-11-11\n",
            "1        5.535   1007.71      0.88       3.94 2011-12-11\n",
            "2        9.180   1032.76      0.74       3.54 2011-12-27\n",
            "3        5.315   1012.12      0.87       3.00 2011-12-02\n",
            "4        5.695   1028.17      0.80       4.46 2011-12-24\n",
            "..         ...       ...       ...        ...        ...\n",
            "877      6.145   1002.10      0.79       4.55 2014-01-26\n",
            "878      7.120   1007.02      0.74       4.14 2014-02-27\n",
            "879     13.310   1022.44      0.58       2.78 2014-03-09\n",
            "880      5.930    994.27      0.75       7.24 2014-02-12\n",
            "881      7.640    988.63      0.69       9.96 2014-02-15\n",
            "\n",
            "[882 rows x 5 columns]\n"
          ]
        }
      ],
      "source": [
        "# Create a new DataFrame with selected columns\n",
        "selected_columns = ['mean_temp', 'pressure', 'humidity', 'windSpeed', 'time']\n",
        "weather_selected = weather_daily_data[selected_columns]\n",
        "\n",
        "# Print the new dataset\n",
        "print(weather_selected)"
      ]
    },
    {
      "cell_type": "markdown",
      "source": [
        "# Dataset with Household energy consumption values and weather values"
      ],
      "metadata": {
        "id": "yi3pXETWEhtL"
      }
    },
    {
      "cell_type": "markdown",
      "source": [
        "## For all households"
      ],
      "metadata": {
        "id": "jlEy0Fm_JaT5"
      }
    },
    {
      "cell_type": "code",
      "source": [
        "# Convert 'time' column in weather_selected to datetime objects\n",
        "weather_selected['time'] = pd.to_datetime(weather_selected['time'])\n",
        "\n",
        "# Create a list to store the merged data DataFrames\n",
        "merged_data_list = []\n",
        "\n",
        "# Iterate through each LCLid in energy_daily_selected\n",
        "for lclid, data in grouped_data_selected.items():\n",
        "    # Convert 'day' column in current LCLid data to datetime objects\n",
        "    data['day'] = pd.to_datetime(data['day'])\n",
        "\n",
        "    # Merge the current LCLid data with weather_selected based on the common date values\n",
        "    merged_data_lclid = pd.merge(weather_selected, data, left_on='time', right_on='day', how='inner')\n",
        "\n",
        "    # Drop the redundant 'day' column from the merged data\n",
        "    merged_data_lclid.drop(columns=['day'], inplace=True)\n",
        "\n",
        "    # Append the merged data to the merged_data_list\n",
        "    merged_data_list.append(merged_data_lclid)\n",
        "\n",
        "# Concatenate the merged data DataFrames in the list\n",
        "merged_data = pd.concat(merged_data_list, ignore_index=True)\n",
        "\n",
        "# Display the merged dataset\n",
        "print(merged_data)\n"
      ],
      "metadata": {
        "colab": {
          "base_uri": "https://localhost:8080/"
        },
        "id": "wqUqCBNEHb8P",
        "outputId": "a9208a4f-9afb-4b61-ccef-807a26ed2706"
      },
      "execution_count": 55,
      "outputs": [
        {
          "output_type": "stream",
          "name": "stdout",
          "text": [
            "     mean_temp  pressure  humidity  windSpeed       time      LCLid  \\\n",
            "0       10.000   1001.79      0.81       6.54 2012-11-25  MAC000002   \n",
            "1       12.170   1008.74      0.90       5.74 2012-11-20  MAC000002   \n",
            "2        7.830    979.63      0.85       4.07 2012-11-01  MAC000002   \n",
            "3        5.295   1020.29      0.87       3.58 2012-11-06  MAC000002   \n",
            "4        4.650   1001.72      0.80       5.63 2012-12-07  MAC000002   \n",
            "..         ...       ...       ...        ...        ...        ...   \n",
            "662      4.470   1001.76      0.91       1.52 2014-01-30  MAC000246   \n",
            "663      6.145   1002.10      0.79       4.55 2014-01-26  MAC000246   \n",
            "664      7.120   1007.02      0.74       4.14 2014-02-27  MAC000246   \n",
            "665      5.930    994.27      0.75       7.24 2014-02-12  MAC000246   \n",
            "666      7.640    988.63      0.69       9.96 2014-02-15  MAC000246   \n",
            "\n",
            "     energy_sum  \n",
            "0        10.545  \n",
            "1        11.221  \n",
            "2        12.209  \n",
            "3        11.663  \n",
            "4        13.248  \n",
            "..          ...  \n",
            "662      22.531  \n",
            "663      35.068  \n",
            "664      16.026  \n",
            "665      12.374  \n",
            "666       8.263  \n",
            "\n",
            "[667 rows x 7 columns]\n"
          ]
        },
        {
          "output_type": "stream",
          "name": "stderr",
          "text": [
            "<ipython-input-55-fc90630300b6>:2: SettingWithCopyWarning: \n",
            "A value is trying to be set on a copy of a slice from a DataFrame.\n",
            "Try using .loc[row_indexer,col_indexer] = value instead\n",
            "\n",
            "See the caveats in the documentation: https://pandas.pydata.org/pandas-docs/stable/user_guide/indexing.html#returning-a-view-versus-a-copy\n",
            "  weather_selected['time'] = pd.to_datetime(weather_selected['time'])\n"
          ]
        }
      ]
    },
    {
      "cell_type": "markdown",
      "source": [
        "## For one household"
      ],
      "metadata": {
        "id": "Jq2mLT2oJWB5"
      }
    },
    {
      "cell_type": "code",
      "source": [
        "print(merged_data[merged_data['LCLid'] == \"MAC000002\"])"
      ],
      "metadata": {
        "colab": {
          "base_uri": "https://localhost:8080/"
        },
        "id": "LBmTUuggiWZZ",
        "outputId": "05eb9e50-7622-4482-fc44-b52abe78503c"
      },
      "execution_count": 56,
      "outputs": [
        {
          "output_type": "stream",
          "name": "stdout",
          "text": [
            "     mean_temp  pressure  humidity  windSpeed       time      LCLid  \\\n",
            "0       10.000   1001.79      0.81       6.54 2012-11-25  MAC000002   \n",
            "1       12.170   1008.74      0.90       5.74 2012-11-20  MAC000002   \n",
            "2        7.830    979.63      0.85       4.07 2012-11-01  MAC000002   \n",
            "3        5.295   1020.29      0.87       3.58 2012-11-06  MAC000002   \n",
            "4        4.650   1001.72      0.80       5.63 2012-12-07  MAC000002   \n",
            "..         ...       ...       ...        ...        ...        ...   \n",
            "271      4.470   1001.76      0.91       1.52 2014-01-30  MAC000002   \n",
            "272      6.145   1002.10      0.79       4.55 2014-01-26  MAC000002   \n",
            "273      7.120   1007.02      0.74       4.14 2014-02-27  MAC000002   \n",
            "274      5.930    994.27      0.75       7.24 2014-02-12  MAC000002   \n",
            "275      7.640    988.63      0.69       9.96 2014-02-15  MAC000002   \n",
            "\n",
            "     energy_sum  \n",
            "0        10.545  \n",
            "1        11.221  \n",
            "2        12.209  \n",
            "3        11.663  \n",
            "4        13.248  \n",
            "..          ...  \n",
            "271      14.166  \n",
            "272      24.040  \n",
            "273      20.518  \n",
            "274      13.812  \n",
            "275      12.570  \n",
            "\n",
            "[276 rows x 7 columns]\n"
          ]
        }
      ]
    },
    {
      "cell_type": "markdown",
      "metadata": {
        "id": "IVelsQ53430r"
      },
      "source": [
        "# Splitting dataset to training and testing sets\n",
        "\n"
      ]
    },
    {
      "cell_type": "markdown",
      "source": [
        "## Preprocessing dataset"
      ],
      "metadata": {
        "id": "Qw5aaS7xkIWr"
      }
    },
    {
      "cell_type": "markdown",
      "source": [
        "### Counting amount of data for each LCLid (data available for each household)"
      ],
      "metadata": {
        "id": "FWB2ilpvq0_-"
      }
    },
    {
      "cell_type": "code",
      "source": [
        "# Convert 'time' column in weather_selected to datetime objects\n",
        "weather_selected['time'] = pd.to_datetime(weather_selected['time'])\n",
        "\n",
        "# Merge the data into merged_data DataFrame as described in your previous code\n",
        "\n",
        "# Count the number of data rows for each LCLid\n",
        "lclid_data_counts = merged_data['LCLid'].value_counts()\n",
        "\n",
        "# Display the counts for each LCLid\n",
        "print(\"Data row counts for each LCLid:\")\n",
        "print(lclid_data_counts)\n",
        "\n"
      ],
      "metadata": {
        "colab": {
          "base_uri": "https://localhost:8080/"
        },
        "id": "k_1dDvPeoXFD",
        "outputId": "33ebb500-fa51-42a1-fbcb-f58609ed1b2e"
      },
      "execution_count": 57,
      "outputs": [
        {
          "output_type": "stream",
          "name": "stdout",
          "text": [
            "Data row counts for each LCLid:\n",
            "MAC000246    391\n",
            "MAC000002    276\n",
            "Name: LCLid, dtype: int64\n"
          ]
        },
        {
          "output_type": "stream",
          "name": "stderr",
          "text": [
            "<ipython-input-57-27ee962d4454>:2: SettingWithCopyWarning: \n",
            "A value is trying to be set on a copy of a slice from a DataFrame.\n",
            "Try using .loc[row_indexer,col_indexer] = value instead\n",
            "\n",
            "See the caveats in the documentation: https://pandas.pydata.org/pandas-docs/stable/user_guide/indexing.html#returning-a-view-versus-a-copy\n",
            "  weather_selected['time'] = pd.to_datetime(weather_selected['time'])\n"
          ]
        }
      ]
    },
    {
      "cell_type": "markdown",
      "source": [
        "### Identifiting the no of households with insufficient amount of data"
      ],
      "metadata": {
        "id": "wIjz5a0irBRy"
      }
    },
    {
      "cell_type": "code",
      "source": [
        "# Count the number of data rows for each LCLid\n",
        "lclid_data_counts = merged_data['LCLid'].value_counts()\n",
        "\n",
        "\n",
        "# Get the total number of unique LCLid values\n",
        "total_lclids = len(lclid_data_counts)\n",
        "\n",
        "# Count the number of LCLid values with less than 100 data rows\n",
        "count_less_than_100 = (lclid_data_counts < 100).sum()\n",
        "\n",
        "# Display the count of LCLid values with less than 100 data rows\n",
        "print(\"Number of LCLid values with less than 100 data rows:\", count_less_than_100)\n",
        "\n",
        "# Display the total number of unique LCLid values\n",
        "print(\"Total number of unique LCLid values:\", total_lclids)"
      ],
      "metadata": {
        "colab": {
          "base_uri": "https://localhost:8080/"
        },
        "id": "HlmWA354pGgO",
        "outputId": "cfcfdf71-028d-4c99-cb2e-9719b0ba84ff"
      },
      "execution_count": 58,
      "outputs": [
        {
          "output_type": "stream",
          "name": "stdout",
          "text": [
            "Number of LCLid values with less than 100 data rows: 0\n",
            "Total number of unique LCLid values: 2\n"
          ]
        }
      ]
    },
    {
      "cell_type": "markdown",
      "source": [
        "### Removing the households with less data, from the dataset"
      ],
      "metadata": {
        "id": "SA9X4z0irXP7"
      }
    },
    {
      "cell_type": "code",
      "source": [
        "# Get the list of LCLid values with less than 100 data rows\n",
        "lclids_to_remove = lclid_data_counts[lclid_data_counts < 100].index\n",
        "\n",
        "# Remove rows corresponding to LCLid values with less than 100 data rows\n",
        "filtered_data = merged_data[~merged_data['LCLid'].isin(lclids_to_remove)]\n",
        "\n",
        "# also removing rows with NaN values in the dataset\n",
        "filtered_data = filtered_data.dropna()\n",
        "\n",
        "# Display the filtered data\n",
        "print(filtered_data)"
      ],
      "metadata": {
        "colab": {
          "base_uri": "https://localhost:8080/"
        },
        "id": "3VuTC5T5pphX",
        "outputId": "58af17e5-da06-4e33-87f1-e95f28ba6bd5"
      },
      "execution_count": 59,
      "outputs": [
        {
          "output_type": "stream",
          "name": "stdout",
          "text": [
            "     mean_temp  pressure  humidity  windSpeed       time      LCLid  \\\n",
            "0       10.000   1001.79      0.81       6.54 2012-11-25  MAC000002   \n",
            "1       12.170   1008.74      0.90       5.74 2012-11-20  MAC000002   \n",
            "2        7.830    979.63      0.85       4.07 2012-11-01  MAC000002   \n",
            "3        5.295   1020.29      0.87       3.58 2012-11-06  MAC000002   \n",
            "4        4.650   1001.72      0.80       5.63 2012-12-07  MAC000002   \n",
            "..         ...       ...       ...        ...        ...        ...   \n",
            "662      4.470   1001.76      0.91       1.52 2014-01-30  MAC000246   \n",
            "663      6.145   1002.10      0.79       4.55 2014-01-26  MAC000246   \n",
            "664      7.120   1007.02      0.74       4.14 2014-02-27  MAC000246   \n",
            "665      5.930    994.27      0.75       7.24 2014-02-12  MAC000246   \n",
            "666      7.640    988.63      0.69       9.96 2014-02-15  MAC000246   \n",
            "\n",
            "     energy_sum  \n",
            "0        10.545  \n",
            "1        11.221  \n",
            "2        12.209  \n",
            "3        11.663  \n",
            "4        13.248  \n",
            "..          ...  \n",
            "662      22.531  \n",
            "663      35.068  \n",
            "664      16.026  \n",
            "665      12.374  \n",
            "666       8.263  \n",
            "\n",
            "[667 rows x 7 columns]\n"
          ]
        }
      ]
    },
    {
      "cell_type": "markdown",
      "source": [
        "## Splitting the dataset to train and test\n",
        " where the split ratio(70:30) is made with every househould's data."
      ],
      "metadata": {
        "id": "IlfwiI3Rrm1X"
      }
    },
    {
      "cell_type": "code",
      "execution_count": 60,
      "metadata": {
        "id": "mjDCXMXoizi1",
        "colab": {
          "base_uri": "https://localhost:8080/"
        },
        "outputId": "c12fa8e7-9831-40e2-fe5f-9f8f51accad3"
      },
      "outputs": [
        {
          "output_type": "stream",
          "name": "stdout",
          "text": [
            "Training set:\n",
            "     mean_temp  pressure  humidity  windSpeed       time      LCLid  \\\n",
            "0        3.140   1012.97      0.83       4.76 2013-01-12  MAC000002   \n",
            "1        3.200   1019.29      0.78       3.08 2013-02-08  MAC000002   \n",
            "2        8.050   1033.95      0.89       1.35 2013-11-27  MAC000002   \n",
            "3        6.260   1018.89      0.80       5.44 2012-12-09  MAC000002   \n",
            "4        5.900   1015.79      0.79       2.61 2013-11-10  MAC000002   \n",
            "..         ...       ...       ...        ...        ...        ...   \n",
            "394     11.210   1003.59      0.86       5.51 2012-12-23  MAC000246   \n",
            "395      8.580   1010.84      0.81       7.01 2011-12-08  MAC000246   \n",
            "396      7.755    997.84      0.91       2.38 2012-11-10  MAC000246   \n",
            "397      4.835   1029.69      0.80       4.25 2013-02-28  MAC000246   \n",
            "398      4.815   1023.19      0.83       2.14 2012-12-08  MAC000246   \n",
            "\n",
            "     energy_sum  \n",
            "0        10.586  \n",
            "1         9.635  \n",
            "2        11.003  \n",
            "3        11.355  \n",
            "4        25.556  \n",
            "..          ...  \n",
            "394      24.395  \n",
            "395      13.664  \n",
            "396      24.064  \n",
            "397      24.677  \n",
            "398      15.284  \n",
            "\n",
            "[399 rows x 7 columns]\n",
            "Validation set:\n",
            "     mean_temp  pressure  humidity  windSpeed       time      LCLid  \\\n",
            "0        4.965   1006.45      0.86       3.61 2013-01-26  MAC000002   \n",
            "1        7.380    991.64      0.82       2.94 2013-11-04  MAC000002   \n",
            "2        4.140   1014.89      0.84       3.07 2013-12-29  MAC000002   \n",
            "3        3.065   1026.97      0.83       4.80 2013-02-25  MAC000002   \n",
            "4        5.515   1004.26      0.78       4.83 2013-11-21  MAC000002   \n",
            "..         ...       ...       ...        ...        ...        ...   \n",
            "128      1.690   1015.13      0.76       2.87 2013-02-12  MAC000246   \n",
            "129     -0.490   1017.44      0.83       1.01 2013-01-17  MAC000246   \n",
            "130      1.990   1009.85      0.92       6.42 2013-03-23  MAC000246   \n",
            "131      6.025   1032.00      0.82       2.30 2013-11-13  MAC000246   \n",
            "132      7.380    991.64      0.82       2.94 2013-11-04  MAC000246   \n",
            "\n",
            "     energy_sum  \n",
            "0        16.348  \n",
            "1         9.736  \n",
            "2        14.982  \n",
            "3        11.198  \n",
            "4        11.730  \n",
            "..          ...  \n",
            "128      22.875  \n",
            "129      25.718  \n",
            "130      16.612  \n",
            "131      22.343  \n",
            "132      12.910  \n",
            "\n",
            "[133 rows x 7 columns]\n",
            "Test set:\n",
            "     mean_temp  pressure  humidity  windSpeed       time      LCLid  \\\n",
            "0        4.435   1004.33      0.81       2.50 2014-01-14  MAC000002   \n",
            "1        5.730    992.43      0.68       5.83 2014-02-13  MAC000002   \n",
            "2        8.965    993.32      0.86       7.20 2014-01-01  MAC000002   \n",
            "3        8.175   1009.09      0.71       4.77 2014-02-22  MAC000002   \n",
            "4        6.840   1000.02      0.87       4.40 2014-01-05  MAC000002   \n",
            "..         ...       ...       ...        ...        ...        ...   \n",
            "130      5.335    997.47      0.77       3.17 2013-12-28  MAC000246   \n",
            "131      6.970    988.77      0.79       3.98 2014-02-07  MAC000246   \n",
            "132      7.545   1005.39      0.72       4.75 2014-02-02  MAC000246   \n",
            "133      0.895   1014.52      0.80       3.20 2013-01-25  MAC000246   \n",
            "134     10.955    994.61      0.78       8.30 2014-01-06  MAC000246   \n",
            "\n",
            "     energy_sum  \n",
            "0        18.532  \n",
            "1        11.723  \n",
            "2        15.496  \n",
            "3        12.734  \n",
            "4        14.418  \n",
            "..          ...  \n",
            "130      21.253  \n",
            "131       9.560  \n",
            "132      31.426  \n",
            "133      21.594  \n",
            "134      16.022  \n",
            "\n",
            "[135 rows x 7 columns]\n"
          ]
        }
      ],
      "source": [
        "from sklearn.model_selection import train_test_split\n",
        "\n",
        "# Define the split percentages\n",
        "train_percentage = 0.6 # 60% for training\n",
        "val_percentage = 0.3   # 30% for validation\n",
        "test_percentage = 0.3  # 30% for testing\n",
        "min_data_points = 10   # Minimum number of data points required for an LCLid\n",
        "\n",
        "# Create lists to store DataFrames for training, validation, and testing\n",
        "train_data_list = []\n",
        "val_data_list = []\n",
        "test_data_list = []\n",
        "\n",
        "# Iterate through each unique LCLid and split the data based on train_percentage, val_percentage, and test_percentage\n",
        "unique_lclids = filtered_data['LCLid'].unique()\n",
        "for lclid in unique_lclids:\n",
        "    lclid_data = filtered_data[filtered_data['LCLid'] == lclid]\n",
        "\n",
        "    # Check if there are sufficient data points for the current LCLid\n",
        "    if len(lclid_data) >= min_data_points:\n",
        "        # Split the data for the current LCLid into training, validation, and test sets\n",
        "        train_data_lclid, remaining_data_lclid = train_test_split(lclid_data, train_size=train_percentage, shuffle=False)\n",
        "        val_data_lclid, test_data_lclid = train_test_split(remaining_data_lclid, train_size=val_percentage/(val_percentage + test_percentage), shuffle=False)\n",
        "\n",
        "        # Randomize the rows within each subset\n",
        "        train_data_lclid = train_data_lclid.sample(frac=1, random_state=42)\n",
        "        val_data_lclid = val_data_lclid.sample(frac=1, random_state=42)\n",
        "        test_data_lclid = test_data_lclid.sample(frac=1, random_state=42)\n",
        "\n",
        "        # Append to the train_data_list, val_data_list, and test_data_list\n",
        "        train_data_list.append(train_data_lclid)\n",
        "        val_data_list.append(val_data_lclid)\n",
        "        test_data_list.append(test_data_lclid)\n",
        "\n",
        "# Concatenate the DataFrames in the lists\n",
        "FL_train_set = pd.concat(train_data_list, ignore_index=True)\n",
        "FL_val_set = pd.concat(val_data_list, ignore_index=True)\n",
        "FL_test_set = pd.concat(test_data_list, ignore_index=True)\n",
        "\n",
        "# Store the training, validation, and test sets in separate lists\n",
        "FL_train_sets_list = train_data_list\n",
        "FL_val_sets_list = val_data_list\n",
        "FL_test_sets_list = test_data_list\n",
        "\n",
        "# Display the training, validation, and test sets\n",
        "print(\"Training set:\")\n",
        "print(FL_train_set)\n",
        "print(\"Validation set:\")\n",
        "print(FL_val_set)\n",
        "print(\"Test set:\")\n",
        "print(FL_test_set)\n"
      ]
    },
    {
      "cell_type": "markdown",
      "source": [
        "### For FL training, validation and test sets"
      ],
      "metadata": {
        "id": "VAZQP_IFjqJd"
      }
    },
    {
      "cell_type": "code",
      "source": [
        "# Display the first training set\n",
        "print(\"First Training set:\")\n",
        "print(FL_train_sets_list[0])\n",
        "print(\"First Validation set:\")\n",
        "print(FL_val_sets_list[0])\n",
        "print(\"First Test set:\")\n",
        "print(FL_test_sets_list[0])"
      ],
      "metadata": {
        "colab": {
          "base_uri": "https://localhost:8080/"
        },
        "id": "7RGFE7Iwxbjp",
        "outputId": "9eb7314d-adea-4956-ad73-414466858a6d"
      },
      "execution_count": 62,
      "outputs": [
        {
          "output_type": "stream",
          "name": "stdout",
          "text": [
            "First Training set:\n",
            "     mean_temp  pressure  humidity  windSpeed       time      LCLid  \\\n",
            "135      3.140   1012.97      0.83       4.76 2013-01-12  MAC000002   \n",
            "115      3.200   1019.29      0.78       3.08 2013-02-08  MAC000002   \n",
            "131      8.050   1033.95      0.89       1.35 2013-11-27  MAC000002   \n",
            "55       6.260   1018.89      0.80       5.44 2012-12-09  MAC000002   \n",
            "95       5.900   1015.79      0.79       2.61 2013-11-10  MAC000002   \n",
            "..         ...       ...       ...        ...        ...        ...   \n",
            "71       9.480   1037.15      0.85       4.28 2013-01-04  MAC000002   \n",
            "106      8.145   1005.53      0.90       2.00 2013-11-08  MAC000002   \n",
            "14       5.745   1014.66      0.82       0.72 2012-11-18  MAC000002   \n",
            "92       0.780   1020.50      0.63       4.79 2013-02-22  MAC000002   \n",
            "102      0.775   1008.99      0.85       3.28 2013-01-15  MAC000002   \n",
            "\n",
            "     energy_sum  \n",
            "135      10.586  \n",
            "115       9.635  \n",
            "131      11.003  \n",
            "55       11.355  \n",
            "95       25.556  \n",
            "..          ...  \n",
            "71        9.857  \n",
            "106      26.190  \n",
            "14       13.779  \n",
            "92       24.018  \n",
            "102       9.830  \n",
            "\n",
            "[165 rows x 7 columns]\n",
            "First Validation set:\n",
            "     mean_temp  pressure  humidity  windSpeed       time      LCLid  \\\n",
            "196      4.965   1006.45      0.86       3.61 2013-01-26  MAC000002   \n",
            "170      7.380    991.64      0.82       2.94 2013-11-04  MAC000002   \n",
            "197      4.140   1014.89      0.84       3.07 2013-12-29  MAC000002   \n",
            "178      3.065   1026.97      0.83       4.80 2013-02-25  MAC000002   \n",
            "184      5.515   1004.26      0.78       4.83 2013-11-21  MAC000002   \n",
            "214      5.545   1031.32      0.91       1.35 2013-12-10  MAC000002   \n",
            "206     12.090    999.46      0.88       4.86 2013-11-06  MAC000002   \n",
            "191      6.540   1030.42      0.78       3.55 2013-11-24  MAC000002   \n",
            "208      9.230    986.81      0.75       7.86 2013-12-27  MAC000002   \n",
            "177      8.090   1026.88      0.92       3.27 2013-01-07  MAC000002   \n",
            "217      5.335    997.47      0.77       3.17 2013-12-28  MAC000002   \n",
            "168      8.165   1025.35      0.83       4.56 2013-12-08  MAC000002   \n",
            "198      4.220   1034.17      0.83       4.40 2013-02-27  MAC000002   \n",
            "199      5.945   1002.41      0.90       2.52 2013-03-09  MAC000002   \n",
            "173      9.495    998.64      0.74       5.30 2013-11-03  MAC000002   \n",
            "182      4.510   1006.64      0.75       6.04 2013-02-06  MAC000002   \n",
            "171      5.565   1013.74      0.78       3.66 2013-03-04  MAC000002   \n",
            "169      8.990   1034.64      0.87       1.23 2013-11-28  MAC000002   \n",
            "212      5.410   1024.21      0.82       3.37 2013-11-23  MAC000002   \n",
            "192     11.035   1006.38      0.83       2.89 2013-11-07  MAC000002   \n",
            "211      0.895   1014.52      0.80       3.20 2013-01-25  MAC000002   \n",
            "210      2.555   1003.95      0.85       3.41 2013-11-20  MAC000002   \n",
            "218      4.645   1016.63      0.90       3.25 2014-01-12  MAC000002   \n",
            "180      4.120   1006.74      0.86       2.37 2013-03-20  MAC000002   \n",
            "174     10.125   1024.17      0.87       3.71 2013-01-08  MAC000002   \n",
            "181      8.005   1033.95      0.79       1.36 2013-12-02  MAC000002   \n",
            "189      8.530   1012.39      0.74       7.30 2013-01-31  MAC000002   \n",
            "195      2.630   1018.79      0.86       0.68 2013-02-09  MAC000002   \n",
            "202      5.440   1029.50      0.72       0.96 2013-12-03  MAC000002   \n",
            "190      1.990   1009.85      0.92       6.42 2013-03-23  MAC000002   \n",
            "176      4.230   1029.46      0.93       1.45 2013-12-11  MAC000002   \n",
            "165      5.955   1027.30      0.73       3.68 2013-11-30  MAC000002   \n",
            "213     -0.405    994.61      0.90       1.22 2013-01-21  MAC000002   \n",
            "201      3.780   1010.59      0.73       3.65 2013-03-13  MAC000002   \n",
            "194      5.685   1023.72      0.73       6.12 2013-12-05  MAC000002   \n",
            "205      3.725   1015.96      0.75       4.73 2013-03-21  MAC000002   \n",
            "166     -0.455   1001.55      0.88       3.44 2013-01-22  MAC000002   \n",
            "186     -1.190   1013.33      0.91       0.93 2013-01-16  MAC000002   \n",
            "167     12.675    998.60      0.82       4.55 2013-11-02  MAC000002   \n",
            "215      7.400   1023.75      0.74       4.60 2013-11-14  MAC000002   \n",
            "204      4.300   1000.03      0.73       7.30 2013-02-05  MAC000002   \n",
            "200      8.310   1010.88      0.83       6.58 2013-12-30  MAC000002   \n",
            "188      1.765   1011.63      0.64       3.95 2013-03-27  MAC000002   \n",
            "209      7.760   1032.19      0.96       2.23 2013-01-06  MAC000002   \n",
            "175      7.330   1011.45      0.81       2.96 2013-02-14  MAC000002   \n",
            "187      8.925   1024.24      0.87       0.87 2013-11-17  MAC000002   \n",
            "183      8.370   1026.65      0.77       4.40 2013-11-29  MAC000002   \n",
            "219      5.385   1013.91      0.83       2.43 2014-01-24  MAC000002   \n",
            "185      8.680    979.52      0.81       6.67 2013-12-24  MAC000002   \n",
            "172      8.065   1004.27      0.85       4.72 2013-12-31  MAC000002   \n",
            "207     10.035   1006.93      0.77       7.85 2013-01-30  MAC000002   \n",
            "179     -0.490   1017.44      0.83       1.01 2013-01-17  MAC000002   \n",
            "193      6.780   1005.47      0.84       5.95 2013-01-28  MAC000002   \n",
            "216      0.965   1020.81      0.68       3.92 2013-02-23  MAC000002   \n",
            "203      9.250   1035.16      0.92       3.15 2013-01-05  MAC000002   \n",
            "\n",
            "     energy_sum  \n",
            "196      16.348  \n",
            "170       9.736  \n",
            "197      14.982  \n",
            "178      11.198  \n",
            "184      11.730  \n",
            "214      12.882  \n",
            "206      11.627  \n",
            "191      14.341  \n",
            "208       9.122  \n",
            "177       9.439  \n",
            "217      13.658  \n",
            "168      18.280  \n",
            "198      15.769  \n",
            "199      10.858  \n",
            "173      16.200  \n",
            "182      14.222  \n",
            "171      25.447  \n",
            "169      10.513  \n",
            "212      11.214  \n",
            "192      11.834  \n",
            "211      11.260  \n",
            "210      16.814  \n",
            "218      16.034  \n",
            "180      14.014  \n",
            "174      11.640  \n",
            "181       9.061  \n",
            "189       9.208  \n",
            "195      14.746  \n",
            "202      14.641  \n",
            "190      25.599  \n",
            "176      12.935  \n",
            "165       7.858  \n",
            "213      12.456  \n",
            "201      12.956  \n",
            "194      10.495  \n",
            "205      10.727  \n",
            "166      10.870  \n",
            "186      14.408  \n",
            "167      13.312  \n",
            "215      12.202  \n",
            "204      14.146  \n",
            "200      15.082  \n",
            "188       5.097  \n",
            "209      10.293  \n",
            "175      10.042  \n",
            "187       9.094  \n",
            "183      11.510  \n",
            "219      14.540  \n",
            "185       4.781  \n",
            "172      13.746  \n",
            "207      10.297  \n",
            "179       9.857  \n",
            "193       9.907  \n",
            "216      14.125  \n",
            "203      11.171  \n",
            "First Test set:\n",
            "     mean_temp  pressure  humidity  windSpeed       time      LCLid  \\\n",
            "220      4.435   1004.33      0.81       2.50 2014-01-14  MAC000002   \n",
            "225      5.730    992.43      0.68       5.83 2014-02-13  MAC000002   \n",
            "253      8.965    993.32      0.86       7.20 2014-01-01  MAC000002   \n",
            "233      8.175   1009.09      0.71       4.77 2014-02-22  MAC000002   \n",
            "239      6.840   1000.02      0.87       4.40 2014-01-05  MAC000002   \n",
            "270      7.780   1007.80      0.83       4.07 2014-02-17  MAC000002   \n",
            "256      7.970    979.25      0.77       8.53 2014-02-08  MAC000002   \n",
            "246      8.725   1012.46      0.83       4.00 2014-01-25  MAC000002   \n",
            "264      6.870   1003.42      0.72       5.42 2014-02-21  MAC000002   \n",
            "232      8.995    990.50      0.83       5.01 2014-01-16  MAC000002   \n",
            "274      5.930    994.27      0.75       7.24 2014-02-12  MAC000002   \n",
            "223      7.075    985.33      0.83       4.32 2014-01-28  MAC000002   \n",
            "254      8.750    994.51      0.78       7.66 2014-01-03  MAC000002   \n",
            "250      6.550    996.87      0.75       5.30 2014-02-04  MAC000002   \n",
            "228      4.590    993.99      0.90       4.25 2014-01-29  MAC000002   \n",
            "237      7.590    982.20      0.77       7.86 2014-02-05  MAC000002   \n",
            "226      7.835    989.90      0.82       4.98 2014-02-06  MAC000002   \n",
            "224     11.110   1005.19      0.74       5.02 2014-02-24  MAC000002   \n",
            "261      6.820    993.71      0.84       4.46 2014-01-04  MAC000002   \n",
            "247      8.645    993.31      0.82       4.89 2014-01-02  MAC000002   \n",
            "267      4.870   1007.71      0.89       0.20 2014-01-20  MAC000002   \n",
            "266      7.730   1012.73      0.73       3.82 2014-02-26  MAC000002   \n",
            "272      6.145   1002.10      0.79       4.55 2014-01-26  MAC000002   \n",
            "235      7.275    990.08      0.76       6.97 2014-02-01  MAC000002   \n",
            "229      8.070   1006.71      0.87       2.13 2014-01-22  MAC000002   \n",
            "236      7.660   1011.57      0.87       3.29 2014-02-19  MAC000002   \n",
            "244      8.800    998.57      0.90       4.63 2014-01-15  MAC000002   \n",
            "251      5.895   1012.39      0.82       3.98 2014-01-23  MAC000002   \n",
            "273      7.120   1007.02      0.74       4.14 2014-02-27  MAC000002   \n",
            "268      7.545   1005.39      0.72       4.75 2014-02-02  MAC000002   \n",
            "245      7.745    990.31      0.81       6.60 2014-02-14  MAC000002   \n",
            "231      6.160   1006.70      0.76       3.34 2014-02-16  MAC000002   \n",
            "252      9.420   1001.54      0.84       5.38 2014-02-20  MAC000002   \n",
            "269      6.410   1014.26      0.85       3.56 2014-01-10  MAC000002   \n",
            "257      6.970    988.77      0.79       3.98 2014-02-07  MAC000002   \n",
            "249      7.990   1008.67      0.87       3.06 2014-02-18  MAC000002   \n",
            "260      8.785    991.61      0.83       4.34 2014-01-18  MAC000002   \n",
            "221     10.305   1010.37      0.76       7.10 2014-02-23  MAC000002   \n",
            "241      9.495   1011.94      0.85       4.15 2014-01-08  MAC000002   \n",
            "222      6.355    995.52      0.80       1.72 2014-01-19  MAC000002   \n",
            "263      6.480   1003.89      0.79       4.92 2014-02-03  MAC000002   \n",
            "259      4.815   1010.13      0.89       2.19 2014-01-21  MAC000002   \n",
            "255      8.435   1006.30      0.77       6.03 2014-01-09  MAC000002   \n",
            "243      7.570   1005.09      0.83       4.00 2014-01-13  MAC000002   \n",
            "265     10.180   1003.19      0.78       7.30 2014-01-07  MAC000002   \n",
            "230      5.400    998.51      0.91       4.74 2014-01-31  MAC000002   \n",
            "242      7.450    990.80      0.87       4.68 2014-01-17  MAC000002   \n",
            "238      6.480    984.71      0.66       8.05 2014-02-09  MAC000002   \n",
            "275      7.640    988.63      0.69       9.96 2014-02-15  MAC000002   \n",
            "240      6.430    992.84      0.84       1.66 2014-02-10  MAC000002   \n",
            "227      5.140    996.66      0.76       4.62 2014-02-11  MAC000002   \n",
            "262      9.110   1000.65      0.78       5.69 2014-02-25  MAC000002   \n",
            "234      5.255    989.87      0.79       5.29 2014-01-27  MAC000002   \n",
            "248     10.955    994.61      0.78       8.30 2014-01-06  MAC000002   \n",
            "271      4.470   1001.76      0.91       1.52 2014-01-30  MAC000002   \n",
            "258      4.805   1018.51      0.81       2.68 2014-01-11  MAC000002   \n",
            "\n",
            "     energy_sum  \n",
            "220      18.532  \n",
            "225      11.723  \n",
            "253      15.496  \n",
            "233      12.734  \n",
            "239      14.418  \n",
            "270      12.917  \n",
            "256      17.172  \n",
            "246      14.039  \n",
            "264      13.083  \n",
            "232      15.802  \n",
            "274      13.812  \n",
            "223      13.921  \n",
            "254      11.382  \n",
            "250      24.363  \n",
            "228      20.304  \n",
            "237      17.018  \n",
            "226      13.352  \n",
            "224      12.528  \n",
            "261      16.176  \n",
            "247      14.195  \n",
            "267      12.486  \n",
            "266      12.328  \n",
            "272      24.040  \n",
            "235      11.425  \n",
            "229      14.116  \n",
            "236      14.997  \n",
            "244      19.011  \n",
            "251      12.585  \n",
            "273      20.518  \n",
            "268      27.272  \n",
            "245      13.497  \n",
            "231      21.940  \n",
            "252      11.876  \n",
            "269      14.964  \n",
            "257      16.663  \n",
            "249      17.066  \n",
            "260      12.371  \n",
            "221      14.886  \n",
            "241      13.079  \n",
            "222      14.800  \n",
            "263      17.468  \n",
            "259      16.025  \n",
            "255      14.577  \n",
            "243      18.266  \n",
            "265      16.492  \n",
            "230      21.574  \n",
            "242      14.894  \n",
            "238      12.657  \n",
            "275      12.570  \n",
            "240      10.846  \n",
            "227      15.586  \n",
            "262      11.826  \n",
            "234      22.629  \n",
            "248      14.302  \n",
            "271      14.166  \n",
            "258      14.466  \n"
          ]
        }
      ]
    },
    {
      "cell_type": "markdown",
      "source": [
        "### Centralised training, validation and test sets"
      ],
      "metadata": {
        "id": "MApq3bu5sigc"
      }
    },
    {
      "cell_type": "code",
      "source": [
        "\n",
        "# Copy FL training set to central training set\n",
        "Central_train_data = FL_train_set.copy()\n",
        "\n",
        "# Copy FL validation set to central validation set\n",
        "Central_val_data = FL_val_set.copy()\n",
        "\n",
        "# Copy FL test set to central test set\n",
        "Central_test_data = FL_test_set.copy()\n",
        "\n",
        "# Display the sizes of the sets\n",
        "print(\"Central Training set size:\", len(Central_train_data))\n",
        "print(\"Central Validation set size:\", len(Central_val_data))\n",
        "print(\"Central Test set size:\", len(Central_test_data))\n",
        "\n"
      ],
      "metadata": {
        "colab": {
          "base_uri": "https://localhost:8080/"
        },
        "id": "YQOhoHUdtI7e",
        "outputId": "35b38757-f4ed-4835-c5df-14a6ef32a7c7"
      },
      "execution_count": 64,
      "outputs": [
        {
          "output_type": "stream",
          "name": "stdout",
          "text": [
            "Central Training set size: 399\n",
            "Central Validation set size: 133\n",
            "Central Test set size: 135\n"
          ]
        }
      ]
    },
    {
      "cell_type": "markdown",
      "source": [
        "Displaying training, validation and test sets"
      ],
      "metadata": {
        "id": "fXufv5y-tO1x"
      }
    },
    {
      "cell_type": "code",
      "source": [
        "# Display the training and test sets\n",
        "print(\"Training set:\")\n",
        "print(Central_train_data)\n",
        "print(\"Validation set:\")\n",
        "print(Central_val_data)\n",
        "print(\"Test set:\")\n",
        "print(Central_test_data)\n"
      ],
      "metadata": {
        "colab": {
          "base_uri": "https://localhost:8080/"
        },
        "id": "gUNX3w0utFkh",
        "outputId": "9a926a03-4520-485c-823d-0a10bfda8d85"
      },
      "execution_count": 65,
      "outputs": [
        {
          "output_type": "stream",
          "name": "stdout",
          "text": [
            "Training set:\n",
            "     mean_temp  pressure  humidity  windSpeed       time      LCLid  \\\n",
            "0        3.140   1012.97      0.83       4.76 2013-01-12  MAC000002   \n",
            "1        3.200   1019.29      0.78       3.08 2013-02-08  MAC000002   \n",
            "2        8.050   1033.95      0.89       1.35 2013-11-27  MAC000002   \n",
            "3        6.260   1018.89      0.80       5.44 2012-12-09  MAC000002   \n",
            "4        5.900   1015.79      0.79       2.61 2013-11-10  MAC000002   \n",
            "..         ...       ...       ...        ...        ...        ...   \n",
            "394     11.210   1003.59      0.86       5.51 2012-12-23  MAC000246   \n",
            "395      8.580   1010.84      0.81       7.01 2011-12-08  MAC000246   \n",
            "396      7.755    997.84      0.91       2.38 2012-11-10  MAC000246   \n",
            "397      4.835   1029.69      0.80       4.25 2013-02-28  MAC000246   \n",
            "398      4.815   1023.19      0.83       2.14 2012-12-08  MAC000246   \n",
            "\n",
            "     energy_sum  \n",
            "0        10.586  \n",
            "1         9.635  \n",
            "2        11.003  \n",
            "3        11.355  \n",
            "4        25.556  \n",
            "..          ...  \n",
            "394      24.395  \n",
            "395      13.664  \n",
            "396      24.064  \n",
            "397      24.677  \n",
            "398      15.284  \n",
            "\n",
            "[399 rows x 7 columns]\n",
            "Validation set:\n",
            "     mean_temp  pressure  humidity  windSpeed       time      LCLid  \\\n",
            "0        4.965   1006.45      0.86       3.61 2013-01-26  MAC000002   \n",
            "1        7.380    991.64      0.82       2.94 2013-11-04  MAC000002   \n",
            "2        4.140   1014.89      0.84       3.07 2013-12-29  MAC000002   \n",
            "3        3.065   1026.97      0.83       4.80 2013-02-25  MAC000002   \n",
            "4        5.515   1004.26      0.78       4.83 2013-11-21  MAC000002   \n",
            "..         ...       ...       ...        ...        ...        ...   \n",
            "128      1.690   1015.13      0.76       2.87 2013-02-12  MAC000246   \n",
            "129     -0.490   1017.44      0.83       1.01 2013-01-17  MAC000246   \n",
            "130      1.990   1009.85      0.92       6.42 2013-03-23  MAC000246   \n",
            "131      6.025   1032.00      0.82       2.30 2013-11-13  MAC000246   \n",
            "132      7.380    991.64      0.82       2.94 2013-11-04  MAC000246   \n",
            "\n",
            "     energy_sum  \n",
            "0        16.348  \n",
            "1         9.736  \n",
            "2        14.982  \n",
            "3        11.198  \n",
            "4        11.730  \n",
            "..          ...  \n",
            "128      22.875  \n",
            "129      25.718  \n",
            "130      16.612  \n",
            "131      22.343  \n",
            "132      12.910  \n",
            "\n",
            "[133 rows x 7 columns]\n",
            "Test set:\n",
            "     mean_temp  pressure  humidity  windSpeed       time      LCLid  \\\n",
            "0        4.435   1004.33      0.81       2.50 2014-01-14  MAC000002   \n",
            "1        5.730    992.43      0.68       5.83 2014-02-13  MAC000002   \n",
            "2        8.965    993.32      0.86       7.20 2014-01-01  MAC000002   \n",
            "3        8.175   1009.09      0.71       4.77 2014-02-22  MAC000002   \n",
            "4        6.840   1000.02      0.87       4.40 2014-01-05  MAC000002   \n",
            "..         ...       ...       ...        ...        ...        ...   \n",
            "130      5.335    997.47      0.77       3.17 2013-12-28  MAC000246   \n",
            "131      6.970    988.77      0.79       3.98 2014-02-07  MAC000246   \n",
            "132      7.545   1005.39      0.72       4.75 2014-02-02  MAC000246   \n",
            "133      0.895   1014.52      0.80       3.20 2013-01-25  MAC000246   \n",
            "134     10.955    994.61      0.78       8.30 2014-01-06  MAC000246   \n",
            "\n",
            "     energy_sum  \n",
            "0        18.532  \n",
            "1        11.723  \n",
            "2        15.496  \n",
            "3        12.734  \n",
            "4        14.418  \n",
            "..          ...  \n",
            "130      21.253  \n",
            "131       9.560  \n",
            "132      31.426  \n",
            "133      21.594  \n",
            "134      16.022  \n",
            "\n",
            "[135 rows x 7 columns]\n"
          ]
        }
      ]
    },
    {
      "cell_type": "markdown",
      "source": [
        "# Centralised Training"
      ],
      "metadata": {
        "id": "IVpGqOqfnfFW"
      }
    },
    {
      "cell_type": "markdown",
      "source": [
        "## Defining features and target column"
      ],
      "metadata": {
        "id": "pe8CeDeXpYMQ"
      }
    },
    {
      "cell_type": "code",
      "source": [
        "# Separate features and target variable\n",
        "Central_X_train = Central_train_data[['mean_temp', 'pressure', 'humidity', 'windSpeed']]\n",
        "Central_y_train = Central_train_data['energy_sum']\n",
        "\n",
        "# Separate features and target variable\n",
        "Central_X_val = Central_val_data[['mean_temp', 'pressure', 'humidity', 'windSpeed']]\n",
        "Central_y_val = Central_val_data['energy_sum']\n",
        "\n",
        "# Separate features and target variable\n",
        "Central_X_test = Central_test_data[['mean_temp', 'pressure', 'humidity', 'windSpeed']]\n",
        "Central_y_test = Central_test_data['energy_sum']\n"
      ],
      "metadata": {
        "id": "aPxOdMTSpORn"
      },
      "execution_count": 66,
      "outputs": []
    },
    {
      "cell_type": "markdown",
      "source": [
        "## Preprocessing (scaler and imputer)"
      ],
      "metadata": {
        "id": "5FrtqxMEqk_2"
      }
    },
    {
      "cell_type": "code",
      "source": [
        "# Define the datasets\n",
        "datasets = [\n",
        "    (Central_X_train, Central_y_train, \"Central Training\"),\n",
        "    (Central_X_val, Central_y_val, \"Central Validation\"),\n",
        "    (Central_X_test, Central_y_test, \"Central Test\")\n",
        "]\n",
        "\n",
        "# Preprocess each dataset\n",
        "for X, y, name in datasets:\n",
        "    # Impute missing values and scale features\n",
        "    X_scaled = StandardScaler().fit_transform(SimpleImputer(strategy='mean').fit_transform(X))\n",
        "\n",
        "    # Display dataset name and shape\n",
        "    print(f\"{name} Dataset:\")\n",
        "    print(\"Original Shape:\", X.shape)\n",
        "    print(\"Preprocessed Shape:\", X_scaled.shape)\n",
        "    print()"
      ],
      "metadata": {
        "colab": {
          "base_uri": "https://localhost:8080/"
        },
        "id": "VNGXlzX_sH77",
        "outputId": "88577e7a-ae0e-417b-d00b-284f529afeed"
      },
      "execution_count": 67,
      "outputs": [
        {
          "output_type": "stream",
          "name": "stdout",
          "text": [
            "Central Training Dataset:\n",
            "Original Shape: (399, 4)\n",
            "Preprocessed Shape: (399, 4)\n",
            "\n",
            "Central Validation Dataset:\n",
            "Original Shape: (133, 4)\n",
            "Preprocessed Shape: (133, 4)\n",
            "\n",
            "Central Test Dataset:\n",
            "Original Shape: (135, 4)\n",
            "Preprocessed Shape: (135, 4)\n",
            "\n"
          ]
        }
      ]
    },
    {
      "cell_type": "code",
      "source": [
        "# Check for missing values\n",
        "print(Central_y_train.isnull().sum())\n",
        "print(Central_X_train.isnull().sum())\n",
        "\n",
        "# Replace missing values with mean (you can choose another strategy)\n",
        "Central_y_train.fillna(Central_y_train.mean(), inplace=True)\n",
        "Central_X_train.fillna(Central_X_train.mean(), inplace=True)\n",
        "\n",
        "# Check for missing values\n",
        "print(Central_y_train.isnull().sum())\n",
        "print(Central_X_train.isnull().sum())"
      ],
      "metadata": {
        "colab": {
          "base_uri": "https://localhost:8080/"
        },
        "id": "PqoTpCpfHd8D",
        "outputId": "133bb28c-6077-469d-cc07-7846b66f00dc"
      },
      "execution_count": 68,
      "outputs": [
        {
          "output_type": "stream",
          "name": "stdout",
          "text": [
            "0\n",
            "mean_temp    0\n",
            "pressure     0\n",
            "humidity     0\n",
            "windSpeed    0\n",
            "dtype: int64\n",
            "0\n",
            "mean_temp    0\n",
            "pressure     0\n",
            "humidity     0\n",
            "windSpeed    0\n",
            "dtype: int64\n"
          ]
        },
        {
          "output_type": "stream",
          "name": "stderr",
          "text": [
            "<ipython-input-68-e51efdbfd96c>:7: SettingWithCopyWarning: \n",
            "A value is trying to be set on a copy of a slice from a DataFrame.\n",
            "Try using .loc[row_indexer,col_indexer] = value instead\n",
            "\n",
            "See the caveats in the documentation: https://pandas.pydata.org/pandas-docs/stable/user_guide/indexing.html#returning-a-view-versus-a-copy\n",
            "  Central_X_train.fillna(Central_X_train.mean(), inplace=True)\n",
            "<ipython-input-68-e51efdbfd96c>:7: SettingWithCopyWarning: \n",
            "A value is trying to be set on a copy of a slice from a DataFrame.\n",
            "Try using .loc[row_indexer,col_indexer] = value instead\n",
            "\n",
            "See the caveats in the documentation: https://pandas.pydata.org/pandas-docs/stable/user_guide/indexing.html#returning-a-view-versus-a-copy\n",
            "  Central_X_train.fillna(Central_X_train.mean(), inplace=True)\n",
            "<ipython-input-68-e51efdbfd96c>:7: SettingWithCopyWarning: \n",
            "A value is trying to be set on a copy of a slice from a DataFrame.\n",
            "Try using .loc[row_indexer,col_indexer] = value instead\n",
            "\n",
            "See the caveats in the documentation: https://pandas.pydata.org/pandas-docs/stable/user_guide/indexing.html#returning-a-view-versus-a-copy\n",
            "  Central_X_train.fillna(Central_X_train.mean(), inplace=True)\n",
            "<ipython-input-68-e51efdbfd96c>:7: SettingWithCopyWarning: \n",
            "A value is trying to be set on a copy of a slice from a DataFrame.\n",
            "Try using .loc[row_indexer,col_indexer] = value instead\n",
            "\n",
            "See the caveats in the documentation: https://pandas.pydata.org/pandas-docs/stable/user_guide/indexing.html#returning-a-view-versus-a-copy\n",
            "  Central_X_train.fillna(Central_X_train.mean(), inplace=True)\n"
          ]
        }
      ]
    },
    {
      "cell_type": "markdown",
      "source": [
        "## Model selection"
      ],
      "metadata": {
        "id": "pDqGsD-tGiAH"
      }
    },
    {
      "cell_type": "code",
      "source": [
        "\n",
        "# # List of models to train\n",
        "# models = [\n",
        "#     LinearRegression(),\n",
        "#     DecisionTreeRegressor(),\n",
        "#     RandomForestRegressor(),\n",
        "#     GradientBoostingRegressor(),\n",
        "#     XGBRegressor(),\n",
        "#     LGBMRegressor(),\n",
        "#     CatBoostRegressor(),\n",
        "#     SVR(),\n",
        "#     MLPRegressor(),\n",
        "#     KNeighborsRegressor()\n",
        "# ]\n",
        "\n",
        "# # Dictionary to store model performances\n",
        "# model_performances = {}\n",
        "\n",
        "# # Train and evaluate each model on the validation set\n",
        "# for model in models:\n",
        "#     model_name = model.__class__.__name__\n",
        "#     print(f\"Training {model_name}...\")\n",
        "#     model.fit(Central_X_train, Central_y_train)\n",
        "\n",
        "#     # Predict on the validation set\n",
        "#     y_pred_val = model.predict(Central_X_val)\n",
        "#     # print(y_pred_val)\n",
        "\n",
        "#     # Calculate Mean Squared Error\n",
        "#     # mse_val = mean_squared_error(Central_y_val, y_pred_val)\n",
        "#     model_performances[model_name] = (Central_y_val-y_pred_val)\n",
        "#     print(model_performances[model_name])\n",
        "\n",
        "# # Find the best-performing model\n",
        "# best_model = min(model_performances, key=model_performances.get)\n",
        "# print(f\"Best-performing model: {best_model} (MSE: {model_performances[best_model]})\")\n"
      ],
      "metadata": {
        "id": "w9syWdcgGg9Y"
      },
      "execution_count": null,
      "outputs": []
    },
    {
      "cell_type": "code",
      "source": [
        "from sklearn.linear_model import LinearRegression\n",
        "from sklearn.ensemble import RandomForestRegressor\n",
        "import xgboost as xgb\n",
        "import tensorflow as tf\n",
        "from tensorflow import keras\n",
        "from tensorflow.keras import layers\n",
        "\n",
        "# Define models\n",
        "linear_model = LinearRegression()\n",
        "rf_model = RandomForestRegressor(n_estimators=100, random_state=0)\n",
        "xgb_model = xgb.XGBRegressor(n_estimators=100, objective='reg:squarederror', random_state=0)\n",
        "\n",
        "# Remove rows with missing values from both features and target variables\n",
        "Central_train_data_cleaned = Central_train_data.dropna()\n",
        "Central_X_train = Central_train_data_cleaned[['mean_temp', 'pressure', 'humidity', 'windSpeed']]\n",
        "Central_y_train = Central_train_data_cleaned['energy_sum']\n",
        "\n",
        "# Drop rows with NaN values in the target variable in the validation set\n",
        "Central_val_data.dropna(subset=['energy_sum'], inplace=True)\n",
        "\n",
        "# Train linear model\n",
        "linear_model.fit(Central_X_train, Central_y_train)\n",
        "\n",
        "# Train random forest model\n",
        "rf_model.fit(Central_X_train, Central_y_train)\n",
        "\n",
        "# Train XGBoost model\n",
        "xgb_model.fit(Central_X_train, Central_y_train)\n"
      ],
      "metadata": {
        "id": "xZDeUas4R_tS",
        "colab": {
          "base_uri": "https://localhost:8080/",
          "height": 248
        },
        "outputId": "512e09be-7c4b-4572-cda4-b4473c927df2"
      },
      "execution_count": 69,
      "outputs": [
        {
          "output_type": "execute_result",
          "data": {
            "text/plain": [
              "XGBRegressor(base_score=None, booster=None, callbacks=None,\n",
              "             colsample_bylevel=None, colsample_bynode=None,\n",
              "             colsample_bytree=None, early_stopping_rounds=None,\n",
              "             enable_categorical=False, eval_metric=None, feature_types=None,\n",
              "             gamma=None, gpu_id=None, grow_policy=None, importance_type=None,\n",
              "             interaction_constraints=None, learning_rate=None, max_bin=None,\n",
              "             max_cat_threshold=None, max_cat_to_onehot=None,\n",
              "             max_delta_step=None, max_depth=None, max_leaves=None,\n",
              "             min_child_weight=None, missing=nan, monotone_constraints=None,\n",
              "             n_estimators=100, n_jobs=None, num_parallel_tree=None,\n",
              "             predictor=None, random_state=0, ...)"
            ],
            "text/html": [
              "<style>#sk-container-id-1 {color: black;background-color: white;}#sk-container-id-1 pre{padding: 0;}#sk-container-id-1 div.sk-toggleable {background-color: white;}#sk-container-id-1 label.sk-toggleable__label {cursor: pointer;display: block;width: 100%;margin-bottom: 0;padding: 0.3em;box-sizing: border-box;text-align: center;}#sk-container-id-1 label.sk-toggleable__label-arrow:before {content: \"▸\";float: left;margin-right: 0.25em;color: #696969;}#sk-container-id-1 label.sk-toggleable__label-arrow:hover:before {color: black;}#sk-container-id-1 div.sk-estimator:hover label.sk-toggleable__label-arrow:before {color: black;}#sk-container-id-1 div.sk-toggleable__content {max-height: 0;max-width: 0;overflow: hidden;text-align: left;background-color: #f0f8ff;}#sk-container-id-1 div.sk-toggleable__content pre {margin: 0.2em;color: black;border-radius: 0.25em;background-color: #f0f8ff;}#sk-container-id-1 input.sk-toggleable__control:checked~div.sk-toggleable__content {max-height: 200px;max-width: 100%;overflow: auto;}#sk-container-id-1 input.sk-toggleable__control:checked~label.sk-toggleable__label-arrow:before {content: \"▾\";}#sk-container-id-1 div.sk-estimator input.sk-toggleable__control:checked~label.sk-toggleable__label {background-color: #d4ebff;}#sk-container-id-1 div.sk-label input.sk-toggleable__control:checked~label.sk-toggleable__label {background-color: #d4ebff;}#sk-container-id-1 input.sk-hidden--visually {border: 0;clip: rect(1px 1px 1px 1px);clip: rect(1px, 1px, 1px, 1px);height: 1px;margin: -1px;overflow: hidden;padding: 0;position: absolute;width: 1px;}#sk-container-id-1 div.sk-estimator {font-family: monospace;background-color: #f0f8ff;border: 1px dotted black;border-radius: 0.25em;box-sizing: border-box;margin-bottom: 0.5em;}#sk-container-id-1 div.sk-estimator:hover {background-color: #d4ebff;}#sk-container-id-1 div.sk-parallel-item::after {content: \"\";width: 100%;border-bottom: 1px solid gray;flex-grow: 1;}#sk-container-id-1 div.sk-label:hover label.sk-toggleable__label {background-color: #d4ebff;}#sk-container-id-1 div.sk-serial::before {content: \"\";position: absolute;border-left: 1px solid gray;box-sizing: border-box;top: 0;bottom: 0;left: 50%;z-index: 0;}#sk-container-id-1 div.sk-serial {display: flex;flex-direction: column;align-items: center;background-color: white;padding-right: 0.2em;padding-left: 0.2em;position: relative;}#sk-container-id-1 div.sk-item {position: relative;z-index: 1;}#sk-container-id-1 div.sk-parallel {display: flex;align-items: stretch;justify-content: center;background-color: white;position: relative;}#sk-container-id-1 div.sk-item::before, #sk-container-id-1 div.sk-parallel-item::before {content: \"\";position: absolute;border-left: 1px solid gray;box-sizing: border-box;top: 0;bottom: 0;left: 50%;z-index: -1;}#sk-container-id-1 div.sk-parallel-item {display: flex;flex-direction: column;z-index: 1;position: relative;background-color: white;}#sk-container-id-1 div.sk-parallel-item:first-child::after {align-self: flex-end;width: 50%;}#sk-container-id-1 div.sk-parallel-item:last-child::after {align-self: flex-start;width: 50%;}#sk-container-id-1 div.sk-parallel-item:only-child::after {width: 0;}#sk-container-id-1 div.sk-dashed-wrapped {border: 1px dashed gray;margin: 0 0.4em 0.5em 0.4em;box-sizing: border-box;padding-bottom: 0.4em;background-color: white;}#sk-container-id-1 div.sk-label label {font-family: monospace;font-weight: bold;display: inline-block;line-height: 1.2em;}#sk-container-id-1 div.sk-label-container {text-align: center;}#sk-container-id-1 div.sk-container {/* jupyter's `normalize.less` sets `[hidden] { display: none; }` but bootstrap.min.css set `[hidden] { display: none !important; }` so we also need the `!important` here to be able to override the default hidden behavior on the sphinx rendered scikit-learn.org. See: https://github.com/scikit-learn/scikit-learn/issues/21755 */display: inline-block !important;position: relative;}#sk-container-id-1 div.sk-text-repr-fallback {display: none;}</style><div id=\"sk-container-id-1\" class=\"sk-top-container\"><div class=\"sk-text-repr-fallback\"><pre>XGBRegressor(base_score=None, booster=None, callbacks=None,\n",
              "             colsample_bylevel=None, colsample_bynode=None,\n",
              "             colsample_bytree=None, early_stopping_rounds=None,\n",
              "             enable_categorical=False, eval_metric=None, feature_types=None,\n",
              "             gamma=None, gpu_id=None, grow_policy=None, importance_type=None,\n",
              "             interaction_constraints=None, learning_rate=None, max_bin=None,\n",
              "             max_cat_threshold=None, max_cat_to_onehot=None,\n",
              "             max_delta_step=None, max_depth=None, max_leaves=None,\n",
              "             min_child_weight=None, missing=nan, monotone_constraints=None,\n",
              "             n_estimators=100, n_jobs=None, num_parallel_tree=None,\n",
              "             predictor=None, random_state=0, ...)</pre><b>In a Jupyter environment, please rerun this cell to show the HTML representation or trust the notebook. <br />On GitHub, the HTML representation is unable to render, please try loading this page with nbviewer.org.</b></div><div class=\"sk-container\" hidden><div class=\"sk-item\"><div class=\"sk-estimator sk-toggleable\"><input class=\"sk-toggleable__control sk-hidden--visually\" id=\"sk-estimator-id-1\" type=\"checkbox\" checked><label for=\"sk-estimator-id-1\" class=\"sk-toggleable__label sk-toggleable__label-arrow\">XGBRegressor</label><div class=\"sk-toggleable__content\"><pre>XGBRegressor(base_score=None, booster=None, callbacks=None,\n",
              "             colsample_bylevel=None, colsample_bynode=None,\n",
              "             colsample_bytree=None, early_stopping_rounds=None,\n",
              "             enable_categorical=False, eval_metric=None, feature_types=None,\n",
              "             gamma=None, gpu_id=None, grow_policy=None, importance_type=None,\n",
              "             interaction_constraints=None, learning_rate=None, max_bin=None,\n",
              "             max_cat_threshold=None, max_cat_to_onehot=None,\n",
              "             max_delta_step=None, max_depth=None, max_leaves=None,\n",
              "             min_child_weight=None, missing=nan, monotone_constraints=None,\n",
              "             n_estimators=100, n_jobs=None, num_parallel_tree=None,\n",
              "             predictor=None, random_state=0, ...)</pre></div></div></div></div></div>"
            ]
          },
          "metadata": {},
          "execution_count": 69
        }
      ]
    },
    {
      "cell_type": "code",
      "source": [
        "# Build a simple feedforward neural network(FNN)\n",
        "fnn_model = keras.Sequential([\n",
        "    layers.Input(shape=(4,)),\n",
        "    layers.Dense(32, activation='relu'),\n",
        "    layers.Dense(16, activation='relu'),\n",
        "    layers.Dense(1)\n",
        "])\n",
        "\n",
        "fnn_model.compile(optimizer='adam', loss='mean_squared_error', metrics=['mse'])\n",
        "fnn_model.fit(Central_X_train, Central_y_train, epochs=10, batch_size=32, validation_data=(Central_X_val, Central_y_val))"
      ],
      "metadata": {
        "colab": {
          "base_uri": "https://localhost:8080/"
        },
        "id": "GOApr5TMrh6g",
        "outputId": "f6b3cda2-5701-4abe-f6be-30cc8d762e1a"
      },
      "execution_count": 70,
      "outputs": [
        {
          "output_type": "stream",
          "name": "stdout",
          "text": [
            "Epoch 1/10\n",
            "13/13 [==============================] - 7s 20ms/step - loss: 17161.3809 - mse: 17161.3809 - val_loss: 5660.9868 - val_mse: 5660.9868\n",
            "Epoch 2/10\n",
            "13/13 [==============================] - 0s 10ms/step - loss: 2018.1406 - mse: 2018.1406 - val_loss: 84.6273 - val_mse: 84.6273\n",
            "Epoch 3/10\n",
            "13/13 [==============================] - 0s 18ms/step - loss: 177.8212 - mse: 177.8212 - val_loss: 277.1711 - val_mse: 277.1711\n",
            "Epoch 4/10\n",
            "13/13 [==============================] - 0s 7ms/step - loss: 277.9893 - mse: 277.9893 - val_loss: 88.9380 - val_mse: 88.9380\n",
            "Epoch 5/10\n",
            "13/13 [==============================] - 0s 6ms/step - loss: 75.8610 - mse: 75.8610 - val_loss: 56.0831 - val_mse: 56.0831\n",
            "Epoch 6/10\n",
            "13/13 [==============================] - 0s 6ms/step - loss: 64.0960 - mse: 64.0960 - val_loss: 63.6307 - val_mse: 63.6307\n",
            "Epoch 7/10\n",
            "13/13 [==============================] - 0s 6ms/step - loss: 57.3477 - mse: 57.3477 - val_loss: 44.1781 - val_mse: 44.1781\n",
            "Epoch 8/10\n",
            "13/13 [==============================] - 0s 6ms/step - loss: 53.9984 - mse: 53.9984 - val_loss: 42.6184 - val_mse: 42.6184\n",
            "Epoch 9/10\n",
            "13/13 [==============================] - 0s 7ms/step - loss: 54.0687 - mse: 54.0687 - val_loss: 44.2889 - val_mse: 44.2889\n",
            "Epoch 10/10\n",
            "13/13 [==============================] - 0s 5ms/step - loss: 54.3573 - mse: 54.3573 - val_loss: 46.1967 - val_mse: 46.1967\n"
          ]
        },
        {
          "output_type": "execute_result",
          "data": {
            "text/plain": [
              "<keras.callbacks.History at 0x787af9d96d70>"
            ]
          },
          "metadata": {},
          "execution_count": 70
        }
      ]
    },
    {
      "cell_type": "code",
      "source": [
        "# Building a simple RNN model\n",
        "from tensorflow.keras.models import Sequential\n",
        "from tensorflow.keras.layers import Dense, SimpleRNN\n",
        "\n",
        "# Create an RNN model\n",
        "simple_rnn_model = Sequential()\n",
        "simple_rnn_model.add(SimpleRNN(64, activation='relu', input_shape=(Central_X_train.shape[1], 1)))\n",
        "simple_rnn_model.add(Dense(1))\n",
        "\n",
        "# Compile the model\n",
        "simple_rnn_model.compile(loss='mean_squared_error', optimizer='adam', metrics=['mse'])\n",
        "\n",
        "# Train the model\n",
        "simple_rnn_model.fit(Central_X_train, Central_y_train, epochs=10, batch_size=32, validation_data=(Central_X_val, Central_y_val))\n"
      ],
      "metadata": {
        "colab": {
          "base_uri": "https://localhost:8080/"
        },
        "id": "2BMpFLFqfXsd",
        "outputId": "43760f8f-43f2-4b26-ee2d-1d65250ece3c"
      },
      "execution_count": 71,
      "outputs": [
        {
          "output_type": "stream",
          "name": "stdout",
          "text": [
            "Epoch 1/10\n",
            "13/13 [==============================] - 3s 41ms/step - loss: 107.0179 - mse: 107.0179 - val_loss: 53.3754 - val_mse: 53.3754\n",
            "Epoch 2/10\n",
            "13/13 [==============================] - 0s 12ms/step - loss: 61.7776 - mse: 61.7776 - val_loss: 42.7444 - val_mse: 42.7444\n",
            "Epoch 3/10\n",
            "13/13 [==============================] - 0s 14ms/step - loss: 55.0148 - mse: 55.0148 - val_loss: 53.4659 - val_mse: 53.4659\n",
            "Epoch 4/10\n",
            "13/13 [==============================] - 0s 14ms/step - loss: 53.4779 - mse: 53.4779 - val_loss: 42.4808 - val_mse: 42.4808\n",
            "Epoch 5/10\n",
            "13/13 [==============================] - 0s 14ms/step - loss: 54.6314 - mse: 54.6314 - val_loss: 60.6819 - val_mse: 60.6819\n",
            "Epoch 6/10\n",
            "13/13 [==============================] - 0s 14ms/step - loss: 57.3904 - mse: 57.3904 - val_loss: 44.1403 - val_mse: 44.1403\n",
            "Epoch 7/10\n",
            "13/13 [==============================] - 0s 14ms/step - loss: 55.3232 - mse: 55.3232 - val_loss: 38.8871 - val_mse: 38.8871\n",
            "Epoch 8/10\n",
            "13/13 [==============================] - 0s 15ms/step - loss: 54.7645 - mse: 54.7645 - val_loss: 41.5068 - val_mse: 41.5068\n",
            "Epoch 9/10\n",
            "13/13 [==============================] - 0s 20ms/step - loss: 54.0734 - mse: 54.0734 - val_loss: 45.4822 - val_mse: 45.4822\n",
            "Epoch 10/10\n",
            "13/13 [==============================] - 0s 23ms/step - loss: 56.2144 - mse: 56.2144 - val_loss: 38.9653 - val_mse: 38.9653\n"
          ]
        },
        {
          "output_type": "execute_result",
          "data": {
            "text/plain": [
              "<keras.callbacks.History at 0x787aedd348b0>"
            ]
          },
          "metadata": {},
          "execution_count": 71
        }
      ]
    },
    {
      "cell_type": "code",
      "source": [
        "from tensorflow.keras.models import Sequential\n",
        "from tensorflow.keras.layers import LSTM, Dense\n",
        "\n",
        "# Reshape data for LSTM input (samples, timesteps, features)\n",
        "num_timesteps = 1\n",
        "num_features = Central_X_train.shape[1]\n",
        "\n",
        "X_train_reshaped = Central_X_train.values.reshape((Central_X_train.shape[0], num_timesteps, num_features))\n",
        "X_val_reshaped = Central_X_val.values.reshape((Central_X_val.shape[0], num_timesteps, num_features))\n",
        "\n",
        "# Create an LSTM model\n",
        "lstm_model = Sequential()\n",
        "lstm_model.add(LSTM(64, activation='relu', input_shape=(num_timesteps, num_features)))\n",
        "lstm_model.add(Dense(1))\n",
        "\n",
        "# Compile the model\n",
        "lstm_model.compile(loss='mse', optimizer='adam')\n",
        "\n",
        "# Train the model\n",
        "lstm_model.fit(X_train_reshaped, Central_y_train, epochs=10, batch_size=32, validation_data=(X_val_reshaped, Central_y_val))\n"
      ],
      "metadata": {
        "colab": {
          "base_uri": "https://localhost:8080/"
        },
        "id": "VK9tFvolsTkV",
        "outputId": "b5d9b86f-e21d-4099-fb76-44f8193ee622"
      },
      "execution_count": 72,
      "outputs": [
        {
          "output_type": "stream",
          "name": "stderr",
          "text": [
            "WARNING:tensorflow:Layer lstm will not use cuDNN kernels since it doesn't meet the criteria. It will use a generic GPU kernel as fallback when running on GPU.\n"
          ]
        },
        {
          "output_type": "stream",
          "name": "stdout",
          "text": [
            "Epoch 1/10\n",
            "13/13 [==============================] - 3s 26ms/step - loss: 2876.6497 - val_loss: 1699.9021\n",
            "Epoch 2/10\n",
            "13/13 [==============================] - 0s 7ms/step - loss: 958.6630 - val_loss: 446.6891\n",
            "Epoch 3/10\n",
            "13/13 [==============================] - 0s 9ms/step - loss: 205.1325 - val_loss: 79.9725\n",
            "Epoch 4/10\n",
            "13/13 [==============================] - 0s 8ms/step - loss: 59.8634 - val_loss: 38.6484\n",
            "Epoch 5/10\n",
            "13/13 [==============================] - 0s 8ms/step - loss: 59.0553 - val_loss: 39.2420\n",
            "Epoch 6/10\n",
            "13/13 [==============================] - 0s 9ms/step - loss: 56.9843 - val_loss: 39.0541\n",
            "Epoch 7/10\n",
            "13/13 [==============================] - 0s 9ms/step - loss: 53.4424 - val_loss: 41.6370\n",
            "Epoch 8/10\n",
            "13/13 [==============================] - 0s 9ms/step - loss: 53.2055 - val_loss: 42.7008\n",
            "Epoch 9/10\n",
            "13/13 [==============================] - 0s 7ms/step - loss: 53.1486 - val_loss: 41.9523\n",
            "Epoch 10/10\n",
            "13/13 [==============================] - 0s 7ms/step - loss: 53.1251 - val_loss: 41.6687\n"
          ]
        },
        {
          "output_type": "execute_result",
          "data": {
            "text/plain": [
              "<keras.callbacks.History at 0x787aed53c640>"
            ]
          },
          "metadata": {},
          "execution_count": 72
        }
      ]
    },
    {
      "cell_type": "markdown",
      "source": [
        "### Defining the Evaluation function"
      ],
      "metadata": {
        "id": "cq6pYV2vajNg"
      }
    },
    {
      "cell_type": "code",
      "source": [
        "from sklearn.metrics import mean_squared_error, mean_absolute_error\n",
        "from sklearn.metrics import r2_score\n",
        "def evaluate_model(model, X, y):\n",
        "    predictions = model.predict(X)\n",
        "    mse = mean_squared_error(y, predictions)\n",
        "    rmse = np.sqrt(mse)\n",
        "    mae = mean_absolute_error(y, predictions)\n",
        "    r2 = r2_score(y, predictions)\n",
        "    print(f\"Model: {model.__class__.__name__}\")\n",
        "    print(\"Mean Squared Error:\", mse)\n",
        "    print(\"Root Mean Squared Error:\", rmse)\n",
        "    print(\"Mean Absolute Error:\", mae)\n",
        "    print(\"R-squared:\", r2)\n",
        "    print(\"R-squared variance:\", r2*100)\n",
        "    print()\n"
      ],
      "metadata": {
        "id": "Nv4rwuSLaikH"
      },
      "execution_count": 73,
      "outputs": []
    },
    {
      "cell_type": "markdown",
      "source": [
        "### Using the Evalution Function"
      ],
      "metadata": {
        "id": "rOuTnMTmalw5"
      }
    },
    {
      "cell_type": "code",
      "source": [
        "# Define the models as trained earlier\n",
        "models = [\n",
        "    ('Linear Regression', linear_model),\n",
        "    ('Random Forest', rf_model),\n",
        "    ('XGBoost', xgb_model),\n",
        "    ('Neural Network', fnn_model),\n",
        "    ('RNN',simple_rnn_model),\n",
        "    ('LSTM',lstm_model)\n",
        "]\n",
        "\n",
        "# Evaluate each model\n",
        "for model_name, model in models:\n",
        "    print(f'\\n{model_name}:')\n",
        "    if model_name == 'LSTM':\n",
        "        X_val_reshaped = Central_X_val.values.reshape((Central_X_val.shape[0], num_timesteps, num_features))\n",
        "        evaluate_model(model, X_val_reshaped, Central_y_val)\n",
        "    else:\n",
        "        evaluate_model(model, Central_X_val, Central_y_val)\n",
        "\n"
      ],
      "metadata": {
        "colab": {
          "base_uri": "https://localhost:8080/"
        },
        "id": "ALw9fSQTaTlC",
        "outputId": "ed615da7-eae4-4585-9ba0-9cf5629bf5f7"
      },
      "execution_count": 74,
      "outputs": [
        {
          "output_type": "stream",
          "name": "stdout",
          "text": [
            "\n",
            "Linear Regression:\n",
            "Model: LinearRegression\n",
            "Mean Squared Error: 41.17150212588838\n",
            "Root Mean Squared Error: 6.416502328051349\n",
            "Mean Absolute Error: 4.8898272950595505\n",
            "R-squared: -0.0664766567428332\n",
            "R-squared variance: -6.647665674283321\n",
            "\n",
            "\n",
            "Random Forest:\n",
            "Model: RandomForestRegressor\n",
            "Mean Squared Error: 57.35830567047333\n",
            "Root Mean Squared Error: 7.573526633641247\n",
            "Mean Absolute Error: 5.807958722543663\n",
            "R-squared: -0.4857678469160289\n",
            "R-squared variance: -48.576784691602896\n",
            "\n",
            "\n",
            "XGBoost:\n",
            "Model: XGBRegressor\n",
            "Mean Squared Error: 74.19725545563229\n",
            "Root Mean Squared Error: 8.61378287720513\n",
            "Mean Absolute Error: 6.62705374229507\n",
            "R-squared: -0.9219517591528545\n",
            "R-squared variance: -92.19517591528546\n",
            "\n",
            "\n",
            "Neural Network:\n",
            "5/5 [==============================] - 0s 3ms/step\n",
            "Model: Sequential\n",
            "Mean Squared Error: 46.19671679662427\n",
            "Root Mean Squared Error: 6.796816666397901\n",
            "Mean Absolute Error: 5.164602234919268\n",
            "R-squared: -0.19664616391977852\n",
            "R-squared variance: -19.66461639197785\n",
            "\n",
            "\n",
            "RNN:\n",
            "5/5 [==============================] - 0s 3ms/step\n",
            "Model: Sequential\n",
            "Mean Squared Error: 38.96531784455692\n",
            "Root Mean Squared Error: 6.242220586022007\n",
            "Mean Absolute Error: 4.941623190399398\n",
            "R-squared: -0.009329263156881984\n",
            "R-squared variance: -0.9329263156881984\n",
            "\n",
            "\n",
            "LSTM:\n",
            "5/5 [==============================] - 0s 2ms/step\n",
            "Model: Sequential\n",
            "Mean Squared Error: 41.66871273696669\n",
            "Root Mean Squared Error: 6.455130729657355\n",
            "Mean Absolute Error: 4.91720415713579\n",
            "R-squared: -0.07935603890815934\n",
            "R-squared variance: -7.935603890815934\n",
            "\n"
          ]
        }
      ]
    },
    {
      "cell_type": "markdown",
      "source": [
        "### Hypertuning"
      ],
      "metadata": {
        "id": "-1rDcfEIXR2Q"
      }
    },
    {
      "cell_type": "code",
      "source": [
        "from sklearn.model_selection import GridSearchCV\n",
        "\n",
        "# Define a parameter grid for hyperparameter tuning\n",
        "param_grid = {\n",
        "    'n_estimators': [100, 200, 300],\n",
        "    'max_depth': [3, 5, 7],\n",
        "    'learning_rate': [0.01, 0.1, 0.2],\n",
        "    'subsample': [0.8, 1.0],\n",
        "    'colsample_bytree': [0.8, 1.0],\n",
        "}\n",
        "\n",
        "# Create XGBoost model\n",
        "xgb_model = xgb.XGBRegressor(objective='reg:squarederror', random_state=0)\n",
        "\n",
        "# Create GridSearchCV instance\n",
        "grid_search = GridSearchCV(xgb_model, param_grid, cv=5, scoring='neg_mean_squared_error', verbose=2)\n",
        "\n",
        "# Train the model using GridSearchCV\n",
        "grid_search.fit(Central_X_train, Central_y_train)\n",
        "\n",
        "# Get the best model from the grid search\n",
        "best_xgb_model = grid_search.best_estimator_"
      ],
      "metadata": {
        "colab": {
          "base_uri": "https://localhost:8080/"
        },
        "id": "ll_KLWBJv55X",
        "outputId": "9ae67e83-3bab-4f09-a4b2-28f5264677d7"
      },
      "execution_count": 75,
      "outputs": [
        {
          "output_type": "stream",
          "name": "stdout",
          "text": [
            "Fitting 5 folds for each of 108 candidates, totalling 540 fits\n",
            "[CV] END colsample_bytree=0.8, learning_rate=0.01, max_depth=3, n_estimators=100, subsample=0.8; total time=   0.0s\n",
            "[CV] END colsample_bytree=0.8, learning_rate=0.01, max_depth=3, n_estimators=100, subsample=0.8; total time=   0.0s\n",
            "[CV] END colsample_bytree=0.8, learning_rate=0.01, max_depth=3, n_estimators=100, subsample=0.8; total time=   0.0s\n",
            "[CV] END colsample_bytree=0.8, learning_rate=0.01, max_depth=3, n_estimators=100, subsample=0.8; total time=   0.0s\n",
            "[CV] END colsample_bytree=0.8, learning_rate=0.01, max_depth=3, n_estimators=100, subsample=0.8; total time=   0.0s\n",
            "[CV] END colsample_bytree=0.8, learning_rate=0.01, max_depth=3, n_estimators=100, subsample=1.0; total time=   0.0s\n",
            "[CV] END colsample_bytree=0.8, learning_rate=0.01, max_depth=3, n_estimators=100, subsample=1.0; total time=   0.0s\n",
            "[CV] END colsample_bytree=0.8, learning_rate=0.01, max_depth=3, n_estimators=100, subsample=1.0; total time=   0.0s\n",
            "[CV] END colsample_bytree=0.8, learning_rate=0.01, max_depth=3, n_estimators=100, subsample=1.0; total time=   0.0s\n",
            "[CV] END colsample_bytree=0.8, learning_rate=0.01, max_depth=3, n_estimators=100, subsample=1.0; total time=   0.0s\n",
            "[CV] END colsample_bytree=0.8, learning_rate=0.01, max_depth=3, n_estimators=200, subsample=0.8; total time=   0.0s\n",
            "[CV] END colsample_bytree=0.8, learning_rate=0.01, max_depth=3, n_estimators=200, subsample=0.8; total time=   0.1s\n",
            "[CV] END colsample_bytree=0.8, learning_rate=0.01, max_depth=3, n_estimators=200, subsample=0.8; total time=   0.0s\n",
            "[CV] END colsample_bytree=0.8, learning_rate=0.01, max_depth=3, n_estimators=200, subsample=0.8; total time=   0.1s\n",
            "[CV] END colsample_bytree=0.8, learning_rate=0.01, max_depth=3, n_estimators=200, subsample=0.8; total time=   0.0s\n",
            "[CV] END colsample_bytree=0.8, learning_rate=0.01, max_depth=3, n_estimators=200, subsample=1.0; total time=   0.0s\n",
            "[CV] END colsample_bytree=0.8, learning_rate=0.01, max_depth=3, n_estimators=200, subsample=1.0; total time=   0.0s\n",
            "[CV] END colsample_bytree=0.8, learning_rate=0.01, max_depth=3, n_estimators=200, subsample=1.0; total time=   0.0s\n",
            "[CV] END colsample_bytree=0.8, learning_rate=0.01, max_depth=3, n_estimators=200, subsample=1.0; total time=   0.0s\n",
            "[CV] END colsample_bytree=0.8, learning_rate=0.01, max_depth=3, n_estimators=200, subsample=1.0; total time=   0.0s\n",
            "[CV] END colsample_bytree=0.8, learning_rate=0.01, max_depth=3, n_estimators=300, subsample=0.8; total time=   0.1s\n",
            "[CV] END colsample_bytree=0.8, learning_rate=0.01, max_depth=3, n_estimators=300, subsample=0.8; total time=   0.1s\n",
            "[CV] END colsample_bytree=0.8, learning_rate=0.01, max_depth=3, n_estimators=300, subsample=0.8; total time=   0.1s\n",
            "[CV] END colsample_bytree=0.8, learning_rate=0.01, max_depth=3, n_estimators=300, subsample=0.8; total time=   0.1s\n",
            "[CV] END colsample_bytree=0.8, learning_rate=0.01, max_depth=3, n_estimators=300, subsample=0.8; total time=   0.1s\n",
            "[CV] END colsample_bytree=0.8, learning_rate=0.01, max_depth=3, n_estimators=300, subsample=1.0; total time=   0.1s\n",
            "[CV] END colsample_bytree=0.8, learning_rate=0.01, max_depth=3, n_estimators=300, subsample=1.0; total time=   0.1s\n",
            "[CV] END colsample_bytree=0.8, learning_rate=0.01, max_depth=3, n_estimators=300, subsample=1.0; total time=   0.2s\n",
            "[CV] END colsample_bytree=0.8, learning_rate=0.01, max_depth=3, n_estimators=300, subsample=1.0; total time=   0.1s\n",
            "[CV] END colsample_bytree=0.8, learning_rate=0.01, max_depth=3, n_estimators=300, subsample=1.0; total time=   0.2s\n",
            "[CV] END colsample_bytree=0.8, learning_rate=0.01, max_depth=5, n_estimators=100, subsample=0.8; total time=   0.1s\n",
            "[CV] END colsample_bytree=0.8, learning_rate=0.01, max_depth=5, n_estimators=100, subsample=0.8; total time=   0.1s\n",
            "[CV] END colsample_bytree=0.8, learning_rate=0.01, max_depth=5, n_estimators=100, subsample=0.8; total time=   0.1s\n",
            "[CV] END colsample_bytree=0.8, learning_rate=0.01, max_depth=5, n_estimators=100, subsample=0.8; total time=   0.1s\n",
            "[CV] END colsample_bytree=0.8, learning_rate=0.01, max_depth=5, n_estimators=100, subsample=0.8; total time=   0.1s\n",
            "[CV] END colsample_bytree=0.8, learning_rate=0.01, max_depth=5, n_estimators=100, subsample=1.0; total time=   0.1s\n",
            "[CV] END colsample_bytree=0.8, learning_rate=0.01, max_depth=5, n_estimators=100, subsample=1.0; total time=   0.1s\n",
            "[CV] END colsample_bytree=0.8, learning_rate=0.01, max_depth=5, n_estimators=100, subsample=1.0; total time=   0.1s\n",
            "[CV] END colsample_bytree=0.8, learning_rate=0.01, max_depth=5, n_estimators=100, subsample=1.0; total time=   0.1s\n",
            "[CV] END colsample_bytree=0.8, learning_rate=0.01, max_depth=5, n_estimators=100, subsample=1.0; total time=   0.1s\n",
            "[CV] END colsample_bytree=0.8, learning_rate=0.01, max_depth=5, n_estimators=200, subsample=0.8; total time=   0.3s\n",
            "[CV] END colsample_bytree=0.8, learning_rate=0.01, max_depth=5, n_estimators=200, subsample=0.8; total time=   0.4s\n",
            "[CV] END colsample_bytree=0.8, learning_rate=0.01, max_depth=5, n_estimators=200, subsample=0.8; total time=   0.4s\n",
            "[CV] END colsample_bytree=0.8, learning_rate=0.01, max_depth=5, n_estimators=200, subsample=0.8; total time=   0.3s\n",
            "[CV] END colsample_bytree=0.8, learning_rate=0.01, max_depth=5, n_estimators=200, subsample=0.8; total time=   0.3s\n",
            "[CV] END colsample_bytree=0.8, learning_rate=0.01, max_depth=5, n_estimators=200, subsample=1.0; total time=   0.4s\n",
            "[CV] END colsample_bytree=0.8, learning_rate=0.01, max_depth=5, n_estimators=200, subsample=1.0; total time=   0.3s\n",
            "[CV] END colsample_bytree=0.8, learning_rate=0.01, max_depth=5, n_estimators=200, subsample=1.0; total time=   0.3s\n",
            "[CV] END colsample_bytree=0.8, learning_rate=0.01, max_depth=5, n_estimators=200, subsample=1.0; total time=   0.4s\n",
            "[CV] END colsample_bytree=0.8, learning_rate=0.01, max_depth=5, n_estimators=200, subsample=1.0; total time=   0.3s\n",
            "[CV] END colsample_bytree=0.8, learning_rate=0.01, max_depth=5, n_estimators=300, subsample=0.8; total time=   0.5s\n",
            "[CV] END colsample_bytree=0.8, learning_rate=0.01, max_depth=5, n_estimators=300, subsample=0.8; total time=   0.5s\n",
            "[CV] END colsample_bytree=0.8, learning_rate=0.01, max_depth=5, n_estimators=300, subsample=0.8; total time=   0.5s\n",
            "[CV] END colsample_bytree=0.8, learning_rate=0.01, max_depth=5, n_estimators=300, subsample=0.8; total time=   0.4s\n",
            "[CV] END colsample_bytree=0.8, learning_rate=0.01, max_depth=5, n_estimators=300, subsample=0.8; total time=   0.4s\n",
            "[CV] END colsample_bytree=0.8, learning_rate=0.01, max_depth=5, n_estimators=300, subsample=1.0; total time=   0.5s\n",
            "[CV] END colsample_bytree=0.8, learning_rate=0.01, max_depth=5, n_estimators=300, subsample=1.0; total time=   0.4s\n",
            "[CV] END colsample_bytree=0.8, learning_rate=0.01, max_depth=5, n_estimators=300, subsample=1.0; total time=   0.4s\n",
            "[CV] END colsample_bytree=0.8, learning_rate=0.01, max_depth=5, n_estimators=300, subsample=1.0; total time=   0.3s\n",
            "[CV] END colsample_bytree=0.8, learning_rate=0.01, max_depth=5, n_estimators=300, subsample=1.0; total time=   0.3s\n",
            "[CV] END colsample_bytree=0.8, learning_rate=0.01, max_depth=7, n_estimators=100, subsample=0.8; total time=   0.1s\n",
            "[CV] END colsample_bytree=0.8, learning_rate=0.01, max_depth=7, n_estimators=100, subsample=0.8; total time=   0.1s\n",
            "[CV] END colsample_bytree=0.8, learning_rate=0.01, max_depth=7, n_estimators=100, subsample=0.8; total time=   0.1s\n",
            "[CV] END colsample_bytree=0.8, learning_rate=0.01, max_depth=7, n_estimators=100, subsample=0.8; total time=   0.1s\n",
            "[CV] END colsample_bytree=0.8, learning_rate=0.01, max_depth=7, n_estimators=100, subsample=0.8; total time=   0.1s\n",
            "[CV] END colsample_bytree=0.8, learning_rate=0.01, max_depth=7, n_estimators=100, subsample=1.0; total time=   0.2s\n",
            "[CV] END colsample_bytree=0.8, learning_rate=0.01, max_depth=7, n_estimators=100, subsample=1.0; total time=   0.2s\n",
            "[CV] END colsample_bytree=0.8, learning_rate=0.01, max_depth=7, n_estimators=100, subsample=1.0; total time=   0.2s\n",
            "[CV] END colsample_bytree=0.8, learning_rate=0.01, max_depth=7, n_estimators=100, subsample=1.0; total time=   0.2s\n",
            "[CV] END colsample_bytree=0.8, learning_rate=0.01, max_depth=7, n_estimators=100, subsample=1.0; total time=   0.1s\n",
            "[CV] END colsample_bytree=0.8, learning_rate=0.01, max_depth=7, n_estimators=200, subsample=0.8; total time=   0.2s\n",
            "[CV] END colsample_bytree=0.8, learning_rate=0.01, max_depth=7, n_estimators=200, subsample=0.8; total time=   0.2s\n",
            "[CV] END colsample_bytree=0.8, learning_rate=0.01, max_depth=7, n_estimators=200, subsample=0.8; total time=   0.3s\n",
            "[CV] END colsample_bytree=0.8, learning_rate=0.01, max_depth=7, n_estimators=200, subsample=0.8; total time=   0.1s\n",
            "[CV] END colsample_bytree=0.8, learning_rate=0.01, max_depth=7, n_estimators=200, subsample=0.8; total time=   0.1s\n",
            "[CV] END colsample_bytree=0.8, learning_rate=0.01, max_depth=7, n_estimators=200, subsample=1.0; total time=   0.1s\n",
            "[CV] END colsample_bytree=0.8, learning_rate=0.01, max_depth=7, n_estimators=200, subsample=1.0; total time=   0.1s\n",
            "[CV] END colsample_bytree=0.8, learning_rate=0.01, max_depth=7, n_estimators=200, subsample=1.0; total time=   0.1s\n",
            "[CV] END colsample_bytree=0.8, learning_rate=0.01, max_depth=7, n_estimators=200, subsample=1.0; total time=   0.1s\n",
            "[CV] END colsample_bytree=0.8, learning_rate=0.01, max_depth=7, n_estimators=200, subsample=1.0; total time=   0.1s\n",
            "[CV] END colsample_bytree=0.8, learning_rate=0.01, max_depth=7, n_estimators=300, subsample=0.8; total time=   0.1s\n",
            "[CV] END colsample_bytree=0.8, learning_rate=0.01, max_depth=7, n_estimators=300, subsample=0.8; total time=   0.1s\n",
            "[CV] END colsample_bytree=0.8, learning_rate=0.01, max_depth=7, n_estimators=300, subsample=0.8; total time=   0.1s\n",
            "[CV] END colsample_bytree=0.8, learning_rate=0.01, max_depth=7, n_estimators=300, subsample=0.8; total time=   0.1s\n",
            "[CV] END colsample_bytree=0.8, learning_rate=0.01, max_depth=7, n_estimators=300, subsample=0.8; total time=   0.1s\n",
            "[CV] END colsample_bytree=0.8, learning_rate=0.01, max_depth=7, n_estimators=300, subsample=1.0; total time=   0.2s\n",
            "[CV] END colsample_bytree=0.8, learning_rate=0.01, max_depth=7, n_estimators=300, subsample=1.0; total time=   0.5s\n",
            "[CV] END colsample_bytree=0.8, learning_rate=0.01, max_depth=7, n_estimators=300, subsample=1.0; total time=   0.1s\n",
            "[CV] END colsample_bytree=0.8, learning_rate=0.01, max_depth=7, n_estimators=300, subsample=1.0; total time=   0.1s\n",
            "[CV] END colsample_bytree=0.8, learning_rate=0.01, max_depth=7, n_estimators=300, subsample=1.0; total time=   0.1s\n",
            "[CV] END colsample_bytree=0.8, learning_rate=0.1, max_depth=3, n_estimators=100, subsample=0.8; total time=   0.0s\n",
            "[CV] END colsample_bytree=0.8, learning_rate=0.1, max_depth=3, n_estimators=100, subsample=0.8; total time=   0.0s\n",
            "[CV] END colsample_bytree=0.8, learning_rate=0.1, max_depth=3, n_estimators=100, subsample=0.8; total time=   0.1s\n",
            "[CV] END colsample_bytree=0.8, learning_rate=0.1, max_depth=3, n_estimators=100, subsample=0.8; total time=   0.1s\n",
            "[CV] END colsample_bytree=0.8, learning_rate=0.1, max_depth=3, n_estimators=100, subsample=0.8; total time=   0.1s\n",
            "[CV] END colsample_bytree=0.8, learning_rate=0.1, max_depth=3, n_estimators=100, subsample=1.0; total time=   0.1s\n",
            "[CV] END colsample_bytree=0.8, learning_rate=0.1, max_depth=3, n_estimators=100, subsample=1.0; total time=   0.1s\n",
            "[CV] END colsample_bytree=0.8, learning_rate=0.1, max_depth=3, n_estimators=100, subsample=1.0; total time=   0.1s\n",
            "[CV] END colsample_bytree=0.8, learning_rate=0.1, max_depth=3, n_estimators=100, subsample=1.0; total time=   0.1s\n",
            "[CV] END colsample_bytree=0.8, learning_rate=0.1, max_depth=3, n_estimators=100, subsample=1.0; total time=   0.0s\n",
            "[CV] END colsample_bytree=0.8, learning_rate=0.1, max_depth=3, n_estimators=200, subsample=0.8; total time=   0.1s\n",
            "[CV] END colsample_bytree=0.8, learning_rate=0.1, max_depth=3, n_estimators=200, subsample=0.8; total time=   0.0s\n",
            "[CV] END colsample_bytree=0.8, learning_rate=0.1, max_depth=3, n_estimators=200, subsample=0.8; total time=   0.0s\n",
            "[CV] END colsample_bytree=0.8, learning_rate=0.1, max_depth=3, n_estimators=200, subsample=0.8; total time=   0.1s\n",
            "[CV] END colsample_bytree=0.8, learning_rate=0.1, max_depth=3, n_estimators=200, subsample=0.8; total time=   0.0s\n",
            "[CV] END colsample_bytree=0.8, learning_rate=0.1, max_depth=3, n_estimators=200, subsample=1.0; total time=   0.1s\n",
            "[CV] END colsample_bytree=0.8, learning_rate=0.1, max_depth=3, n_estimators=200, subsample=1.0; total time=   0.0s\n",
            "[CV] END colsample_bytree=0.8, learning_rate=0.1, max_depth=3, n_estimators=200, subsample=1.0; total time=   0.0s\n",
            "[CV] END colsample_bytree=0.8, learning_rate=0.1, max_depth=3, n_estimators=200, subsample=1.0; total time=   0.1s\n",
            "[CV] END colsample_bytree=0.8, learning_rate=0.1, max_depth=3, n_estimators=200, subsample=1.0; total time=   0.2s\n",
            "[CV] END colsample_bytree=0.8, learning_rate=0.1, max_depth=3, n_estimators=300, subsample=0.8; total time=   0.2s\n",
            "[CV] END colsample_bytree=0.8, learning_rate=0.1, max_depth=3, n_estimators=300, subsample=0.8; total time=   0.1s\n",
            "[CV] END colsample_bytree=0.8, learning_rate=0.1, max_depth=3, n_estimators=300, subsample=0.8; total time=   0.1s\n",
            "[CV] END colsample_bytree=0.8, learning_rate=0.1, max_depth=3, n_estimators=300, subsample=0.8; total time=   0.1s\n",
            "[CV] END colsample_bytree=0.8, learning_rate=0.1, max_depth=3, n_estimators=300, subsample=0.8; total time=   0.1s\n",
            "[CV] END colsample_bytree=0.8, learning_rate=0.1, max_depth=3, n_estimators=300, subsample=1.0; total time=   0.1s\n",
            "[CV] END colsample_bytree=0.8, learning_rate=0.1, max_depth=3, n_estimators=300, subsample=1.0; total time=   0.1s\n",
            "[CV] END colsample_bytree=0.8, learning_rate=0.1, max_depth=3, n_estimators=300, subsample=1.0; total time=   0.1s\n",
            "[CV] END colsample_bytree=0.8, learning_rate=0.1, max_depth=3, n_estimators=300, subsample=1.0; total time=   0.1s\n",
            "[CV] END colsample_bytree=0.8, learning_rate=0.1, max_depth=3, n_estimators=300, subsample=1.0; total time=   0.1s\n",
            "[CV] END colsample_bytree=0.8, learning_rate=0.1, max_depth=5, n_estimators=100, subsample=0.8; total time=   0.0s\n",
            "[CV] END colsample_bytree=0.8, learning_rate=0.1, max_depth=5, n_estimators=100, subsample=0.8; total time=   0.0s\n",
            "[CV] END colsample_bytree=0.8, learning_rate=0.1, max_depth=5, n_estimators=100, subsample=0.8; total time=   0.0s\n",
            "[CV] END colsample_bytree=0.8, learning_rate=0.1, max_depth=5, n_estimators=100, subsample=0.8; total time=   0.0s\n",
            "[CV] END colsample_bytree=0.8, learning_rate=0.1, max_depth=5, n_estimators=100, subsample=0.8; total time=   0.0s\n",
            "[CV] END colsample_bytree=0.8, learning_rate=0.1, max_depth=5, n_estimators=100, subsample=1.0; total time=   0.0s\n",
            "[CV] END colsample_bytree=0.8, learning_rate=0.1, max_depth=5, n_estimators=100, subsample=1.0; total time=   0.0s\n",
            "[CV] END colsample_bytree=0.8, learning_rate=0.1, max_depth=5, n_estimators=100, subsample=1.0; total time=   0.0s\n",
            "[CV] END colsample_bytree=0.8, learning_rate=0.1, max_depth=5, n_estimators=100, subsample=1.0; total time=   0.0s\n",
            "[CV] END colsample_bytree=0.8, learning_rate=0.1, max_depth=5, n_estimators=100, subsample=1.0; total time=   0.0s\n",
            "[CV] END colsample_bytree=0.8, learning_rate=0.1, max_depth=5, n_estimators=200, subsample=0.8; total time=   0.1s\n",
            "[CV] END colsample_bytree=0.8, learning_rate=0.1, max_depth=5, n_estimators=200, subsample=0.8; total time=   0.1s\n",
            "[CV] END colsample_bytree=0.8, learning_rate=0.1, max_depth=5, n_estimators=200, subsample=0.8; total time=   0.1s\n",
            "[CV] END colsample_bytree=0.8, learning_rate=0.1, max_depth=5, n_estimators=200, subsample=0.8; total time=   0.1s\n",
            "[CV] END colsample_bytree=0.8, learning_rate=0.1, max_depth=5, n_estimators=200, subsample=0.8; total time=   0.1s\n",
            "[CV] END colsample_bytree=0.8, learning_rate=0.1, max_depth=5, n_estimators=200, subsample=1.0; total time=   0.1s\n",
            "[CV] END colsample_bytree=0.8, learning_rate=0.1, max_depth=5, n_estimators=200, subsample=1.0; total time=   0.1s\n",
            "[CV] END colsample_bytree=0.8, learning_rate=0.1, max_depth=5, n_estimators=200, subsample=1.0; total time=   0.1s\n",
            "[CV] END colsample_bytree=0.8, learning_rate=0.1, max_depth=5, n_estimators=200, subsample=1.0; total time=   0.1s\n",
            "[CV] END colsample_bytree=0.8, learning_rate=0.1, max_depth=5, n_estimators=200, subsample=1.0; total time=   0.1s\n",
            "[CV] END colsample_bytree=0.8, learning_rate=0.1, max_depth=5, n_estimators=300, subsample=0.8; total time=   0.1s\n",
            "[CV] END colsample_bytree=0.8, learning_rate=0.1, max_depth=5, n_estimators=300, subsample=0.8; total time=   0.1s\n",
            "[CV] END colsample_bytree=0.8, learning_rate=0.1, max_depth=5, n_estimators=300, subsample=0.8; total time=   0.1s\n",
            "[CV] END colsample_bytree=0.8, learning_rate=0.1, max_depth=5, n_estimators=300, subsample=0.8; total time=   0.1s\n",
            "[CV] END colsample_bytree=0.8, learning_rate=0.1, max_depth=5, n_estimators=300, subsample=0.8; total time=   0.1s\n",
            "[CV] END colsample_bytree=0.8, learning_rate=0.1, max_depth=5, n_estimators=300, subsample=1.0; total time=   0.1s\n",
            "[CV] END colsample_bytree=0.8, learning_rate=0.1, max_depth=5, n_estimators=300, subsample=1.0; total time=   0.1s\n",
            "[CV] END colsample_bytree=0.8, learning_rate=0.1, max_depth=5, n_estimators=300, subsample=1.0; total time=   0.1s\n",
            "[CV] END colsample_bytree=0.8, learning_rate=0.1, max_depth=5, n_estimators=300, subsample=1.0; total time=   0.1s\n",
            "[CV] END colsample_bytree=0.8, learning_rate=0.1, max_depth=5, n_estimators=300, subsample=1.0; total time=   0.1s\n",
            "[CV] END colsample_bytree=0.8, learning_rate=0.1, max_depth=7, n_estimators=100, subsample=0.8; total time=   0.0s\n",
            "[CV] END colsample_bytree=0.8, learning_rate=0.1, max_depth=7, n_estimators=100, subsample=0.8; total time=   0.0s\n",
            "[CV] END colsample_bytree=0.8, learning_rate=0.1, max_depth=7, n_estimators=100, subsample=0.8; total time=   0.0s\n",
            "[CV] END colsample_bytree=0.8, learning_rate=0.1, max_depth=7, n_estimators=100, subsample=0.8; total time=   0.0s\n",
            "[CV] END colsample_bytree=0.8, learning_rate=0.1, max_depth=7, n_estimators=100, subsample=0.8; total time=   0.0s\n",
            "[CV] END colsample_bytree=0.8, learning_rate=0.1, max_depth=7, n_estimators=100, subsample=1.0; total time=   0.0s\n",
            "[CV] END colsample_bytree=0.8, learning_rate=0.1, max_depth=7, n_estimators=100, subsample=1.0; total time=   0.0s\n",
            "[CV] END colsample_bytree=0.8, learning_rate=0.1, max_depth=7, n_estimators=100, subsample=1.0; total time=   0.0s\n",
            "[CV] END colsample_bytree=0.8, learning_rate=0.1, max_depth=7, n_estimators=100, subsample=1.0; total time=   0.0s\n",
            "[CV] END colsample_bytree=0.8, learning_rate=0.1, max_depth=7, n_estimators=100, subsample=1.0; total time=   0.1s\n",
            "[CV] END colsample_bytree=0.8, learning_rate=0.1, max_depth=7, n_estimators=200, subsample=0.8; total time=   0.2s\n",
            "[CV] END colsample_bytree=0.8, learning_rate=0.1, max_depth=7, n_estimators=200, subsample=0.8; total time=   0.2s\n",
            "[CV] END colsample_bytree=0.8, learning_rate=0.1, max_depth=7, n_estimators=200, subsample=0.8; total time=   0.2s\n",
            "[CV] END colsample_bytree=0.8, learning_rate=0.1, max_depth=7, n_estimators=200, subsample=0.8; total time=   0.2s\n",
            "[CV] END colsample_bytree=0.8, learning_rate=0.1, max_depth=7, n_estimators=200, subsample=0.8; total time=   0.1s\n",
            "[CV] END colsample_bytree=0.8, learning_rate=0.1, max_depth=7, n_estimators=200, subsample=1.0; total time=   0.2s\n",
            "[CV] END colsample_bytree=0.8, learning_rate=0.1, max_depth=7, n_estimators=200, subsample=1.0; total time=   0.2s\n",
            "[CV] END colsample_bytree=0.8, learning_rate=0.1, max_depth=7, n_estimators=200, subsample=1.0; total time=   0.2s\n",
            "[CV] END colsample_bytree=0.8, learning_rate=0.1, max_depth=7, n_estimators=200, subsample=1.0; total time=   0.1s\n",
            "[CV] END colsample_bytree=0.8, learning_rate=0.1, max_depth=7, n_estimators=200, subsample=1.0; total time=   0.2s\n",
            "[CV] END colsample_bytree=0.8, learning_rate=0.1, max_depth=7, n_estimators=300, subsample=0.8; total time=   0.2s\n",
            "[CV] END colsample_bytree=0.8, learning_rate=0.1, max_depth=7, n_estimators=300, subsample=0.8; total time=   0.2s\n",
            "[CV] END colsample_bytree=0.8, learning_rate=0.1, max_depth=7, n_estimators=300, subsample=0.8; total time=   0.2s\n",
            "[CV] END colsample_bytree=0.8, learning_rate=0.1, max_depth=7, n_estimators=300, subsample=0.8; total time=   0.2s\n",
            "[CV] END colsample_bytree=0.8, learning_rate=0.1, max_depth=7, n_estimators=300, subsample=0.8; total time=   0.2s\n",
            "[CV] END colsample_bytree=0.8, learning_rate=0.1, max_depth=7, n_estimators=300, subsample=1.0; total time=   0.2s\n",
            "[CV] END colsample_bytree=0.8, learning_rate=0.1, max_depth=7, n_estimators=300, subsample=1.0; total time=   0.2s\n",
            "[CV] END colsample_bytree=0.8, learning_rate=0.1, max_depth=7, n_estimators=300, subsample=1.0; total time=   0.2s\n",
            "[CV] END colsample_bytree=0.8, learning_rate=0.1, max_depth=7, n_estimators=300, subsample=1.0; total time=   0.2s\n",
            "[CV] END colsample_bytree=0.8, learning_rate=0.1, max_depth=7, n_estimators=300, subsample=1.0; total time=   0.2s\n",
            "[CV] END colsample_bytree=0.8, learning_rate=0.2, max_depth=3, n_estimators=100, subsample=0.8; total time=   0.0s\n",
            "[CV] END colsample_bytree=0.8, learning_rate=0.2, max_depth=3, n_estimators=100, subsample=0.8; total time=   0.0s\n",
            "[CV] END colsample_bytree=0.8, learning_rate=0.2, max_depth=3, n_estimators=100, subsample=0.8; total time=   0.0s\n",
            "[CV] END colsample_bytree=0.8, learning_rate=0.2, max_depth=3, n_estimators=100, subsample=0.8; total time=   0.0s\n",
            "[CV] END colsample_bytree=0.8, learning_rate=0.2, max_depth=3, n_estimators=100, subsample=0.8; total time=   0.1s\n",
            "[CV] END colsample_bytree=0.8, learning_rate=0.2, max_depth=3, n_estimators=100, subsample=1.0; total time=   0.0s\n",
            "[CV] END colsample_bytree=0.8, learning_rate=0.2, max_depth=3, n_estimators=100, subsample=1.0; total time=   0.0s\n",
            "[CV] END colsample_bytree=0.8, learning_rate=0.2, max_depth=3, n_estimators=100, subsample=1.0; total time=   0.0s\n",
            "[CV] END colsample_bytree=0.8, learning_rate=0.2, max_depth=3, n_estimators=100, subsample=1.0; total time=   0.0s\n",
            "[CV] END colsample_bytree=0.8, learning_rate=0.2, max_depth=3, n_estimators=100, subsample=1.0; total time=   0.1s\n",
            "[CV] END colsample_bytree=0.8, learning_rate=0.2, max_depth=3, n_estimators=200, subsample=0.8; total time=   0.1s\n",
            "[CV] END colsample_bytree=0.8, learning_rate=0.2, max_depth=3, n_estimators=200, subsample=0.8; total time=   0.1s\n",
            "[CV] END colsample_bytree=0.8, learning_rate=0.2, max_depth=3, n_estimators=200, subsample=0.8; total time=   0.1s\n",
            "[CV] END colsample_bytree=0.8, learning_rate=0.2, max_depth=3, n_estimators=200, subsample=0.8; total time=   0.1s\n",
            "[CV] END colsample_bytree=0.8, learning_rate=0.2, max_depth=3, n_estimators=200, subsample=0.8; total time=   0.1s\n",
            "[CV] END colsample_bytree=0.8, learning_rate=0.2, max_depth=3, n_estimators=200, subsample=1.0; total time=   0.1s\n",
            "[CV] END colsample_bytree=0.8, learning_rate=0.2, max_depth=3, n_estimators=200, subsample=1.0; total time=   0.1s\n",
            "[CV] END colsample_bytree=0.8, learning_rate=0.2, max_depth=3, n_estimators=200, subsample=1.0; total time=   0.1s\n",
            "[CV] END colsample_bytree=0.8, learning_rate=0.2, max_depth=3, n_estimators=200, subsample=1.0; total time=   0.1s\n",
            "[CV] END colsample_bytree=0.8, learning_rate=0.2, max_depth=3, n_estimators=200, subsample=1.0; total time=   0.1s\n",
            "[CV] END colsample_bytree=0.8, learning_rate=0.2, max_depth=3, n_estimators=300, subsample=0.8; total time=   0.1s\n",
            "[CV] END colsample_bytree=0.8, learning_rate=0.2, max_depth=3, n_estimators=300, subsample=0.8; total time=   0.1s\n",
            "[CV] END colsample_bytree=0.8, learning_rate=0.2, max_depth=3, n_estimators=300, subsample=0.8; total time=   0.1s\n",
            "[CV] END colsample_bytree=0.8, learning_rate=0.2, max_depth=3, n_estimators=300, subsample=0.8; total time=   0.1s\n",
            "[CV] END colsample_bytree=0.8, learning_rate=0.2, max_depth=3, n_estimators=300, subsample=0.8; total time=   0.1s\n",
            "[CV] END colsample_bytree=0.8, learning_rate=0.2, max_depth=3, n_estimators=300, subsample=1.0; total time=   0.1s\n",
            "[CV] END colsample_bytree=0.8, learning_rate=0.2, max_depth=3, n_estimators=300, subsample=1.0; total time=   0.1s\n",
            "[CV] END colsample_bytree=0.8, learning_rate=0.2, max_depth=3, n_estimators=300, subsample=1.0; total time=   0.1s\n",
            "[CV] END colsample_bytree=0.8, learning_rate=0.2, max_depth=3, n_estimators=300, subsample=1.0; total time=   0.1s\n",
            "[CV] END colsample_bytree=0.8, learning_rate=0.2, max_depth=3, n_estimators=300, subsample=1.0; total time=   0.1s\n",
            "[CV] END colsample_bytree=0.8, learning_rate=0.2, max_depth=5, n_estimators=100, subsample=0.8; total time=   0.0s\n",
            "[CV] END colsample_bytree=0.8, learning_rate=0.2, max_depth=5, n_estimators=100, subsample=0.8; total time=   0.0s\n",
            "[CV] END colsample_bytree=0.8, learning_rate=0.2, max_depth=5, n_estimators=100, subsample=0.8; total time=   0.0s\n",
            "[CV] END colsample_bytree=0.8, learning_rate=0.2, max_depth=5, n_estimators=100, subsample=0.8; total time=   0.1s\n",
            "[CV] END colsample_bytree=0.8, learning_rate=0.2, max_depth=5, n_estimators=100, subsample=0.8; total time=   0.0s\n",
            "[CV] END colsample_bytree=0.8, learning_rate=0.2, max_depth=5, n_estimators=100, subsample=1.0; total time=   0.0s\n",
            "[CV] END colsample_bytree=0.8, learning_rate=0.2, max_depth=5, n_estimators=100, subsample=1.0; total time=   0.0s\n",
            "[CV] END colsample_bytree=0.8, learning_rate=0.2, max_depth=5, n_estimators=100, subsample=1.0; total time=   0.0s\n",
            "[CV] END colsample_bytree=0.8, learning_rate=0.2, max_depth=5, n_estimators=100, subsample=1.0; total time=   0.0s\n",
            "[CV] END colsample_bytree=0.8, learning_rate=0.2, max_depth=5, n_estimators=100, subsample=1.0; total time=   0.0s\n",
            "[CV] END colsample_bytree=0.8, learning_rate=0.2, max_depth=5, n_estimators=200, subsample=0.8; total time=   0.1s\n",
            "[CV] END colsample_bytree=0.8, learning_rate=0.2, max_depth=5, n_estimators=200, subsample=0.8; total time=   0.1s\n",
            "[CV] END colsample_bytree=0.8, learning_rate=0.2, max_depth=5, n_estimators=200, subsample=0.8; total time=   0.1s\n",
            "[CV] END colsample_bytree=0.8, learning_rate=0.2, max_depth=5, n_estimators=200, subsample=0.8; total time=   0.1s\n",
            "[CV] END colsample_bytree=0.8, learning_rate=0.2, max_depth=5, n_estimators=200, subsample=0.8; total time=   0.1s\n",
            "[CV] END colsample_bytree=0.8, learning_rate=0.2, max_depth=5, n_estimators=200, subsample=1.0; total time=   0.1s\n",
            "[CV] END colsample_bytree=0.8, learning_rate=0.2, max_depth=5, n_estimators=200, subsample=1.0; total time=   0.1s\n",
            "[CV] END colsample_bytree=0.8, learning_rate=0.2, max_depth=5, n_estimators=200, subsample=1.0; total time=   0.1s\n",
            "[CV] END colsample_bytree=0.8, learning_rate=0.2, max_depth=5, n_estimators=200, subsample=1.0; total time=   0.1s\n",
            "[CV] END colsample_bytree=0.8, learning_rate=0.2, max_depth=5, n_estimators=200, subsample=1.0; total time=   0.1s\n",
            "[CV] END colsample_bytree=0.8, learning_rate=0.2, max_depth=5, n_estimators=300, subsample=0.8; total time=   0.1s\n",
            "[CV] END colsample_bytree=0.8, learning_rate=0.2, max_depth=5, n_estimators=300, subsample=0.8; total time=   0.1s\n",
            "[CV] END colsample_bytree=0.8, learning_rate=0.2, max_depth=5, n_estimators=300, subsample=0.8; total time=   0.1s\n",
            "[CV] END colsample_bytree=0.8, learning_rate=0.2, max_depth=5, n_estimators=300, subsample=0.8; total time=   0.1s\n",
            "[CV] END colsample_bytree=0.8, learning_rate=0.2, max_depth=5, n_estimators=300, subsample=0.8; total time=   0.1s\n",
            "[CV] END colsample_bytree=0.8, learning_rate=0.2, max_depth=5, n_estimators=300, subsample=1.0; total time=   0.1s\n",
            "[CV] END colsample_bytree=0.8, learning_rate=0.2, max_depth=5, n_estimators=300, subsample=1.0; total time=   0.1s\n",
            "[CV] END colsample_bytree=0.8, learning_rate=0.2, max_depth=5, n_estimators=300, subsample=1.0; total time=   0.1s\n",
            "[CV] END colsample_bytree=0.8, learning_rate=0.2, max_depth=5, n_estimators=300, subsample=1.0; total time=   0.1s\n",
            "[CV] END colsample_bytree=0.8, learning_rate=0.2, max_depth=5, n_estimators=300, subsample=1.0; total time=   0.1s\n",
            "[CV] END colsample_bytree=0.8, learning_rate=0.2, max_depth=7, n_estimators=100, subsample=0.8; total time=   0.0s\n",
            "[CV] END colsample_bytree=0.8, learning_rate=0.2, max_depth=7, n_estimators=100, subsample=0.8; total time=   0.0s\n",
            "[CV] END colsample_bytree=0.8, learning_rate=0.2, max_depth=7, n_estimators=100, subsample=0.8; total time=   0.1s\n",
            "[CV] END colsample_bytree=0.8, learning_rate=0.2, max_depth=7, n_estimators=100, subsample=0.8; total time=   0.0s\n",
            "[CV] END colsample_bytree=0.8, learning_rate=0.2, max_depth=7, n_estimators=100, subsample=0.8; total time=   0.0s\n",
            "[CV] END colsample_bytree=0.8, learning_rate=0.2, max_depth=7, n_estimators=100, subsample=1.0; total time=   0.0s\n",
            "[CV] END colsample_bytree=0.8, learning_rate=0.2, max_depth=7, n_estimators=100, subsample=1.0; total time=   0.1s\n",
            "[CV] END colsample_bytree=0.8, learning_rate=0.2, max_depth=7, n_estimators=100, subsample=1.0; total time=   0.0s\n",
            "[CV] END colsample_bytree=0.8, learning_rate=0.2, max_depth=7, n_estimators=100, subsample=1.0; total time=   0.0s\n",
            "[CV] END colsample_bytree=0.8, learning_rate=0.2, max_depth=7, n_estimators=100, subsample=1.0; total time=   0.0s\n",
            "[CV] END colsample_bytree=0.8, learning_rate=0.2, max_depth=7, n_estimators=200, subsample=0.8; total time=   0.1s\n",
            "[CV] END colsample_bytree=0.8, learning_rate=0.2, max_depth=7, n_estimators=200, subsample=0.8; total time=   0.1s\n",
            "[CV] END colsample_bytree=0.8, learning_rate=0.2, max_depth=7, n_estimators=200, subsample=0.8; total time=   0.1s\n",
            "[CV] END colsample_bytree=0.8, learning_rate=0.2, max_depth=7, n_estimators=200, subsample=0.8; total time=   0.1s\n",
            "[CV] END colsample_bytree=0.8, learning_rate=0.2, max_depth=7, n_estimators=200, subsample=0.8; total time=   0.1s\n",
            "[CV] END colsample_bytree=0.8, learning_rate=0.2, max_depth=7, n_estimators=200, subsample=1.0; total time=   0.1s\n",
            "[CV] END colsample_bytree=0.8, learning_rate=0.2, max_depth=7, n_estimators=200, subsample=1.0; total time=   0.1s\n",
            "[CV] END colsample_bytree=0.8, learning_rate=0.2, max_depth=7, n_estimators=200, subsample=1.0; total time=   0.1s\n",
            "[CV] END colsample_bytree=0.8, learning_rate=0.2, max_depth=7, n_estimators=200, subsample=1.0; total time=   0.1s\n",
            "[CV] END colsample_bytree=0.8, learning_rate=0.2, max_depth=7, n_estimators=200, subsample=1.0; total time=   0.1s\n",
            "[CV] END colsample_bytree=0.8, learning_rate=0.2, max_depth=7, n_estimators=300, subsample=0.8; total time=   0.1s\n",
            "[CV] END colsample_bytree=0.8, learning_rate=0.2, max_depth=7, n_estimators=300, subsample=0.8; total time=   0.1s\n",
            "[CV] END colsample_bytree=0.8, learning_rate=0.2, max_depth=7, n_estimators=300, subsample=0.8; total time=   0.1s\n",
            "[CV] END colsample_bytree=0.8, learning_rate=0.2, max_depth=7, n_estimators=300, subsample=0.8; total time=   0.1s\n",
            "[CV] END colsample_bytree=0.8, learning_rate=0.2, max_depth=7, n_estimators=300, subsample=0.8; total time=   0.1s\n",
            "[CV] END colsample_bytree=0.8, learning_rate=0.2, max_depth=7, n_estimators=300, subsample=1.0; total time=   0.1s\n",
            "[CV] END colsample_bytree=0.8, learning_rate=0.2, max_depth=7, n_estimators=300, subsample=1.0; total time=   0.1s\n",
            "[CV] END colsample_bytree=0.8, learning_rate=0.2, max_depth=7, n_estimators=300, subsample=1.0; total time=   0.1s\n",
            "[CV] END colsample_bytree=0.8, learning_rate=0.2, max_depth=7, n_estimators=300, subsample=1.0; total time=   0.1s\n",
            "[CV] END colsample_bytree=0.8, learning_rate=0.2, max_depth=7, n_estimators=300, subsample=1.0; total time=   0.1s\n",
            "[CV] END colsample_bytree=1.0, learning_rate=0.01, max_depth=3, n_estimators=100, subsample=0.8; total time=   0.0s\n",
            "[CV] END colsample_bytree=1.0, learning_rate=0.01, max_depth=3, n_estimators=100, subsample=0.8; total time=   0.0s\n",
            "[CV] END colsample_bytree=1.0, learning_rate=0.01, max_depth=3, n_estimators=100, subsample=0.8; total time=   0.0s\n",
            "[CV] END colsample_bytree=1.0, learning_rate=0.01, max_depth=3, n_estimators=100, subsample=0.8; total time=   0.0s\n",
            "[CV] END colsample_bytree=1.0, learning_rate=0.01, max_depth=3, n_estimators=100, subsample=0.8; total time=   0.0s\n",
            "[CV] END colsample_bytree=1.0, learning_rate=0.01, max_depth=3, n_estimators=100, subsample=1.0; total time=   0.0s\n",
            "[CV] END colsample_bytree=1.0, learning_rate=0.01, max_depth=3, n_estimators=100, subsample=1.0; total time=   0.0s\n",
            "[CV] END colsample_bytree=1.0, learning_rate=0.01, max_depth=3, n_estimators=100, subsample=1.0; total time=   0.0s\n",
            "[CV] END colsample_bytree=1.0, learning_rate=0.01, max_depth=3, n_estimators=100, subsample=1.0; total time=   0.0s\n",
            "[CV] END colsample_bytree=1.0, learning_rate=0.01, max_depth=3, n_estimators=100, subsample=1.0; total time=   0.0s\n",
            "[CV] END colsample_bytree=1.0, learning_rate=0.01, max_depth=3, n_estimators=200, subsample=0.8; total time=   0.1s\n",
            "[CV] END colsample_bytree=1.0, learning_rate=0.01, max_depth=3, n_estimators=200, subsample=0.8; total time=   0.1s\n",
            "[CV] END colsample_bytree=1.0, learning_rate=0.01, max_depth=3, n_estimators=200, subsample=0.8; total time=   0.0s\n",
            "[CV] END colsample_bytree=1.0, learning_rate=0.01, max_depth=3, n_estimators=200, subsample=0.8; total time=   0.1s\n",
            "[CV] END colsample_bytree=1.0, learning_rate=0.01, max_depth=3, n_estimators=200, subsample=0.8; total time=   0.1s\n",
            "[CV] END colsample_bytree=1.0, learning_rate=0.01, max_depth=3, n_estimators=200, subsample=1.0; total time=   0.0s\n",
            "[CV] END colsample_bytree=1.0, learning_rate=0.01, max_depth=3, n_estimators=200, subsample=1.0; total time=   0.0s\n",
            "[CV] END colsample_bytree=1.0, learning_rate=0.01, max_depth=3, n_estimators=200, subsample=1.0; total time=   0.0s\n",
            "[CV] END colsample_bytree=1.0, learning_rate=0.01, max_depth=3, n_estimators=200, subsample=1.0; total time=   0.0s\n",
            "[CV] END colsample_bytree=1.0, learning_rate=0.01, max_depth=3, n_estimators=200, subsample=1.0; total time=   0.0s\n",
            "[CV] END colsample_bytree=1.0, learning_rate=0.01, max_depth=3, n_estimators=300, subsample=0.8; total time=   0.1s\n",
            "[CV] END colsample_bytree=1.0, learning_rate=0.01, max_depth=3, n_estimators=300, subsample=0.8; total time=   0.1s\n",
            "[CV] END colsample_bytree=1.0, learning_rate=0.01, max_depth=3, n_estimators=300, subsample=0.8; total time=   0.1s\n",
            "[CV] END colsample_bytree=1.0, learning_rate=0.01, max_depth=3, n_estimators=300, subsample=0.8; total time=   0.1s\n",
            "[CV] END colsample_bytree=1.0, learning_rate=0.01, max_depth=3, n_estimators=300, subsample=0.8; total time=   0.1s\n",
            "[CV] END colsample_bytree=1.0, learning_rate=0.01, max_depth=3, n_estimators=300, subsample=1.0; total time=   0.1s\n",
            "[CV] END colsample_bytree=1.0, learning_rate=0.01, max_depth=3, n_estimators=300, subsample=1.0; total time=   0.1s\n",
            "[CV] END colsample_bytree=1.0, learning_rate=0.01, max_depth=3, n_estimators=300, subsample=1.0; total time=   0.1s\n",
            "[CV] END colsample_bytree=1.0, learning_rate=0.01, max_depth=3, n_estimators=300, subsample=1.0; total time=   0.1s\n",
            "[CV] END colsample_bytree=1.0, learning_rate=0.01, max_depth=3, n_estimators=300, subsample=1.0; total time=   0.1s\n",
            "[CV] END colsample_bytree=1.0, learning_rate=0.01, max_depth=5, n_estimators=100, subsample=0.8; total time=   0.0s\n",
            "[CV] END colsample_bytree=1.0, learning_rate=0.01, max_depth=5, n_estimators=100, subsample=0.8; total time=   0.0s\n",
            "[CV] END colsample_bytree=1.0, learning_rate=0.01, max_depth=5, n_estimators=100, subsample=0.8; total time=   0.0s\n",
            "[CV] END colsample_bytree=1.0, learning_rate=0.01, max_depth=5, n_estimators=100, subsample=0.8; total time=   0.0s\n",
            "[CV] END colsample_bytree=1.0, learning_rate=0.01, max_depth=5, n_estimators=100, subsample=0.8; total time=   0.0s\n",
            "[CV] END colsample_bytree=1.0, learning_rate=0.01, max_depth=5, n_estimators=100, subsample=1.0; total time=   0.0s\n",
            "[CV] END colsample_bytree=1.0, learning_rate=0.01, max_depth=5, n_estimators=100, subsample=1.0; total time=   0.0s\n",
            "[CV] END colsample_bytree=1.0, learning_rate=0.01, max_depth=5, n_estimators=100, subsample=1.0; total time=   0.0s\n",
            "[CV] END colsample_bytree=1.0, learning_rate=0.01, max_depth=5, n_estimators=100, subsample=1.0; total time=   0.0s\n",
            "[CV] END colsample_bytree=1.0, learning_rate=0.01, max_depth=5, n_estimators=100, subsample=1.0; total time=   0.0s\n",
            "[CV] END colsample_bytree=1.0, learning_rate=0.01, max_depth=5, n_estimators=200, subsample=0.8; total time=   0.1s\n",
            "[CV] END colsample_bytree=1.0, learning_rate=0.01, max_depth=5, n_estimators=200, subsample=0.8; total time=   0.1s\n",
            "[CV] END colsample_bytree=1.0, learning_rate=0.01, max_depth=5, n_estimators=200, subsample=0.8; total time=   0.1s\n",
            "[CV] END colsample_bytree=1.0, learning_rate=0.01, max_depth=5, n_estimators=200, subsample=0.8; total time=   0.1s\n",
            "[CV] END colsample_bytree=1.0, learning_rate=0.01, max_depth=5, n_estimators=200, subsample=0.8; total time=   0.1s\n",
            "[CV] END colsample_bytree=1.0, learning_rate=0.01, max_depth=5, n_estimators=200, subsample=1.0; total time=   0.1s\n",
            "[CV] END colsample_bytree=1.0, learning_rate=0.01, max_depth=5, n_estimators=200, subsample=1.0; total time=   0.1s\n",
            "[CV] END colsample_bytree=1.0, learning_rate=0.01, max_depth=5, n_estimators=200, subsample=1.0; total time=   0.1s\n",
            "[CV] END colsample_bytree=1.0, learning_rate=0.01, max_depth=5, n_estimators=200, subsample=1.0; total time=   0.1s\n",
            "[CV] END colsample_bytree=1.0, learning_rate=0.01, max_depth=5, n_estimators=200, subsample=1.0; total time=   0.1s\n",
            "[CV] END colsample_bytree=1.0, learning_rate=0.01, max_depth=5, n_estimators=300, subsample=0.8; total time=   0.1s\n",
            "[CV] END colsample_bytree=1.0, learning_rate=0.01, max_depth=5, n_estimators=300, subsample=0.8; total time=   0.1s\n",
            "[CV] END colsample_bytree=1.0, learning_rate=0.01, max_depth=5, n_estimators=300, subsample=0.8; total time=   0.1s\n",
            "[CV] END colsample_bytree=1.0, learning_rate=0.01, max_depth=5, n_estimators=300, subsample=0.8; total time=   0.1s\n",
            "[CV] END colsample_bytree=1.0, learning_rate=0.01, max_depth=5, n_estimators=300, subsample=0.8; total time=   0.1s\n",
            "[CV] END colsample_bytree=1.0, learning_rate=0.01, max_depth=5, n_estimators=300, subsample=1.0; total time=   0.1s\n",
            "[CV] END colsample_bytree=1.0, learning_rate=0.01, max_depth=5, n_estimators=300, subsample=1.0; total time=   0.1s\n",
            "[CV] END colsample_bytree=1.0, learning_rate=0.01, max_depth=5, n_estimators=300, subsample=1.0; total time=   0.1s\n",
            "[CV] END colsample_bytree=1.0, learning_rate=0.01, max_depth=5, n_estimators=300, subsample=1.0; total time=   0.1s\n",
            "[CV] END colsample_bytree=1.0, learning_rate=0.01, max_depth=5, n_estimators=300, subsample=1.0; total time=   0.1s\n",
            "[CV] END colsample_bytree=1.0, learning_rate=0.01, max_depth=7, n_estimators=100, subsample=0.8; total time=   0.1s\n",
            "[CV] END colsample_bytree=1.0, learning_rate=0.01, max_depth=7, n_estimators=100, subsample=0.8; total time=   0.0s\n",
            "[CV] END colsample_bytree=1.0, learning_rate=0.01, max_depth=7, n_estimators=100, subsample=0.8; total time=   0.0s\n",
            "[CV] END colsample_bytree=1.0, learning_rate=0.01, max_depth=7, n_estimators=100, subsample=0.8; total time=   0.1s\n",
            "[CV] END colsample_bytree=1.0, learning_rate=0.01, max_depth=7, n_estimators=100, subsample=0.8; total time=   0.1s\n",
            "[CV] END colsample_bytree=1.0, learning_rate=0.01, max_depth=7, n_estimators=100, subsample=1.0; total time=   0.1s\n",
            "[CV] END colsample_bytree=1.0, learning_rate=0.01, max_depth=7, n_estimators=100, subsample=1.0; total time=   0.1s\n",
            "[CV] END colsample_bytree=1.0, learning_rate=0.01, max_depth=7, n_estimators=100, subsample=1.0; total time=   0.1s\n",
            "[CV] END colsample_bytree=1.0, learning_rate=0.01, max_depth=7, n_estimators=100, subsample=1.0; total time=   0.1s\n",
            "[CV] END colsample_bytree=1.0, learning_rate=0.01, max_depth=7, n_estimators=100, subsample=1.0; total time=   0.1s\n",
            "[CV] END colsample_bytree=1.0, learning_rate=0.01, max_depth=7, n_estimators=200, subsample=0.8; total time=   0.1s\n",
            "[CV] END colsample_bytree=1.0, learning_rate=0.01, max_depth=7, n_estimators=200, subsample=0.8; total time=   0.1s\n",
            "[CV] END colsample_bytree=1.0, learning_rate=0.01, max_depth=7, n_estimators=200, subsample=0.8; total time=   0.1s\n",
            "[CV] END colsample_bytree=1.0, learning_rate=0.01, max_depth=7, n_estimators=200, subsample=0.8; total time=   0.2s\n",
            "[CV] END colsample_bytree=1.0, learning_rate=0.01, max_depth=7, n_estimators=200, subsample=0.8; total time=   0.2s\n",
            "[CV] END colsample_bytree=1.0, learning_rate=0.01, max_depth=7, n_estimators=200, subsample=1.0; total time=   0.2s\n",
            "[CV] END colsample_bytree=1.0, learning_rate=0.01, max_depth=7, n_estimators=200, subsample=1.0; total time=   0.2s\n",
            "[CV] END colsample_bytree=1.0, learning_rate=0.01, max_depth=7, n_estimators=200, subsample=1.0; total time=   0.2s\n",
            "[CV] END colsample_bytree=1.0, learning_rate=0.01, max_depth=7, n_estimators=200, subsample=1.0; total time=   0.2s\n",
            "[CV] END colsample_bytree=1.0, learning_rate=0.01, max_depth=7, n_estimators=200, subsample=1.0; total time=   0.2s\n",
            "[CV] END colsample_bytree=1.0, learning_rate=0.01, max_depth=7, n_estimators=300, subsample=0.8; total time=   0.3s\n",
            "[CV] END colsample_bytree=1.0, learning_rate=0.01, max_depth=7, n_estimators=300, subsample=0.8; total time=   0.3s\n",
            "[CV] END colsample_bytree=1.0, learning_rate=0.01, max_depth=7, n_estimators=300, subsample=0.8; total time=   0.3s\n",
            "[CV] END colsample_bytree=1.0, learning_rate=0.01, max_depth=7, n_estimators=300, subsample=0.8; total time=   0.2s\n",
            "[CV] END colsample_bytree=1.0, learning_rate=0.01, max_depth=7, n_estimators=300, subsample=0.8; total time=   0.2s\n",
            "[CV] END colsample_bytree=1.0, learning_rate=0.01, max_depth=7, n_estimators=300, subsample=1.0; total time=   0.3s\n",
            "[CV] END colsample_bytree=1.0, learning_rate=0.01, max_depth=7, n_estimators=300, subsample=1.0; total time=   0.3s\n",
            "[CV] END colsample_bytree=1.0, learning_rate=0.01, max_depth=7, n_estimators=300, subsample=1.0; total time=   0.3s\n",
            "[CV] END colsample_bytree=1.0, learning_rate=0.01, max_depth=7, n_estimators=300, subsample=1.0; total time=   0.3s\n",
            "[CV] END colsample_bytree=1.0, learning_rate=0.01, max_depth=7, n_estimators=300, subsample=1.0; total time=   0.3s\n",
            "[CV] END colsample_bytree=1.0, learning_rate=0.1, max_depth=3, n_estimators=100, subsample=0.8; total time=   0.0s\n",
            "[CV] END colsample_bytree=1.0, learning_rate=0.1, max_depth=3, n_estimators=100, subsample=0.8; total time=   0.0s\n",
            "[CV] END colsample_bytree=1.0, learning_rate=0.1, max_depth=3, n_estimators=100, subsample=0.8; total time=   0.0s\n",
            "[CV] END colsample_bytree=1.0, learning_rate=0.1, max_depth=3, n_estimators=100, subsample=0.8; total time=   0.1s\n",
            "[CV] END colsample_bytree=1.0, learning_rate=0.1, max_depth=3, n_estimators=100, subsample=0.8; total time=   0.0s\n",
            "[CV] END colsample_bytree=1.0, learning_rate=0.1, max_depth=3, n_estimators=100, subsample=1.0; total time=   0.0s\n",
            "[CV] END colsample_bytree=1.0, learning_rate=0.1, max_depth=3, n_estimators=100, subsample=1.0; total time=   0.0s\n",
            "[CV] END colsample_bytree=1.0, learning_rate=0.1, max_depth=3, n_estimators=100, subsample=1.0; total time=   0.0s\n",
            "[CV] END colsample_bytree=1.0, learning_rate=0.1, max_depth=3, n_estimators=100, subsample=1.0; total time=   0.0s\n",
            "[CV] END colsample_bytree=1.0, learning_rate=0.1, max_depth=3, n_estimators=100, subsample=1.0; total time=   0.0s\n",
            "[CV] END colsample_bytree=1.0, learning_rate=0.1, max_depth=3, n_estimators=200, subsample=0.8; total time=   0.1s\n",
            "[CV] END colsample_bytree=1.0, learning_rate=0.1, max_depth=3, n_estimators=200, subsample=0.8; total time=   0.1s\n",
            "[CV] END colsample_bytree=1.0, learning_rate=0.1, max_depth=3, n_estimators=200, subsample=0.8; total time=   0.1s\n",
            "[CV] END colsample_bytree=1.0, learning_rate=0.1, max_depth=3, n_estimators=200, subsample=0.8; total time=   0.1s\n",
            "[CV] END colsample_bytree=1.0, learning_rate=0.1, max_depth=3, n_estimators=200, subsample=0.8; total time=   0.1s\n",
            "[CV] END colsample_bytree=1.0, learning_rate=0.1, max_depth=3, n_estimators=200, subsample=1.0; total time=   0.1s\n",
            "[CV] END colsample_bytree=1.0, learning_rate=0.1, max_depth=3, n_estimators=200, subsample=1.0; total time=   0.1s\n",
            "[CV] END colsample_bytree=1.0, learning_rate=0.1, max_depth=3, n_estimators=200, subsample=1.0; total time=   0.1s\n",
            "[CV] END colsample_bytree=1.0, learning_rate=0.1, max_depth=3, n_estimators=200, subsample=1.0; total time=   0.1s\n",
            "[CV] END colsample_bytree=1.0, learning_rate=0.1, max_depth=3, n_estimators=200, subsample=1.0; total time=   0.1s\n",
            "[CV] END colsample_bytree=1.0, learning_rate=0.1, max_depth=3, n_estimators=300, subsample=0.8; total time=   0.1s\n",
            "[CV] END colsample_bytree=1.0, learning_rate=0.1, max_depth=3, n_estimators=300, subsample=0.8; total time=   0.1s\n",
            "[CV] END colsample_bytree=1.0, learning_rate=0.1, max_depth=3, n_estimators=300, subsample=0.8; total time=   0.1s\n",
            "[CV] END colsample_bytree=1.0, learning_rate=0.1, max_depth=3, n_estimators=300, subsample=0.8; total time=   0.1s\n",
            "[CV] END colsample_bytree=1.0, learning_rate=0.1, max_depth=3, n_estimators=300, subsample=0.8; total time=   0.1s\n",
            "[CV] END colsample_bytree=1.0, learning_rate=0.1, max_depth=3, n_estimators=300, subsample=1.0; total time=   0.1s\n",
            "[CV] END colsample_bytree=1.0, learning_rate=0.1, max_depth=3, n_estimators=300, subsample=1.0; total time=   0.1s\n",
            "[CV] END colsample_bytree=1.0, learning_rate=0.1, max_depth=3, n_estimators=300, subsample=1.0; total time=   0.1s\n",
            "[CV] END colsample_bytree=1.0, learning_rate=0.1, max_depth=3, n_estimators=300, subsample=1.0; total time=   0.1s\n",
            "[CV] END colsample_bytree=1.0, learning_rate=0.1, max_depth=3, n_estimators=300, subsample=1.0; total time=   0.1s\n",
            "[CV] END colsample_bytree=1.0, learning_rate=0.1, max_depth=5, n_estimators=100, subsample=0.8; total time=   0.0s\n",
            "[CV] END colsample_bytree=1.0, learning_rate=0.1, max_depth=5, n_estimators=100, subsample=0.8; total time=   0.0s\n",
            "[CV] END colsample_bytree=1.0, learning_rate=0.1, max_depth=5, n_estimators=100, subsample=0.8; total time=   0.0s\n",
            "[CV] END colsample_bytree=1.0, learning_rate=0.1, max_depth=5, n_estimators=100, subsample=0.8; total time=   0.0s\n",
            "[CV] END colsample_bytree=1.0, learning_rate=0.1, max_depth=5, n_estimators=100, subsample=0.8; total time=   0.0s\n",
            "[CV] END colsample_bytree=1.0, learning_rate=0.1, max_depth=5, n_estimators=100, subsample=1.0; total time=   0.0s\n",
            "[CV] END colsample_bytree=1.0, learning_rate=0.1, max_depth=5, n_estimators=100, subsample=1.0; total time=   0.0s\n",
            "[CV] END colsample_bytree=1.0, learning_rate=0.1, max_depth=5, n_estimators=100, subsample=1.0; total time=   0.0s\n",
            "[CV] END colsample_bytree=1.0, learning_rate=0.1, max_depth=5, n_estimators=100, subsample=1.0; total time=   0.0s\n",
            "[CV] END colsample_bytree=1.0, learning_rate=0.1, max_depth=5, n_estimators=100, subsample=1.0; total time=   0.0s\n",
            "[CV] END colsample_bytree=1.0, learning_rate=0.1, max_depth=5, n_estimators=200, subsample=0.8; total time=   0.1s\n",
            "[CV] END colsample_bytree=1.0, learning_rate=0.1, max_depth=5, n_estimators=200, subsample=0.8; total time=   0.1s\n",
            "[CV] END colsample_bytree=1.0, learning_rate=0.1, max_depth=5, n_estimators=200, subsample=0.8; total time=   0.1s\n",
            "[CV] END colsample_bytree=1.0, learning_rate=0.1, max_depth=5, n_estimators=200, subsample=0.8; total time=   0.1s\n",
            "[CV] END colsample_bytree=1.0, learning_rate=0.1, max_depth=5, n_estimators=200, subsample=0.8; total time=   0.1s\n",
            "[CV] END colsample_bytree=1.0, learning_rate=0.1, max_depth=5, n_estimators=200, subsample=1.0; total time=   0.1s\n",
            "[CV] END colsample_bytree=1.0, learning_rate=0.1, max_depth=5, n_estimators=200, subsample=1.0; total time=   0.1s\n",
            "[CV] END colsample_bytree=1.0, learning_rate=0.1, max_depth=5, n_estimators=200, subsample=1.0; total time=   0.1s\n",
            "[CV] END colsample_bytree=1.0, learning_rate=0.1, max_depth=5, n_estimators=200, subsample=1.0; total time=   0.1s\n",
            "[CV] END colsample_bytree=1.0, learning_rate=0.1, max_depth=5, n_estimators=200, subsample=1.0; total time=   0.1s\n",
            "[CV] END colsample_bytree=1.0, learning_rate=0.1, max_depth=5, n_estimators=300, subsample=0.8; total time=   0.1s\n",
            "[CV] END colsample_bytree=1.0, learning_rate=0.1, max_depth=5, n_estimators=300, subsample=0.8; total time=   0.1s\n",
            "[CV] END colsample_bytree=1.0, learning_rate=0.1, max_depth=5, n_estimators=300, subsample=0.8; total time=   0.1s\n",
            "[CV] END colsample_bytree=1.0, learning_rate=0.1, max_depth=5, n_estimators=300, subsample=0.8; total time=   0.1s\n",
            "[CV] END colsample_bytree=1.0, learning_rate=0.1, max_depth=5, n_estimators=300, subsample=0.8; total time=   0.1s\n",
            "[CV] END colsample_bytree=1.0, learning_rate=0.1, max_depth=5, n_estimators=300, subsample=1.0; total time=   0.1s\n",
            "[CV] END colsample_bytree=1.0, learning_rate=0.1, max_depth=5, n_estimators=300, subsample=1.0; total time=   0.1s\n",
            "[CV] END colsample_bytree=1.0, learning_rate=0.1, max_depth=5, n_estimators=300, subsample=1.0; total time=   0.1s\n",
            "[CV] END colsample_bytree=1.0, learning_rate=0.1, max_depth=5, n_estimators=300, subsample=1.0; total time=   0.1s\n",
            "[CV] END colsample_bytree=1.0, learning_rate=0.1, max_depth=5, n_estimators=300, subsample=1.0; total time=   0.1s\n",
            "[CV] END colsample_bytree=1.0, learning_rate=0.1, max_depth=7, n_estimators=100, subsample=0.8; total time=   0.1s\n",
            "[CV] END colsample_bytree=1.0, learning_rate=0.1, max_depth=7, n_estimators=100, subsample=0.8; total time=   0.1s\n",
            "[CV] END colsample_bytree=1.0, learning_rate=0.1, max_depth=7, n_estimators=100, subsample=0.8; total time=   0.1s\n",
            "[CV] END colsample_bytree=1.0, learning_rate=0.1, max_depth=7, n_estimators=100, subsample=0.8; total time=   0.1s\n",
            "[CV] END colsample_bytree=1.0, learning_rate=0.1, max_depth=7, n_estimators=100, subsample=0.8; total time=   0.1s\n",
            "[CV] END colsample_bytree=1.0, learning_rate=0.1, max_depth=7, n_estimators=100, subsample=1.0; total time=   0.1s\n",
            "[CV] END colsample_bytree=1.0, learning_rate=0.1, max_depth=7, n_estimators=100, subsample=1.0; total time=   0.1s\n",
            "[CV] END colsample_bytree=1.0, learning_rate=0.1, max_depth=7, n_estimators=100, subsample=1.0; total time=   0.1s\n",
            "[CV] END colsample_bytree=1.0, learning_rate=0.1, max_depth=7, n_estimators=100, subsample=1.0; total time=   0.1s\n",
            "[CV] END colsample_bytree=1.0, learning_rate=0.1, max_depth=7, n_estimators=100, subsample=1.0; total time=   0.1s\n",
            "[CV] END colsample_bytree=1.0, learning_rate=0.1, max_depth=7, n_estimators=200, subsample=0.8; total time=   0.1s\n",
            "[CV] END colsample_bytree=1.0, learning_rate=0.1, max_depth=7, n_estimators=200, subsample=0.8; total time=   0.1s\n",
            "[CV] END colsample_bytree=1.0, learning_rate=0.1, max_depth=7, n_estimators=200, subsample=0.8; total time=   0.1s\n",
            "[CV] END colsample_bytree=1.0, learning_rate=0.1, max_depth=7, n_estimators=200, subsample=0.8; total time=   0.1s\n",
            "[CV] END colsample_bytree=1.0, learning_rate=0.1, max_depth=7, n_estimators=200, subsample=0.8; total time=   0.1s\n",
            "[CV] END colsample_bytree=1.0, learning_rate=0.1, max_depth=7, n_estimators=200, subsample=1.0; total time=   0.1s\n",
            "[CV] END colsample_bytree=1.0, learning_rate=0.1, max_depth=7, n_estimators=200, subsample=1.0; total time=   0.1s\n",
            "[CV] END colsample_bytree=1.0, learning_rate=0.1, max_depth=7, n_estimators=200, subsample=1.0; total time=   0.1s\n",
            "[CV] END colsample_bytree=1.0, learning_rate=0.1, max_depth=7, n_estimators=200, subsample=1.0; total time=   0.1s\n",
            "[CV] END colsample_bytree=1.0, learning_rate=0.1, max_depth=7, n_estimators=200, subsample=1.0; total time=   0.1s\n",
            "[CV] END colsample_bytree=1.0, learning_rate=0.1, max_depth=7, n_estimators=300, subsample=0.8; total time=   0.2s\n",
            "[CV] END colsample_bytree=1.0, learning_rate=0.1, max_depth=7, n_estimators=300, subsample=0.8; total time=   0.2s\n",
            "[CV] END colsample_bytree=1.0, learning_rate=0.1, max_depth=7, n_estimators=300, subsample=0.8; total time=   0.2s\n",
            "[CV] END colsample_bytree=1.0, learning_rate=0.1, max_depth=7, n_estimators=300, subsample=0.8; total time=   0.2s\n",
            "[CV] END colsample_bytree=1.0, learning_rate=0.1, max_depth=7, n_estimators=300, subsample=0.8; total time=   0.2s\n",
            "[CV] END colsample_bytree=1.0, learning_rate=0.1, max_depth=7, n_estimators=300, subsample=1.0; total time=   0.2s\n",
            "[CV] END colsample_bytree=1.0, learning_rate=0.1, max_depth=7, n_estimators=300, subsample=1.0; total time=   0.2s\n",
            "[CV] END colsample_bytree=1.0, learning_rate=0.1, max_depth=7, n_estimators=300, subsample=1.0; total time=   0.2s\n",
            "[CV] END colsample_bytree=1.0, learning_rate=0.1, max_depth=7, n_estimators=300, subsample=1.0; total time=   0.2s\n",
            "[CV] END colsample_bytree=1.0, learning_rate=0.1, max_depth=7, n_estimators=300, subsample=1.0; total time=   0.2s\n",
            "[CV] END colsample_bytree=1.0, learning_rate=0.2, max_depth=3, n_estimators=100, subsample=0.8; total time=   0.0s\n",
            "[CV] END colsample_bytree=1.0, learning_rate=0.2, max_depth=3, n_estimators=100, subsample=0.8; total time=   0.0s\n",
            "[CV] END colsample_bytree=1.0, learning_rate=0.2, max_depth=3, n_estimators=100, subsample=0.8; total time=   0.0s\n",
            "[CV] END colsample_bytree=1.0, learning_rate=0.2, max_depth=3, n_estimators=100, subsample=0.8; total time=   0.0s\n",
            "[CV] END colsample_bytree=1.0, learning_rate=0.2, max_depth=3, n_estimators=100, subsample=0.8; total time=   0.0s\n",
            "[CV] END colsample_bytree=1.0, learning_rate=0.2, max_depth=3, n_estimators=100, subsample=1.0; total time=   0.0s\n",
            "[CV] END colsample_bytree=1.0, learning_rate=0.2, max_depth=3, n_estimators=100, subsample=1.0; total time=   0.0s\n",
            "[CV] END colsample_bytree=1.0, learning_rate=0.2, max_depth=3, n_estimators=100, subsample=1.0; total time=   0.0s\n",
            "[CV] END colsample_bytree=1.0, learning_rate=0.2, max_depth=3, n_estimators=100, subsample=1.0; total time=   0.0s\n",
            "[CV] END colsample_bytree=1.0, learning_rate=0.2, max_depth=3, n_estimators=100, subsample=1.0; total time=   0.0s\n",
            "[CV] END colsample_bytree=1.0, learning_rate=0.2, max_depth=3, n_estimators=200, subsample=0.8; total time=   0.1s\n",
            "[CV] END colsample_bytree=1.0, learning_rate=0.2, max_depth=3, n_estimators=200, subsample=0.8; total time=   0.1s\n",
            "[CV] END colsample_bytree=1.0, learning_rate=0.2, max_depth=3, n_estimators=200, subsample=0.8; total time=   0.1s\n",
            "[CV] END colsample_bytree=1.0, learning_rate=0.2, max_depth=3, n_estimators=200, subsample=0.8; total time=   0.1s\n",
            "[CV] END colsample_bytree=1.0, learning_rate=0.2, max_depth=3, n_estimators=200, subsample=0.8; total time=   0.1s\n",
            "[CV] END colsample_bytree=1.0, learning_rate=0.2, max_depth=3, n_estimators=200, subsample=1.0; total time=   0.1s\n",
            "[CV] END colsample_bytree=1.0, learning_rate=0.2, max_depth=3, n_estimators=200, subsample=1.0; total time=   0.1s\n",
            "[CV] END colsample_bytree=1.0, learning_rate=0.2, max_depth=3, n_estimators=200, subsample=1.0; total time=   0.1s\n",
            "[CV] END colsample_bytree=1.0, learning_rate=0.2, max_depth=3, n_estimators=200, subsample=1.0; total time=   0.1s\n",
            "[CV] END colsample_bytree=1.0, learning_rate=0.2, max_depth=3, n_estimators=200, subsample=1.0; total time=   0.1s\n",
            "[CV] END colsample_bytree=1.0, learning_rate=0.2, max_depth=3, n_estimators=300, subsample=0.8; total time=   0.1s\n",
            "[CV] END colsample_bytree=1.0, learning_rate=0.2, max_depth=3, n_estimators=300, subsample=0.8; total time=   0.1s\n",
            "[CV] END colsample_bytree=1.0, learning_rate=0.2, max_depth=3, n_estimators=300, subsample=0.8; total time=   0.1s\n",
            "[CV] END colsample_bytree=1.0, learning_rate=0.2, max_depth=3, n_estimators=300, subsample=0.8; total time=   0.1s\n",
            "[CV] END colsample_bytree=1.0, learning_rate=0.2, max_depth=3, n_estimators=300, subsample=0.8; total time=   0.1s\n",
            "[CV] END colsample_bytree=1.0, learning_rate=0.2, max_depth=3, n_estimators=300, subsample=1.0; total time=   0.1s\n",
            "[CV] END colsample_bytree=1.0, learning_rate=0.2, max_depth=3, n_estimators=300, subsample=1.0; total time=   0.1s\n",
            "[CV] END colsample_bytree=1.0, learning_rate=0.2, max_depth=3, n_estimators=300, subsample=1.0; total time=   0.1s\n",
            "[CV] END colsample_bytree=1.0, learning_rate=0.2, max_depth=3, n_estimators=300, subsample=1.0; total time=   0.1s\n",
            "[CV] END colsample_bytree=1.0, learning_rate=0.2, max_depth=3, n_estimators=300, subsample=1.0; total time=   0.1s\n",
            "[CV] END colsample_bytree=1.0, learning_rate=0.2, max_depth=5, n_estimators=100, subsample=0.8; total time=   0.0s\n",
            "[CV] END colsample_bytree=1.0, learning_rate=0.2, max_depth=5, n_estimators=100, subsample=0.8; total time=   0.0s\n",
            "[CV] END colsample_bytree=1.0, learning_rate=0.2, max_depth=5, n_estimators=100, subsample=0.8; total time=   0.0s\n",
            "[CV] END colsample_bytree=1.0, learning_rate=0.2, max_depth=5, n_estimators=100, subsample=0.8; total time=   0.0s\n",
            "[CV] END colsample_bytree=1.0, learning_rate=0.2, max_depth=5, n_estimators=100, subsample=0.8; total time=   0.0s\n",
            "[CV] END colsample_bytree=1.0, learning_rate=0.2, max_depth=5, n_estimators=100, subsample=1.0; total time=   0.0s\n",
            "[CV] END colsample_bytree=1.0, learning_rate=0.2, max_depth=5, n_estimators=100, subsample=1.0; total time=   0.0s\n",
            "[CV] END colsample_bytree=1.0, learning_rate=0.2, max_depth=5, n_estimators=100, subsample=1.0; total time=   0.0s\n",
            "[CV] END colsample_bytree=1.0, learning_rate=0.2, max_depth=5, n_estimators=100, subsample=1.0; total time=   0.0s\n",
            "[CV] END colsample_bytree=1.0, learning_rate=0.2, max_depth=5, n_estimators=100, subsample=1.0; total time=   0.0s\n",
            "[CV] END colsample_bytree=1.0, learning_rate=0.2, max_depth=5, n_estimators=200, subsample=0.8; total time=   0.1s\n",
            "[CV] END colsample_bytree=1.0, learning_rate=0.2, max_depth=5, n_estimators=200, subsample=0.8; total time=   0.1s\n",
            "[CV] END colsample_bytree=1.0, learning_rate=0.2, max_depth=5, n_estimators=200, subsample=0.8; total time=   0.1s\n",
            "[CV] END colsample_bytree=1.0, learning_rate=0.2, max_depth=5, n_estimators=200, subsample=0.8; total time=   0.1s\n",
            "[CV] END colsample_bytree=1.0, learning_rate=0.2, max_depth=5, n_estimators=200, subsample=0.8; total time=   0.1s\n",
            "[CV] END colsample_bytree=1.0, learning_rate=0.2, max_depth=5, n_estimators=200, subsample=1.0; total time=   0.1s\n",
            "[CV] END colsample_bytree=1.0, learning_rate=0.2, max_depth=5, n_estimators=200, subsample=1.0; total time=   0.1s\n",
            "[CV] END colsample_bytree=1.0, learning_rate=0.2, max_depth=5, n_estimators=200, subsample=1.0; total time=   0.1s\n",
            "[CV] END colsample_bytree=1.0, learning_rate=0.2, max_depth=5, n_estimators=200, subsample=1.0; total time=   0.1s\n",
            "[CV] END colsample_bytree=1.0, learning_rate=0.2, max_depth=5, n_estimators=200, subsample=1.0; total time=   0.1s\n",
            "[CV] END colsample_bytree=1.0, learning_rate=0.2, max_depth=5, n_estimators=300, subsample=0.8; total time=   0.1s\n",
            "[CV] END colsample_bytree=1.0, learning_rate=0.2, max_depth=5, n_estimators=300, subsample=0.8; total time=   0.1s\n",
            "[CV] END colsample_bytree=1.0, learning_rate=0.2, max_depth=5, n_estimators=300, subsample=0.8; total time=   0.1s\n",
            "[CV] END colsample_bytree=1.0, learning_rate=0.2, max_depth=5, n_estimators=300, subsample=0.8; total time=   0.1s\n",
            "[CV] END colsample_bytree=1.0, learning_rate=0.2, max_depth=5, n_estimators=300, subsample=0.8; total time=   0.1s\n",
            "[CV] END colsample_bytree=1.0, learning_rate=0.2, max_depth=5, n_estimators=300, subsample=1.0; total time=   0.1s\n",
            "[CV] END colsample_bytree=1.0, learning_rate=0.2, max_depth=5, n_estimators=300, subsample=1.0; total time=   0.1s\n",
            "[CV] END colsample_bytree=1.0, learning_rate=0.2, max_depth=5, n_estimators=300, subsample=1.0; total time=   0.1s\n",
            "[CV] END colsample_bytree=1.0, learning_rate=0.2, max_depth=5, n_estimators=300, subsample=1.0; total time=   0.1s\n",
            "[CV] END colsample_bytree=1.0, learning_rate=0.2, max_depth=5, n_estimators=300, subsample=1.0; total time=   0.2s\n",
            "[CV] END colsample_bytree=1.0, learning_rate=0.2, max_depth=7, n_estimators=100, subsample=0.8; total time=   0.1s\n",
            "[CV] END colsample_bytree=1.0, learning_rate=0.2, max_depth=7, n_estimators=100, subsample=0.8; total time=   0.1s\n",
            "[CV] END colsample_bytree=1.0, learning_rate=0.2, max_depth=7, n_estimators=100, subsample=0.8; total time=   0.1s\n",
            "[CV] END colsample_bytree=1.0, learning_rate=0.2, max_depth=7, n_estimators=100, subsample=0.8; total time=   0.1s\n",
            "[CV] END colsample_bytree=1.0, learning_rate=0.2, max_depth=7, n_estimators=100, subsample=0.8; total time=   0.1s\n",
            "[CV] END colsample_bytree=1.0, learning_rate=0.2, max_depth=7, n_estimators=100, subsample=1.0; total time=   0.1s\n",
            "[CV] END colsample_bytree=1.0, learning_rate=0.2, max_depth=7, n_estimators=100, subsample=1.0; total time=   0.1s\n",
            "[CV] END colsample_bytree=1.0, learning_rate=0.2, max_depth=7, n_estimators=100, subsample=1.0; total time=   0.1s\n",
            "[CV] END colsample_bytree=1.0, learning_rate=0.2, max_depth=7, n_estimators=100, subsample=1.0; total time=   0.1s\n",
            "[CV] END colsample_bytree=1.0, learning_rate=0.2, max_depth=7, n_estimators=100, subsample=1.0; total time=   0.1s\n",
            "[CV] END colsample_bytree=1.0, learning_rate=0.2, max_depth=7, n_estimators=200, subsample=0.8; total time=   0.2s\n",
            "[CV] END colsample_bytree=1.0, learning_rate=0.2, max_depth=7, n_estimators=200, subsample=0.8; total time=   0.2s\n",
            "[CV] END colsample_bytree=1.0, learning_rate=0.2, max_depth=7, n_estimators=200, subsample=0.8; total time=   0.2s\n",
            "[CV] END colsample_bytree=1.0, learning_rate=0.2, max_depth=7, n_estimators=200, subsample=0.8; total time=   0.2s\n",
            "[CV] END colsample_bytree=1.0, learning_rate=0.2, max_depth=7, n_estimators=200, subsample=0.8; total time=   0.2s\n",
            "[CV] END colsample_bytree=1.0, learning_rate=0.2, max_depth=7, n_estimators=200, subsample=1.0; total time=   0.2s\n",
            "[CV] END colsample_bytree=1.0, learning_rate=0.2, max_depth=7, n_estimators=200, subsample=1.0; total time=   0.2s\n",
            "[CV] END colsample_bytree=1.0, learning_rate=0.2, max_depth=7, n_estimators=200, subsample=1.0; total time=   0.2s\n",
            "[CV] END colsample_bytree=1.0, learning_rate=0.2, max_depth=7, n_estimators=200, subsample=1.0; total time=   0.2s\n",
            "[CV] END colsample_bytree=1.0, learning_rate=0.2, max_depth=7, n_estimators=200, subsample=1.0; total time=   0.2s\n",
            "[CV] END colsample_bytree=1.0, learning_rate=0.2, max_depth=7, n_estimators=300, subsample=0.8; total time=   0.2s\n",
            "[CV] END colsample_bytree=1.0, learning_rate=0.2, max_depth=7, n_estimators=300, subsample=0.8; total time=   0.3s\n",
            "[CV] END colsample_bytree=1.0, learning_rate=0.2, max_depth=7, n_estimators=300, subsample=0.8; total time=   0.2s\n",
            "[CV] END colsample_bytree=1.0, learning_rate=0.2, max_depth=7, n_estimators=300, subsample=0.8; total time=   0.3s\n",
            "[CV] END colsample_bytree=1.0, learning_rate=0.2, max_depth=7, n_estimators=300, subsample=0.8; total time=   0.3s\n",
            "[CV] END colsample_bytree=1.0, learning_rate=0.2, max_depth=7, n_estimators=300, subsample=1.0; total time=   0.2s\n",
            "[CV] END colsample_bytree=1.0, learning_rate=0.2, max_depth=7, n_estimators=300, subsample=1.0; total time=   0.2s\n",
            "[CV] END colsample_bytree=1.0, learning_rate=0.2, max_depth=7, n_estimators=300, subsample=1.0; total time=   0.2s\n",
            "[CV] END colsample_bytree=1.0, learning_rate=0.2, max_depth=7, n_estimators=300, subsample=1.0; total time=   0.2s\n",
            "[CV] END colsample_bytree=1.0, learning_rate=0.2, max_depth=7, n_estimators=300, subsample=1.0; total time=   0.2s\n"
          ]
        }
      ]
    },
    {
      "cell_type": "markdown",
      "source": [
        "# XGBoost Model with FL Aprroach"
      ],
      "metadata": {
        "id": "SWvCuC8hQsfX"
      }
    },
    {
      "cell_type": "code",
      "source": [
        "# import os\n",
        "# import urllib.request\n",
        "# import bz2\n",
        "# import shutil\n",
        "# !pip install matplotlib scikit-learn xgboost\n",
        "# !pip install -U \"flwr-nightly[simulation]\"\n"
      ],
      "metadata": {
        "id": "v5MCgCkZQrZ1"
      },
      "execution_count": null,
      "outputs": []
    },
    {
      "cell_type": "code",
      "source": [
        "# import xgboost as xgb\n",
        "# from xgboost import XGBRegressor\n",
        "# from sklearn.metrics import mean_squared_error, accuracy_score\n",
        "# from sklearn.datasets import load_svmlight_file\n",
        "# !pip install torchmetrics\n",
        "\n",
        "# import numpy as np\n",
        "# import torch, torch.nn as nn\n",
        "# import torch.nn.functional as F\n",
        "\n",
        "# from tqdm import trange, tqdm\n",
        "# from torchsummary import summary\n",
        "# from torch.utils.data import DataLoader, Dataset, random_split"
      ],
      "metadata": {
        "id": "BqnK4xfsUE7p"
      },
      "execution_count": null,
      "outputs": []
    },
    {
      "cell_type": "code",
      "source": [
        "import flwr as fl\n",
        "from flwr.common.typing import Parameters\n",
        "from collections import OrderedDict\n",
        "from typing import Any, Dict, List, Optional, Tuple, Union\n",
        "from flwr.common import NDArray, NDArrays"
      ],
      "metadata": {
        "id": "Kf5qTON7VTf0"
      },
      "execution_count": null,
      "outputs": []
    },
    {
      "cell_type": "markdown",
      "source": [
        "## Defining utitily functions"
      ],
      "metadata": {
        "id": "QeZBccXqV2pF"
      }
    },
    {
      "cell_type": "code",
      "source": [],
      "metadata": {
        "id": "5ofdPkMlWA48"
      },
      "execution_count": null,
      "outputs": []
    },
    {
      "cell_type": "markdown",
      "source": [
        "# Should be doing"
      ],
      "metadata": {
        "id": "vDSikcPVt7Go"
      }
    },
    {
      "cell_type": "markdown",
      "source": [
        "## Gated Convolution Neural Network (GCNN)"
      ],
      "metadata": {
        "id": "PPpxpmwOpfav"
      }
    },
    {
      "cell_type": "code",
      "source": [
        "# class GatedCNN24(nn.Module):\n",
        "#     def __init__(self, input_channels, hidden_sizes):\n",
        "#         super(GatedCNN24, self).__init__()\n",
        "#         self.input_channels = input_channels\n",
        "#         self.hidden_sizes = hidden_sizes\n",
        "\n",
        "#         self.conv1 = nn.Conv2d(self.input_channels, self.hidden_sizes[0], kernel_size=3, padding=1)\n",
        "#         self.conv2 = nn.Conv2d(self.hidden_sizes[0], self.hidden_sizes[1], kernel_size=3, padding=1)\n",
        "#         self.conv3 = nn.Conv2d(self.hidden_sizes[1], self.hidden_sizes[2], kernel_size=3, padding=1)\n",
        "\n",
        "#         self.gate_conv1 = nn.Conv2d(self.input_channels, self.hidden_sizes[0], kernel_size=3, padding=1)\n",
        "#         self.gate_conv2 = nn.Conv2d(self.hidden_sizes[0], self.hidden_sizes[1], kernel_size=3, padding=1)\n",
        "#         self.gate_conv3 = nn.Conv2d(self.hidden_sizes[1], self.hidden_sizes[2], kernel_size=3, padding=1)\n",
        "\n",
        "#         self.fc1 = nn.Linear(self.hidden_sizes[2], 1)\n",
        "\n",
        "#     def forward(self, x):\n",
        "#         # Convolutional layers\n",
        "#         conv1_out = self.conv1(x)\n",
        "#         conv2_out = self.conv2(conv1_out)\n",
        "#         conv3_out = self.conv3(conv2_out)\n",
        "\n",
        "#         # Gating layers\n",
        "#         gate_conv1_out = torch.sigmoid(self.gate_conv1(x))\n",
        "#         gate_conv2_out = torch.sigmoid(self.gate_conv2(conv1_out))\n",
        "#         gate_conv3_out = torch.sigmoid(self.gate_conv3(conv2_out))\n",
        "\n",
        "#         # Element-wise multiplication (gating)\n",
        "#         gated_conv1 = conv1_out * gate_conv1_out\n",
        "#         gated_conv2 = conv2_out * gate_conv2_out\n",
        "#         gated_conv3 = conv3_out * gate_conv3_out\n",
        "\n",
        "#         # Sum along channels\n",
        "#         gated_sum = gated_conv1 + gated_conv2 + gated_conv3\n",
        "\n",
        "#         # Global average pooling\n",
        "#         pooled = torch.mean(gated_sum, dim=[2, 3])\n",
        "\n",
        "#         # Fully connected layer\n",
        "#         output = self.fc1(pooled)\n",
        "#         return output.squeeze()\n",
        "\n",
        "# class EnergyDataset(Dataset):\n",
        "#     def __init__(self, features, targets):\n",
        "#         self.features = features\n",
        "#         self.targets = targets\n",
        "\n",
        "#     def __len__(self):\n",
        "#         return len(self.features)\n",
        "\n",
        "#     def __getitem__(self, idx):\n",
        "#         inputs = torch.tensor(self.features.iloc[idx].values, dtype=torch.float32)\n",
        "#         target = torch.tensor(self.targets.iloc[idx], dtype=torch.float32)\n",
        "#         return inputs, target\n",
        "\n",
        "# # Define hyperparameters\n",
        "# input_channels = 4  # Number of features\n",
        "# hidden_sizes = [10, 8, 1]\n",
        "# learning_rate = 0.001\n",
        "# num_epochs = 10\n",
        "# batch_size = 50\n",
        "\n",
        "# # Create DataLoader for training\n",
        "# train_dataset = EnergyDataset(Central_X_train, Central_y_train)\n",
        "# train_loader = DataLoader(train_dataset, batch_size=batch_size, shuffle=True)\n",
        "\n",
        "# # Create the model\n",
        "# GatedCNN_model = GatedCNN24(input_channels, hidden_sizes)\n",
        "\n",
        "# # Define loss function and optimizer\n",
        "# criterion = nn.MSELoss()\n",
        "# optimizer = optim.Adam(GatedCNN_model.parameters(), lr=learning_rate)\n",
        "\n",
        "# # Training loop\n",
        "# for epoch in range(num_epochs):\n",
        "#     GatedCNN_model.train()  # Set the model in training mode\n",
        "#     for inputs, targets in train_loader:\n",
        "#         optimizer.zero_grad()\n",
        "\n",
        "#         # Reshape the input tensor to match expected shape [batch_size, channels, height, width]\n",
        "#         inputs = inputs.view(inputs.size(0), input_channels, 1, 1)\n",
        "\n",
        "#         outputs = GatedCNN_model(inputs)\n",
        "#         loss = criterion(outputs, targets)\n",
        "#         loss.backward()\n",
        "#         optimizer.step()\n",
        "\n",
        "#     print(f\"Epoch [{epoch+1}/{num_epochs}], Loss: {loss.item():.4f}\")\n"
      ],
      "metadata": {
        "id": "NciAJdMzmNnl"
      },
      "execution_count": null,
      "outputs": []
    },
    {
      "cell_type": "markdown",
      "source": [
        "## Gated Neural Network model"
      ],
      "metadata": {
        "id": "gcM_OfWUsMvC"
      }
    },
    {
      "cell_type": "code",
      "source": [
        "# # Build the Gated Neural Network model\n",
        "# inputs = Input(shape=(4,))\n",
        "# dense_layer = Dense(16, activation='relu')(inputs)\n",
        "\n",
        "# # Gating mechanism\n",
        "# dense_gate = Dense(16, activation='sigmoid')(inputs)\n",
        "# gated_dense = Multiply()([dense_layer, dense_gate])\n",
        "\n",
        "# output = Dense(1, activation='linear')(gated_dense)\n",
        "\n",
        "# GNN_model = Model(inputs=inputs, outputs=output)\n",
        "\n",
        "# # Compile the model\n",
        "# GNN_model.compile(optimizer='adam', loss='mean_squared_error', metrics=['mse'])\n",
        "\n",
        "# # Train the model\n",
        "# GNN_model.fit(Central_X_train, Central_y_train, epochs=10, batch_size=32, validation_split=0.2)"
      ],
      "metadata": {
        "id": "2pFnAbOBsL8T"
      },
      "execution_count": null,
      "outputs": []
    },
    {
      "cell_type": "markdown",
      "source": [
        "Implementing FLower Client"
      ],
      "metadata": {
        "id": "_vWU1fCXVX94"
      }
    },
    {
      "cell_type": "code",
      "source": [
        "# import flwr as fl\n",
        "\n",
        "# from flwr.client import NumPyClient\n",
        "# import xgboost as xgb\n",
        "# from sklearn.metrics import accuracy_score\n",
        "# import io\n",
        "\n",
        "# class XGBoostClient(fl.client.NumPyClient):\n",
        "#     def __init__(self, model, X_train, y_train, X_val, y_val):\n",
        "#         self.model = model\n",
        "#         self.X_train = X_train\n",
        "#         self.y_train = y_train\n",
        "#         self.X_val = X_val\n",
        "#         self.y_val = y_val\n",
        "\n",
        "#     def get_parameters(self, config=None):\n",
        "#         with io.BytesIO() as buffer:\n",
        "#             self.model.save_model(buffer)\n",
        "#             return buffer.getvalue()\n",
        "\n",
        "#     def fit(self, parameters, config):\n",
        "#         new_model = xgb.XGBRegressor(**config)\n",
        "#         with io.BytesIO(parameters) as buffer:\n",
        "#             new_model.load_model(buffer)\n",
        "#         self.model = new_model\n",
        "\n",
        "#         self.model.fit(self.X_train, self.y_train)\n",
        "\n",
        "#         with io.BytesIO() as buffer:\n",
        "#             self.model.save_model(buffer)\n",
        "#             return buffer.getvalue()\n",
        "\n",
        "#     def evaluate(self, parameters, config):\n",
        "#         new_model = xgb.Booster(params=config, model_str=parameters[0])\n",
        "#         self.model = new_model\n",
        "\n",
        "#         y_pred = self.model.predict(self.X_val)\n",
        "#         accuracy = accuracy_score(self.y_val, y_pred)\n",
        "\n",
        "#         return accuracy\n",
        "\n"
      ],
      "metadata": {
        "id": "1i6mrPCqIxbc"
      },
      "execution_count": null,
      "outputs": []
    },
    {
      "cell_type": "code",
      "source": [
        "# # the best hyperparameters in best_xgb_model\n",
        "# best_hyperparameters = best_xgb_model.get_xgb_params()\n",
        "\n",
        "# # Create an instance of your XGBoost model with the best hyperparameters\n",
        "# best_xgb_model_instance = xgb.XGBRegressor(**best_hyperparameters)\n",
        "\n",
        "\n",
        "# # Specify client resources if you need GPU (defaults to 1 CPU and 0 GPU)\n",
        "# client_resources = None\n",
        "# if DEVICE.type == \"cuda\":\n",
        "#     client_resources = {\"num_gpus\": 1}\n",
        "\n",
        "# # Define a function to create a virtual client\n",
        "# def create_virtual_client(lclid):\n",
        "#     client_data = FL_train_set[FL_train_set['LCLid'] == lclid]\n",
        "#     X_client = client_data[['mean_temp', 'pressure', 'humidity', 'windSpeed']]\n",
        "#     y_client = client_data['energy_sum']\n",
        "#     return XGBoostClient(best_xgb_model_instance, X_client, y_client,  FL_test_set[['mean_temp', 'pressure', 'humidity', 'windSpeed']], FL_test_set['energy_sum'])\n",
        "\n",
        "# # Fit the XGBoost model before creating virtual clients\n",
        "# best_xgb_model_instance.fit(Central_X_train, Central_y_train)\n",
        "\n",
        "# # Create a list of virtual clients\n",
        "# virtual_clients = [create_virtual_client(lclid) for lclid in unique_lclids]\n",
        "\n",
        "# # Define the client function for Flower simulation\n",
        "# def client_fn(cid: str) -> XGBoostClient:\n",
        "#     virtual_client = virtual_clients[int(cid)]\n",
        "#     return virtual_client\n",
        "\n",
        "# # Define the Flower simulation configuration\n",
        "# config = fl.server.ServerConfig(num_rounds=5)\n",
        "\n",
        "# # Start the Flower simulation\n",
        "# fl.simulation.start_simulation(\n",
        "#     client_fn=client_fn,\n",
        "#     num_clients=len(virtual_clients),\n",
        "#     config=config,\n",
        "#     strategy=fl.server.strategy.FedAvg(),\n",
        "#     client_resources=None,  # Adjust client resources as needed\n",
        "# )\n"
      ],
      "metadata": {
        "id": "jeqMcrjHZGtt"
      },
      "execution_count": null,
      "outputs": []
    }
  ],
  "metadata": {
    "colab": {
      "toc_visible": true,
      "provenance": [],
      "collapsed_sections": [
        "vDSikcPVt7Go",
        "PPpxpmwOpfav",
        "gcM_OfWUsMvC"
      ],
      "gpuType": "T4",
      "mount_file_id": "1oLHv4e-uSTEYGSiiJDsM6CuTErnsaA5X",
      "authorship_tag": "ABX9TyO1Q2tJFGlxG10WCmR1lzie",
      "include_colab_link": true
    },
    "kernelspec": {
      "display_name": "Python 3",
      "name": "python3"
    },
    "language_info": {
      "name": "python"
    },
    "accelerator": "GPU"
  },
  "nbformat": 4,
  "nbformat_minor": 0
}